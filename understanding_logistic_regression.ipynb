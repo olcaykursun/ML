{
  "nbformat": 4,
  "nbformat_minor": 0,
  "metadata": {
    "colab": {
      "provenance": [],
      "include_colab_link": true
    },
    "kernelspec": {
      "name": "python3",
      "display_name": "Python 3"
    }
  },
  "cells": [
    {
      "cell_type": "markdown",
      "metadata": {
        "id": "view-in-github",
        "colab_type": "text"
      },
      "source": [
        "<a href=\"https://colab.research.google.com/github/olcaykursun/ML/blob/main/understanding_logistic_regression.ipynb\" target=\"_parent\"><img src=\"https://colab.research.google.com/assets/colab-badge.svg\" alt=\"Open In Colab\"/></a>"
      ]
    },
    {
      "cell_type": "code",
      "metadata": {
        "id": "RjLEeb7vjtS9",
        "outputId": "822dce9f-f5e2-4753-e72b-bf3c4f752064",
        "colab": {
          "base_uri": "https://localhost:8080/"
        }
      },
      "source": [
        "import numpy as np\n",
        "\n",
        "def sigmoid(x):\n",
        "  return 1 / (1 + np.exp(-x))\n",
        "\n",
        "w=1.5046\n",
        "w0=-4.0777\n",
        "\n",
        "def weighted_sum_a(H):\n",
        "  return w*H + w0\n",
        "\n",
        "p = sigmoid(weighted_sum_a(3))\n",
        "\n",
        "odds_for_H3 = p/(1-p)\n",
        "print('odds ratio for H = 3 is', odds_for_H3)\n",
        "p = sigmoid(weighted_sum_a(4))\n",
        "odds_for_H4 = p/(1-p)\n",
        "print('odds ratio for H = 4 is', odds_for_H4)\n",
        "print('The change in the ratio is', odds_for_H4/odds_for_H3, 'times')\n",
        "print('This is equal to exp(w), which is also =', np.exp(w))\n",
        "p = sigmoid(weighted_sum_a(5))\n",
        "odds_for_H5 = p/(1-p)\n",
        "print('odds ratio for H = 5 is', odds_for_H5)\n",
        "print('By increasing H from 4 to 5, the change in the odds ratio is', \\\n",
        "      odds_for_H5/odds_for_H4, 'times, again!')\n",
        "print('exp(w) is a measure of importance/sensitivity of H for pass/fail')\n",
        "print('This is also clear from Slide 9, OR = p/(1-p) = exp(wH+w0)')\n",
        "print('odds ratio for H = 3 is', np.exp(w*3+w0))\n"
      ],
      "execution_count": 1,
      "outputs": [
        {
          "output_type": "stream",
          "name": "stdout",
          "text": [
            "odds ratio for H = 3 is 1.5466634533616537\n",
            "odds ratio for H = 4 is 6.963623801608575\n",
            "The change in the ratio is 4.502352329120615 times\n",
            "This is equal to exp(w), which is also = 4.50235232912062\n",
            "odds ratio for H = 5 is 31.352687842292106\n",
            "By increasing H from 4 to 5, the change in the odds ratio is 4.502352329120613 times, again!\n",
            "exp(w) is a measure of importance/sensitivity of H for pass/fail\n",
            "This is also clear from Slide 9, OR = p/(1-p) = exp(wH+w0)\n",
            "odds ratio for H = 3 is 1.5466634533616537\n"
          ]
        }
      ]
    },
    {
      "cell_type": "code",
      "metadata": {
        "id": "mpTdrlyGrFm-",
        "outputId": "95071188-9f3c-4a30-ca67-416b9d658324",
        "colab": {
          "base_uri": "https://localhost:8080/"
        }
      },
      "source": [
        "print(sigmoid(weighted_sum_a(3)))"
      ],
      "execution_count": 2,
      "outputs": [
        {
          "output_type": "stream",
          "name": "stdout",
          "text": [
            "0.6073293474722868\n"
          ]
        }
      ]
    }
  ]
}