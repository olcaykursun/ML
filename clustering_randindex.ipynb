{
  "nbformat": 4,
  "nbformat_minor": 0,
  "metadata": {
    "colab": {
      "provenance": [],
      "authorship_tag": "ABX9TyPfp1vCjmnzAHu9tw7m5wg9",
      "include_colab_link": true
    },
    "kernelspec": {
      "name": "python3",
      "display_name": "Python 3"
    },
    "language_info": {
      "name": "python"
    }
  },
  "cells": [
    {
      "cell_type": "markdown",
      "metadata": {
        "id": "view-in-github",
        "colab_type": "text"
      },
      "source": [
        "<a href=\"https://colab.research.google.com/github/olcaykursun/ML/blob/main/clustering_randindex.ipynb\" target=\"_parent\"><img src=\"https://colab.research.google.com/assets/colab-badge.svg\" alt=\"Open In Colab\"/></a>"
      ]
    },
    {
      "cell_type": "code",
      "execution_count": null,
      "metadata": {
        "colab": {
          "base_uri": "https://localhost:8080/"
        },
        "id": "v2WN9DUOlQCm",
        "outputId": "0c6977e7-bdaa-481a-d1a9-d625210c9934"
      },
      "outputs": [
        {
          "output_type": "stream",
          "name": "stdout",
          "text": [
            "Agreement between two runs of Kmeans 0.43849567929221683\n",
            "Agreement between Kmeans and Agglomerative 0.9611435721856738\n",
            "Agreement between Kmeans and Labels 0.7302382722834697\n",
            "Agreement between Kmeans and Labels 0.7311985567707746\n"
          ]
        }
      ],
      "source": [
        "import numpy as np\n",
        "from sklearn.cluster import KMeans\n",
        "from sklearn import datasets\n",
        "from sklearn.metrics.cluster import adjusted_rand_score\n",
        "\n",
        "iris = datasets.load_iris()\n",
        "X = iris.data\n",
        "y = iris.target\n",
        "\n",
        "clustering1 = KMeans(n_clusters=3, init = 'random', n_init = 1)\n",
        "clustering1.fit(X)\n",
        "run1 = clustering1.labels_\n",
        "\n",
        "clustering2 = KMeans(n_clusters=3, init = 'random', n_init = 1)\n",
        "clustering2.fit(X)\n",
        "run2 = clustering2.labels_\n",
        "\n",
        "print('Agreement between two runs of Kmeans', adjusted_rand_score(run1, run2))\n",
        "#I have seen rand index of as low as 0.43\n",
        "\n",
        "\n",
        "from sklearn.cluster import AgglomerativeClustering\n",
        "clustering3 = AgglomerativeClustering(n_clusters = 3)\n",
        "clustering3.fit(X)\n",
        "run3 = clustering3.labels_\n",
        "\n",
        "print('Agreement between Kmeans and Agglomerative', adjusted_rand_score(run1, run3))\n",
        "#of course two runs of Agglomerative always yield the same results\n",
        "\n",
        "\n",
        "#Lets see if the clusterings agree with the ground truth (class-labels)\n",
        "ground_truth = y     #y==0\n",
        "print('Agreement between Kmeans and Labels', adjusted_rand_score(run1, ground_truth))\n",
        "print('Agreement between Kmeans and Labels', adjusted_rand_score(run3, ground_truth))\n"
      ]
    }
  ]
}