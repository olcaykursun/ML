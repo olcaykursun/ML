{
  "nbformat": 4,
  "nbformat_minor": 0,
  "metadata": {
    "colab": {
      "provenance": [],
      "authorship_tag": "ABX9TyOmXr4Fnx/YEsOcDKc5qH2q",
      "include_colab_link": true
    },
    "kernelspec": {
      "name": "python3",
      "display_name": "Python 3"
    },
    "language_info": {
      "name": "python"
    }
  },
  "cells": [
    {
      "cell_type": "markdown",
      "metadata": {
        "id": "view-in-github",
        "colab_type": "text"
      },
      "source": [
        "<a href=\"https://colab.research.google.com/github/olcaykursun/ML/blob/main/Fall2025/Week07/Kmeans_inertia_on_California_dataset.ipynb\" target=\"_parent\"><img src=\"https://colab.research.google.com/assets/colab-badge.svg\" alt=\"Open In Colab\"/></a>"
      ]
    },
    {
      "cell_type": "code",
      "execution_count": null,
      "metadata": {
        "id": "vSHSa2WM9FdN"
      },
      "outputs": [],
      "source": [
        "# Q: Produce the inertia plot (\"elbow method\") for the California Housing dataset.\n",
        "#    Use all variables for clustering (features + target).\n",
        "#    Try K from 2 to 20 and plot the inertia values.\n",
        "\n",
        "from sklearn.datasets import fetch_california_housing\n",
        "from sklearn.cluster import KMeans\n",
        "import matplotlib.pyplot as plt\n",
        "\n",
        "# Load dataset\n",
        "housing = fetch_california_housing(as_frame=True)\n",
        "X = housing.frame  # includes all features + target\n",
        "\n",
        "# Compute and plot inertia for K=2..20\n",
        "inertias = []\n",
        "K_range = range(2, 41)\n"
      ]
    }
  ]
}