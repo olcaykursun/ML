{
  "nbformat": 4,
  "nbformat_minor": 0,
  "metadata": {
    "colab": {
      "provenance": [],
      "authorship_tag": "ABX9TyM9msoaJN6pOtN+gCb/w/3y",
      "include_colab_link": true
    },
    "kernelspec": {
      "name": "python3",
      "display_name": "Python 3"
    },
    "language_info": {
      "name": "python"
    }
  },
  "cells": [
    {
      "cell_type": "markdown",
      "metadata": {
        "id": "view-in-github",
        "colab_type": "text"
      },
      "source": [
        "<a href=\"https://colab.research.google.com/github/olcaykursun/ML/blob/main/Fall2025/Week06/exam_practice1.ipynb\" target=\"_parent\"><img src=\"https://colab.research.google.com/assets/colab-badge.svg\" alt=\"Open In Colab\"/></a>"
      ]
    },
    {
      "cell_type": "code",
      "source": [
        "# ---------------------------------------------------------------\n",
        "# pandas vs NumPy vs PyTorch (deep learning workflow)\n",
        "#\n",
        "# pandas:\n",
        "#     - Use it for loading data (CSV, Excel) and exploring with column names.\n",
        "#     - Great for cleaning, filtering, grouping — like a database table.\n",
        "#     - But: you don't feed pandas DataFrames directly to deep learning.\n",
        "#\n",
        "# NumPy:\n",
        "#     - Convert your cleaned pandas data to NumPy arrays.\n",
        "#     - ML libraries (scikit-learn, etc.) expect NumPy.\n",
        "#\n",
        "# PyTorch / TensorFlow:\n",
        "#     - For deep learning, convert NumPy arrays into tensors.\n",
        "#     - These frameworks build on NumPy concepts but need tensors for GPU/gradient support.\n",
        "#\n",
        "# Rule of thumb for students:\n",
        "#     - Invest in pandas enough to clean & explore.\n",
        "#     - But for ML/deep learning, focus on NumPy and tensors.\n",
        "#\n",
        "# Note:\n",
        "#     - Some tasks (like checking correlations or selecting subsets)\n",
        "#       can be done in pandas or NumPy.\n",
        "#     - I’ll show you both ways, but that doesn’t mean you need to learn\n",
        "#       every possible way — pick the one that feels natural.\n",
        "# ---------------------------------------------------------------\n",
        "\n",
        "import numpy as np\n",
        "import pandas as pd\n",
        "import torch\n",
        "\n",
        "# Start with pandas (like a database table)\n",
        "df = pd.DataFrame({\"x1\": [1, 2, 3], \"x2\": [4, 5, 6], \"y\": [0, 1, 0]})\n",
        "print(\"pandas DataFrame:\\n\", df)\n",
        "\n",
        "# Convert to NumPy\n",
        "X_np = df[[\"x1\", \"x2\"]].to_numpy()\n",
        "y_np = df[\"y\"].to_numpy()\n",
        "\n",
        "# NumPy has so many matrix/data functions that Pandas does not have\n",
        "test = [4, 7]\n",
        "distances = np.linalg.norm(X_np - test, axis=1)\n",
        "print(\"Distances from the test point:\", distances)\n",
        "\n",
        "print(\"The closest point's index:\", distances.argmin())\n",
        "\n",
        "# Finally when we learn neural networks: convert to PyTorch tensors\n",
        "X = torch.tensor(X_np, dtype=torch.float32)\n",
        "y = torch.tensor(y_np, dtype=torch.long)\n",
        "\n",
        "print(\"\\nTorch tensors:\")\n",
        "print(X)\n",
        "print(y)\n"
      ],
      "metadata": {
        "colab": {
          "base_uri": "https://localhost:8080/"
        },
        "id": "tJ2HHQ9IQF6I",
        "outputId": "3f0fc20e-d791-4156-b23f-7f4fa4021483"
      },
      "execution_count": 1,
      "outputs": [
        {
          "output_type": "stream",
          "name": "stdout",
          "text": [
            "pandas DataFrame:\n",
            "    x1  x2  y\n",
            "0   1   4  0\n",
            "1   2   5  1\n",
            "2   3   6  0\n",
            "Distances from the test point: [4.24264069 2.82842712 1.41421356]\n",
            "The closest point's index: 2\n",
            "\n",
            "Torch tensors:\n",
            "tensor([[1., 4.],\n",
            "        [2., 5.],\n",
            "        [3., 6.]])\n",
            "tensor([0, 1, 0])\n"
          ]
        }
      ]
    },
    {
      "cell_type": "code",
      "execution_count": 2,
      "metadata": {
        "colab": {
          "base_uri": "https://localhost:8080/",
          "height": 143
        },
        "id": "-OUucqQZ1_fY",
        "outputId": "5d45bdbb-1bcb-4142-f78d-b2a630df04d9"
      },
      "outputs": [
        {
          "output_type": "execute_result",
          "data": {
            "text/plain": [
              "          a         b         y\n",
              "a  1.000000  0.121647  0.221712\n",
              "b  0.121647  1.000000 -0.935144\n",
              "y  0.221712 -0.935144  1.000000"
            ],
            "text/html": [
              "\n",
              "  <div id=\"df-c577f5a5-0695-4f0d-8a13-edeb9430fd04\" class=\"colab-df-container\">\n",
              "    <div>\n",
              "<style scoped>\n",
              "    .dataframe tbody tr th:only-of-type {\n",
              "        vertical-align: middle;\n",
              "    }\n",
              "\n",
              "    .dataframe tbody tr th {\n",
              "        vertical-align: top;\n",
              "    }\n",
              "\n",
              "    .dataframe thead th {\n",
              "        text-align: right;\n",
              "    }\n",
              "</style>\n",
              "<table border=\"1\" class=\"dataframe\">\n",
              "  <thead>\n",
              "    <tr style=\"text-align: right;\">\n",
              "      <th></th>\n",
              "      <th>a</th>\n",
              "      <th>b</th>\n",
              "      <th>y</th>\n",
              "    </tr>\n",
              "  </thead>\n",
              "  <tbody>\n",
              "    <tr>\n",
              "      <th>a</th>\n",
              "      <td>1.000000</td>\n",
              "      <td>0.121647</td>\n",
              "      <td>0.221712</td>\n",
              "    </tr>\n",
              "    <tr>\n",
              "      <th>b</th>\n",
              "      <td>0.121647</td>\n",
              "      <td>1.000000</td>\n",
              "      <td>-0.935144</td>\n",
              "    </tr>\n",
              "    <tr>\n",
              "      <th>y</th>\n",
              "      <td>0.221712</td>\n",
              "      <td>-0.935144</td>\n",
              "      <td>1.000000</td>\n",
              "    </tr>\n",
              "  </tbody>\n",
              "</table>\n",
              "</div>\n",
              "    <div class=\"colab-df-buttons\">\n",
              "\n",
              "  <div class=\"colab-df-container\">\n",
              "    <button class=\"colab-df-convert\" onclick=\"convertToInteractive('df-c577f5a5-0695-4f0d-8a13-edeb9430fd04')\"\n",
              "            title=\"Convert this dataframe to an interactive table.\"\n",
              "            style=\"display:none;\">\n",
              "\n",
              "  <svg xmlns=\"http://www.w3.org/2000/svg\" height=\"24px\" viewBox=\"0 -960 960 960\">\n",
              "    <path d=\"M120-120v-720h720v720H120Zm60-500h600v-160H180v160Zm220 220h160v-160H400v160Zm0 220h160v-160H400v160ZM180-400h160v-160H180v160Zm440 0h160v-160H620v160ZM180-180h160v-160H180v160Zm440 0h160v-160H620v160Z\"/>\n",
              "  </svg>\n",
              "    </button>\n",
              "\n",
              "  <style>\n",
              "    .colab-df-container {\n",
              "      display:flex;\n",
              "      gap: 12px;\n",
              "    }\n",
              "\n",
              "    .colab-df-convert {\n",
              "      background-color: #E8F0FE;\n",
              "      border: none;\n",
              "      border-radius: 50%;\n",
              "      cursor: pointer;\n",
              "      display: none;\n",
              "      fill: #1967D2;\n",
              "      height: 32px;\n",
              "      padding: 0 0 0 0;\n",
              "      width: 32px;\n",
              "    }\n",
              "\n",
              "    .colab-df-convert:hover {\n",
              "      background-color: #E2EBFA;\n",
              "      box-shadow: 0px 1px 2px rgba(60, 64, 67, 0.3), 0px 1px 3px 1px rgba(60, 64, 67, 0.15);\n",
              "      fill: #174EA6;\n",
              "    }\n",
              "\n",
              "    .colab-df-buttons div {\n",
              "      margin-bottom: 4px;\n",
              "    }\n",
              "\n",
              "    [theme=dark] .colab-df-convert {\n",
              "      background-color: #3B4455;\n",
              "      fill: #D2E3FC;\n",
              "    }\n",
              "\n",
              "    [theme=dark] .colab-df-convert:hover {\n",
              "      background-color: #434B5C;\n",
              "      box-shadow: 0px 1px 3px 1px rgba(0, 0, 0, 0.15);\n",
              "      filter: drop-shadow(0px 1px 2px rgba(0, 0, 0, 0.3));\n",
              "      fill: #FFFFFF;\n",
              "    }\n",
              "  </style>\n",
              "\n",
              "    <script>\n",
              "      const buttonEl =\n",
              "        document.querySelector('#df-c577f5a5-0695-4f0d-8a13-edeb9430fd04 button.colab-df-convert');\n",
              "      buttonEl.style.display =\n",
              "        google.colab.kernel.accessAllowed ? 'block' : 'none';\n",
              "\n",
              "      async function convertToInteractive(key) {\n",
              "        const element = document.querySelector('#df-c577f5a5-0695-4f0d-8a13-edeb9430fd04');\n",
              "        const dataTable =\n",
              "          await google.colab.kernel.invokeFunction('convertToInteractive',\n",
              "                                                    [key], {});\n",
              "        if (!dataTable) return;\n",
              "\n",
              "        const docLinkHtml = 'Like what you see? Visit the ' +\n",
              "          '<a target=\"_blank\" href=https://colab.research.google.com/notebooks/data_table.ipynb>data table notebook</a>'\n",
              "          + ' to learn more about interactive tables.';\n",
              "        element.innerHTML = '';\n",
              "        dataTable['output_type'] = 'display_data';\n",
              "        await google.colab.output.renderOutput(dataTable, element);\n",
              "        const docLink = document.createElement('div');\n",
              "        docLink.innerHTML = docLinkHtml;\n",
              "        element.appendChild(docLink);\n",
              "      }\n",
              "    </script>\n",
              "  </div>\n",
              "\n",
              "\n",
              "    <div id=\"df-098b9788-443f-4813-8411-b14723719a61\">\n",
              "      <button class=\"colab-df-quickchart\" onclick=\"quickchart('df-098b9788-443f-4813-8411-b14723719a61')\"\n",
              "                title=\"Suggest charts\"\n",
              "                style=\"display:none;\">\n",
              "\n",
              "<svg xmlns=\"http://www.w3.org/2000/svg\" height=\"24px\"viewBox=\"0 0 24 24\"\n",
              "     width=\"24px\">\n",
              "    <g>\n",
              "        <path d=\"M19 3H5c-1.1 0-2 .9-2 2v14c0 1.1.9 2 2 2h14c1.1 0 2-.9 2-2V5c0-1.1-.9-2-2-2zM9 17H7v-7h2v7zm4 0h-2V7h2v10zm4 0h-2v-4h2v4z\"/>\n",
              "    </g>\n",
              "</svg>\n",
              "      </button>\n",
              "\n",
              "<style>\n",
              "  .colab-df-quickchart {\n",
              "      --bg-color: #E8F0FE;\n",
              "      --fill-color: #1967D2;\n",
              "      --hover-bg-color: #E2EBFA;\n",
              "      --hover-fill-color: #174EA6;\n",
              "      --disabled-fill-color: #AAA;\n",
              "      --disabled-bg-color: #DDD;\n",
              "  }\n",
              "\n",
              "  [theme=dark] .colab-df-quickchart {\n",
              "      --bg-color: #3B4455;\n",
              "      --fill-color: #D2E3FC;\n",
              "      --hover-bg-color: #434B5C;\n",
              "      --hover-fill-color: #FFFFFF;\n",
              "      --disabled-bg-color: #3B4455;\n",
              "      --disabled-fill-color: #666;\n",
              "  }\n",
              "\n",
              "  .colab-df-quickchart {\n",
              "    background-color: var(--bg-color);\n",
              "    border: none;\n",
              "    border-radius: 50%;\n",
              "    cursor: pointer;\n",
              "    display: none;\n",
              "    fill: var(--fill-color);\n",
              "    height: 32px;\n",
              "    padding: 0;\n",
              "    width: 32px;\n",
              "  }\n",
              "\n",
              "  .colab-df-quickchart:hover {\n",
              "    background-color: var(--hover-bg-color);\n",
              "    box-shadow: 0 1px 2px rgba(60, 64, 67, 0.3), 0 1px 3px 1px rgba(60, 64, 67, 0.15);\n",
              "    fill: var(--button-hover-fill-color);\n",
              "  }\n",
              "\n",
              "  .colab-df-quickchart-complete:disabled,\n",
              "  .colab-df-quickchart-complete:disabled:hover {\n",
              "    background-color: var(--disabled-bg-color);\n",
              "    fill: var(--disabled-fill-color);\n",
              "    box-shadow: none;\n",
              "  }\n",
              "\n",
              "  .colab-df-spinner {\n",
              "    border: 2px solid var(--fill-color);\n",
              "    border-color: transparent;\n",
              "    border-bottom-color: var(--fill-color);\n",
              "    animation:\n",
              "      spin 1s steps(1) infinite;\n",
              "  }\n",
              "\n",
              "  @keyframes spin {\n",
              "    0% {\n",
              "      border-color: transparent;\n",
              "      border-bottom-color: var(--fill-color);\n",
              "      border-left-color: var(--fill-color);\n",
              "    }\n",
              "    20% {\n",
              "      border-color: transparent;\n",
              "      border-left-color: var(--fill-color);\n",
              "      border-top-color: var(--fill-color);\n",
              "    }\n",
              "    30% {\n",
              "      border-color: transparent;\n",
              "      border-left-color: var(--fill-color);\n",
              "      border-top-color: var(--fill-color);\n",
              "      border-right-color: var(--fill-color);\n",
              "    }\n",
              "    40% {\n",
              "      border-color: transparent;\n",
              "      border-right-color: var(--fill-color);\n",
              "      border-top-color: var(--fill-color);\n",
              "    }\n",
              "    60% {\n",
              "      border-color: transparent;\n",
              "      border-right-color: var(--fill-color);\n",
              "    }\n",
              "    80% {\n",
              "      border-color: transparent;\n",
              "      border-right-color: var(--fill-color);\n",
              "      border-bottom-color: var(--fill-color);\n",
              "    }\n",
              "    90% {\n",
              "      border-color: transparent;\n",
              "      border-bottom-color: var(--fill-color);\n",
              "    }\n",
              "  }\n",
              "</style>\n",
              "\n",
              "      <script>\n",
              "        async function quickchart(key) {\n",
              "          const quickchartButtonEl =\n",
              "            document.querySelector('#' + key + ' button');\n",
              "          quickchartButtonEl.disabled = true;  // To prevent multiple clicks.\n",
              "          quickchartButtonEl.classList.add('colab-df-spinner');\n",
              "          try {\n",
              "            const charts = await google.colab.kernel.invokeFunction(\n",
              "                'suggestCharts', [key], {});\n",
              "          } catch (error) {\n",
              "            console.error('Error during call to suggestCharts:', error);\n",
              "          }\n",
              "          quickchartButtonEl.classList.remove('colab-df-spinner');\n",
              "          quickchartButtonEl.classList.add('colab-df-quickchart-complete');\n",
              "        }\n",
              "        (() => {\n",
              "          let quickchartButtonEl =\n",
              "            document.querySelector('#df-098b9788-443f-4813-8411-b14723719a61 button');\n",
              "          quickchartButtonEl.style.display =\n",
              "            google.colab.kernel.accessAllowed ? 'block' : 'none';\n",
              "        })();\n",
              "      </script>\n",
              "    </div>\n",
              "\n",
              "    </div>\n",
              "  </div>\n"
            ],
            "application/vnd.google.colaboratory.intrinsic+json": {
              "type": "dataframe",
              "summary": "{\n  \"name\": \"df\",\n  \"rows\": 3,\n  \"fields\": [\n    {\n      \"column\": \"a\",\n      \"properties\": {\n        \"dtype\": \"number\",\n        \"std\": 0.48084097290456784,\n        \"min\": 0.12164714467699751,\n        \"max\": 1.0,\n        \"num_unique_values\": 3,\n        \"samples\": [\n          1.0,\n          0.12164714467699751,\n          0.22171249933898635\n        ],\n        \"semantic_type\": \"\",\n        \"description\": \"\"\n      }\n    },\n    {\n      \"column\": \"b\",\n      \"properties\": {\n        \"dtype\": \"number\",\n        \"std\": 0.9689419480248519,\n        \"min\": -0.9351435703775539,\n        \"max\": 1.0,\n        \"num_unique_values\": 3,\n        \"samples\": [\n          0.12164714467699751,\n          1.0,\n          -0.9351435703775539\n        ],\n        \"semantic_type\": \"\",\n        \"description\": \"\"\n      }\n    },\n    {\n      \"column\": \"y\",\n      \"properties\": {\n        \"dtype\": \"number\",\n        \"std\": 0.9737237833611366,\n        \"min\": -0.9351435703775539,\n        \"max\": 1.0,\n        \"num_unique_values\": 3,\n        \"samples\": [\n          0.22171249933898635,\n          -0.9351435703775539,\n          1.0\n        ],\n        \"semantic_type\": \"\",\n        \"description\": \"\"\n      }\n    }\n  ]\n}"
            }
          },
          "metadata": {},
          "execution_count": 2
        }
      ],
      "source": [
        "# Q1. Create and Use a Synthetic Dataset\n",
        "# Step 1: Create synthetic dataset y = a - 3b + noise\n",
        "# Step 2: Save the dataset to CSV\n",
        "# Step 3: Read the dataset back from CSV\n",
        "# Step 4: Compute and display correlations (NumPy + pandas)\n",
        "\n",
        "import numpy as np\n",
        "import pandas as pd\n",
        "\n",
        "N = 100  #Play with N to see how sensitive the correlations can be with few examples\n",
        "a = np.random.rand(N)\n",
        "b = np.random.rand(N)\n",
        "noise = np.random.randn(N)*0.1 #0.1 controls the standard deviation of the noise\n",
        "\n",
        "y = a - 3 * b + noise\n",
        "\n",
        "df = pd.DataFrame({'a': a, 'b': b, 'y': y})\n",
        "df.to_csv('synthetic_dataset.csv', index=False)\n",
        "\n",
        "df = pd.read_csv('synthetic_dataset.csv')\n",
        "\n",
        "df.corr()  #using pandas here"
      ]
    },
    {
      "cell_type": "code",
      "source": [
        "np.corrcoef(a, y).shape  #using numpy here"
      ],
      "metadata": {
        "colab": {
          "base_uri": "https://localhost:8080/"
        },
        "id": "zjyr_qJR5DF_",
        "outputId": "fbc28dba-dab0-48f8-9b53-65451adc2d6f"
      },
      "execution_count": 3,
      "outputs": [
        {
          "output_type": "execute_result",
          "data": {
            "text/plain": [
              "(2, 2)"
            ]
          },
          "metadata": {},
          "execution_count": 3
        }
      ]
    },
    {
      "cell_type": "code",
      "source": [
        "np.corrcoef(a, y)"
      ],
      "metadata": {
        "colab": {
          "base_uri": "https://localhost:8080/"
        },
        "id": "UDH9tPCCHa19",
        "outputId": "d0d5a676-4994-4b3b-cc25-eedf248481e4"
      },
      "execution_count": 4,
      "outputs": [
        {
          "output_type": "execute_result",
          "data": {
            "text/plain": [
              "array([[1.       , 0.2217125],\n",
              "       [0.2217125, 1.       ]])"
            ]
          },
          "metadata": {},
          "execution_count": 4
        }
      ]
    },
    {
      "cell_type": "code",
      "source": [
        "print(np.corrcoef(a, y)[0, 1])\n",
        "print(np.corrcoef(b, y)[0, 1]) #These correlations are not the weights of a regression model, because there can be collinarities\n",
        "print(np.corrcoef(a, b)[0, 1]) #We gave the example of adding both honey and sugar to make a sweet, we like them both but they correlate with each other\n"
      ],
      "metadata": {
        "colab": {
          "base_uri": "https://localhost:8080/"
        },
        "id": "Bkc01FAm5i-4",
        "outputId": "de2017f4-2ed8-4095-f9ae-05b519649f2b"
      },
      "execution_count": 5,
      "outputs": [
        {
          "output_type": "stream",
          "name": "stdout",
          "text": [
            "0.22171249933898626\n",
            "-0.9351435703775537\n",
            "0.12164714467699772\n"
          ]
        }
      ]
    },
    {
      "cell_type": "code",
      "source": [
        "# Q2. Load the Iris dataset and print the number of examples and the names of features.\n",
        "\n",
        "#if you have the file you can load it:\n",
        "#iris = pd.read_csv('iris.csv')\n",
        "\n",
        "#You can read it from the link:\n",
        "#iris = pd.read_csv('https://archive.ics.uci.edu/ml/machine-learning-databases/iris/iris.data', header=None)\n",
        "\n",
        "#You can access it from scikit\n",
        "from sklearn.datasets import load_iris\n",
        "iris = load_iris()\n",
        "X = iris.data\n",
        "class_labels = iris.target\n",
        "print(X.shape)\n",
        "print(X.shape[0])\n",
        "print(iris.feature_names)"
      ],
      "metadata": {
        "colab": {
          "base_uri": "https://localhost:8080/"
        },
        "id": "8D5wwQto63RQ",
        "outputId": "3c9e0253-16ec-4821-9c5d-44786c476ddc"
      },
      "execution_count": 6,
      "outputs": [
        {
          "output_type": "stream",
          "name": "stdout",
          "text": [
            "(150, 4)\n",
            "150\n",
            "['sepal length (cm)', 'sepal width (cm)', 'petal length (cm)', 'petal width (cm)']\n"
          ]
        }
      ]
    },
    {
      "cell_type": "code",
      "source": [
        "# Q3. Print number of examples for each class\n",
        "class_ids, class_counts = np.unique(iris.target, return_counts=True)\n",
        "print(class_ids)\n",
        "print(class_counts)\n",
        "np.unique(iris.target, return_counts=True)"
      ],
      "metadata": {
        "colab": {
          "base_uri": "https://localhost:8080/"
        },
        "id": "9_q6i8-U8L5Q",
        "outputId": "70c1f300-939e-4ba7-8183-7e10a44f6e94"
      },
      "execution_count": 7,
      "outputs": [
        {
          "output_type": "stream",
          "name": "stdout",
          "text": [
            "[0 1 2]\n",
            "[50 50 50]\n"
          ]
        },
        {
          "output_type": "execute_result",
          "data": {
            "text/plain": [
              "(array([0, 1, 2]), array([50, 50, 50]))"
            ]
          },
          "metadata": {},
          "execution_count": 7
        }
      ]
    },
    {
      "cell_type": "code",
      "source": [
        "# Optional discussion about a useful function \"zip\", it is not a priority\n",
        "# Skip this if you do not feel comfortable with the other important subjects we are covering\n",
        "\n",
        "# Step 1. Relating class IDs to their counts:\n",
        "d = dict(zip(class_ids, class_counts))\n",
        "print(d)\n",
        "# Example output: {0: 50, 1: 50, 2: 50}\n",
        "# Notice the keys may be NumPy ints (np.int64).\n",
        "\n",
        "# Step 2. If seeing \"numpy.int64\" is annoying,\n",
        "# you can convert to Python's native int (built-in int).\n",
        "# Here are some alternatives:\n",
        "\n",
        "# --- Option A: Convert NumPy arrays to Python lists ---\n",
        "d = dict(zip(class_ids.tolist(), class_counts.tolist()))\n",
        "print(d)\n",
        "\n",
        "# --- Option B: Use class names instead of numeric IDs ---\n",
        "d = dict(zip(iris.target_names[class_ids], class_counts.tolist()))\n",
        "print(d)\n",
        "\n",
        "# --- Option C: Class names + convert to lists (pure Python objects) ---\n",
        "d = dict(zip(iris.target_names[class_ids].tolist(),\n",
        "             class_counts.tolist()))\n",
        "print(d)\n"
      ],
      "metadata": {
        "colab": {
          "base_uri": "https://localhost:8080/"
        },
        "id": "kcpT5sFUJ_UH",
        "outputId": "a55e7b0b-e18b-414f-a0cf-64e32da105d3"
      },
      "execution_count": 8,
      "outputs": [
        {
          "output_type": "stream",
          "name": "stdout",
          "text": [
            "{np.int64(0): np.int64(50), np.int64(1): np.int64(50), np.int64(2): np.int64(50)}\n",
            "{0: 50, 1: 50, 2: 50}\n",
            "{np.str_('setosa'): 50, np.str_('versicolor'): 50, np.str_('virginica'): 50}\n",
            "{'setosa': 50, 'versicolor': 50, 'virginica': 50}\n"
          ]
        }
      ]
    },
    {
      "cell_type": "code",
      "source": [
        "# Sometimes all the data comes in one single CSV-like file, such as iris.frame\n",
        "iris = load_iris(as_frame=True)\n",
        "\n",
        "X = iris.frame #this is data frame with the class labels, all-in-one\n",
        "\n",
        "print(X.shape)\n",
        "print(iris.feature_names)"
      ],
      "metadata": {
        "colab": {
          "base_uri": "https://localhost:8080/"
        },
        "id": "C0dAkU2M_cVX",
        "outputId": "aa28b5b4-9fa3-4c94-e461-2881a5b28d8c"
      },
      "execution_count": 9,
      "outputs": [
        {
          "output_type": "stream",
          "name": "stdout",
          "text": [
            "(150, 5)\n",
            "['sepal length (cm)', 'sepal width (cm)', 'petal length (cm)', 'petal width (cm)']\n"
          ]
        }
      ]
    },
    {
      "cell_type": "code",
      "source": [
        "X.head()"
      ],
      "metadata": {
        "colab": {
          "base_uri": "https://localhost:8080/",
          "height": 206
        },
        "id": "TBUA-j2SNfCk",
        "outputId": "c0c1760f-3e34-426d-d336-2310980e297b"
      },
      "execution_count": 10,
      "outputs": [
        {
          "output_type": "execute_result",
          "data": {
            "text/plain": [
              "   sepal length (cm)  sepal width (cm)  petal length (cm)  petal width (cm)  \\\n",
              "0                5.1               3.5                1.4               0.2   \n",
              "1                4.9               3.0                1.4               0.2   \n",
              "2                4.7               3.2                1.3               0.2   \n",
              "3                4.6               3.1                1.5               0.2   \n",
              "4                5.0               3.6                1.4               0.2   \n",
              "\n",
              "   target  \n",
              "0       0  \n",
              "1       0  \n",
              "2       0  \n",
              "3       0  \n",
              "4       0  "
            ],
            "text/html": [
              "\n",
              "  <div id=\"df-60ce3dab-bb45-45f4-a8ed-9ca147936d23\" class=\"colab-df-container\">\n",
              "    <div>\n",
              "<style scoped>\n",
              "    .dataframe tbody tr th:only-of-type {\n",
              "        vertical-align: middle;\n",
              "    }\n",
              "\n",
              "    .dataframe tbody tr th {\n",
              "        vertical-align: top;\n",
              "    }\n",
              "\n",
              "    .dataframe thead th {\n",
              "        text-align: right;\n",
              "    }\n",
              "</style>\n",
              "<table border=\"1\" class=\"dataframe\">\n",
              "  <thead>\n",
              "    <tr style=\"text-align: right;\">\n",
              "      <th></th>\n",
              "      <th>sepal length (cm)</th>\n",
              "      <th>sepal width (cm)</th>\n",
              "      <th>petal length (cm)</th>\n",
              "      <th>petal width (cm)</th>\n",
              "      <th>target</th>\n",
              "    </tr>\n",
              "  </thead>\n",
              "  <tbody>\n",
              "    <tr>\n",
              "      <th>0</th>\n",
              "      <td>5.1</td>\n",
              "      <td>3.5</td>\n",
              "      <td>1.4</td>\n",
              "      <td>0.2</td>\n",
              "      <td>0</td>\n",
              "    </tr>\n",
              "    <tr>\n",
              "      <th>1</th>\n",
              "      <td>4.9</td>\n",
              "      <td>3.0</td>\n",
              "      <td>1.4</td>\n",
              "      <td>0.2</td>\n",
              "      <td>0</td>\n",
              "    </tr>\n",
              "    <tr>\n",
              "      <th>2</th>\n",
              "      <td>4.7</td>\n",
              "      <td>3.2</td>\n",
              "      <td>1.3</td>\n",
              "      <td>0.2</td>\n",
              "      <td>0</td>\n",
              "    </tr>\n",
              "    <tr>\n",
              "      <th>3</th>\n",
              "      <td>4.6</td>\n",
              "      <td>3.1</td>\n",
              "      <td>1.5</td>\n",
              "      <td>0.2</td>\n",
              "      <td>0</td>\n",
              "    </tr>\n",
              "    <tr>\n",
              "      <th>4</th>\n",
              "      <td>5.0</td>\n",
              "      <td>3.6</td>\n",
              "      <td>1.4</td>\n",
              "      <td>0.2</td>\n",
              "      <td>0</td>\n",
              "    </tr>\n",
              "  </tbody>\n",
              "</table>\n",
              "</div>\n",
              "    <div class=\"colab-df-buttons\">\n",
              "\n",
              "  <div class=\"colab-df-container\">\n",
              "    <button class=\"colab-df-convert\" onclick=\"convertToInteractive('df-60ce3dab-bb45-45f4-a8ed-9ca147936d23')\"\n",
              "            title=\"Convert this dataframe to an interactive table.\"\n",
              "            style=\"display:none;\">\n",
              "\n",
              "  <svg xmlns=\"http://www.w3.org/2000/svg\" height=\"24px\" viewBox=\"0 -960 960 960\">\n",
              "    <path d=\"M120-120v-720h720v720H120Zm60-500h600v-160H180v160Zm220 220h160v-160H400v160Zm0 220h160v-160H400v160ZM180-400h160v-160H180v160Zm440 0h160v-160H620v160ZM180-180h160v-160H180v160Zm440 0h160v-160H620v160Z\"/>\n",
              "  </svg>\n",
              "    </button>\n",
              "\n",
              "  <style>\n",
              "    .colab-df-container {\n",
              "      display:flex;\n",
              "      gap: 12px;\n",
              "    }\n",
              "\n",
              "    .colab-df-convert {\n",
              "      background-color: #E8F0FE;\n",
              "      border: none;\n",
              "      border-radius: 50%;\n",
              "      cursor: pointer;\n",
              "      display: none;\n",
              "      fill: #1967D2;\n",
              "      height: 32px;\n",
              "      padding: 0 0 0 0;\n",
              "      width: 32px;\n",
              "    }\n",
              "\n",
              "    .colab-df-convert:hover {\n",
              "      background-color: #E2EBFA;\n",
              "      box-shadow: 0px 1px 2px rgba(60, 64, 67, 0.3), 0px 1px 3px 1px rgba(60, 64, 67, 0.15);\n",
              "      fill: #174EA6;\n",
              "    }\n",
              "\n",
              "    .colab-df-buttons div {\n",
              "      margin-bottom: 4px;\n",
              "    }\n",
              "\n",
              "    [theme=dark] .colab-df-convert {\n",
              "      background-color: #3B4455;\n",
              "      fill: #D2E3FC;\n",
              "    }\n",
              "\n",
              "    [theme=dark] .colab-df-convert:hover {\n",
              "      background-color: #434B5C;\n",
              "      box-shadow: 0px 1px 3px 1px rgba(0, 0, 0, 0.15);\n",
              "      filter: drop-shadow(0px 1px 2px rgba(0, 0, 0, 0.3));\n",
              "      fill: #FFFFFF;\n",
              "    }\n",
              "  </style>\n",
              "\n",
              "    <script>\n",
              "      const buttonEl =\n",
              "        document.querySelector('#df-60ce3dab-bb45-45f4-a8ed-9ca147936d23 button.colab-df-convert');\n",
              "      buttonEl.style.display =\n",
              "        google.colab.kernel.accessAllowed ? 'block' : 'none';\n",
              "\n",
              "      async function convertToInteractive(key) {\n",
              "        const element = document.querySelector('#df-60ce3dab-bb45-45f4-a8ed-9ca147936d23');\n",
              "        const dataTable =\n",
              "          await google.colab.kernel.invokeFunction('convertToInteractive',\n",
              "                                                    [key], {});\n",
              "        if (!dataTable) return;\n",
              "\n",
              "        const docLinkHtml = 'Like what you see? Visit the ' +\n",
              "          '<a target=\"_blank\" href=https://colab.research.google.com/notebooks/data_table.ipynb>data table notebook</a>'\n",
              "          + ' to learn more about interactive tables.';\n",
              "        element.innerHTML = '';\n",
              "        dataTable['output_type'] = 'display_data';\n",
              "        await google.colab.output.renderOutput(dataTable, element);\n",
              "        const docLink = document.createElement('div');\n",
              "        docLink.innerHTML = docLinkHtml;\n",
              "        element.appendChild(docLink);\n",
              "      }\n",
              "    </script>\n",
              "  </div>\n",
              "\n",
              "\n",
              "    <div id=\"df-193daa5c-a8e3-48eb-8469-222ac91f4984\">\n",
              "      <button class=\"colab-df-quickchart\" onclick=\"quickchart('df-193daa5c-a8e3-48eb-8469-222ac91f4984')\"\n",
              "                title=\"Suggest charts\"\n",
              "                style=\"display:none;\">\n",
              "\n",
              "<svg xmlns=\"http://www.w3.org/2000/svg\" height=\"24px\"viewBox=\"0 0 24 24\"\n",
              "     width=\"24px\">\n",
              "    <g>\n",
              "        <path d=\"M19 3H5c-1.1 0-2 .9-2 2v14c0 1.1.9 2 2 2h14c1.1 0 2-.9 2-2V5c0-1.1-.9-2-2-2zM9 17H7v-7h2v7zm4 0h-2V7h2v10zm4 0h-2v-4h2v4z\"/>\n",
              "    </g>\n",
              "</svg>\n",
              "      </button>\n",
              "\n",
              "<style>\n",
              "  .colab-df-quickchart {\n",
              "      --bg-color: #E8F0FE;\n",
              "      --fill-color: #1967D2;\n",
              "      --hover-bg-color: #E2EBFA;\n",
              "      --hover-fill-color: #174EA6;\n",
              "      --disabled-fill-color: #AAA;\n",
              "      --disabled-bg-color: #DDD;\n",
              "  }\n",
              "\n",
              "  [theme=dark] .colab-df-quickchart {\n",
              "      --bg-color: #3B4455;\n",
              "      --fill-color: #D2E3FC;\n",
              "      --hover-bg-color: #434B5C;\n",
              "      --hover-fill-color: #FFFFFF;\n",
              "      --disabled-bg-color: #3B4455;\n",
              "      --disabled-fill-color: #666;\n",
              "  }\n",
              "\n",
              "  .colab-df-quickchart {\n",
              "    background-color: var(--bg-color);\n",
              "    border: none;\n",
              "    border-radius: 50%;\n",
              "    cursor: pointer;\n",
              "    display: none;\n",
              "    fill: var(--fill-color);\n",
              "    height: 32px;\n",
              "    padding: 0;\n",
              "    width: 32px;\n",
              "  }\n",
              "\n",
              "  .colab-df-quickchart:hover {\n",
              "    background-color: var(--hover-bg-color);\n",
              "    box-shadow: 0 1px 2px rgba(60, 64, 67, 0.3), 0 1px 3px 1px rgba(60, 64, 67, 0.15);\n",
              "    fill: var(--button-hover-fill-color);\n",
              "  }\n",
              "\n",
              "  .colab-df-quickchart-complete:disabled,\n",
              "  .colab-df-quickchart-complete:disabled:hover {\n",
              "    background-color: var(--disabled-bg-color);\n",
              "    fill: var(--disabled-fill-color);\n",
              "    box-shadow: none;\n",
              "  }\n",
              "\n",
              "  .colab-df-spinner {\n",
              "    border: 2px solid var(--fill-color);\n",
              "    border-color: transparent;\n",
              "    border-bottom-color: var(--fill-color);\n",
              "    animation:\n",
              "      spin 1s steps(1) infinite;\n",
              "  }\n",
              "\n",
              "  @keyframes spin {\n",
              "    0% {\n",
              "      border-color: transparent;\n",
              "      border-bottom-color: var(--fill-color);\n",
              "      border-left-color: var(--fill-color);\n",
              "    }\n",
              "    20% {\n",
              "      border-color: transparent;\n",
              "      border-left-color: var(--fill-color);\n",
              "      border-top-color: var(--fill-color);\n",
              "    }\n",
              "    30% {\n",
              "      border-color: transparent;\n",
              "      border-left-color: var(--fill-color);\n",
              "      border-top-color: var(--fill-color);\n",
              "      border-right-color: var(--fill-color);\n",
              "    }\n",
              "    40% {\n",
              "      border-color: transparent;\n",
              "      border-right-color: var(--fill-color);\n",
              "      border-top-color: var(--fill-color);\n",
              "    }\n",
              "    60% {\n",
              "      border-color: transparent;\n",
              "      border-right-color: var(--fill-color);\n",
              "    }\n",
              "    80% {\n",
              "      border-color: transparent;\n",
              "      border-right-color: var(--fill-color);\n",
              "      border-bottom-color: var(--fill-color);\n",
              "    }\n",
              "    90% {\n",
              "      border-color: transparent;\n",
              "      border-bottom-color: var(--fill-color);\n",
              "    }\n",
              "  }\n",
              "</style>\n",
              "\n",
              "      <script>\n",
              "        async function quickchart(key) {\n",
              "          const quickchartButtonEl =\n",
              "            document.querySelector('#' + key + ' button');\n",
              "          quickchartButtonEl.disabled = true;  // To prevent multiple clicks.\n",
              "          quickchartButtonEl.classList.add('colab-df-spinner');\n",
              "          try {\n",
              "            const charts = await google.colab.kernel.invokeFunction(\n",
              "                'suggestCharts', [key], {});\n",
              "          } catch (error) {\n",
              "            console.error('Error during call to suggestCharts:', error);\n",
              "          }\n",
              "          quickchartButtonEl.classList.remove('colab-df-spinner');\n",
              "          quickchartButtonEl.classList.add('colab-df-quickchart-complete');\n",
              "        }\n",
              "        (() => {\n",
              "          let quickchartButtonEl =\n",
              "            document.querySelector('#df-193daa5c-a8e3-48eb-8469-222ac91f4984 button');\n",
              "          quickchartButtonEl.style.display =\n",
              "            google.colab.kernel.accessAllowed ? 'block' : 'none';\n",
              "        })();\n",
              "      </script>\n",
              "    </div>\n",
              "\n",
              "    </div>\n",
              "  </div>\n"
            ],
            "application/vnd.google.colaboratory.intrinsic+json": {
              "type": "dataframe",
              "variable_name": "X",
              "summary": "{\n  \"name\": \"X\",\n  \"rows\": 150,\n  \"fields\": [\n    {\n      \"column\": \"sepal length (cm)\",\n      \"properties\": {\n        \"dtype\": \"number\",\n        \"std\": 0.8280661279778629,\n        \"min\": 4.3,\n        \"max\": 7.9,\n        \"num_unique_values\": 35,\n        \"samples\": [\n          6.2,\n          4.5,\n          5.6\n        ],\n        \"semantic_type\": \"\",\n        \"description\": \"\"\n      }\n    },\n    {\n      \"column\": \"sepal width (cm)\",\n      \"properties\": {\n        \"dtype\": \"number\",\n        \"std\": 0.435866284936698,\n        \"min\": 2.0,\n        \"max\": 4.4,\n        \"num_unique_values\": 23,\n        \"samples\": [\n          2.3,\n          4.0,\n          3.5\n        ],\n        \"semantic_type\": \"\",\n        \"description\": \"\"\n      }\n    },\n    {\n      \"column\": \"petal length (cm)\",\n      \"properties\": {\n        \"dtype\": \"number\",\n        \"std\": 1.7652982332594667,\n        \"min\": 1.0,\n        \"max\": 6.9,\n        \"num_unique_values\": 43,\n        \"samples\": [\n          6.7,\n          3.8,\n          3.7\n        ],\n        \"semantic_type\": \"\",\n        \"description\": \"\"\n      }\n    },\n    {\n      \"column\": \"petal width (cm)\",\n      \"properties\": {\n        \"dtype\": \"number\",\n        \"std\": 0.7622376689603465,\n        \"min\": 0.1,\n        \"max\": 2.5,\n        \"num_unique_values\": 22,\n        \"samples\": [\n          0.2,\n          1.2,\n          1.3\n        ],\n        \"semantic_type\": \"\",\n        \"description\": \"\"\n      }\n    },\n    {\n      \"column\": \"target\",\n      \"properties\": {\n        \"dtype\": \"number\",\n        \"std\": 0,\n        \"min\": 0,\n        \"max\": 2,\n        \"num_unique_values\": 3,\n        \"samples\": [\n          0,\n          1,\n          2\n        ],\n        \"semantic_type\": \"\",\n        \"description\": \"\"\n      }\n    }\n  ]\n}"
            }
          },
          "metadata": {},
          "execution_count": 10
        }
      ]
    },
    {
      "cell_type": "code",
      "source": [
        "y = X['target']\n",
        "X.drop(columns='target', inplace=True)\n",
        "print(X.shape)\n",
        "print(X.corr())\n",
        "y.value_counts()\n"
      ],
      "metadata": {
        "colab": {
          "base_uri": "https://localhost:8080/",
          "height": 424
        },
        "id": "wazvS_BrB61q",
        "outputId": "48e9435e-2a73-4826-8af4-3445180ab8cc"
      },
      "execution_count": 11,
      "outputs": [
        {
          "output_type": "stream",
          "name": "stdout",
          "text": [
            "(150, 4)\n",
            "                   sepal length (cm)  sepal width (cm)  petal length (cm)  \\\n",
            "sepal length (cm)           1.000000         -0.117570           0.871754   \n",
            "sepal width (cm)           -0.117570          1.000000          -0.428440   \n",
            "petal length (cm)           0.871754         -0.428440           1.000000   \n",
            "petal width (cm)            0.817941         -0.366126           0.962865   \n",
            "\n",
            "                   petal width (cm)  \n",
            "sepal length (cm)          0.817941  \n",
            "sepal width (cm)          -0.366126  \n",
            "petal length (cm)          0.962865  \n",
            "petal width (cm)           1.000000  \n"
          ]
        },
        {
          "output_type": "execute_result",
          "data": {
            "text/plain": [
              "target\n",
              "0    50\n",
              "1    50\n",
              "2    50\n",
              "Name: count, dtype: int64"
            ],
            "text/html": [
              "<div>\n",
              "<style scoped>\n",
              "    .dataframe tbody tr th:only-of-type {\n",
              "        vertical-align: middle;\n",
              "    }\n",
              "\n",
              "    .dataframe tbody tr th {\n",
              "        vertical-align: top;\n",
              "    }\n",
              "\n",
              "    .dataframe thead th {\n",
              "        text-align: right;\n",
              "    }\n",
              "</style>\n",
              "<table border=\"1\" class=\"dataframe\">\n",
              "  <thead>\n",
              "    <tr style=\"text-align: right;\">\n",
              "      <th></th>\n",
              "      <th>count</th>\n",
              "    </tr>\n",
              "    <tr>\n",
              "      <th>target</th>\n",
              "      <th></th>\n",
              "    </tr>\n",
              "  </thead>\n",
              "  <tbody>\n",
              "    <tr>\n",
              "      <th>0</th>\n",
              "      <td>50</td>\n",
              "    </tr>\n",
              "    <tr>\n",
              "      <th>1</th>\n",
              "      <td>50</td>\n",
              "    </tr>\n",
              "    <tr>\n",
              "      <th>2</th>\n",
              "      <td>50</td>\n",
              "    </tr>\n",
              "  </tbody>\n",
              "</table>\n",
              "</div><br><label><b>dtype:</b> int64</label>"
            ]
          },
          "metadata": {},
          "execution_count": 11
        }
      ]
    },
    {
      "cell_type": "code",
      "source": [
        "# Q4. Print sepal length's correlations with all the other features and find the max correlation:\n",
        "# First let's try using NumPy\n",
        "X_np = X.to_numpy()\n",
        "\n",
        "cors = []\n",
        "for i in range(1, 4):\n",
        "  cor = np.corrcoef(X_np[:,0], X_np[:,i])[0,1]\n",
        "  cors.append(cor)\n",
        "  print(iris.feature_names[i],': ', cor)\n",
        "\n",
        "print(\"\\nAfter the loop:\")\n",
        "print(cors)\n",
        "print(np.argmax(cors))\n",
        "print(np.max(cors))\n",
        "\n",
        "print(iris.feature_names[np.argmax(cors)+1],': ', np.max(cors))"
      ],
      "metadata": {
        "colab": {
          "base_uri": "https://localhost:8080/"
        },
        "id": "5_cxR4UuCmN0",
        "outputId": "fb5fe1c9-44c9-47e9-de14-9e0bc1e26113"
      },
      "execution_count": 12,
      "outputs": [
        {
          "output_type": "stream",
          "name": "stdout",
          "text": [
            "sepal width (cm) :  -0.11756978413300208\n",
            "petal length (cm) :  0.8717537758865831\n",
            "petal width (cm) :  0.8179411262715757\n",
            "\n",
            "After the loop:\n",
            "[np.float64(-0.11756978413300208), np.float64(0.8717537758865831), np.float64(0.8179411262715757)]\n",
            "1\n",
            "0.8717537758865831\n",
            "petal length (cm) :  0.8717537758865831\n"
          ]
        }
      ]
    },
    {
      "cell_type": "code",
      "source": [
        "# Print sepal length's correlations with all the other features and find the max correlation:\n",
        "# Let's use Pandas (X is a data frame) this time (instead of X_np)\n",
        "\n",
        "cors = []\n",
        "for i in range(1, 4):\n",
        "  cor = np.corrcoef(X.iloc[:,0], X.iloc[:,i])[0,1]\n",
        "  cors.append(cor)\n",
        "  print(iris.feature_names[i],': ', cor)\n",
        "\n",
        "print(\"\\nAfter the loop:\")\n",
        "print(cors)\n",
        "print(np.argmax(cors))\n",
        "print(np.max(cors))\n",
        "\n",
        "print(iris.feature_names[np.argmax(cors)+1],': ', np.max(cors))"
      ],
      "metadata": {
        "colab": {
          "base_uri": "https://localhost:8080/"
        },
        "id": "6XJteJspCz51",
        "outputId": "e1a438da-c39a-4166-89b5-be41fb6d65df"
      },
      "execution_count": 13,
      "outputs": [
        {
          "output_type": "stream",
          "name": "stdout",
          "text": [
            "sepal width (cm) :  -0.11756978413300208\n",
            "petal length (cm) :  0.8717537758865831\n",
            "petal width (cm) :  0.8179411262715757\n",
            "\n",
            "After the loop:\n",
            "[np.float64(-0.11756978413300208), np.float64(0.8717537758865831), np.float64(0.8179411262715757)]\n",
            "1\n",
            "0.8717537758865831\n",
            "petal length (cm) :  0.8717537758865831\n"
          ]
        }
      ]
    },
    {
      "cell_type": "code",
      "source": [
        "X.columns"
      ],
      "metadata": {
        "colab": {
          "base_uri": "https://localhost:8080/"
        },
        "id": "Tnpe4KEVM9Gq",
        "outputId": "290415ee-02d9-4ec8-b614-2322d71e75ec"
      },
      "execution_count": 14,
      "outputs": [
        {
          "output_type": "execute_result",
          "data": {
            "text/plain": [
              "Index(['sepal length (cm)', 'sepal width (cm)', 'petal length (cm)',\n",
              "       'petal width (cm)'],\n",
              "      dtype='object')"
            ]
          },
          "metadata": {},
          "execution_count": 14
        }
      ]
    },
    {
      "cell_type": "code",
      "source": [
        "# Just another way using Pandas (X is a data frame)\n",
        "cors = []\n",
        "for col_name in X.columns[1:4]:\n",
        "  cor = np.corrcoef(X['sepal length (cm)'], X[col_name])[0,1]\n",
        "  cors.append(cor)\n",
        "  print(col_name, ': ', cor)\n",
        "\n",
        "print(\"\\nAfter the loop:\")\n",
        "print(cors)\n",
        "print(np.argmax(cors))\n",
        "print(np.max(cors))\n",
        "\n",
        "print(iris.feature_names[np.argmax(cors)+1],': ', np.max(cors))"
      ],
      "metadata": {
        "colab": {
          "base_uri": "https://localhost:8080/"
        },
        "id": "85Hkah0UM3M8",
        "outputId": "2ea626fd-b3ec-461c-cc3f-1737c80f7921"
      },
      "execution_count": 15,
      "outputs": [
        {
          "output_type": "stream",
          "name": "stdout",
          "text": [
            "sepal width (cm) :  -0.11756978413300208\n",
            "petal length (cm) :  0.8717537758865831\n",
            "petal width (cm) :  0.8179411262715757\n",
            "\n",
            "After the loop:\n",
            "[np.float64(-0.11756978413300208), np.float64(0.8717537758865831), np.float64(0.8179411262715757)]\n",
            "1\n",
            "0.8717537758865831\n",
            "petal length (cm) :  0.8717537758865831\n"
          ]
        }
      ]
    },
    {
      "cell_type": "code",
      "source": [
        "# Q5. Print the average sepal length for versicolors (class = 1)\n",
        "iris = load_iris()\n",
        "X = iris.data  #this is a numpy array now that we load_iris without \"as_frame\"\n",
        "print(type(X))\n",
        "X.mean(axis=0) #is not what i want because it uses all the features and all the instances\n"
      ],
      "metadata": {
        "colab": {
          "base_uri": "https://localhost:8080/"
        },
        "id": "YjG4UqBO8jmX",
        "outputId": "cef9b26f-6e25-4787-b992-aa6e22b341f5"
      },
      "execution_count": 16,
      "outputs": [
        {
          "output_type": "stream",
          "name": "stdout",
          "text": [
            "<class 'numpy.ndarray'>\n"
          ]
        },
        {
          "output_type": "execute_result",
          "data": {
            "text/plain": [
              "array([5.84333333, 3.05733333, 3.758     , 1.19933333])"
            ]
          },
          "metadata": {},
          "execution_count": 16
        }
      ]
    },
    {
      "cell_type": "code",
      "source": [
        "mask = iris.target == 1  #pull the versicolors\n",
        "X[mask, 0].mean()"
      ],
      "metadata": {
        "colab": {
          "base_uri": "https://localhost:8080/"
        },
        "id": "VfLDBNxGpQ7u",
        "outputId": "637483b4-dd0e-4d2f-a22f-7c57c38a2cee"
      },
      "execution_count": 17,
      "outputs": [
        {
          "output_type": "execute_result",
          "data": {
            "text/plain": [
              "np.float64(5.936)"
            ]
          },
          "metadata": {},
          "execution_count": 17
        }
      ]
    },
    {
      "cell_type": "code",
      "source": [
        "# Q6. Print the average sepal length for each class\n",
        "for cls in [0, 1, 2]: #or use \"in np.unique(iris.target):\" or use \"in range(3):\"\n",
        "    mask = iris.target == cls\n",
        "    print(iris.target_names[cls], X[mask, 0].mean())"
      ],
      "metadata": {
        "colab": {
          "base_uri": "https://localhost:8080/"
        },
        "id": "Lw1sUawI9aYf",
        "outputId": "5ac6fe6e-db79-409b-b024-56d2e7d8ab41"
      },
      "execution_count": 18,
      "outputs": [
        {
          "output_type": "stream",
          "name": "stdout",
          "text": [
            "setosa 5.006\n",
            "versicolor 5.936\n",
            "virginica 6.587999999999998\n"
          ]
        }
      ]
    },
    {
      "cell_type": "code",
      "source": [
        "# Q7. Apply linear regression to the full set of examples\n",
        "from sklearn.linear_model import LinearRegression\n",
        "from sklearn.metrics import mean_squared_error, r2_score\n",
        "X = iris.data[:, 1:4]  #using sw, pl, and pw\n",
        "y = iris.data[:, 0]    #predict sl\n",
        "model = LinearRegression()\n",
        "model.fit(X, y)\n",
        "model.coef_\n",
        "# These coefficients are regression coefficients. They are not the same\n",
        "# as simple correlations, because regression weights represent partial\n",
        "# effects (holding other predictors constant). Collinearity (among the predictors) makes the\n",
        "# difference between the correlations and weights larger.\n"
      ],
      "metadata": {
        "colab": {
          "base_uri": "https://localhost:8080/"
        },
        "id": "yBJKq3f6FFne",
        "outputId": "66ff9ff4-08fc-47c8-b8e1-69cf93d37c1e"
      },
      "execution_count": 19,
      "outputs": [
        {
          "output_type": "execute_result",
          "data": {
            "text/plain": [
              "array([ 0.65083716,  0.70913196, -0.55648266])"
            ]
          },
          "metadata": {},
          "execution_count": 19
        }
      ]
    },
    {
      "cell_type": "code",
      "source": [
        "# Optional discussion:\n",
        "# When predictors are independent, there is an interesting relationship between the weights and correlations.\n",
        "# When predictors are independent, the ratios among regression weights match the ratios among correlations, we can use the weights to assess feature importance\n",
        "# In other words to determine which feature is more important for the prediction\n",
        "import numpy as np\n",
        "from sklearn.linear_model import LinearRegression\n",
        "\n",
        "np.random.seed(0)\n",
        "n = 100000\n",
        "X1 = np.random.randn(n)   #This relation holds if the features are with the same variance, if we multiply X1 by 2 that changes but not the correlations\n",
        "X2 = np.random.randn(n)\n",
        "X3 = np.random.randn(n)\n",
        "\n",
        "y = 0.5*X1 + 0.3*X2 + 0.2*X3 + np.random.randn(n)*0.1\n",
        "\n",
        "#X1 = 2*X1\n",
        "# Regression weights depend on the scale (variance) of the features.\n",
        "# If we multiply X1 by 2, its regression coefficient is cut in half.\n",
        "# Correlations, however, are scale-invariant, so they stay the same.\n",
        "\n",
        "X = np.column_stack([X1, X2, X3])\n",
        "model = LinearRegression().fit(X, y)\n",
        "coefs = model.coef_\n",
        "\n",
        "corrs = [np.corrcoef(X[:,i], y)[0,1] for i in range(3)]\n",
        "\n",
        "print(\"Regression coefs:\", np.round(coefs, 3))\n",
        "print(\"Correlations:\", np.round(corrs, 3))\n",
        "print(\"Ratios coefs:\", np.round(coefs/ coefs[1], 3))\n",
        "print(\"Ratios corrs:\", np.round(np.array(corrs)/ corrs[1], 3))\n"
      ],
      "metadata": {
        "colab": {
          "base_uri": "https://localhost:8080/"
        },
        "id": "8gjVPNMX_qkh",
        "outputId": "7699cf2f-c179-40c5-daa0-ff32d27c1172"
      },
      "execution_count": 20,
      "outputs": [
        {
          "output_type": "stream",
          "name": "stdout",
          "text": [
            "Regression coefs: [0.5 0.3 0.2]\n",
            "Correlations: [0.802 0.479 0.323]\n",
            "Ratios coefs: [1.669 1.    0.667]\n",
            "Ratios corrs: [1.673 1.    0.673]\n"
          ]
        }
      ]
    },
    {
      "cell_type": "code",
      "source": [
        "lst = [1, 4, 56]\n",
        "print(lst)\n",
        "lst.remove(4)\n",
        "print(lst)"
      ],
      "metadata": {
        "colab": {
          "base_uri": "https://localhost:8080/"
        },
        "id": "OsNd62xMHc4f",
        "outputId": "5dd6319f-d403-45ec-e50d-4c5e75dd7a43"
      },
      "execution_count": 21,
      "outputs": [
        {
          "output_type": "stream",
          "name": "stdout",
          "text": [
            "[1, 4, 56]\n",
            "[1, 56]\n"
          ]
        }
      ]
    },
    {
      "cell_type": "code",
      "source": [
        "# Q8. We should have a test to see how well it generalizes, so let's do Leave-One-Out (LOO)\n",
        "from sklearn.metrics import mean_squared_error, r2_score\n",
        "iris = load_iris()\n",
        "X = iris.data[:, 1:4]\n",
        "y = iris.data[:, 0] #predict sl\n",
        "\n",
        "model = LinearRegression()\n",
        "\n",
        "n_samples = len(X)\n",
        "y_preds = []\n",
        "for i in range(n_samples):\n",
        "    training_indices = list(range(n_samples))\n",
        "    training_indices.remove(i)\n",
        "    #print(training_indices)\n",
        "    X_train = X[training_indices]\n",
        "    y_train = y[training_indices]\n",
        "    X_test = X[i].reshape(1,-1)\n",
        "    y_test = y[i]\n",
        "    model.fit(X_train, y_train)\n",
        "    y_pred = model.predict(X_test)\n",
        "    y_preds.append(y_pred[0])\n",
        "\n",
        "mse = mean_squared_error(y, y_preds)\n",
        "r2 = r2_score(y, y_preds)\n",
        "print(mse)\n",
        "print(r2)"
      ],
      "metadata": {
        "id": "pXf3ZwDPEveI",
        "colab": {
          "base_uri": "https://localhost:8080/"
        },
        "outputId": "1e124607-1420-472d-911d-25dfb49d6d6e"
      },
      "execution_count": 22,
      "outputs": [
        {
          "output_type": "stream",
          "name": "stdout",
          "text": [
            "0.10176343380434634\n",
            "0.8505944594314747\n"
          ]
        }
      ]
    },
    {
      "cell_type": "code",
      "source": [
        "y_pred"
      ],
      "metadata": {
        "colab": {
          "base_uri": "https://localhost:8080/"
        },
        "id": "SvACB3FXI7hN",
        "outputId": "6fae22bf-5234-45cd-c2f4-8f1e0cd2879f"
      },
      "execution_count": 23,
      "outputs": [
        {
          "output_type": "execute_result",
          "data": {
            "text/plain": [
              "array([6.42926088])"
            ]
          },
          "metadata": {},
          "execution_count": 23
        }
      ]
    },
    {
      "cell_type": "code",
      "source": [
        "len(y_preds)"
      ],
      "metadata": {
        "colab": {
          "base_uri": "https://localhost:8080/"
        },
        "id": "aNMK1XelJI2M",
        "outputId": "45f3abb0-733c-41a9-cdd3-6d465177d47e"
      },
      "execution_count": 24,
      "outputs": [
        {
          "output_type": "execute_result",
          "data": {
            "text/plain": [
              "150"
            ]
          },
          "metadata": {},
          "execution_count": 24
        }
      ]
    },
    {
      "cell_type": "code",
      "source": [
        "# Q9. Why use LOO (or any other cross-validation), because we don't want to test memorization performance.\n",
        "# K-Nearest Neighbors (KNN) is most commonly used for classification tasks (predicting categories), though it can also be applied to regression. Let's show that:\n",
        "from sklearn.neighbors import KNeighborsRegressor\n",
        "model = KNeighborsRegressor(n_neighbors=1)\n",
        "\n",
        "X = iris.data\n",
        "y = iris.target\n",
        "model.fit(X, y)\n",
        "y_preds = model.predict(X)\n",
        "\n",
        "print('MSE of nearest neighbor regression with knn: ', mean_squared_error(y, y_preds))\n",
        "\n",
        "\n",
        "#KNN is more commonly used for classification\n",
        "from sklearn.neighbors import KNeighborsClassifier\n",
        "model = KNeighborsClassifier(n_neighbors=1)\n",
        "\n",
        "X = iris.data\n",
        "y = iris.target\n",
        "model.fit(X, y)\n",
        "y_preds = model.predict(X)\n",
        "\n",
        "acc = (y==y_preds).mean()\n",
        "print(f'{acc=}')"
      ],
      "metadata": {
        "colab": {
          "base_uri": "https://localhost:8080/"
        },
        "id": "DPUGLDqrJ8yA",
        "outputId": "50a2f383-69ab-4c00-91e3-da0ab81610a0"
      },
      "execution_count": 25,
      "outputs": [
        {
          "output_type": "stream",
          "name": "stdout",
          "text": [
            "MSE of nearest neighbor regression with knn:  0.0\n",
            "acc=np.float64(1.0)\n"
          ]
        }
      ]
    },
    {
      "cell_type": "code",
      "source": [
        "# Q10. The same sort of code from above can be used for testing how well we learnt classification\n",
        "# let's do KNN on the dataset and use LOO to evaluate its predictive performance.\n",
        "from sklearn.neighbors import KNeighborsClassifier\n",
        "from sklearn.metrics import accuracy_score\n",
        "\n",
        "model = KNeighborsClassifier(n_neighbors=1)\n",
        "\n",
        "X = iris.data\n",
        "y = iris.target\n",
        "\n",
        "n_samples = len(X)\n",
        "y_preds = []\n",
        "for i in range(n_samples):\n",
        "    training_indices = list(range(n_samples))\n",
        "    training_indices.remove(i)\n",
        "    X_train = X[training_indices]\n",
        "    y_train = y[training_indices]\n",
        "    X_test = X[i].reshape(1,-1)\n",
        "    y_test = y[i]\n",
        "    model.fit(X_train, y_train)\n",
        "    y_pred = model.predict(X_test)\n",
        "    y_preds.append(y_pred[0])\n",
        "\n",
        "acc = (y==y_preds).mean()\n",
        "print(acc)\n",
        "\n",
        "acc = accuracy_score(y, y_preds)\n",
        "print(acc)"
      ],
      "metadata": {
        "colab": {
          "base_uri": "https://localhost:8080/"
        },
        "id": "GNzVJtISJeki",
        "outputId": "f84c982e-179a-4eed-c364-2029a4572c32"
      },
      "execution_count": 26,
      "outputs": [
        {
          "output_type": "stream",
          "name": "stdout",
          "text": [
            "0.96\n",
            "0.96\n"
          ]
        }
      ]
    },
    {
      "cell_type": "code",
      "source": [
        "from sklearn.model_selection import LeaveOneOut\n",
        "loo = LeaveOneOut()\n",
        "model = KNeighborsClassifier(n_neighbors=1)\n",
        "\n",
        "y_preds = []\n",
        "#y_tests = []\n",
        "for train_index, test_index in loo.split(X):\n",
        "    X_train, X_test = X[train_index], X[test_index]\n",
        "    y_train, y_test = y[train_index], y[test_index]\n",
        "    model.fit(X_train, y_train)\n",
        "    y_pred = model.predict(X_test)\n",
        "#    y_tests.append(y_test)\n",
        "    y_preds.append(y_pred[0])\n",
        "\n",
        "#accuracy_score(y_tests, y_preds)\n",
        "accuracy_score(y, y_preds)\n"
      ],
      "metadata": {
        "colab": {
          "base_uri": "https://localhost:8080/"
        },
        "id": "7FFKfiNvSQ30",
        "outputId": "ab3483f0-bbe1-4f95-d256-0ea485006627"
      },
      "execution_count": 27,
      "outputs": [
        {
          "output_type": "execute_result",
          "data": {
            "text/plain": [
              "0.96"
            ]
          },
          "metadata": {},
          "execution_count": 27
        }
      ]
    },
    {
      "cell_type": "code",
      "source": [
        "l = [3,4,5]\n",
        "l.append([1,2,3])\n",
        "print(l)\n"
      ],
      "metadata": {
        "colab": {
          "base_uri": "https://localhost:8080/"
        },
        "id": "6vQZvPg3ZaLl",
        "outputId": "fdb5ad01-96dc-4c85-dfad-eb3aa7f1c152"
      },
      "execution_count": 29,
      "outputs": [
        {
          "output_type": "stream",
          "name": "stdout",
          "text": [
            "[3, 4, 5, [1, 2, 3]]\n"
          ]
        }
      ]
    },
    {
      "cell_type": "code",
      "source": [
        "# Q11. We can perform K-fold cross validation instead of LOO.\n",
        "from sklearn.model_selection import KFold\n",
        "cv = KFold(n_splits=3, shuffle=False) #dont do this :)\n",
        "model = KNeighborsClassifier(n_neighbors=1)\n",
        "\n",
        "y_preds = []\n",
        "y_tests = []\n",
        "for train_index, test_index in cv.split(X):\n",
        "    X_train, X_test = X[train_index], X[test_index]\n",
        "    y_train, y_test = y[train_index], y[test_index]\n",
        "    model.fit(X_train, y_train)\n",
        "    y_pred = model.predict(X_test)\n",
        "    y_tests.extend(y_test)\n",
        "    y_preds.extend(y_pred)\n",
        "    print(len(y_preds))\n",
        "\n",
        "print(accuracy_score(y_tests, y_preds))\n",
        "print(accuracy_score(y, y_preds))\n"
      ],
      "metadata": {
        "colab": {
          "base_uri": "https://localhost:8080/"
        },
        "id": "4I56vQUCVI-t",
        "outputId": "63d1bd45-99db-436f-ca7f-44ab6b73eb74"
      },
      "execution_count": 28,
      "outputs": [
        {
          "output_type": "stream",
          "name": "stdout",
          "text": [
            "50\n",
            "100\n",
            "150\n",
            "0.0\n",
            "0.0\n"
          ]
        }
      ]
    },
    {
      "cell_type": "code",
      "source": [
        "from sklearn.model_selection import KFold\n",
        "cv = KFold(n_splits=3, shuffle=True)\n",
        "model = KNeighborsClassifier(n_neighbors=1)\n",
        "\n",
        "y_preds = []\n",
        "y_tests = []\n",
        "for train_index, test_index in cv.split(X):\n",
        "    X_train, X_test = X[train_index], X[test_index]\n",
        "    y_train, y_test = y[train_index], y[test_index]\n",
        "    model.fit(X_train, y_train)\n",
        "    y_pred = model.predict(X_test)\n",
        "    y_tests.extend(y_test)\n",
        "    y_preds.extend(y_pred)\n",
        "\n",
        "print(accuracy_score(y_tests, y_preds))\n"
      ],
      "metadata": {
        "colab": {
          "base_uri": "https://localhost:8080/"
        },
        "id": "X6BzcMNHJxeu",
        "outputId": "75a1fe5b-7ac7-4928-b4f1-5b6e66b97953"
      },
      "execution_count": 30,
      "outputs": [
        {
          "output_type": "stream",
          "name": "stdout",
          "text": [
            "0.9533333333333334\n"
          ]
        }
      ]
    }
  ]
}