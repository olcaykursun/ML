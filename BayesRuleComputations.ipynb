{
  "nbformat": 4,
  "nbformat_minor": 0,
  "metadata": {
    "colab": {
      "provenance": [],
      "authorship_tag": "ABX9TyNno5PwLRqiwp9o0vFJLZla",
      "include_colab_link": true
    },
    "kernelspec": {
      "name": "python3",
      "display_name": "Python 3"
    },
    "language_info": {
      "name": "python"
    }
  },
  "cells": [
    {
      "cell_type": "markdown",
      "metadata": {
        "id": "view-in-github",
        "colab_type": "text"
      },
      "source": [
        "<a href=\"https://colab.research.google.com/github/olcaykursun/ML/blob/main/BayesRuleComputations.ipynb\" target=\"_parent\"><img src=\"https://colab.research.google.com/assets/colab-badge.svg\" alt=\"Open In Colab\"/></a>"
      ]
    },
    {
      "cell_type": "code",
      "execution_count": 5,
      "metadata": {
        "colab": {
          "base_uri": "https://localhost:8080/"
        },
        "id": "b4otGlFN9aHn",
        "outputId": "38f0b244-c5db-4585-92e0-082bccb1e9c8"
      },
      "outputs": [
        {
          "output_type": "stream",
          "name": "stdout",
          "text": [
            "0.845 0.155 1\n"
          ]
        }
      ],
      "source": [
        "\"\"\"\n",
        "Bayes Rule computations for classification based on a normally distributed feature\n",
        "Created on Sat Mar  25 10:05:03 2023\n",
        "\n",
        "@author: okursun\n",
        "\"\"\"\n",
        "\n",
        "import math\n",
        "m1 = 200\n",
        "s1 = 50\n",
        "\n",
        "m2 = 250\n",
        "s2 = 100\n",
        "\n",
        "prior1 = 0.75\n",
        "prior2 = 0.25\n",
        "\n",
        "x = 225\n",
        "\n",
        "likelihood1 = ((2*math.pi*s1**2)**-0.5)*math.exp(-(x-m1)**2/(2*s1**2))\n",
        "likelihood2 = ((2*math.pi*s2**2)**-0.5)*math.exp(-(x-m2)**2/(2*s2**2))\n",
        "evidence = likelihood1*prior1 + likelihood2*prior2\n",
        "\n",
        "posterior1 = likelihood1 * prior1 / evidence\n",
        "posterior2 = likelihood2 * prior2 / evidence\n",
        "\n",
        "pred = 1 if posterior1>posterior2 else 2\n",
        "print(round(posterior1,3), round(posterior2,3), pred)\n"
      ]
    }
  ]
}