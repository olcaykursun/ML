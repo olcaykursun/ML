{
  "cells": [
    {
      "cell_type": "markdown",
      "metadata": {
        "id": "view-in-github",
        "colab_type": "text"
      },
      "source": [
        "<a href=\"https://colab.research.google.com/github/olcaykursun/ML/blob/main/Spring2024/softmax_demo.ipynb\" target=\"_parent\"><img src=\"https://colab.research.google.com/assets/colab-badge.svg\" alt=\"Open In Colab\"/></a>"
      ]
    },
    {
      "cell_type": "code",
      "execution_count": null,
      "metadata": {
        "id": "9n9_cTveKmse"
      },
      "outputs": [],
      "source": [
        "import pandas as pd\n",
        "import tensorflow as tf\n",
        "from matplotlib import pyplot as plt\n",
        "import numpy as np\n",
        "from sklearn import datasets\n",
        "from sklearn.preprocessing import OneHotEncoder\n",
        "from sklearn.preprocessing import StandardScaler\n",
        "\n",
        "# Load the Iris dataset\n",
        "iris = datasets.load_iris()\n",
        "scaler = StandardScaler() #z-score normalization\n",
        "iris.data = scaler.fit_transform(iris.data)\n",
        "\n",
        "encoder = OneHotEncoder(sparse_output=False)\n",
        "target_reshaped = iris.target.reshape(-1, 1)\n",
        "target_one_hot = encoder.fit_transform(target_reshaped)\n",
        "\n",
        "N = iris.data.shape[0] #number of rows\n",
        "D = iris.data.shape[1] #number of columns"
      ]
    },
    {
      "cell_type": "code",
      "execution_count": null,
      "metadata": {
        "id": "WZY2emdEXZRo",
        "outputId": "512da1e1-4799-4bce-d077-a8f1c25b1d42"
      },
      "outputs": [
        {
          "data": {
            "text/plain": [
              "array([0, 0, 0, 0, 0, 0, 0, 0, 0, 0, 0, 0, 0, 0, 0, 0, 0, 0, 0, 0, 0, 0,\n",
              "       0, 0, 0, 0, 0, 0, 0, 0, 0, 0, 0, 0, 0, 0, 0, 0, 0, 0, 0, 0, 0, 0,\n",
              "       0, 0, 0, 0, 0, 0, 1, 1, 1, 1, 1, 1, 1, 1, 1, 1, 1, 1, 1, 1, 1, 1,\n",
              "       1, 1, 1, 1, 1, 1, 1, 1, 1, 1, 1, 1, 1, 1, 1, 1, 1, 1, 1, 1, 1, 1,\n",
              "       1, 1, 1, 1, 1, 1, 1, 1, 1, 1, 1, 1, 2, 2, 2, 2, 2, 2, 2, 2, 2, 2,\n",
              "       2, 2, 2, 2, 2, 2, 2, 2, 2, 2, 2, 2, 2, 2, 2, 2, 2, 2, 2, 2, 2, 2,\n",
              "       2, 2, 2, 2, 2, 2, 2, 2, 2, 2, 2, 2, 2, 2, 2, 2, 2, 2])"
            ]
          },
          "execution_count": 20,
          "metadata": {},
          "output_type": "execute_result"
        }
      ],
      "source": [
        "iris.target"
      ]
    },
    {
      "cell_type": "code",
      "execution_count": null,
      "metadata": {
        "id": "rHJUSDezXZRp",
        "outputId": "9844c364-0e29-40ef-f867-cfdec1362899"
      },
      "outputs": [
        {
          "data": {
            "text/plain": [
              "array([[1., 0., 0.],\n",
              "       [1., 0., 0.],\n",
              "       [1., 0., 0.],\n",
              "       [1., 0., 0.],\n",
              "       [1., 0., 0.],\n",
              "       [1., 0., 0.],\n",
              "       [1., 0., 0.],\n",
              "       [1., 0., 0.],\n",
              "       [1., 0., 0.],\n",
              "       [1., 0., 0.],\n",
              "       [1., 0., 0.],\n",
              "       [1., 0., 0.],\n",
              "       [1., 0., 0.],\n",
              "       [1., 0., 0.],\n",
              "       [1., 0., 0.],\n",
              "       [1., 0., 0.],\n",
              "       [1., 0., 0.],\n",
              "       [1., 0., 0.],\n",
              "       [1., 0., 0.],\n",
              "       [1., 0., 0.],\n",
              "       [1., 0., 0.],\n",
              "       [1., 0., 0.],\n",
              "       [1., 0., 0.],\n",
              "       [1., 0., 0.],\n",
              "       [1., 0., 0.],\n",
              "       [1., 0., 0.],\n",
              "       [1., 0., 0.],\n",
              "       [1., 0., 0.],\n",
              "       [1., 0., 0.],\n",
              "       [1., 0., 0.],\n",
              "       [1., 0., 0.],\n",
              "       [1., 0., 0.],\n",
              "       [1., 0., 0.],\n",
              "       [1., 0., 0.],\n",
              "       [1., 0., 0.],\n",
              "       [1., 0., 0.],\n",
              "       [1., 0., 0.],\n",
              "       [1., 0., 0.],\n",
              "       [1., 0., 0.],\n",
              "       [1., 0., 0.],\n",
              "       [1., 0., 0.],\n",
              "       [1., 0., 0.],\n",
              "       [1., 0., 0.],\n",
              "       [1., 0., 0.],\n",
              "       [1., 0., 0.],\n",
              "       [1., 0., 0.],\n",
              "       [1., 0., 0.],\n",
              "       [1., 0., 0.],\n",
              "       [1., 0., 0.],\n",
              "       [1., 0., 0.],\n",
              "       [0., 1., 0.],\n",
              "       [0., 1., 0.],\n",
              "       [0., 1., 0.],\n",
              "       [0., 1., 0.],\n",
              "       [0., 1., 0.],\n",
              "       [0., 1., 0.],\n",
              "       [0., 1., 0.],\n",
              "       [0., 1., 0.],\n",
              "       [0., 1., 0.],\n",
              "       [0., 1., 0.],\n",
              "       [0., 1., 0.],\n",
              "       [0., 1., 0.],\n",
              "       [0., 1., 0.],\n",
              "       [0., 1., 0.],\n",
              "       [0., 1., 0.],\n",
              "       [0., 1., 0.],\n",
              "       [0., 1., 0.],\n",
              "       [0., 1., 0.],\n",
              "       [0., 1., 0.],\n",
              "       [0., 1., 0.],\n",
              "       [0., 1., 0.],\n",
              "       [0., 1., 0.],\n",
              "       [0., 1., 0.],\n",
              "       [0., 1., 0.],\n",
              "       [0., 1., 0.],\n",
              "       [0., 1., 0.],\n",
              "       [0., 1., 0.],\n",
              "       [0., 1., 0.],\n",
              "       [0., 1., 0.],\n",
              "       [0., 1., 0.],\n",
              "       [0., 1., 0.],\n",
              "       [0., 1., 0.],\n",
              "       [0., 1., 0.],\n",
              "       [0., 1., 0.],\n",
              "       [0., 1., 0.],\n",
              "       [0., 1., 0.],\n",
              "       [0., 1., 0.],\n",
              "       [0., 1., 0.],\n",
              "       [0., 1., 0.],\n",
              "       [0., 1., 0.],\n",
              "       [0., 1., 0.],\n",
              "       [0., 1., 0.],\n",
              "       [0., 1., 0.],\n",
              "       [0., 1., 0.],\n",
              "       [0., 1., 0.],\n",
              "       [0., 1., 0.],\n",
              "       [0., 1., 0.],\n",
              "       [0., 1., 0.],\n",
              "       [0., 1., 0.],\n",
              "       [0., 1., 0.],\n",
              "       [0., 0., 1.],\n",
              "       [0., 0., 1.],\n",
              "       [0., 0., 1.],\n",
              "       [0., 0., 1.],\n",
              "       [0., 0., 1.],\n",
              "       [0., 0., 1.],\n",
              "       [0., 0., 1.],\n",
              "       [0., 0., 1.],\n",
              "       [0., 0., 1.],\n",
              "       [0., 0., 1.],\n",
              "       [0., 0., 1.],\n",
              "       [0., 0., 1.],\n",
              "       [0., 0., 1.],\n",
              "       [0., 0., 1.],\n",
              "       [0., 0., 1.],\n",
              "       [0., 0., 1.],\n",
              "       [0., 0., 1.],\n",
              "       [0., 0., 1.],\n",
              "       [0., 0., 1.],\n",
              "       [0., 0., 1.],\n",
              "       [0., 0., 1.],\n",
              "       [0., 0., 1.],\n",
              "       [0., 0., 1.],\n",
              "       [0., 0., 1.],\n",
              "       [0., 0., 1.],\n",
              "       [0., 0., 1.],\n",
              "       [0., 0., 1.],\n",
              "       [0., 0., 1.],\n",
              "       [0., 0., 1.],\n",
              "       [0., 0., 1.],\n",
              "       [0., 0., 1.],\n",
              "       [0., 0., 1.],\n",
              "       [0., 0., 1.],\n",
              "       [0., 0., 1.],\n",
              "       [0., 0., 1.],\n",
              "       [0., 0., 1.],\n",
              "       [0., 0., 1.],\n",
              "       [0., 0., 1.],\n",
              "       [0., 0., 1.],\n",
              "       [0., 0., 1.],\n",
              "       [0., 0., 1.],\n",
              "       [0., 0., 1.],\n",
              "       [0., 0., 1.],\n",
              "       [0., 0., 1.],\n",
              "       [0., 0., 1.],\n",
              "       [0., 0., 1.],\n",
              "       [0., 0., 1.],\n",
              "       [0., 0., 1.],\n",
              "       [0., 0., 1.],\n",
              "       [0., 0., 1.]])"
            ]
          },
          "execution_count": 21,
          "metadata": {},
          "output_type": "execute_result"
        }
      ],
      "source": [
        "target_one_hot"
      ]
    },
    {
      "cell_type": "code",
      "execution_count": null,
      "metadata": {
        "id": "QU29Q4cdXZRq",
        "outputId": "49c66eb7-d162-42e2-8fec-a1d897bc2215"
      },
      "outputs": [
        {
          "data": {
            "text/html": [
              "<div>\n",
              "<style scoped>\n",
              "    .dataframe tbody tr th:only-of-type {\n",
              "        vertical-align: middle;\n",
              "    }\n",
              "\n",
              "    .dataframe tbody tr th {\n",
              "        vertical-align: top;\n",
              "    }\n",
              "\n",
              "    .dataframe thead th {\n",
              "        text-align: right;\n",
              "    }\n",
              "</style>\n",
              "<table border=\"1\" class=\"dataframe\">\n",
              "  <thead>\n",
              "    <tr style=\"text-align: right;\">\n",
              "      <th></th>\n",
              "      <th>0</th>\n",
              "      <th>1</th>\n",
              "      <th>2</th>\n",
              "      <th>3</th>\n",
              "    </tr>\n",
              "  </thead>\n",
              "  <tbody>\n",
              "    <tr>\n",
              "      <th>count</th>\n",
              "      <td>1.500000e+02</td>\n",
              "      <td>1.500000e+02</td>\n",
              "      <td>1.500000e+02</td>\n",
              "      <td>1.500000e+02</td>\n",
              "    </tr>\n",
              "    <tr>\n",
              "      <th>mean</th>\n",
              "      <td>-1.468455e-15</td>\n",
              "      <td>-1.823726e-15</td>\n",
              "      <td>-1.610564e-15</td>\n",
              "      <td>-9.473903e-16</td>\n",
              "    </tr>\n",
              "    <tr>\n",
              "      <th>std</th>\n",
              "      <td>1.003350e+00</td>\n",
              "      <td>1.003350e+00</td>\n",
              "      <td>1.003350e+00</td>\n",
              "      <td>1.003350e+00</td>\n",
              "    </tr>\n",
              "    <tr>\n",
              "      <th>min</th>\n",
              "      <td>-1.870024e+00</td>\n",
              "      <td>-2.433947e+00</td>\n",
              "      <td>-1.567576e+00</td>\n",
              "      <td>-1.447076e+00</td>\n",
              "    </tr>\n",
              "    <tr>\n",
              "      <th>25%</th>\n",
              "      <td>-9.006812e-01</td>\n",
              "      <td>-5.923730e-01</td>\n",
              "      <td>-1.226552e+00</td>\n",
              "      <td>-1.183812e+00</td>\n",
              "    </tr>\n",
              "    <tr>\n",
              "      <th>50%</th>\n",
              "      <td>-5.250608e-02</td>\n",
              "      <td>-1.319795e-01</td>\n",
              "      <td>3.364776e-01</td>\n",
              "      <td>1.325097e-01</td>\n",
              "    </tr>\n",
              "    <tr>\n",
              "      <th>75%</th>\n",
              "      <td>6.745011e-01</td>\n",
              "      <td>5.586108e-01</td>\n",
              "      <td>7.627583e-01</td>\n",
              "      <td>7.906707e-01</td>\n",
              "    </tr>\n",
              "    <tr>\n",
              "      <th>max</th>\n",
              "      <td>2.492019e+00</td>\n",
              "      <td>3.090775e+00</td>\n",
              "      <td>1.785832e+00</td>\n",
              "      <td>1.712096e+00</td>\n",
              "    </tr>\n",
              "  </tbody>\n",
              "</table>\n",
              "</div>"
            ],
            "text/plain": [
              "                  0             1             2             3\n",
              "count  1.500000e+02  1.500000e+02  1.500000e+02  1.500000e+02\n",
              "mean  -1.468455e-15 -1.823726e-15 -1.610564e-15 -9.473903e-16\n",
              "std    1.003350e+00  1.003350e+00  1.003350e+00  1.003350e+00\n",
              "min   -1.870024e+00 -2.433947e+00 -1.567576e+00 -1.447076e+00\n",
              "25%   -9.006812e-01 -5.923730e-01 -1.226552e+00 -1.183812e+00\n",
              "50%   -5.250608e-02 -1.319795e-01  3.364776e-01  1.325097e-01\n",
              "75%    6.745011e-01  5.586108e-01  7.627583e-01  7.906707e-01\n",
              "max    2.492019e+00  3.090775e+00  1.785832e+00  1.712096e+00"
            ]
          },
          "execution_count": 30,
          "metadata": {},
          "output_type": "execute_result"
        }
      ],
      "source": [
        "import pandas as pd\n",
        "\n",
        "pd.DataFrame(iris.data).describe()"
      ]
    },
    {
      "cell_type": "code",
      "execution_count": null,
      "metadata": {
        "id": "xvO_beKVP1Ke"
      },
      "outputs": [],
      "source": [
        "def build_model(my_learning_rate):\n",
        "  model = tf.keras.models.Sequential()\n",
        "  model.add(tf.keras.layers.Dense(units=3, input_shape=(D,)))\n",
        "  model.compile(optimizer=tf.keras.optimizers.Adam(learning_rate=my_learning_rate), loss=\"categorical_crossentropy\", metrics=['accuracy'])\n",
        "  return model"
      ]
    },
    {
      "cell_type": "code",
      "execution_count": null,
      "metadata": {
        "id": "QF0BFRXTOeR3"
      },
      "outputs": [],
      "source": [
        "def plot_the_loss_curve(epochs, loss):\n",
        "  plt.figure()\n",
        "  plt.xlabel(\"Epoch\")\n",
        "  plt.ylabel(\"Loss\")\n",
        "\n",
        "  plt.plot(epochs, loss, label=\"Loss\")\n",
        "  plt.legend()\n",
        "  plt.ylim([loss.min()*0.97, loss.max()*1.03])\n",
        "  plt.show()"
      ]
    },
    {
      "cell_type": "code",
      "execution_count": null,
      "metadata": {
        "colab": {
          "base_uri": "https://localhost:8080/",
          "height": 1000
        },
        "id": "rnUSYKw4LUuh",
        "outputId": "ff8ae44e-9856-4352-e6f4-1db438284d9b"
      },
      "outputs": [
        {
          "name": "stderr",
          "output_type": "stream",
          "text": [
            "WARNING:absl:At this time, the v2.11+ optimizer `tf.keras.optimizers.Adam` runs slowly on M1/M2 Macs, please use the legacy Keras optimizer instead, located at `tf.keras.optimizers.legacy.Adam`.\n"
          ]
        },
        {
          "name": "stdout",
          "output_type": "stream",
          "text": [
            "Epoch 1/100\n",
            "  1/120 [..............................] - ETA: 15s - loss: 1.6041 - accuracy: 0.0000e+00"
          ]
        },
        {
          "name": "stderr",
          "output_type": "stream",
          "text": [
            "2024-03-02 20:19:41.204005: E tensorflow/core/grappler/optimizers/meta_optimizer.cc:961] model_pruner failed: INVALID_ARGUMENT: Graph does not contain terminal node Adam/AssignAddVariableOp.\n"
          ]
        },
        {
          "name": "stdout",
          "output_type": "stream",
          "text": [
            "120/120 [==============================] - 1s 10ms/step - loss: 1.0269 - accuracy: 0.5500 - val_loss: 1.4006 - val_accuracy: 0.0000e+00\n",
            "Epoch 2/100\n",
            "120/120 [==============================] - 1s 9ms/step - loss: 0.4838 - accuracy: 0.8250 - val_loss: 0.8854 - val_accuracy: 0.3333\n",
            "Epoch 3/100\n",
            "120/120 [==============================] - 1s 9ms/step - loss: 0.3584 - accuracy: 0.8917 - val_loss: 0.6408 - val_accuracy: 0.6333\n",
            "Epoch 4/100\n",
            "120/120 [==============================] - 1s 9ms/step - loss: 0.3016 - accuracy: 0.9333 - val_loss: 0.5567 - val_accuracy: 0.6667\n",
            "Epoch 5/100\n",
            "120/120 [==============================] - 1s 9ms/step - loss: 0.2652 - accuracy: 0.9333 - val_loss: 0.5455 - val_accuracy: 0.6667\n",
            "Epoch 6/100\n",
            "120/120 [==============================] - 1s 8ms/step - loss: 0.2396 - accuracy: 0.9500 - val_loss: 0.5406 - val_accuracy: 0.6667\n",
            "Epoch 7/100\n",
            "120/120 [==============================] - 1s 9ms/step - loss: 0.2174 - accuracy: 0.9500 - val_loss: 0.4528 - val_accuracy: 0.7000\n",
            "Epoch 8/100\n",
            "120/120 [==============================] - 1s 9ms/step - loss: 0.1946 - accuracy: 0.9750 - val_loss: 0.4472 - val_accuracy: 0.7667\n",
            "Epoch 9/100\n",
            "120/120 [==============================] - 1s 9ms/step - loss: 0.1791 - accuracy: 0.9833 - val_loss: 0.4614 - val_accuracy: 0.7333\n",
            "Epoch 10/100\n",
            "120/120 [==============================] - 1s 8ms/step - loss: 0.1660 - accuracy: 0.9667 - val_loss: 0.3580 - val_accuracy: 0.9000\n",
            "Epoch 11/100\n",
            "120/120 [==============================] - 1s 9ms/step - loss: 0.1564 - accuracy: 0.9833 - val_loss: 0.3867 - val_accuracy: 0.8333\n",
            "Epoch 12/100\n",
            "120/120 [==============================] - 1s 9ms/step - loss: 0.1450 - accuracy: 0.9833 - val_loss: 0.3509 - val_accuracy: 0.9000\n",
            "Epoch 13/100\n",
            "120/120 [==============================] - 1s 9ms/step - loss: 0.1355 - accuracy: 0.9833 - val_loss: 0.3488 - val_accuracy: 0.9000\n",
            "Epoch 14/100\n",
            "120/120 [==============================] - 1s 9ms/step - loss: 0.1261 - accuracy: 0.9833 - val_loss: 0.3806 - val_accuracy: 0.8000\n",
            "Epoch 15/100\n",
            "120/120 [==============================] - 1s 9ms/step - loss: 0.1183 - accuracy: 0.9833 - val_loss: 0.3658 - val_accuracy: 0.8333\n",
            "Epoch 16/100\n",
            "120/120 [==============================] - 1s 9ms/step - loss: 0.1129 - accuracy: 0.9833 - val_loss: 0.3662 - val_accuracy: 0.8333\n",
            "Epoch 17/100\n",
            "120/120 [==============================] - 1s 8ms/step - loss: 0.1078 - accuracy: 0.9833 - val_loss: 0.3024 - val_accuracy: 0.9000\n",
            "Epoch 18/100\n",
            "120/120 [==============================] - 1s 8ms/step - loss: 0.1045 - accuracy: 0.9750 - val_loss: 0.2965 - val_accuracy: 0.9000\n",
            "Epoch 19/100\n",
            "120/120 [==============================] - 1s 9ms/step - loss: 0.0962 - accuracy: 0.9833 - val_loss: 0.3461 - val_accuracy: 0.8333\n",
            "Epoch 20/100\n",
            "120/120 [==============================] - 1s 9ms/step - loss: 0.0914 - accuracy: 0.9833 - val_loss: 0.2973 - val_accuracy: 0.9000\n",
            "Epoch 21/100\n",
            "120/120 [==============================] - 1s 9ms/step - loss: 0.0902 - accuracy: 0.9917 - val_loss: 0.2940 - val_accuracy: 0.9000\n",
            "Epoch 22/100\n",
            "120/120 [==============================] - 1s 9ms/step - loss: 0.0846 - accuracy: 0.9917 - val_loss: 0.3156 - val_accuracy: 0.8667\n",
            "Epoch 23/100\n",
            "120/120 [==============================] - 1s 8ms/step - loss: 0.0815 - accuracy: 0.9833 - val_loss: 0.3170 - val_accuracy: 0.8667\n",
            "Epoch 24/100\n",
            "120/120 [==============================] - 1s 9ms/step - loss: 0.0796 - accuracy: 0.9917 - val_loss: 0.3069 - val_accuracy: 0.9000\n",
            "Epoch 25/100\n",
            "120/120 [==============================] - 1s 9ms/step - loss: 0.0754 - accuracy: 0.9917 - val_loss: 0.3044 - val_accuracy: 0.9000\n",
            "Epoch 26/100\n",
            "120/120 [==============================] - 1s 8ms/step - loss: 0.0730 - accuracy: 0.9917 - val_loss: 0.3089 - val_accuracy: 0.8667\n",
            "Epoch 27/100\n",
            "120/120 [==============================] - 1s 8ms/step - loss: 0.0704 - accuracy: 0.9917 - val_loss: 0.3035 - val_accuracy: 0.8667\n",
            "Epoch 28/100\n",
            "120/120 [==============================] - 1s 8ms/step - loss: 0.0691 - accuracy: 0.9917 - val_loss: 0.3101 - val_accuracy: 0.8667\n",
            "Epoch 29/100\n",
            "120/120 [==============================] - 1s 8ms/step - loss: 0.0666 - accuracy: 0.9917 - val_loss: 0.2729 - val_accuracy: 0.9000\n",
            "Epoch 30/100\n",
            "120/120 [==============================] - 1s 8ms/step - loss: 0.0649 - accuracy: 0.9917 - val_loss: 0.2743 - val_accuracy: 0.9000\n",
            "Epoch 31/100\n",
            "120/120 [==============================] - 1s 9ms/step - loss: 0.0628 - accuracy: 0.9917 - val_loss: 0.2877 - val_accuracy: 0.9000\n",
            "Epoch 32/100\n",
            "120/120 [==============================] - 1s 9ms/step - loss: 0.0610 - accuracy: 0.9917 - val_loss: 0.2868 - val_accuracy: 0.9000\n",
            "Epoch 33/100\n",
            "120/120 [==============================] - 1s 8ms/step - loss: 0.0594 - accuracy: 0.9917 - val_loss: 0.2798 - val_accuracy: 0.9000\n",
            "Epoch 34/100\n",
            "120/120 [==============================] - 1s 8ms/step - loss: 0.0576 - accuracy: 0.9917 - val_loss: 0.2654 - val_accuracy: 0.9000\n",
            "Epoch 35/100\n",
            "120/120 [==============================] - 1s 8ms/step - loss: 0.0593 - accuracy: 0.9833 - val_loss: 0.2347 - val_accuracy: 0.9000\n",
            "Epoch 36/100\n",
            "120/120 [==============================] - 1s 8ms/step - loss: 0.0552 - accuracy: 1.0000 - val_loss: 0.2872 - val_accuracy: 0.9000\n",
            "Epoch 37/100\n",
            "120/120 [==============================] - 1s 9ms/step - loss: 0.0540 - accuracy: 0.9917 - val_loss: 0.2559 - val_accuracy: 0.9000\n",
            "Epoch 38/100\n",
            "120/120 [==============================] - 1s 8ms/step - loss: 0.0542 - accuracy: 0.9833 - val_loss: 0.2988 - val_accuracy: 0.8667\n",
            "Epoch 39/100\n",
            "120/120 [==============================] - 1s 8ms/step - loss: 0.0522 - accuracy: 0.9917 - val_loss: 0.2730 - val_accuracy: 0.9000\n",
            "Epoch 40/100\n",
            "120/120 [==============================] - 1s 8ms/step - loss: 0.0512 - accuracy: 0.9833 - val_loss: 0.2542 - val_accuracy: 0.9000\n",
            "Epoch 41/100\n",
            "120/120 [==============================] - 1s 8ms/step - loss: 0.0497 - accuracy: 1.0000 - val_loss: 0.3071 - val_accuracy: 0.8667\n",
            "Epoch 42/100\n",
            "120/120 [==============================] - 1s 8ms/step - loss: 0.0486 - accuracy: 0.9917 - val_loss: 0.2927 - val_accuracy: 0.8667\n",
            "Epoch 43/100\n",
            "120/120 [==============================] - 1s 9ms/step - loss: 0.0479 - accuracy: 0.9917 - val_loss: 0.2611 - val_accuracy: 0.9000\n",
            "Epoch 44/100\n",
            "120/120 [==============================] - 1s 8ms/step - loss: 0.0466 - accuracy: 1.0000 - val_loss: 0.2557 - val_accuracy: 0.9000\n",
            "Epoch 45/100\n",
            "120/120 [==============================] - 1s 8ms/step - loss: 0.0465 - accuracy: 0.9917 - val_loss: 0.2504 - val_accuracy: 0.9000\n",
            "Epoch 46/100\n",
            "120/120 [==============================] - 1s 8ms/step - loss: 0.0457 - accuracy: 0.9917 - val_loss: 0.2610 - val_accuracy: 0.9000\n",
            "Epoch 47/100\n",
            "120/120 [==============================] - 1s 8ms/step - loss: 0.0441 - accuracy: 0.9917 - val_loss: 0.2507 - val_accuracy: 0.9000\n",
            "Epoch 48/100\n",
            "120/120 [==============================] - 1s 8ms/step - loss: 0.0432 - accuracy: 0.9917 - val_loss: 0.3068 - val_accuracy: 0.8333\n",
            "Epoch 49/100\n",
            "120/120 [==============================] - 1s 8ms/step - loss: 0.0447 - accuracy: 0.9917 - val_loss: 0.2621 - val_accuracy: 0.9000\n",
            "Epoch 50/100\n",
            "120/120 [==============================] - 1s 8ms/step - loss: 0.0426 - accuracy: 0.9917 - val_loss: 0.2869 - val_accuracy: 0.8667\n",
            "Epoch 51/100\n",
            "120/120 [==============================] - 1s 8ms/step - loss: 0.0420 - accuracy: 0.9917 - val_loss: 0.2942 - val_accuracy: 0.8667\n",
            "Epoch 52/100\n",
            "120/120 [==============================] - 1s 8ms/step - loss: 0.0413 - accuracy: 1.0000 - val_loss: 0.2794 - val_accuracy: 0.8667\n",
            "Epoch 53/100\n",
            "120/120 [==============================] - 1s 9ms/step - loss: 0.0406 - accuracy: 1.0000 - val_loss: 0.2896 - val_accuracy: 0.8667\n",
            "Epoch 54/100\n",
            "120/120 [==============================] - 1s 9ms/step - loss: 0.0399 - accuracy: 0.9917 - val_loss: 0.3110 - val_accuracy: 0.8333\n",
            "Epoch 55/100\n",
            "120/120 [==============================] - 1s 8ms/step - loss: 0.0397 - accuracy: 0.9917 - val_loss: 0.2573 - val_accuracy: 0.9000\n",
            "Epoch 56/100\n",
            "120/120 [==============================] - 1s 9ms/step - loss: 0.0386 - accuracy: 1.0000 - val_loss: 0.2765 - val_accuracy: 0.8667\n",
            "Epoch 57/100\n",
            "120/120 [==============================] - 1s 8ms/step - loss: 0.0379 - accuracy: 0.9917 - val_loss: 0.2767 - val_accuracy: 0.8667\n",
            "Epoch 58/100\n",
            "120/120 [==============================] - 1s 9ms/step - loss: 0.0378 - accuracy: 0.9917 - val_loss: 0.2799 - val_accuracy: 0.8667\n",
            "Epoch 59/100\n",
            "120/120 [==============================] - 1s 9ms/step - loss: 0.0378 - accuracy: 0.9917 - val_loss: 0.2958 - val_accuracy: 0.8667\n",
            "Epoch 60/100\n",
            "120/120 [==============================] - 1s 8ms/step - loss: 0.0365 - accuracy: 1.0000 - val_loss: 0.2563 - val_accuracy: 0.9000\n",
            "Epoch 61/100\n",
            "120/120 [==============================] - 1s 8ms/step - loss: 0.0364 - accuracy: 0.9917 - val_loss: 0.2934 - val_accuracy: 0.8667\n",
            "Epoch 62/100\n",
            "120/120 [==============================] - 1s 8ms/step - loss: 0.0354 - accuracy: 0.9917 - val_loss: 0.3195 - val_accuracy: 0.8333\n",
            "Epoch 63/100\n",
            "120/120 [==============================] - 1s 9ms/step - loss: 0.0355 - accuracy: 0.9917 - val_loss: 0.2555 - val_accuracy: 0.9000\n",
            "Epoch 64/100\n",
            "120/120 [==============================] - 1s 8ms/step - loss: 0.0361 - accuracy: 0.9917 - val_loss: 0.2719 - val_accuracy: 0.8667\n",
            "Epoch 65/100\n",
            "120/120 [==============================] - 1s 9ms/step - loss: 0.0354 - accuracy: 0.9917 - val_loss: 0.2658 - val_accuracy: 0.8667\n",
            "Epoch 66/100\n",
            "120/120 [==============================] - 1s 8ms/step - loss: 0.0351 - accuracy: 0.9917 - val_loss: 0.2680 - val_accuracy: 0.8667\n",
            "Epoch 67/100\n",
            "120/120 [==============================] - 1s 8ms/step - loss: 0.0357 - accuracy: 0.9917 - val_loss: 0.2740 - val_accuracy: 0.8667\n",
            "Epoch 68/100\n",
            "120/120 [==============================] - 1s 8ms/step - loss: 0.0339 - accuracy: 1.0000 - val_loss: 0.2612 - val_accuracy: 0.9000\n",
            "Epoch 69/100\n",
            "120/120 [==============================] - 1s 9ms/step - loss: 0.0343 - accuracy: 0.9917 - val_loss: 0.3304 - val_accuracy: 0.8333\n",
            "Epoch 70/100\n",
            "120/120 [==============================] - 1s 8ms/step - loss: 0.0333 - accuracy: 0.9917 - val_loss: 0.3243 - val_accuracy: 0.8333\n",
            "Epoch 71/100\n",
            "120/120 [==============================] - 1s 8ms/step - loss: 0.0326 - accuracy: 1.0000 - val_loss: 0.3004 - val_accuracy: 0.8333\n",
            "Epoch 72/100\n",
            "120/120 [==============================] - 1s 8ms/step - loss: 0.0337 - accuracy: 0.9833 - val_loss: 0.2029 - val_accuracy: 0.9000\n",
            "Epoch 73/100\n",
            "120/120 [==============================] - 1s 9ms/step - loss: 0.0349 - accuracy: 0.9917 - val_loss: 0.2097 - val_accuracy: 0.9000\n",
            "Epoch 74/100\n",
            "120/120 [==============================] - 1s 8ms/step - loss: 0.0339 - accuracy: 0.9917 - val_loss: 0.2559 - val_accuracy: 0.9000\n",
            "Epoch 75/100\n",
            "120/120 [==============================] - 1s 8ms/step - loss: 0.0316 - accuracy: 0.9917 - val_loss: 0.3109 - val_accuracy: 0.8333\n",
            "Epoch 76/100\n",
            "120/120 [==============================] - 1s 9ms/step - loss: 0.0325 - accuracy: 0.9917 - val_loss: 0.2867 - val_accuracy: 0.8667\n",
            "Epoch 77/100\n",
            "120/120 [==============================] - 1s 9ms/step - loss: 0.0315 - accuracy: 1.0000 - val_loss: 0.2869 - val_accuracy: 0.8667\n",
            "Epoch 78/100\n",
            "120/120 [==============================] - 1s 8ms/step - loss: 0.0307 - accuracy: 1.0000 - val_loss: 0.2957 - val_accuracy: 0.8333\n",
            "Epoch 79/100\n",
            "120/120 [==============================] - 1s 8ms/step - loss: 0.0316 - accuracy: 0.9917 - val_loss: 0.3016 - val_accuracy: 0.8333\n",
            "Epoch 80/100\n",
            "120/120 [==============================] - 1s 8ms/step - loss: 0.0301 - accuracy: 1.0000 - val_loss: 0.3002 - val_accuracy: 0.8333\n",
            "Epoch 81/100\n",
            "120/120 [==============================] - 1s 9ms/step - loss: 0.0309 - accuracy: 1.0000 - val_loss: 0.3150 - val_accuracy: 0.8333\n",
            "Epoch 82/100\n",
            "120/120 [==============================] - 1s 8ms/step - loss: 0.0317 - accuracy: 0.9917 - val_loss: 0.2896 - val_accuracy: 0.8667\n",
            "Epoch 83/100\n",
            "120/120 [==============================] - 1s 8ms/step - loss: 0.0297 - accuracy: 0.9917 - val_loss: 0.2677 - val_accuracy: 0.8667\n",
            "Epoch 84/100\n",
            "120/120 [==============================] - 1s 9ms/step - loss: 0.0294 - accuracy: 1.0000 - val_loss: 0.2707 - val_accuracy: 0.8667\n",
            "Epoch 85/100\n",
            "120/120 [==============================] - 1s 8ms/step - loss: 0.0289 - accuracy: 1.0000 - val_loss: 0.2748 - val_accuracy: 0.8667\n",
            "Epoch 86/100\n",
            "120/120 [==============================] - 1s 9ms/step - loss: 0.0295 - accuracy: 1.0000 - val_loss: 0.2911 - val_accuracy: 0.8333\n",
            "Epoch 87/100\n",
            "120/120 [==============================] - 1s 8ms/step - loss: 0.0295 - accuracy: 0.9917 - val_loss: 0.3052 - val_accuracy: 0.8333\n",
            "Epoch 88/100\n",
            "120/120 [==============================] - 1s 9ms/step - loss: 0.0287 - accuracy: 0.9917 - val_loss: 0.3188 - val_accuracy: 0.8333\n",
            "Epoch 89/100\n",
            "120/120 [==============================] - 1s 9ms/step - loss: 0.0297 - accuracy: 0.9917 - val_loss: 0.2708 - val_accuracy: 0.8667\n",
            "Epoch 90/100\n",
            "120/120 [==============================] - 1s 9ms/step - loss: 0.0302 - accuracy: 0.9917 - val_loss: 0.2552 - val_accuracy: 0.8667\n",
            "Epoch 91/100\n",
            "120/120 [==============================] - 1s 9ms/step - loss: 0.0278 - accuracy: 0.9917 - val_loss: 0.3221 - val_accuracy: 0.8333\n",
            "Epoch 92/100\n",
            "120/120 [==============================] - 1s 8ms/step - loss: 0.0277 - accuracy: 1.0000 - val_loss: 0.2786 - val_accuracy: 0.8667\n",
            "Epoch 93/100\n",
            "120/120 [==============================] - 1s 9ms/step - loss: 0.0272 - accuracy: 1.0000 - val_loss: 0.2741 - val_accuracy: 0.8667\n",
            "Epoch 94/100\n",
            "120/120 [==============================] - 1s 9ms/step - loss: 0.0281 - accuracy: 0.9917 - val_loss: 0.2716 - val_accuracy: 0.8667\n",
            "Epoch 95/100\n",
            "120/120 [==============================] - 1s 9ms/step - loss: 0.0276 - accuracy: 1.0000 - val_loss: 0.2518 - val_accuracy: 0.9000\n",
            "Epoch 96/100\n",
            "120/120 [==============================] - 1s 8ms/step - loss: 0.0266 - accuracy: 0.9917 - val_loss: 0.3046 - val_accuracy: 0.8333\n",
            "Epoch 97/100\n",
            "120/120 [==============================] - 1s 9ms/step - loss: 0.0279 - accuracy: 1.0000 - val_loss: 0.2638 - val_accuracy: 0.8667\n",
            "Epoch 98/100\n",
            "120/120 [==============================] - 1s 9ms/step - loss: 0.0264 - accuracy: 0.9917 - val_loss: 0.3093 - val_accuracy: 0.8333\n",
            "Epoch 99/100\n",
            "120/120 [==============================] - 1s 9ms/step - loss: 0.0280 - accuracy: 1.0000 - val_loss: 0.2760 - val_accuracy: 0.8667\n",
            "Epoch 100/100\n",
            "120/120 [==============================] - 1s 8ms/step - loss: 0.0269 - accuracy: 0.9917 - val_loss: 0.2948 - val_accuracy: 0.8333\n"
          ]
        },
        {
          "data": {
            "image/png": "[encoded data removed]",
            "text/plain": [
              "<Figure size 640x480 with 1 Axes>"
            ]
          },
          "metadata": {},
          "output_type": "display_data"
        }
      ],
      "source": [
        "learning_rate = 0.01\n",
        "\n",
        "model = build_model(learning_rate)\n",
        "history = model.fit(x=iris.data,\n",
        "                    y=target_one_hot,\n",
        "                    batch_size=1,\n",
        "                    epochs=100, verbose=1, validation_split=0.2)\n",
        "epochs = history.epoch\n",
        "hist = pd.DataFrame(history.history)\n",
        "\n",
        "plot_the_loss_curve(epochs, hist[\"val_loss\"])\n"
      ]
    },
    {
      "cell_type": "code",
      "execution_count": null,
      "metadata": {
        "id": "xaE79GpZx9bd",
        "outputId": "a4684e72-0f3b-48ed-8a96-c858848b8baa"
      },
      "outputs": [
        {
          "data": {
            "text/html": [
              "<div>\n",
              "<style scoped>\n",
              "    .dataframe tbody tr th:only-of-type {\n",
              "        vertical-align: middle;\n",
              "    }\n",
              "\n",
              "    .dataframe tbody tr th {\n",
              "        vertical-align: top;\n",
              "    }\n",
              "\n",
              "    .dataframe thead th {\n",
              "        text-align: right;\n",
              "    }\n",
              "</style>\n",
              "<table border=\"1\" class=\"dataframe\">\n",
              "  <thead>\n",
              "    <tr style=\"text-align: right;\">\n",
              "      <th></th>\n",
              "      <th>loss</th>\n",
              "      <th>accuracy</th>\n",
              "      <th>val_loss</th>\n",
              "      <th>val_accuracy</th>\n",
              "    </tr>\n",
              "  </thead>\n",
              "  <tbody>\n",
              "    <tr>\n",
              "      <th>0</th>\n",
              "      <td>1.367777</td>\n",
              "      <td>0.291667</td>\n",
              "      <td>0.543621</td>\n",
              "      <td>0.933333</td>\n",
              "    </tr>\n",
              "    <tr>\n",
              "      <th>1</th>\n",
              "      <td>0.482754</td>\n",
              "      <td>0.833333</td>\n",
              "      <td>0.581275</td>\n",
              "      <td>0.666667</td>\n",
              "    </tr>\n",
              "    <tr>\n",
              "      <th>2</th>\n",
              "      <td>0.358083</td>\n",
              "      <td>0.900000</td>\n",
              "      <td>0.529153</td>\n",
              "      <td>0.666667</td>\n",
              "    </tr>\n",
              "    <tr>\n",
              "      <th>3</th>\n",
              "      <td>0.298238</td>\n",
              "      <td>0.941667</td>\n",
              "      <td>0.547610</td>\n",
              "      <td>0.666667</td>\n",
              "    </tr>\n",
              "    <tr>\n",
              "      <th>4</th>\n",
              "      <td>0.259423</td>\n",
              "      <td>0.950000</td>\n",
              "      <td>0.510658</td>\n",
              "      <td>0.666667</td>\n",
              "    </tr>\n",
              "    <tr>\n",
              "      <th>...</th>\n",
              "      <td>...</td>\n",
              "      <td>...</td>\n",
              "      <td>...</td>\n",
              "      <td>...</td>\n",
              "    </tr>\n",
              "    <tr>\n",
              "      <th>95</th>\n",
              "      <td>0.027184</td>\n",
              "      <td>0.991667</td>\n",
              "      <td>0.324114</td>\n",
              "      <td>0.833333</td>\n",
              "    </tr>\n",
              "    <tr>\n",
              "      <th>96</th>\n",
              "      <td>0.027460</td>\n",
              "      <td>0.991667</td>\n",
              "      <td>0.330533</td>\n",
              "      <td>0.833333</td>\n",
              "    </tr>\n",
              "    <tr>\n",
              "      <th>97</th>\n",
              "      <td>0.027313</td>\n",
              "      <td>0.991667</td>\n",
              "      <td>0.321361</td>\n",
              "      <td>0.833333</td>\n",
              "    </tr>\n",
              "    <tr>\n",
              "      <th>98</th>\n",
              "      <td>0.027526</td>\n",
              "      <td>1.000000</td>\n",
              "      <td>0.305737</td>\n",
              "      <td>0.833333</td>\n",
              "    </tr>\n",
              "    <tr>\n",
              "      <th>99</th>\n",
              "      <td>0.025964</td>\n",
              "      <td>1.000000</td>\n",
              "      <td>0.266310</td>\n",
              "      <td>0.866667</td>\n",
              "    </tr>\n",
              "  </tbody>\n",
              "</table>\n",
              "<p>100 rows × 4 columns</p>\n",
              "</div>"
            ],
            "text/plain": [
              "        loss  accuracy  val_loss  val_accuracy\n",
              "0   1.367777  0.291667  0.543621      0.933333\n",
              "1   0.482754  0.833333  0.581275      0.666667\n",
              "2   0.358083  0.900000  0.529153      0.666667\n",
              "3   0.298238  0.941667  0.547610      0.666667\n",
              "4   0.259423  0.950000  0.510658      0.666667\n",
              "..       ...       ...       ...           ...\n",
              "95  0.027184  0.991667  0.324114      0.833333\n",
              "96  0.027460  0.991667  0.330533      0.833333\n",
              "97  0.027313  0.991667  0.321361      0.833333\n",
              "98  0.027526  1.000000  0.305737      0.833333\n",
              "99  0.025964  1.000000  0.266310      0.866667\n",
              "\n",
              "[100 rows x 4 columns]"
            ]
          },
          "execution_count": 34,
          "metadata": {},
          "output_type": "execute_result"
        }
      ],
      "source": [
        "hist"
      ]
    },
    {
      "cell_type": "code",
      "execution_count": null,
      "metadata": {
        "id": "G5ZKSSuQmcwq",
        "outputId": "65ec06d1-4851-4228-b9a4-85ccd71cf8e1"
      },
      "outputs": [
        {
          "data": {
            "image/png": "[encoded data removed]",
            "text/plain": [
              "<Figure size 640x480 with 1 Axes>"
            ]
          },
          "metadata": {},
          "output_type": "display_data"
        }
      ],
      "source": [
        "plot_the_loss_curve(epochs, hist[\"loss\"])\n"
      ]
    },
    {
      "cell_type": "code",
      "execution_count": null,
      "metadata": {
        "colab": {
          "base_uri": "https://localhost:8080/"
        },
        "id": "INaLGFomoPLt",
        "outputId": "87eaafa2-f286-466a-8ead-d8024950f2b9"
      },
      "outputs": [
        {
          "data": {
            "text/plain": [
              "[<tf.Variable 'dense_2/kernel:0' shape=(4, 3) dtype=float32, numpy=\n",
              " array([[-2.278,  1.558,  0.161],\n",
              "        [ 3.769,  0.318, -1.61 ],\n",
              "        [-6.749, -1.468,  4.782],\n",
              "        [-7.129, -2.702,  6.179]], dtype=float32)>,\n",
              " <tf.Variable 'dense_2/bias:0' shape=(3,) dtype=float32, numpy=array([-2.272,  5.354, -5.489], dtype=float32)>]"
            ]
          },
          "execution_count": 37,
          "metadata": {},
          "output_type": "execute_result"
        }
      ],
      "source": [
        "model.weights"
      ]
    },
    {
      "cell_type": "code",
      "execution_count": null,
      "metadata": {
        "colab": {
          "base_uri": "https://localhost:8080/"
        },
        "id": "g7GLkjQMoaSK",
        "outputId": "e470d366-66f5-44f8-cef9-f1e5a2fde6f6"
      },
      "outputs": [
        {
          "name": "stdout",
          "output_type": "stream",
          "text": [
            "5/5 [==============================] - 0s 3ms/step\n",
            "[[1.    0.    0.    1.    0.    0.   ]\n",
            " [1.    0.    0.    1.    0.    0.   ]\n",
            " [1.    0.    0.    1.    0.    0.   ]\n",
            " [1.    0.    0.    1.    0.    0.   ]\n",
            " [1.    0.    0.    1.    0.    0.   ]\n",
            " [1.    0.    0.    1.    0.    0.   ]\n",
            " [1.    0.    0.    1.    0.    0.   ]\n",
            " [1.    0.    0.    1.    0.    0.   ]\n",
            " [1.    0.    0.    1.    0.    0.   ]\n",
            " [1.    0.    0.    1.    0.    0.   ]\n",
            " [1.    0.    0.    1.    0.    0.   ]\n",
            " [1.    0.    0.    1.    0.    0.   ]\n",
            " [1.    0.    0.    1.    0.    0.   ]\n",
            " [1.    0.    0.    1.    0.    0.   ]\n",
            " [1.    0.    0.    1.    0.    0.   ]\n",
            " [1.    0.    0.    1.    0.    0.   ]\n",
            " [1.    0.    0.    1.    0.    0.   ]\n",
            " [1.    0.    0.    1.    0.    0.   ]\n",
            " [1.    0.    0.    1.    0.    0.   ]\n",
            " [1.    0.    0.    1.    0.    0.   ]\n",
            " [1.    0.    0.    1.    0.    0.   ]\n",
            " [1.    0.    0.    1.    0.    0.   ]\n",
            " [1.    0.    0.    1.    0.    0.   ]\n",
            " [1.    0.    0.    1.    0.    0.   ]\n",
            " [1.    0.    0.    1.    0.    0.   ]\n",
            " [1.    0.    0.    1.    0.    0.   ]\n",
            " [1.    0.    0.    1.    0.    0.   ]\n",
            " [1.    0.    0.    1.    0.    0.   ]\n",
            " [1.    0.    0.    1.    0.    0.   ]\n",
            " [1.    0.    0.    1.    0.    0.   ]\n",
            " [1.    0.    0.    1.    0.    0.   ]\n",
            " [1.    0.    0.    1.    0.    0.   ]\n",
            " [1.    0.    0.    1.    0.    0.   ]\n",
            " [1.    0.    0.    1.    0.    0.   ]\n",
            " [1.    0.    0.    1.    0.    0.   ]\n",
            " [1.    0.    0.    1.    0.    0.   ]\n",
            " [1.    0.    0.    1.    0.    0.   ]\n",
            " [1.    0.    0.    1.    0.    0.   ]\n",
            " [1.    0.    0.    1.    0.    0.   ]\n",
            " [1.    0.    0.    1.    0.    0.   ]\n",
            " [1.    0.    0.    1.    0.    0.   ]\n",
            " [0.997 0.003 0.    1.    0.    0.   ]\n",
            " [1.    0.    0.    1.    0.    0.   ]\n",
            " [1.    0.    0.    1.    0.    0.   ]\n",
            " [1.    0.    0.    1.    0.    0.   ]\n",
            " [1.    0.    0.    1.    0.    0.   ]\n",
            " [1.    0.    0.    1.    0.    0.   ]\n",
            " [1.    0.    0.    1.    0.    0.   ]\n",
            " [1.    0.    0.    1.    0.    0.   ]\n",
            " [1.    0.    0.    1.    0.    0.   ]\n",
            " [0.    1.    0.    0.    1.    0.   ]\n",
            " [0.    0.998 0.002 0.    1.    0.   ]\n",
            " [0.    0.996 0.004 0.    1.    0.   ]\n",
            " [0.    0.99  0.01  0.    1.    0.   ]\n",
            " [0.    0.987 0.013 0.    1.    0.   ]\n",
            " [0.    0.996 0.004 0.    1.    0.   ]\n",
            " [0.    0.992 0.008 0.    1.    0.   ]\n",
            " [0.003 0.997 0.    0.    1.    0.   ]\n",
            " [0.    0.999 0.001 0.    1.    0.   ]\n",
            " [0.    0.994 0.006 0.    1.    0.   ]\n",
            " [0.    0.999 0.001 0.    1.    0.   ]\n",
            " [0.    0.996 0.004 0.    1.    0.   ]\n",
            " [0.    1.    0.    0.    1.    0.   ]\n",
            " [0.    0.993 0.007 0.    1.    0.   ]\n",
            " [0.    0.999 0.    0.    1.    0.   ]\n",
            " [0.    1.    0.    0.    1.    0.   ]\n",
            " [0.    0.982 0.018 0.    1.    0.   ]\n",
            " [0.    1.    0.    0.    1.    0.   ]\n",
            " [0.    0.796 0.204 0.    1.    0.   ]\n",
            " [0.    1.    0.    0.    1.    0.   ]\n",
            " [0.    0.713 0.287 0.    1.    0.   ]\n",
            " [0.    1.    0.    0.    1.    0.   ]\n",
            " [0.    0.829 0.171 0.    1.    0.   ]\n",
            " [0.    0.999 0.001 0.    1.    0.   ]\n",
            " [0.    1.    0.    0.    1.    0.   ]\n",
            " [0.    0.999 0.001 0.    1.    0.   ]\n",
            " [0.    0.995 0.005 0.    1.    0.   ]\n",
            " [0.    0.871 0.129 0.    1.    0.   ]\n",
            " [0.    0.986 0.014 0.    1.    0.   ]\n",
            " [0.    1.    0.    0.    1.    0.   ]\n",
            " [0.    1.    0.    0.    1.    0.   ]\n",
            " [0.    1.    0.    0.    1.    0.   ]\n",
            " [0.    1.    0.    0.    1.    0.   ]\n",
            " [0.    0.529 0.471 0.    1.    0.   ]\n",
            " [0.    0.975 0.025 0.    1.    0.   ]\n",
            " [0.    0.995 0.005 0.    1.    0.   ]\n",
            " [0.    0.997 0.003 0.    1.    0.   ]\n",
            " [0.    0.991 0.009 0.    1.    0.   ]\n",
            " [0.    0.999 0.    0.    1.    0.   ]\n",
            " [0.    0.996 0.004 0.    1.    0.   ]\n",
            " [0.    0.997 0.003 0.    1.    0.   ]\n",
            " [0.    0.997 0.003 0.    1.    0.   ]\n",
            " [0.    1.    0.    0.    1.    0.   ]\n",
            " [0.001 0.999 0.    0.    1.    0.   ]\n",
            " [0.    0.998 0.002 0.    1.    0.   ]\n",
            " [0.    1.    0.    0.    1.    0.   ]\n",
            " [0.    0.999 0.001 0.    1.    0.   ]\n",
            " [0.    1.    0.    0.    1.    0.   ]\n",
            " [0.004 0.996 0.    0.    1.    0.   ]\n",
            " [0.    0.999 0.001 0.    1.    0.   ]\n",
            " [0.    0.    1.    0.    0.    1.   ]\n",
            " [0.    0.022 0.978 0.    0.    1.   ]\n",
            " [0.    0.006 0.994 0.    0.    1.   ]\n",
            " [0.    0.078 0.922 0.    0.    1.   ]\n",
            " [0.    0.001 0.999 0.    0.    1.   ]\n",
            " [0.    0.001 0.999 0.    0.    1.   ]\n",
            " [0.    0.128 0.872 0.    0.    1.   ]\n",
            " [0.    0.044 0.956 0.    0.    1.   ]\n",
            " [0.    0.013 0.987 0.    0.    1.   ]\n",
            " [0.    0.001 0.999 0.    0.    1.   ]\n",
            " [0.    0.198 0.802 0.    0.    1.   ]\n",
            " [0.    0.032 0.968 0.    0.    1.   ]\n",
            " [0.    0.013 0.987 0.    0.    1.   ]\n",
            " [0.    0.003 0.997 0.    0.    1.   ]\n",
            " [0.    0.    1.    0.    0.    1.   ]\n",
            " [0.    0.003 0.997 0.    0.    1.   ]\n",
            " [0.    0.211 0.789 0.    0.    1.   ]\n",
            " [0.    0.014 0.986 0.    0.    1.   ]\n",
            " [0.    0.    1.    0.    0.    1.   ]\n",
            " [0.    0.335 0.665 0.    0.    1.   ]\n",
            " [0.    0.002 0.998 0.    0.    1.   ]\n",
            " [0.    0.015 0.985 0.    0.    1.   ]\n",
            " [0.    0.001 0.999 0.    0.    1.   ]\n",
            " [0.    0.262 0.738 0.    0.    1.   ]\n",
            " [0.    0.022 0.978 0.    0.    1.   ]\n",
            " [0.    0.302 0.698 0.    0.    1.   ]\n",
            " [0.    0.398 0.602 0.    0.    1.   ]\n",
            " [0.    0.5   0.5   0.    0.    1.   ]\n",
            " [0.    0.002 0.998 0.    0.    1.   ]\n",
            " [0.    0.782 0.218 0.    0.    1.   ]\n",
            " [0.    0.021 0.979 0.    0.    1.   ]\n",
            " [0.    0.372 0.628 0.    0.    1.   ]\n",
            " [0.    0.001 0.999 0.    0.    1.   ]\n",
            " [0.    0.909 0.091 0.    0.    1.   ]\n",
            " [0.    0.623 0.377 0.    0.    1.   ]\n",
            " [0.    0.001 0.999 0.    0.    1.   ]\n",
            " [0.    0.001 0.999 0.    0.    1.   ]\n",
            " [0.    0.263 0.737 0.    0.    1.   ]\n",
            " [0.    0.54  0.46  0.    0.    1.   ]\n",
            " [0.    0.034 0.966 0.    0.    1.   ]\n",
            " [0.    0.    1.    0.    0.    1.   ]\n",
            " [0.    0.009 0.991 0.    0.    1.   ]\n",
            " [0.    0.022 0.978 0.    0.    1.   ]\n",
            " [0.    0.001 0.999 0.    0.    1.   ]\n",
            " [0.    0.    1.    0.    0.    1.   ]\n",
            " [0.    0.003 0.997 0.    0.    1.   ]\n",
            " [0.    0.03  0.97  0.    0.    1.   ]\n",
            " [0.    0.065 0.935 0.    0.    1.   ]\n",
            " [0.    0.004 0.996 0.    0.    1.   ]\n",
            " [0.    0.263 0.737 0.    0.    1.   ]]\n"
          ]
        }
      ],
      "source": [
        "y_pred = model.predict(iris.data)\n",
        "\n",
        "np.set_printoptions(precision=3, suppress=True)\n",
        "print(np.hstack((y_pred, target_one_hot)))\n"
      ]
    },
    {
      "cell_type": "code",
      "execution_count": null,
      "metadata": {
        "id": "Xx0_ltEDXZRs",
        "outputId": "867fed21-ca02-4602-f52a-91ab3f3e2fff"
      },
      "outputs": [
        {
          "name": "stdout",
          "output_type": "stream",
          "text": [
            "[[1.    0.    0.   ]\n",
            " [1.    0.    0.   ]\n",
            " [1.    0.    0.   ]\n",
            " [1.    0.    0.   ]\n",
            " [1.    0.    0.   ]\n",
            " [0.    1.    0.   ]\n",
            " [0.    0.999 0.001]\n",
            " [0.    0.713 0.287]\n",
            " [0.    1.    0.   ]\n",
            " [0.    0.997 0.003]\n",
            " [0.    0.    1.   ]\n",
            " [0.    0.198 0.802]\n",
            " [0.    0.002 0.998]\n",
            " [0.    0.021 0.979]\n",
            " [0.    0.    1.   ]]\n"
          ]
        }
      ],
      "source": [
        "print(y_pred[::10])\n"
      ]
    },
    {
      "cell_type": "code",
      "execution_count": null,
      "metadata": {
        "id": "Pdw6kik7ofVX",
        "outputId": "be493cb7-f557-4d43-9cfb-7766433463f1"
      },
      "outputs": [
        {
          "name": "stdout",
          "output_type": "stream",
          "text": [
            "[-2.379  3.944 -7.432 -7.559]\n",
            "[0. 0. 0. 0.]\n",
            "[ 1.536  0.487 -1.468 -3.538]\n",
            "[ 3.915 -3.457  5.964  4.021]\n",
            "[ 0.069 -1.531  4.483  5.443]\n",
            "[ 2.449 -5.475 11.916 13.002]\n"
          ]
        }
      ],
      "source": [
        "weights, biases = model.layers[-1].get_weights()\n",
        "\n",
        "old_weights = weights.copy()\n",
        "old_biases = biases.copy()\n",
        "\n",
        "w = weights[:,0].copy()\n",
        "for i in range(3):\n",
        "  print(weights[:,i])\n",
        "  weights[:,i] -= w\n",
        "  print(weights[:,i])\n",
        "\n",
        "w0 = biases[0]\n",
        "for i in range(3):\n",
        "  biases[i] -= w0\n",
        "\n",
        "model.layers[-1].set_weights([weights, biases])"
      ]
    },
    {
      "cell_type": "code",
      "execution_count": null,
      "metadata": {
        "id": "191FaBOzrdfd",
        "outputId": "ff8d1cd3-9c32-4164-b01b-70720a26f57c"
      },
      "outputs": [
        {
          "name": "stdout",
          "output_type": "stream",
          "text": [
            "5/5 [==============================] - 0s 1ms/step\n",
            "[[1.    0.    0.   ]\n",
            " [1.    0.    0.   ]\n",
            " [1.    0.    0.   ]\n",
            " [1.    0.    0.   ]\n",
            " [1.    0.    0.   ]\n",
            " [0.    1.    0.   ]\n",
            " [0.    0.999 0.001]\n",
            " [0.    0.713 0.287]\n",
            " [0.    1.    0.   ]\n",
            " [0.    0.997 0.003]\n",
            " [0.    0.    1.   ]\n",
            " [0.    0.198 0.802]\n",
            " [0.    0.002 0.998]\n",
            " [0.    0.021 0.979]\n",
            " [0.    0.    1.   ]]\n"
          ]
        }
      ],
      "source": [
        "y_pred = model.predict(iris.data)\n",
        "print(y_pred[::10])\n"
      ]
    },
    {
      "cell_type": "code",
      "execution_count": null,
      "metadata": {
        "id": "Sks_LTUAXZRt",
        "outputId": "dbf7d028-86a6-4b30-a8dc-fa7ee55ccfeb"
      },
      "outputs": [
        {
          "name": "stdout",
          "output_type": "stream",
          "text": [
            "0.0\n",
            "0.0\n",
            "0.0\n",
            "0.0\n",
            "\n",
            "-2.3792088\n",
            "3.9443243\n",
            "-7.432352\n",
            "-7.5591006\n"
          ]
        }
      ],
      "source": [
        "for i in range(4):\n",
        "    print(weights[i,0])\n",
        "\n",
        "print()\n",
        "for i in range(4):\n",
        "    print(old_weights[i,0])\n"
      ]
    },
    {
      "cell_type": "code",
      "execution_count": null,
      "metadata": {
        "id": "BM8l2ASPiso5",
        "outputId": "6c15af04-ddf4-40b5-ae7d-bd89fd3be32e"
      },
      "outputs": [
        {
          "name": "stdout",
          "output_type": "stream",
          "text": [
            "3.9153464\n",
            "-3.457369\n",
            "5.9642363\n",
            "4.0208373\n",
            "\n",
            "1.5361376\n",
            "0.48695508\n",
            "-1.4681158\n",
            "-3.5382633\n"
          ]
        }
      ],
      "source": [
        "# weights now hold the overall importance score for class 1 vs class 0\n",
        "\n",
        "for i in range(4):\n",
        "    print(weights[i,1])\n",
        "\n",
        "print()\n",
        "for i in range(4):\n",
        "    print(old_weights[i,1])\n"
      ]
    },
    {
      "cell_type": "code",
      "execution_count": null,
      "metadata": {
        "id": "fTDY16smXZRt",
        "outputId": "68cd3ea7-6ec5-4c48-b540-08b6025e5f35"
      },
      "outputs": [
        {
          "name": "stdout",
          "output_type": "stream",
          "text": [
            "2.4486442\n",
            "-5.4751487\n",
            "11.915834\n",
            "13.002045\n",
            "\n",
            "0.069435306\n",
            "-1.5308245\n",
            "4.483482\n",
            "5.442944\n"
          ]
        }
      ],
      "source": [
        "# weights now hold the overall importance score for class 2 vs class 0\n",
        "\n",
        "for i in range(4):\n",
        "    print(weights[i,2])\n",
        "\n",
        "print()\n",
        "for i in range(4):\n",
        "    print(old_weights[i,2])\n"
      ]
    },
    {
      "cell_type": "code",
      "execution_count": null,
      "metadata": {
        "id": "_jdFCH5VXZRt",
        "outputId": "7801dea4-591b-4b1e-dc8a-292af1930c64"
      },
      "outputs": [
        {
          "name": "stdout",
          "output_type": "stream",
          "text": [
            "5/5 [==============================] - 0s 2ms/step\n",
            "[[  0.    -12.56  -43.86 ]\n",
            " [  0.    -12.389 -44.814]\n",
            " [  0.     -9.324 -39.678]\n",
            " [  0.    -10.122 -38.355]\n",
            " [  0.    -12.844 -43.123]\n",
            " [  0.     16.38    8.446]\n",
            " [  0.     10.257   2.663]\n",
            " [  0.     13.617  12.705]\n",
            " [  0.     10.992   2.848]\n",
            " [  0.     11.963   6.102]\n",
            " [  0.     22.492  32.739]\n",
            " [  0.     18.539  19.94 ]\n",
            " [  0.     24.059  30.325]\n",
            " [  0.     28.853  32.713]\n",
            " [  0.     24.096  32.026]]\n",
            "odds=array([[1.000e+00, 3.510e-06, 8.947e-20],\n",
            "       [1.000e+00, 4.162e-06, 3.448e-20],\n",
            "       [1.000e+00, 8.927e-05, 5.861e-18],\n",
            "       [1.000e+00, 4.020e-05, 2.202e-17],\n",
            "       [1.000e+00, 2.642e-06, 1.871e-19],\n",
            "       [1.000e+00, 1.299e+07, 4.654e+03],\n",
            "       [1.000e+00, 2.848e+04, 1.434e+01],\n",
            "       [1.000e+00, 8.201e+05, 3.294e+05],\n",
            "       [1.000e+00, 5.938e+04, 1.726e+01],\n",
            "       [1.000e+00, 1.569e+05, 4.470e+02],\n",
            "       [1.000e+00, 5.862e+09, 1.654e+14],\n",
            "       [1.000e+00, 1.126e+08, 4.569e+08],\n",
            "       [1.000e+00, 2.809e+10, 1.479e+13],\n",
            "       [1.000e+00, 3.394e+12, 1.611e+14],\n",
            "       [1.000e+00, 2.915e+10, 8.105e+13]], dtype=float32)\n"
          ]
        },
        {
          "data": {
            "text/plain": [
              "array([[1.   , 0.   , 0.   ],\n",
              "       [1.   , 0.   , 0.   ],\n",
              "       [1.   , 0.   , 0.   ],\n",
              "       [1.   , 0.   , 0.   ],\n",
              "       [1.   , 0.   , 0.   ],\n",
              "       [0.   , 1.   , 0.   ],\n",
              "       [0.   , 0.999, 0.001],\n",
              "       [0.   , 0.713, 0.287],\n",
              "       [0.   , 1.   , 0.   ],\n",
              "       [0.   , 0.997, 0.003],\n",
              "       [0.   , 0.   , 1.   ],\n",
              "       [0.   , 0.198, 0.802],\n",
              "       [0.   , 0.002, 0.998],\n",
              "       [0.   , 0.021, 0.979],\n",
              "       [0.   , 0.   , 1.   ]], dtype=float32)"
            ]
          },
          "execution_count": 69,
          "metadata": {},
          "output_type": "execute_result"
        }
      ],
      "source": [
        "model2 = tf.keras.models.Sequential()\n",
        "model2.add(tf.keras.layers.Dense(units=3, input_shape=(D,)))\n",
        "model2.set_weights(model.get_weights())\n",
        "y_pred = model2.predict(iris.data)\n",
        "print(y_pred[::10]) #log-odds\n",
        "\n",
        "odds = np.exp(y_pred[::10])\n",
        "print(f'{odds=}')\n",
        "\n",
        "np.divide(odds, np.sum(odds, axis=1, keepdims=True))"
      ]
    },
    {
      "cell_type": "code",
      "execution_count": null,
      "metadata": {
        "id": "u62fWrBEXZRt",
        "outputId": "a67440f8-e0ac-4ac4-ec10-33a7074d71f4"
      },
      "outputs": [
        {
          "data": {
            "text/html": [
              "<div>\n",
              "<style scoped>\n",
              "    .dataframe tbody tr th:only-of-type {\n",
              "        vertical-align: middle;\n",
              "    }\n",
              "\n",
              "    .dataframe tbody tr th {\n",
              "        vertical-align: top;\n",
              "    }\n",
              "\n",
              "    .dataframe thead th {\n",
              "        text-align: right;\n",
              "    }\n",
              "</style>\n",
              "<table border=\"1\" class=\"dataframe\">\n",
              "  <thead>\n",
              "    <tr style=\"text-align: right;\">\n",
              "      <th></th>\n",
              "      <th>0</th>\n",
              "      <th>1</th>\n",
              "      <th>2</th>\n",
              "      <th>3</th>\n",
              "    </tr>\n",
              "  </thead>\n",
              "  <tbody>\n",
              "    <tr>\n",
              "      <th>count</th>\n",
              "      <td>1.500000e+02</td>\n",
              "      <td>1.500000e+02</td>\n",
              "      <td>1.500000e+02</td>\n",
              "      <td>1.500000e+02</td>\n",
              "    </tr>\n",
              "    <tr>\n",
              "      <th>mean</th>\n",
              "      <td>-1.468455e-15</td>\n",
              "      <td>-1.823726e-15</td>\n",
              "      <td>-1.610564e-15</td>\n",
              "      <td>-9.473903e-16</td>\n",
              "    </tr>\n",
              "    <tr>\n",
              "      <th>std</th>\n",
              "      <td>1.003350e+00</td>\n",
              "      <td>1.003350e+00</td>\n",
              "      <td>1.003350e+00</td>\n",
              "      <td>1.003350e+00</td>\n",
              "    </tr>\n",
              "    <tr>\n",
              "      <th>min</th>\n",
              "      <td>-1.870024e+00</td>\n",
              "      <td>-2.433947e+00</td>\n",
              "      <td>-1.567576e+00</td>\n",
              "      <td>-1.447076e+00</td>\n",
              "    </tr>\n",
              "    <tr>\n",
              "      <th>25%</th>\n",
              "      <td>-9.006812e-01</td>\n",
              "      <td>-5.923730e-01</td>\n",
              "      <td>-1.226552e+00</td>\n",
              "      <td>-1.183812e+00</td>\n",
              "    </tr>\n",
              "    <tr>\n",
              "      <th>50%</th>\n",
              "      <td>-5.250608e-02</td>\n",
              "      <td>-1.319795e-01</td>\n",
              "      <td>3.364776e-01</td>\n",
              "      <td>1.325097e-01</td>\n",
              "    </tr>\n",
              "    <tr>\n",
              "      <th>75%</th>\n",
              "      <td>6.745011e-01</td>\n",
              "      <td>5.586108e-01</td>\n",
              "      <td>7.627583e-01</td>\n",
              "      <td>7.906707e-01</td>\n",
              "    </tr>\n",
              "    <tr>\n",
              "      <th>max</th>\n",
              "      <td>2.492019e+00</td>\n",
              "      <td>3.090775e+00</td>\n",
              "      <td>1.785832e+00</td>\n",
              "      <td>1.712096e+00</td>\n",
              "    </tr>\n",
              "  </tbody>\n",
              "</table>\n",
              "</div>"
            ],
            "text/plain": [
              "                  0             1             2             3\n",
              "count  1.500000e+02  1.500000e+02  1.500000e+02  1.500000e+02\n",
              "mean  -1.468455e-15 -1.823726e-15 -1.610564e-15 -9.473903e-16\n",
              "std    1.003350e+00  1.003350e+00  1.003350e+00  1.003350e+00\n",
              "min   -1.870024e+00 -2.433947e+00 -1.567576e+00 -1.447076e+00\n",
              "25%   -9.006812e-01 -5.923730e-01 -1.226552e+00 -1.183812e+00\n",
              "50%   -5.250608e-02 -1.319795e-01  3.364776e-01  1.325097e-01\n",
              "75%    6.745011e-01  5.586108e-01  7.627583e-01  7.906707e-01\n",
              "max    2.492019e+00  3.090775e+00  1.785832e+00  1.712096e+00"
            ]
          },
          "execution_count": 15,
          "metadata": {},
          "output_type": "execute_result"
        }
      ],
      "source": [
        "pd.DataFrame(iris.data).describe()"
      ]
    },
    {
      "cell_type": "code",
      "execution_count": null,
      "metadata": {
        "id": "S37L9tT6XZRt",
        "outputId": "a645d4f4-cec3-4b09-846a-3d3269f2e59b"
      },
      "outputs": [
        {
          "name": "stdout",
          "output_type": "stream",
          "text": [
            "1/1 [==============================] - 0s 25ms/step\n"
          ]
        },
        {
          "data": {
            "text/plain": [
              "array([[0.   , 0.339, 0.661]], dtype=float32)"
            ]
          },
          "execution_count": 73,
          "metadata": {},
          "output_type": "execute_result"
        }
      ],
      "source": [
        "model.predict([[2,1,2,.5]])"
      ]
    },
    {
      "cell_type": "code",
      "execution_count": null,
      "metadata": {
        "id": "t4qruW48XZRt",
        "outputId": "cdf8de51-021f-452f-920e-dde689ae2380"
      },
      "outputs": [
        {
          "name": "stdout",
          "output_type": "stream",
          "text": [
            "1/1 [==============================] - 0s 25ms/step\n"
          ]
        },
        {
          "data": {
            "text/plain": [
              "array([[ 0.   , 26.084, 26.752]], dtype=float32)"
            ]
          },
          "execution_count": 74,
          "metadata": {},
          "output_type": "execute_result"
        }
      ],
      "source": [
        "model2.predict([[2,1,2,.5]])"
      ]
    },
    {
      "cell_type": "code",
      "execution_count": null,
      "metadata": {
        "id": "0_WHfL68XZRt",
        "outputId": "83f7f6ce-e6b6-49c3-e5ee-54702ad6c6c1"
      },
      "outputs": [
        {
          "name": "stdout",
          "output_type": "stream",
          "text": [
            "1/1 [==============================] - 0s 27ms/step\n"
          ]
        },
        {
          "data": {
            "text/plain": [
              "array([[0.  , 0.69, 0.31]], dtype=float32)"
            ]
          },
          "execution_count": 77,
          "metadata": {},
          "output_type": "execute_result"
        }
      ],
      "source": [
        "model.predict([[3,1,2,.5]]) #create an example to adjust the winner, reminds me of adversarial examples of GANs"
      ]
    },
    {
      "cell_type": "code",
      "execution_count": null,
      "metadata": {
        "id": "IqeNUtABXZRt",
        "outputId": "025c1839-0cff-49d4-82a7-326a88178d40"
      },
      "outputs": [
        {
          "name": "stdout",
          "output_type": "stream",
          "text": [
            "1/1 [==============================] - 0s 17ms/step\n"
          ]
        },
        {
          "data": {
            "text/plain": [
              "array([[ 0.   , 30.   , 29.201]], dtype=float32)"
            ]
          },
          "execution_count": 75,
          "metadata": {},
          "output_type": "execute_result"
        }
      ],
      "source": [
        "model2.predict([[3,1,2,.5]]) #create an example to adjust the winner, reminds me of adversarial examples of GANs"
      ]
    }
  ],
  "metadata": {
    "colab": {
      "provenance": [],
      "include_colab_link": true
    },
    "kernelspec": {
      "display_name": "Python (tf_metal)",
      "language": "python",
      "name": "tf_metal"
    },
    "language_info": {
      "codemirror_mode": {
        "name": "ipython",
        "version": 3
      },
      "file_extension": ".py",
      "mimetype": "text/x-python",
      "name": "python",
      "nbconvert_exporter": "python",
      "pygments_lexer": "ipython3",
      "version": "3.9.18"
    }
  },
  "nbformat": 4,
  "nbformat_minor": 0
}