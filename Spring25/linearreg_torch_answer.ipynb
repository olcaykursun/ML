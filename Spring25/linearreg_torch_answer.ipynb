{
  "nbformat": 4,
  "nbformat_minor": 0,
  "metadata": {
    "colab": {
      "provenance": [],
      "authorship_tag": "ABX9TyNeWAfEhlMEL772bDAy+Mte",
      "include_colab_link": true
    },
    "kernelspec": {
      "name": "python3",
      "display_name": "Python 3"
    },
    "language_info": {
      "name": "python"
    }
  },
  "cells": [
    {
      "cell_type": "markdown",
      "metadata": {
        "id": "view-in-github",
        "colab_type": "text"
      },
      "source": [
        "<a href=\"https://colab.research.google.com/github/olcaykursun/ML/blob/main/Spring25/linearreg_torch_answer.ipynb\" target=\"_parent\"><img src=\"https://colab.research.google.com/assets/colab-badge.svg\" alt=\"Open In Colab\"/></a>"
      ]
    },
    {
      "cell_type": "code",
      "execution_count": 22,
      "metadata": {
        "colab": {
          "base_uri": "https://localhost:8080/",
          "height": 472
        },
        "id": "_A3LLvx_WHqj",
        "outputId": "5e060174-95a6-45fb-b686-cd746f70ca9d"
      },
      "outputs": [
        {
          "output_type": "display_data",
          "data": {
            "text/plain": [
              "<Figure size 640x480 with 1 Axes>"
            ],
            "image/png": "[encoded data removed]"
          },
          "metadata": {}
        }
      ],
      "source": [
        "import numpy as np\n",
        "import matplotlib.pyplot as plt\n",
        "\n",
        "# Create the dataset\n",
        "np.random.seed(420)\n",
        "n_samples = 100\n",
        "true_m = 2.0\n",
        "true_b = 1.0\n",
        "noise_std = 1.0\n",
        "\n",
        "# Generate input data\n",
        "x = np.linspace(0, 10, n_samples)\n",
        "# Generate noise and target data\n",
        "noise = np.random.randn(n_samples) * noise_std\n",
        "r = true_m * x + true_b + noise\n",
        "\n",
        "# Plot the data (optional)\n",
        "plt.scatter(x, r, label=\"Data\")\n",
        "plt.xlabel(\"x\")\n",
        "plt.ylabel(\"r\")\n",
        "plt.title(\"Dataset: r = m*x + b + noise\")\n",
        "plt.legend()\n",
        "plt.show()\n"
      ]
    },
    {
      "cell_type": "code",
      "source": [
        "# Grid search to find m and b\n",
        "m_values = np.linspace(0, 4, 100)\n",
        "b_values = np.linspace(-1, 3, 100)\n",
        "best_loss = float('inf')\n",
        "best_m, best_b = None, None\n",
        "\n",
        "for m in m_values:\n",
        "    for b in b_values:\n",
        "        y_pred = m * x + b\n",
        "        loss = np.mean((r - y_pred)**2)\n",
        "        if loss < best_loss:\n",
        "            best_loss = loss\n",
        "            best_m = m\n",
        "            best_b = b\n",
        "\n",
        "print(\"Grid Search Best Parameters:\")\n",
        "print(\"Estimated m =\", best_m)\n",
        "print(\"Estimated b =\", best_b)\n",
        "print(\"Best MSE Loss =\", best_loss)\n"
      ],
      "metadata": {
        "colab": {
          "base_uri": "https://localhost:8080/"
        },
        "id": "QFMPLjwGWItS",
        "outputId": "ea4d8778-bbde-4042-cff8-2418c38995ee"
      },
      "execution_count": 23,
      "outputs": [
        {
          "output_type": "stream",
          "name": "stdout",
          "text": [
            "Grid Search Best Parameters:\n",
            "Estimated m = 1.97979797979798\n",
            "Estimated b = 0.9797979797979799\n",
            "Best MSE Loss = 0.9503263169620358\n"
          ]
        }
      ]
    },
    {
      "cell_type": "code",
      "source": [
        "import torch\n",
        "import torch.nn as nn\n",
        "import torch.optim as optim\n",
        "from sklearn.model_selection import train_test_split\n",
        "from torch.utils.data import DataLoader, TensorDataset\n",
        "\n",
        "# Splitting the dataset\n",
        "train_data, test_data, train_targets, test_targets = train_test_split(\n",
        "    x, r, test_size=0.2\n",
        ")\n",
        "\n",
        "# PyTorch: Build and train a simple linear model\n",
        "# Convert data to torch tensors and reshape for the model\n",
        "train_data = torch.tensor(train_data, dtype=torch.float32).unsqueeze(1)\n",
        "train_targets = torch.tensor(train_targets, dtype=torch.float32).unsqueeze(1)\n",
        "test_data = torch.tensor(test_data, dtype=torch.float32).unsqueeze(1)\n",
        "test_targets = torch.tensor(test_targets, dtype=torch.float32).unsqueeze(1)\n",
        "\n",
        "\n",
        "num_epochs = 100\n",
        "\n",
        "# Create the model\n",
        "model = nn.Sequential(\n",
        "    nn.Linear(1, 1)\n",
        ")\n",
        "\n",
        "# Initialize the optimizer\n",
        "optimizer = optim.SGD(model.parameters(), lr=0.001)\n",
        "\n",
        "#Define the loss\n",
        "criterion = nn.MSELoss(reduction='sum') #sum of (r-y)**2 values\n",
        "\n",
        "batch_size = 16\n",
        "train_dataset = TensorDataset(train_data, train_targets)\n",
        "train_loader = DataLoader(train_dataset, batch_size=batch_size, shuffle=True)\n",
        "test_dataset = TensorDataset(test_data, test_targets)\n",
        "test_loader = DataLoader(test_dataset, batch_size=batch_size)\n",
        "\n",
        "for epoch in range(num_epochs):\n",
        "    model.train()\n",
        "    total_loss = 0.0\n",
        "    for batch_data, batch_labels in train_loader: #x,r values are picked randomly\n",
        "        optimizer.zero_grad()\n",
        "        outputs = model(batch_data)\n",
        "        loss = criterion(outputs, batch_labels)\n",
        "        loss.backward()\n",
        "        total_loss += loss.item()\n",
        "        optimizer.step()\n",
        "\n",
        "    mean_training_loss = total_loss / len(train_loader.dataset)\n",
        "\n",
        "    if epoch % 10 > 0 and epoch!=num_epochs-1:\n",
        "        continue\n",
        "\n",
        "    # Validation\n",
        "    model.eval()\n",
        "    with torch.no_grad():\n",
        "        total_val_loss = 0.0\n",
        "        for batch_data, batch_labels in test_loader:\n",
        "            val_outputs = model(batch_data)\n",
        "            val_loss = criterion(val_outputs, batch_labels)\n",
        "            total_val_loss += val_loss.item()\n",
        "\n",
        "        mean_val_loss = total_val_loss / len(test_loader.dataset)\n",
        "\n",
        "    print(f\"Epoch {epoch+1}/{num_epochs}, Training Loss: {mean_training_loss:.4f}, Val Loss: {mean_val_loss:.4f}\")\n",
        "\n",
        "\n",
        "# Extract the learned parameters: weight and bias\n",
        "torch_params = list(model.parameters())\n",
        "torch_m = torch_params[0].item()  # weight (assuming one input, one output)\n",
        "torch_b = torch_params[1].item()  # bias\n",
        "\n",
        "print(\"\\nPyTorch Learned Parameters:\")\n",
        "print(\"Estimated m =\", torch_m)\n",
        "print(\"Estimated b =\", torch_b)\n"
      ],
      "metadata": {
        "colab": {
          "base_uri": "https://localhost:8080/"
        },
        "id": "UR08EdG5g3VQ",
        "outputId": "f5cd5a00-9b85-4bf3-bfb3-9a13c165b292"
      },
      "execution_count": 24,
      "outputs": [
        {
          "output_type": "stream",
          "name": "stdout",
          "text": [
            "Epoch 1/100, Training Loss: 38.1212, Val Loss: 1.3207\n",
            "Epoch 11/100, Training Loss: 1.0555, Val Loss: 1.1924\n",
            "Epoch 21/100, Training Loss: 0.9758, Val Loss: 1.1133\n",
            "Epoch 31/100, Training Loss: 0.9988, Val Loss: 1.0850\n",
            "Epoch 41/100, Training Loss: 1.1295, Val Loss: 1.2192\n",
            "Epoch 51/100, Training Loss: 0.9452, Val Loss: 1.0362\n",
            "Epoch 61/100, Training Loss: 0.9422, Val Loss: 1.0855\n",
            "Epoch 71/100, Training Loss: 1.0090, Val Loss: 1.0336\n",
            "Epoch 81/100, Training Loss: 0.9329, Val Loss: 1.0336\n",
            "Epoch 91/100, Training Loss: 0.9317, Val Loss: 1.0378\n",
            "Epoch 100/100, Training Loss: 0.9273, Val Loss: 1.1465\n",
            "\n",
            "PyTorch Learned Parameters:\n",
            "Estimated m = 1.9496744871139526\n",
            "Estimated b = 0.8710517287254333\n"
          ]
        }
      ]
    },
    {
      "cell_type": "code",
      "source": [
        "noise.std()"
      ],
      "metadata": {
        "colab": {
          "base_uri": "https://localhost:8080/"
        },
        "id": "IvpP7c8VZqhS",
        "outputId": "a2addb90-dfc1-43f6-96ef-90d96a739e81"
      },
      "execution_count": 25,
      "outputs": [
        {
          "output_type": "execute_result",
          "data": {
            "text/plain": [
              "np.float64(0.9746714999315105)"
            ]
          },
          "metadata": {},
          "execution_count": 25
        }
      ]
    },
    {
      "cell_type": "code",
      "source": [],
      "metadata": {
        "id": "8rU63EE1ZsAl"
      },
      "execution_count": 25,
      "outputs": []
    }
  ]
}