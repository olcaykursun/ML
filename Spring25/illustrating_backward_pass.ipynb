{
  "nbformat": 4,
  "nbformat_minor": 0,
  "metadata": {
    "colab": {
      "provenance": [],
      "authorship_tag": "ABX9TyPgrvfPm4EXBuKJ+c5JQMeG",
      "include_colab_link": true
    },
    "kernelspec": {
      "name": "python3",
      "display_name": "Python 3"
    },
    "language_info": {
      "name": "python"
    }
  },
  "cells": [
    {
      "cell_type": "markdown",
      "metadata": {
        "id": "view-in-github",
        "colab_type": "text"
      },
      "source": [
        "<a href=\"https://colab.research.google.com/github/olcaykursun/ML/blob/main/Spring25/illustrating_backward_pass.ipynb\" target=\"_parent\"><img src=\"https://colab.research.google.com/assets/colab-badge.svg\" alt=\"Open In Colab\"/></a>"
      ]
    },
    {
      "cell_type": "code",
      "execution_count": 1,
      "metadata": {
        "colab": {
          "base_uri": "https://localhost:8080/"
        },
        "id": "ma6HOck2wxK9",
        "outputId": "5ce0b12f-b91d-41ef-9911-500f89f36a30"
      },
      "outputs": [
        {
          "output_type": "stream",
          "name": "stdout",
          "text": [
            "x: [1. 2.]\n",
            "y = x ** 2: [1. 4.]\n",
            "z = weighted sum of y values: 1.209999918937683\n",
            "s = sigmoid(z): 0.770298957824707\n",
            "bce_loss 0.2609765827655792\n",
            "weights.grad (dLoss/dw): [-0.41346186 -0.91880417]\n",
            "Manual gradients: [-0.41346186 -0.91880417]\n",
            "Updated prediction after gradient step: 0.8394\n"
          ]
        }
      ],
      "source": [
        "#Dr. Kursun's - AUM Machine Learning Course, Spring 2025\n",
        "import torch\n",
        "from torch import log\n",
        "\n",
        "learning_rate = 0.1\n",
        "\n",
        "# Step 1: Input tensor with gradients enabled\n",
        "x = torch.tensor([1.0, 2.0])\n",
        "weights = torch.tensor([0.9, 0.1], requires_grad=True)\n",
        "expected_output = 1\n",
        "\n",
        "# Step 2: Forward pass with some operations\n",
        "y = x ** 2\n",
        "z = y[0] * weights[0]**2 + y[1] * weights[1]\n",
        "s = torch.sigmoid(z)\n",
        "\n",
        "if expected_output == 1:\n",
        "    bce_loss = -log(s)\n",
        "else:\n",
        "    bce_loss = -log(1-s)\n",
        "\n",
        "# Step 3: Backpropagation figures out how each weight affects the loss.\n",
        "bce_loss.backward()\n",
        "\n",
        "# Step 4: Print all values and gradients\n",
        "print(\"x:\", x.detach().numpy())\n",
        "print(\"y = x ** 2:\", y.detach().numpy())\n",
        "print(\"z = weighted sum of y values:\", z.item())\n",
        "print(\"s = sigmoid(z):\", s.item())\n",
        "print(\"bce_loss\", bce_loss.item())\n",
        "print(\"weights.grad (dLoss/dw):\", weights.grad.numpy())\n",
        "\n",
        "with torch.no_grad():\n",
        "    grads = torch.empty_like(weights)\n",
        "    grads[0] = (s - expected_output) * y[0] * 2 * weights[0]\n",
        "    grads[1] = (s - expected_output) * y[1]\n",
        "    print(\"Manual gradients:\", grads.numpy())\n",
        "\n",
        "    # Gradient descent step uses the gradients to adjust the weights, scaled by the learning rate.\n",
        "    weights -= learning_rate * weights.grad\n",
        "\n",
        "\n",
        "# Step 5: Optimizer step\n",
        "learning_rate = 0.1\n",
        "weights_updated = weights - weights.grad * learning_rate\n",
        "\n",
        "# Step 6: # Recheck prediction after weight update\n",
        "with torch.no_grad():\n",
        "    y = x ** 2\n",
        "    z = y[0] * weights[0]**2 + y[1] * weights[1]\n",
        "    s = torch.sigmoid(z)\n",
        "    print(f\"Updated prediction after gradient step: {s.item():.4f}\")"
      ]
    }
  ]
}