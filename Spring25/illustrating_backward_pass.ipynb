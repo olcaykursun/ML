{
  "nbformat": 4,
  "nbformat_minor": 0,
  "metadata": {
    "colab": {
      "provenance": [],
      "authorship_tag": "ABX9TyOrv6LNGIa9gbOMwE/ZY2xP",
      "include_colab_link": true
    },
    "kernelspec": {
      "name": "python3",
      "display_name": "Python 3"
    },
    "language_info": {
      "name": "python"
    }
  },
  "cells": [
    {
      "cell_type": "markdown",
      "metadata": {
        "id": "view-in-github",
        "colab_type": "text"
      },
      "source": [
        "<a href=\"https://colab.research.google.com/github/olcaykursun/ML/blob/main/Spring25/illustrating_backward_pass.ipynb\" target=\"_parent\"><img src=\"https://colab.research.google.com/assets/colab-badge.svg\" alt=\"Open In Colab\"/></a>"
      ]
    },
    {
      "cell_type": "code",
      "execution_count": null,
      "metadata": {
        "id": "R--Y31W68hBV"
      },
      "outputs": [],
      "source": [
        "import torch\n",
        "from torch import log\n",
        "\n",
        "# Step 1: Input tensor with gradients enabled\n",
        "x = torch.tensor([1.0, 2.0])\n",
        "weights = torch.tensor([0.9, 0.1], requires_grad=True)\n",
        "expected_output = 1\n",
        "\n",
        "# Step 2: Forward pass with some \"even strange\" operations\n",
        "y = x ** 2\n",
        "z = y[0] * weights[0]**2 + y[1] * weights[1]\n",
        "s = torch.sigmoid(z)\n",
        "\n",
        "if expected_output == 1:\n",
        "    bce_loss = -log(s)\n",
        "else:\n",
        "    bce_loss = -log(1-s)\n",
        "\n",
        "# Step 3: Backpropagation figures out how each weight affects the loss.\n",
        "bce_loss.backward()\n",
        "\n",
        "# Print values and grads\n",
        "print(\"x:\", x.detach().numpy())\n",
        "print(\"y = x ** 2:\", y.detach().numpy())\n",
        "print(\"z = weighted sum of y values:\", z.item())\n",
        "print(\"s = sigmoid(z):\", s.item())\n",
        "print(\"bce_loss\", bce_loss.item())\n",
        "print(\"weights.grad (dLoss/dw):\", weights.grad.numpy())\n",
        "# We could also calculate the grads manually\n",
        "with torch.no_grad():\n",
        "    grads = torch.empty_like(weights)\n",
        "    grads[0] = (s - expected_output) * y[0] * 2 * weights[0]\n",
        "    grads[1] = (s - expected_output) * y[1]\n",
        "    print(\"Manual gradients:\", grads.numpy())\n",
        "\n",
        "# Step 4: Optimizer step\n",
        "learning_rate = 0.1\n",
        "# Gradient descent step uses the gradients to adjust the weights, scaled by the learning rate.\n",
        "with torch.no_grad(): #Prevents PyTorch from tracking operations for automatic differentiation during the update step as we don’t want PyTorch to build a computation graph around the weight update\n",
        "    weights = weights - weights.grad * learning_rate\n",
        "\n",
        "# If we used an optimizer then optimizer.zero_grad() would actually loop over all parameters in the optimizer’s parameter list and calls .grad.zero_() on each one\n",
        "# when managing tensors manually\n",
        "weights.grad.zero_()\n",
        "\n",
        "# Recheck prediction after weight update\n",
        "with torch.no_grad():\n",
        "    y = x ** 2\n",
        "    z = y[0] * weights[0]**2 + y[1] * weights[1]\n",
        "    s = torch.sigmoid(z)\n",
        "    print(f\"Updated prediction after gradient step: {s.item():.4f}\")"
      ]
    }
  ]
}