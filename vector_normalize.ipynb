{
  "nbformat": 4,
  "nbformat_minor": 0,
  "metadata": {
    "colab": {
      "provenance": [],
      "authorship_tag": "ABX9TyO/fpMlE24dEQqTNTyr4Dqg",
      "include_colab_link": true
    },
    "kernelspec": {
      "name": "python3",
      "display_name": "Python 3"
    },
    "language_info": {
      "name": "python"
    }
  },
  "cells": [
    {
      "cell_type": "markdown",
      "metadata": {
        "id": "view-in-github",
        "colab_type": "text"
      },
      "source": [
        "<a href=\"https://colab.research.google.com/github/olcaykursun/ML/blob/main/vector_normalize.ipynb\" target=\"_parent\"><img src=\"https://colab.research.google.com/assets/colab-badge.svg\" alt=\"Open In Colab\"/></a>"
      ]
    },
    {
      "cell_type": "code",
      "execution_count": 11,
      "metadata": {
        "colab": {
          "base_uri": "https://localhost:8080/"
        },
        "id": "7SiQtFVA8KLp",
        "outputId": "f300ca72-6bad-417f-fe42-4796d0000dc7"
      },
      "outputs": [
        {
          "output_type": "stream",
          "name": "stdout",
          "text": [
            "[[3, 4], [6, 8], [1, 1]]\n",
            "[[ 5.        ]\n",
            " [10.        ]\n",
            " [ 1.41421356]]\n"
          ]
        }
      ],
      "source": [
        "import numpy as np\n",
        "x=[[3,4],[6,8],[1,1]]\n",
        "norms = np.linalg.norm(x, axis=1).reshape(-1,1)\n",
        "print(x)\n",
        "print(norms)"
      ]
    },
    {
      "cell_type": "code",
      "source": [
        "x_normalized = x / norms\n",
        "print(x_normalized)"
      ],
      "metadata": {
        "colab": {
          "base_uri": "https://localhost:8080/"
        },
        "id": "8w9c9hiD8UsA",
        "outputId": "c1827654-d354-4068-8cb3-a1755dc3992c"
      },
      "execution_count": 12,
      "outputs": [
        {
          "output_type": "stream",
          "name": "stdout",
          "text": [
            "[[0.6        0.8       ]\n",
            " [0.6        0.8       ]\n",
            " [0.70710678 0.70710678]]\n"
          ]
        }
      ]
    },
    {
      "cell_type": "code",
      "source": [],
      "metadata": {
        "id": "BQinQytv_4m2"
      },
      "execution_count": null,
      "outputs": []
    }
  ]
}