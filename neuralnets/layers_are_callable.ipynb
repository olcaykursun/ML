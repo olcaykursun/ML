{
  "nbformat": 4,
  "nbformat_minor": 0,
  "metadata": {
    "colab": {
      "provenance": [],
      "authorship_tag": "ABX9TyNLYx5jS8H4C4sli5UpHtdq",
      "include_colab_link": true
    },
    "kernelspec": {
      "name": "python3",
      "display_name": "Python 3"
    },
    "language_info": {
      "name": "python"
    }
  },
  "cells": [
    {
      "cell_type": "markdown",
      "metadata": {
        "id": "view-in-github",
        "colab_type": "text"
      },
      "source": [
        "<a href=\"https://colab.research.google.com/github/olcaykursun/ML/blob/main/neuralnets/layers_are_callable.ipynb\" target=\"_parent\"><img src=\"https://colab.research.google.com/assets/colab-badge.svg\" alt=\"Open In Colab\"/></a>"
      ]
    },
    {
      "cell_type": "code",
      "source": [
        "# Layers in machine learning frameworks are callable objects\n",
        "# You can think of a convolutional layer as a callable object that keeps its weights (self.weights) and accepts an input layer\n",
        "# In general we can say that Layer(constructor_parameters)(input_data)[slice] gives us the ability to visualize internal feature maps as in:\n",
        "# https://adamharley.com/nn_vis/cnn/2d.html\n",
        "\n",
        "from tensorflow.keras.models import Sequential\n",
        "from tensorflow.keras.layers import Conv2D, MaxPooling2D, Flatten, Dense\n",
        "import numpy as np\n",
        "\n",
        "model = Sequential([\n",
        "    Conv2D(4, (3, 3), activation='relu', input_shape=(7, 7, 3)),\n",
        "    Conv2D(8, (3, 3), activation='relu'),\n",
        "    Conv2D(4, (3, 3), activation='relu'),\n",
        "    Flatten(),\n",
        "    Dense(1, activation='sigmoid')\n",
        "])\n",
        "\n",
        "# Display the model summary to review the architecture, including automatically assigned layer names/IDs\n",
        "# if id is zero, then it is not shown otherwise it shows the id as \"_1\", \"_2\" etc as shown in the output\n",
        "model.summary()\n",
        "\n",
        "image_index = 0  # the very first image (we have only one anyway)\n",
        "feature_index = 2  # the third convolution filter (we have 4 in the first convolutional layer)\n",
        "\n",
        "slice_for_inputimage0_featuremap3 = (image_index, slice(None), slice(None), feature_index)\n",
        "# This creates a tuple that defines a slicing operation and stores the tuple in a variable for reuse.\n",
        "# The slicing selects the entire third feature map of the first image in the dataset.\n",
        "# We can refer to it as a \"variable slice\" since the slicing configuration is stored in a variable.\n",
        "# all_feature_maps_for_all_images[0,:,:,2] would be a direct alternative that also work\n",
        "\n",
        "dataset_of_all_inputimages_with_only_one_7_by_7_image = np.random.rand(1,7,7,3)\n",
        "all_feature_maps_for_all_images = model.layers[0](dataset_of_all_inputimages_with_only_one_7_by_7_image)\n",
        "inputimage0_featuremap3 = all_feature_maps_for_all_images[slice_for_inputimage0_featuremap3]\n",
        "\n",
        "print(inputimage0_featuremap3)\n"
      ],
      "metadata": {
        "colab": {
          "base_uri": "https://localhost:8080/"
        },
        "id": "29n9HfOeu0yp",
        "outputId": "e11f0e96-ec90-4b81-a030-69f28cbb7dab"
      },
      "execution_count": null,
      "outputs": [
        {
          "output_type": "stream",
          "name": "stdout",
          "text": [
            "Model: \"sequential\"\n",
            "_________________________________________________________________\n",
            " Layer (type)                Output Shape              Param #   \n",
            "=================================================================\n",
            " conv2d (Conv2D)             (None, 5, 5, 4)           112       \n",
            "                                                                 \n",
            " conv2d_1 (Conv2D)           (None, 3, 3, 8)           296       \n",
            "                                                                 \n",
            " conv2d_2 (Conv2D)           (None, 1, 1, 4)           292       \n",
            "                                                                 \n",
            " flatten (Flatten)           (None, 4)                 0         \n",
            "                                                                 \n",
            " dense (Dense)               (None, 1)                 5         \n",
            "                                                                 \n",
            "=================================================================\n",
            "Total params: 705 (2.75 KB)\n",
            "Trainable params: 705 (2.75 KB)\n",
            "Non-trainable params: 0 (0.00 Byte)\n",
            "_________________________________________________________________\n",
            "tf.Tensor(\n",
            "[[0.84801716 0.11165254 0.13441804 0.29174075 0.07917289]\n",
            " [0.01655376 0.39119586 0.25139424 1.0188259  0.        ]\n",
            " [0.26384115 0.37829924 0.31264833 0.3477646  0.36086068]\n",
            " [0.         0.176423   0.4848695  0.         0.35082337]\n",
            " [0.08576391 0.         0.7259856  0.09576979 0.32075638]], shape=(5, 5), dtype=float32)\n"
          ]
        }
      ]
    },
    {
      "cell_type": "code",
      "execution_count": null,
      "metadata": {
        "colab": {
          "base_uri": "https://localhost:8080/"
        },
        "id": "Ei20RBi0KBYz",
        "outputId": "41f26ec6-391e-4f43-9bb6-5ed7aa320ef7"
      },
      "outputs": [
        {
          "output_type": "stream",
          "name": "stdout",
          "text": [
            "20\n",
            "125\n"
          ]
        }
      ],
      "source": [
        "# Layers in machine learning frameworks are callable objects\n",
        "# You can think of a convolutional layer as a callable object that keeps its weights (self.weights) and accepts an input layer\n",
        "class SquareAndAddSome:\n",
        "\n",
        "    object_count = 0  # Class variable to keep track of the number of objects (just like layers get different id numbers as you create them)\n",
        "\n",
        "    def __init__(self, some):\n",
        "        self.some = some\n",
        "        self.id = SquareAndAddSome.object_count  # Assign current count as unique ID\n",
        "        SquareAndAddSome.object_count += 1  # Increment the counter\n",
        "\n",
        "    def __call__(self, x):\n",
        "        return x**2 + self.some\n",
        "\n",
        "    def __repr__(self):\n",
        "        # Only append \"_<id>\" if self.id is not 0, following Keras-like naming conventions\n",
        "        return f\"myobject{'_'+str(self.id) if self.id else ''} squares and then adds {self.some}\"\n",
        "\n",
        "# Create an instance of the callable class and apply it just like a function\n",
        "res = SquareAndAddSome(11)(3) # Returns 20 by behaving like a function\n",
        "\n",
        "print(res)  # Outputs 20\n",
        "\n",
        "another_callable_object = SquareAndAddSome(100)\n",
        "print(another_callable_object(5)) # so let's call it to compute 5*5 + 100 = 125\n"
      ]
    },
    {
      "cell_type": "code",
      "source": [
        "another_callable_object\n"
      ],
      "metadata": {
        "colab": {
          "base_uri": "https://localhost:8080/"
        },
        "id": "Td0XXdQL7dZ4",
        "outputId": "e2399366-be7b-49a8-dd79-8f75ad936701"
      },
      "execution_count": null,
      "outputs": [
        {
          "output_type": "execute_result",
          "data": {
            "text/plain": [
              "myobject_1 squares and then adds 100"
            ]
          },
          "metadata": {},
          "execution_count": 3
        }
      ]
    },
    {
      "cell_type": "code",
      "source": [
        "# Yet another object, this time repr will return myobject_2...\n",
        "SquareAndAddSome(100)\n"
      ],
      "metadata": {
        "colab": {
          "base_uri": "https://localhost:8080/"
        },
        "id": "3ZVQ5mFj88Ax",
        "outputId": "568a6013-8d9d-4cd7-c23e-69e546408a56"
      },
      "execution_count": null,
      "outputs": [
        {
          "output_type": "execute_result",
          "data": {
            "text/plain": [
              "myobject_2 squares and then adds 100"
            ]
          },
          "metadata": {},
          "execution_count": 4
        }
      ]
    }
  ]
}