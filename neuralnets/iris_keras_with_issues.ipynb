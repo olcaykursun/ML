{
  "nbformat": 4,
  "nbformat_minor": 0,
  "metadata": {
    "colab": {
      "provenance": [],
      "authorship_tag": "ABX9TyPWRbn9Ct+3O4IjqLdAGqfI",
      "include_colab_link": true
    },
    "kernelspec": {
      "name": "python3",
      "display_name": "Python 3"
    },
    "language_info": {
      "name": "python"
    }
  },
  "cells": [
    {
      "cell_type": "markdown",
      "metadata": {
        "id": "view-in-github",
        "colab_type": "text"
      },
      "source": [
        "<a href=\"https://colab.research.google.com/github/olcaykursun/ML/blob/main/neuralnets/iris_keras_with_issues.ipynb\" target=\"_parent\"><img src=\"https://colab.research.google.com/assets/colab-badge.svg\" alt=\"Open In Colab\"/></a>"
      ]
    },
    {
      "cell_type": "code",
      "execution_count": 13,
      "metadata": {
        "colab": {
          "base_uri": "https://localhost:8080/"
        },
        "id": "kWLAko9BizBR",
        "outputId": "1c5be7ed-428c-4551-e3b0-d48a4087cc13"
      },
      "outputs": [
        {
          "output_type": "stream",
          "name": "stdout",
          "text": [
            "Model: \"sequential_12\"\n",
            "_________________________________________________________________\n",
            " Layer (type)                Output Shape              Param #   \n",
            "=================================================================\n",
            " dense_17 (Dense)            (None, 3)                 15        \n",
            "                                                                 \n",
            "=================================================================\n",
            "Total params: 15 (60.00 Byte)\n",
            "Trainable params: 15 (60.00 Byte)\n",
            "Non-trainable params: 0 (0.00 Byte)\n",
            "_________________________________________________________________\n",
            "Epoch 1/5\n",
            "3/3 [==============================] - 1s 172ms/step - loss: 6.2622 - accuracy: 0.3111 - val_loss: 5.4493 - val_accuracy: 0.4333\n",
            "Epoch 2/5\n",
            "3/3 [==============================] - 0s 43ms/step - loss: 6.2467 - accuracy: 0.3111 - val_loss: 5.4392 - val_accuracy: 0.4333\n",
            "Epoch 3/5\n",
            "3/3 [==============================] - 0s 45ms/step - loss: 6.2335 - accuracy: 0.3111 - val_loss: 5.4294 - val_accuracy: 0.4333\n",
            "Epoch 4/5\n",
            "3/3 [==============================] - 0s 65ms/step - loss: 6.2206 - accuracy: 0.3111 - val_loss: 5.4199 - val_accuracy: 0.4333\n",
            "Epoch 5/5\n",
            "3/3 [==============================] - 0s 80ms/step - loss: 6.2081 - accuracy: 0.3111 - val_loss: 5.4107 - val_accuracy: 0.4333\n",
            "1/1 [==============================] - 0s 44ms/step - loss: 6.0669 - accuracy: 0.3000\n",
            "Test accuracy: 30.00%\n"
          ]
        }
      ],
      "source": [
        "# How can we boost the classification accuracy in this code?\n",
        "import numpy as np\n",
        "import tensorflow as tf\n",
        "from sklearn.model_selection import train_test_split\n",
        "from sklearn.datasets import load_iris\n",
        "\n",
        "# Load the Iris dataset\n",
        "iris = load_iris()\n",
        "data = iris.data\n",
        "labels = iris.target\n",
        "class_names = iris.target_names\n",
        "number_of_classes = len(class_names)\n",
        "\n",
        "# Splitting the dataset into 60% train, 20% validation, and 20% test sets\n",
        "train_data, test_data, train_labels, test_labels = train_test_split(\n",
        "    data, labels, test_size=0.2, random_state=42\n",
        ")\n",
        "train_data, val_data, train_labels, val_labels = train_test_split(\n",
        "    train_data, train_labels, test_size=0.25, random_state=42 # 0.25 x 0.8 = 0.2\n",
        ")\n",
        "\n",
        "# Building a neural network\n",
        "model = tf.keras.Sequential([\n",
        "    tf.keras.layers.Input(shape=(4,)), # Iris dataset has 4 features\n",
        "    tf.keras.layers.Dense(number_of_classes) # Output layer\n",
        "])\n",
        "\n",
        "model.summary()\n",
        "\n",
        "# Convert labels to one-hot encoding\n",
        "train_labels_one_hot = tf.keras.utils.to_categorical(train_labels, num_classes=number_of_classes)\n",
        "val_labels_one_hot = tf.keras.utils.to_categorical(val_labels, num_classes=number_of_classes)\n",
        "test_labels_one_hot = tf.keras.utils.to_categorical(test_labels, num_classes=number_of_classes)\n",
        "\n",
        "# Compile the model\n",
        "model.compile(optimizer='adam',\n",
        "              loss='categorical_crossentropy',\n",
        "              metrics=['accuracy'])\n",
        "\n",
        "# Training the model\n",
        "history = model.fit(\n",
        "    train_data,\n",
        "    train_labels_one_hot,\n",
        "    epochs=5,\n",
        "    verbose=True,\n",
        "    validation_data=(val_data, val_labels_one_hot)\n",
        ")\n",
        "\n",
        "# Evaluate the model on the test set\n",
        "loss, accuracy = model.evaluate(test_data, test_labels_one_hot)\n",
        "print(f\"Test accuracy: {accuracy*100:.2f}%\")\n"
      ]
    }
  ]
}