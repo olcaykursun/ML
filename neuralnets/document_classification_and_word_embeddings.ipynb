{
  "cells": [
    {
      "cell_type": "markdown",
      "metadata": {
        "id": "view-in-github",
        "colab_type": "text"
      },
      "source": [
        "<a href=\"https://colab.research.google.com/github/olcaykursun/ML/blob/main/neuralnets/document_classification_and_word_embeddings.ipynb\" target=\"_parent\"><img src=\"https://colab.research.google.com/assets/colab-badge.svg\" alt=\"Open In Colab\"/></a>"
      ]
    },
    {
      "cell_type": "code",
      "execution_count": null,
      "id": "5a328da1-735f-43cd-ad4c-25fb6a4ffd56",
      "metadata": {
        "id": "5a328da1-735f-43cd-ad4c-25fb6a4ffd56"
      },
      "outputs": [],
      "source": [
        "import os\n",
        "from gensim.models import KeyedVectors\n",
        "import gensim.downloader as api\n",
        "\n",
        "# Load or download Word2Vec model\n",
        "if 'wv' not in globals():\n",
        "    model_path = '/Users/okursun/Downloads/uk/word2vec-google-news-300'\n",
        "\n",
        "    if not os.path.exists(model_path):\n",
        "        wv = api.load(model_path)\n",
        "        wv.save(model_path)\n",
        "    else:\n",
        "        wv = KeyedVectors.load(model_path)\n",
        "\n",
        "d = 300  # number of dimensions for Word2Vec"
      ]
    },
    {
      "cell_type": "code",
      "execution_count": null,
      "id": "16dcf68b-2512-4612-8af7-23678eeaee1a",
      "metadata": {
        "id": "16dcf68b-2512-4612-8af7-23678eeaee1a",
        "outputId": "b95e7a78-3b09-4f87-d4c2-3d2f8253e436"
      },
      "outputs": [
        {
          "data": {
            "text/plain": [
              "(300,)"
            ]
          },
          "execution_count": 2,
          "metadata": {},
          "output_type": "execute_result"
        }
      ],
      "source": [
        "wv['king'].shape # each word is converted to 300 dimensional vector"
      ]
    },
    {
      "cell_type": "code",
      "execution_count": null,
      "id": "ac6d4641-1709-4d73-9d32-7d861ba05237",
      "metadata": {
        "id": "ac6d4641-1709-4d73-9d32-7d861ba05237",
        "outputId": "e20c8202-fd2d-4c25-cb39-cd47766cb2ee"
      },
      "outputs": [
        {
          "data": {
            "text/plain": [
              "2.298657801924729"
            ]
          },
          "execution_count": 3,
          "metadata": {},
          "output_type": "execute_result"
        }
      ],
      "source": [
        "# what can this new word be? king-man+woman\n",
        "new_word = wv['king'] - wv['man'] + wv['woman']\n",
        "\n",
        "import numpy as np\n",
        "\n",
        "# lets calculate the Euclidean distance between the new_word and \"queen\"\n",
        "# (just like Pythagorean theorem states, square the differences, add them up, and take square root)\n",
        "np.sqrt(sum((new_word - wv['queen'])**2))"
      ]
    },
    {
      "cell_type": "code",
      "execution_count": null,
      "id": "504d69af-defa-4fb5-869e-31c5f9524336",
      "metadata": {
        "id": "504d69af-defa-4fb5-869e-31c5f9524336",
        "outputId": "65a7e14e-ee37-47f9-b230-32ef9fdbf978"
      },
      "outputs": [
        {
          "data": {
            "text/plain": [
              "3.9450453627154123"
            ]
          },
          "execution_count": 4,
          "metadata": {},
          "output_type": "execute_result"
        }
      ],
      "source": [
        "# \"lion\" is not as close to \"new_word\"\n",
        "np.sqrt(sum((new_word - wv['lion'])**2))"
      ]
    },
    {
      "cell_type": "code",
      "execution_count": null,
      "id": "cebc6507-e043-4fc0-8a0f-a9d0a28a75eb",
      "metadata": {
        "id": "cebc6507-e043-4fc0-8a0f-a9d0a28a75eb",
        "outputId": "dc38672d-fd9f-45ff-b5b9-2954d9b501cd"
      },
      "outputs": [
        {
          "name": "stdout",
          "output_type": "stream",
          "text": [
            "1.3791011529383266\n",
            "3.2215298249921105\n"
          ]
        }
      ],
      "source": [
        "# try something like cats-cat+dog, it should be close to \"dogs\"\n",
        "new_word = wv['cats'] - wv['cat'] + wv['dog']\n",
        "\n",
        "print(np.sqrt(sum((new_word - wv['dogs'])**2)))\n",
        "print(np.sqrt(sum((new_word - wv['horses'])**2)))"
      ]
    },
    {
      "cell_type": "code",
      "execution_count": null,
      "id": "691cb09e-3d13-4828-8cbf-96a2538d13cf",
      "metadata": {
        "id": "691cb09e-3d13-4828-8cbf-96a2538d13cf",
        "outputId": "6977a09d-12ba-4896-fdd6-d5a52157a2ae"
      },
      "outputs": [
        {
          "data": {
            "text/plain": [
              "4.527754358937501"
            ]
          },
          "execution_count": 6,
          "metadata": {},
          "output_type": "execute_result"
        }
      ],
      "source": [
        "# Hard to make strong assumptions about the vectors tho. Why are these two very far?\n",
        "# Could be because we never have \"HORSE\" appear with words that appear with \"horse\"\n",
        "# maybe HORSE was a sports club name who knows.\n",
        "\n",
        "np.sqrt(sum((wv['horse'] - wv['HORSE'])**2))"
      ]
    },
    {
      "cell_type": "code",
      "execution_count": null,
      "id": "302e94ce-6f86-4a6a-8dfc-36fb9f258ee7",
      "metadata": {
        "id": "302e94ce-6f86-4a6a-8dfc-36fb9f258ee7",
        "outputId": "7eb169af-cfa9-4956-e401-d9f099b1ef58"
      },
      "outputs": [
        {
          "name": "stdout",
          "output_type": "stream",
          "text": [
            "\n",
            "\n",
            "I am sure some bashers of Pens fans are pretty confused about the lack\n",
            "of any kind of posts about the recent Pens massacre of the Devils. Actually,\n",
            "I am  bit puzzled too and a bit relieved. However, I am going to put an end\n",
            "to non-PIttsburghers' relief with a bit of praise for the Pens. Man, they\n",
            "are killing those Devils worse than I thought. Jagr just showed you why\n",
            "he is much better than his regular season stats. He is also a lot\n",
            "fo fun to watch in the playoffs. Bowman should let JAgr have a lot of\n",
            "fun in the next couple of games since the Pens are going to beat the pulp out of Jersey anyway. I was very disappointed not to see the Islanders lose the final\n",
            "regular season game.          PENS RULE!!!\n",
            "\n",
            "\n",
            "712\n",
            "class label 10\n",
            "title of the class rec.sport.hockey\n"
          ]
        }
      ],
      "source": [
        "from sklearn.datasets import fetch_20newsgroups\n",
        "\n",
        "# Load the 20 Newsgroups dataset\n",
        "newsgroups = fetch_20newsgroups(subset='all', remove=('headers', 'footers', 'quotes'))\n",
        "n_classes = 20  # number of classes\n",
        "\n",
        "print(newsgroups.data[0])\n",
        "print(len(newsgroups.data[0]))\n",
        "\n",
        "print('class label', newsgroups.target[0]) #class label\n",
        "print('title of the class', newsgroups.target_names[newsgroups.target[0]])"
      ]
    },
    {
      "cell_type": "code",
      "execution_count": null,
      "id": "1a272864-9e23-49af-a3d7-e849449feb88",
      "metadata": {
        "id": "1a272864-9e23-49af-a3d7-e849449feb88",
        "outputId": "e02652e5-390a-46c2-9b63-4da3d8d50a56"
      },
      "outputs": [
        {
          "data": {
            "text/plain": [
              "18846"
            ]
          },
          "execution_count": 8,
          "metadata": {},
          "output_type": "execute_result"
        }
      ],
      "source": [
        "len(newsgroups.data)"
      ]
    },
    {
      "cell_type": "code",
      "execution_count": null,
      "id": "51d56431-7f3b-49c5-996b-4422d2ac36e5",
      "metadata": {
        "id": "51d56431-7f3b-49c5-996b-4422d2ac36e5",
        "outputId": "45eecba8-55e7-45bc-9032-f042e40c94b2"
      },
      "outputs": [
        {
          "data": {
            "text/plain": [
              "['alt.atheism',\n",
              " 'comp.graphics',\n",
              " 'comp.os.ms-windows.misc',\n",
              " 'comp.sys.ibm.pc.hardware',\n",
              " 'comp.sys.mac.hardware',\n",
              " 'comp.windows.x',\n",
              " 'misc.forsale',\n",
              " 'rec.autos',\n",
              " 'rec.motorcycles',\n",
              " 'rec.sport.baseball',\n",
              " 'rec.sport.hockey',\n",
              " 'sci.crypt',\n",
              " 'sci.electronics',\n",
              " 'sci.med',\n",
              " 'sci.space',\n",
              " 'soc.religion.christian',\n",
              " 'talk.politics.guns',\n",
              " 'talk.politics.mideast',\n",
              " 'talk.politics.misc',\n",
              " 'talk.religion.misc']"
            ]
          },
          "execution_count": 9,
          "metadata": {},
          "output_type": "execute_result"
        }
      ],
      "source": [
        "newsgroups.target_names"
      ]
    },
    {
      "cell_type": "code",
      "execution_count": null,
      "id": "1904d614-0915-40f4-b2c8-18233f968478",
      "metadata": {
        "id": "1904d614-0915-40f4-b2c8-18233f968478",
        "outputId": "37b7fd3f-4c28-4b5b-c1ad-400743aa735c"
      },
      "outputs": [
        {
          "name": "stderr",
          "output_type": "stream",
          "text": [
            "[nltk_data] Downloading package stopwords to\n",
            "[nltk_data]     /Users/okursun/nltk_data...\n",
            "[nltk_data]   Package stopwords is already up-to-date!\n"
          ]
        },
        {
          "name": "stdout",
          "output_type": "stream",
          "text": [
            "Number of unique clean-tokens (we will need this number for training our model): 7811\n"
          ]
        }
      ],
      "source": [
        "# We will learn our own word embeddings too.\n",
        "# We may want to get rid of stopwords\n",
        "# We also want to delete words that are not in Word2Vec so that we can compare their performances\n",
        "# So, let's clean up the dataset\n",
        "\n",
        "import nltk\n",
        "from nltk.corpus import stopwords\n",
        "from tensorflow.keras.preprocessing.text import Tokenizer\n",
        "\n",
        "\n",
        "# Download and load NLTK stopwords\n",
        "nltk.download('stopwords')\n",
        "stop_words = set(stopwords.words('english'))\n",
        "\n",
        "# Initialize and fit the tokenizer\n",
        "tokenizer = Tokenizer(num_words=10000)  # Adjust the num_words as per your dataset/vocabulary size\n",
        "tokenizer.fit_on_texts(newsgroups.data)\n",
        "\n",
        "# Function to preprocess text and filter out stopwords and non-Word2Vec words\n",
        "def clean_and_filter(text):\n",
        "    sequence = tokenizer.texts_to_sequences([text])[0]\n",
        "    return [tokenizer.index_word[token] for token in sequence\n",
        "            if tokenizer.index_word[token] not in stop_words\n",
        "            and tokenizer.index_word[token] in wv.key_to_index\n",
        "            and not tokenizer.index_word[token].isdigit()\n",
        "            and len(tokenizer.index_word[token])>=3]\n",
        "\n",
        "# Preprocess and filter the dataset\n",
        "preprocessed_data = [clean_and_filter(doc) for doc in newsgroups.data]\n",
        "\n",
        "tokenizer = Tokenizer()  #this will label each word with an index (integer-label)\n",
        "tokenizer.fit_on_texts(preprocessed_data)\n",
        "\n",
        "# we can find out how many words exist in the text dataset (after cleaning it up)\n",
        "vocab_size = len(tokenizer.word_index)\n",
        "print(f\"Number of unique clean-tokens (we will need this number for training our model): {vocab_size}\")\n",
        "\n",
        "\n",
        "# Convert filtered words to Word2Vec indices: now lets create a sequence of integers!\n",
        "# Each document is not a sequence of integers (not characters anymore)\n",
        "sequences = [[tokenizer.word_index[word] for word in doc] for doc in preprocessed_data]"
      ]
    },
    {
      "cell_type": "code",
      "execution_count": null,
      "id": "62ba9d20-675b-4250-a26a-22278a67ce25",
      "metadata": {
        "id": "62ba9d20-675b-4250-a26a-22278a67ce25",
        "outputId": "333466d3-9941-4ab6-fd47-d372c6d9599e"
      },
      "outputs": [
        {
          "name": "stdout",
          "output_type": "stream",
          "text": [
            "[75, 2451, 1255, 283, 2400, 1037, 220, 1163, 808, 2451, 1968, 2452, 126, 72, 72, 84, 48, 117, 135, 159, 3241, 72, 5289, 2451, 170, 1248, 2452, 1075, 189, 1408, 22, 68, 980, 480, 1604, 7, 121, 1483, 955, 1990, 6481, 156, 121, 1483, 171, 386, 261, 37, 2451, 48, 1551, 2690, 355, 7192, 19, 2384, 1449, 772, 980, 480, 114, 2451, 949]\n"
          ]
        }
      ],
      "source": [
        "# That first post is now turned into a sequence of integers\n",
        "print(sequences[0])"
      ]
    },
    {
      "cell_type": "code",
      "execution_count": null,
      "id": "d99add67-e047-4fa8-9686-97fc3ce884d1",
      "metadata": {
        "id": "d99add67-e047-4fa8-9686-97fc3ce884d1",
        "outputId": "04676f2c-3920-49cd-ea6c-d7c6566a97b1"
      },
      "outputs": [
        {
          "name": "stdout",
          "output_type": "stream",
          "text": [
            "['sure', 'pens', 'fans', 'pretty', 'confused', 'lack', 'kind', 'posts', 'recent', 'pens', 'massacre', 'devils', 'actually', 'bit', 'bit', 'however', 'going', 'put', 'end', 'non', 'relief', 'bit', 'praise', 'pens', 'man', 'killing', 'devils', 'worse', 'thought', 'showed', 'much', 'better', 'regular', 'season', 'stats', 'also', 'lot', 'fun', 'watch', 'playoffs', 'bowman', 'let', 'lot', 'fun', 'next', 'couple', 'games', 'since', 'pens', 'going', 'beat', 'jersey', 'anyway', 'disappointed', 'see', 'islanders', 'lose', 'final', 'regular', 'season', 'game', 'pens', 'rule']\n"
          ]
        }
      ],
      "source": [
        "# if we want to go back to words from the index integers, we can use index_word\n",
        "print([tokenizer.index_word[i] for i in sequences[0]])"
      ]
    },
    {
      "cell_type": "code",
      "execution_count": null,
      "id": "1a14a424-7742-4a6e-87c0-8c263b43b42c",
      "metadata": {
        "id": "1a14a424-7742-4a6e-87c0-8c263b43b42c",
        "outputId": "fa04feae-4f94-4a70-af78-8342ec66f3b7"
      },
      "outputs": [
        {
          "name": "stdout",
          "output_type": "stream",
          "text": [
            "75\n"
          ]
        }
      ],
      "source": [
        "# we have the mapping from the word to the index of course\n",
        "print(tokenizer.word_index['sure'])"
      ]
    },
    {
      "cell_type": "code",
      "execution_count": null,
      "id": "e959fdf5-57cf-4476-9f41-ae07b247db7e",
      "metadata": {
        "id": "e959fdf5-57cf-4476-9f41-ae07b247db7e",
        "outputId": "e6189a26-74c2-4e64-847f-daec0bb506ba"
      },
      "outputs": [
        {
          "name": "stdout",
          "output_type": "stream",
          "text": [
            "['brother', 'market', 'high', 'performance', 'video', 'card', 'supports', 'local', 'bus', '2mb', 'ram', 'anyone', 'suggestions', 'ideas', 'diamond', 'stealth', 'pro', 'local', 'bus', 'orchid', 'ati', 'graphics', 'ultra', 'pro', 'high', 'performance', 'vlb', 'card', 'please', 'post', 'email', 'thank', 'matt']\n",
            "\n",
            "length of the sequence 33\n",
            "comp.sys.ibm.pc.hardware\n"
          ]
        }
      ],
      "source": [
        "print([tokenizer.index_word[i] for i in sequences[1]])\n",
        "print('\\nlength of the sequence', len(sequences[1]))\n",
        "print(newsgroups.target_names[newsgroups.target[1]])"
      ]
    },
    {
      "cell_type": "code",
      "execution_count": null,
      "id": "e6bfd0f7-e446-4aa6-8745-49db2147a5b0",
      "metadata": {
        "id": "e6bfd0f7-e446-4aa6-8745-49db2147a5b0",
        "outputId": "ff61ee8c-9918-46b0-c80b-e03be9dda720"
      },
      "outputs": [
        {
          "data": {
            "image/png": "[encoded data removed]",
            "text/plain": [
              "<Figure size 1000x600 with 1 Axes>"
            ]
          },
          "metadata": {},
          "output_type": "display_data"
        },
        {
          "name": "stdout",
          "output_type": "stream",
          "text": [
            "number of documents after discarding very short ones: 11881\n"
          ]
        }
      ],
      "source": [
        "import matplotlib.pyplot as plt\n",
        "from sklearn.model_selection import train_test_split\n",
        "from tensorflow.keras.utils import to_categorical\n",
        "from tensorflow.keras.preprocessing.sequence import pad_sequences\n",
        "\n",
        "\n",
        "# Calculate the length of each document in words\n",
        "doc_lengths = [len(doc) for doc in sequences]\n",
        "doc_lengths = np.array(doc_lengths)\n",
        "doc_lengths[doc_lengths>1000]=1000\n",
        "\n",
        "# Create a histogram of document lengths\n",
        "plt.figure(figsize=(10, 6))\n",
        "plt.hist(doc_lengths, bins=50, color='blue', edgecolor='black')\n",
        "plt.title('Histogram of Document Lengths in Words')\n",
        "plt.xlabel('Length of Document (Words)')\n",
        "plt.ylabel('Number of Documents')\n",
        "plt.grid(True)\n",
        "plt.show()\n",
        "\n",
        "# let's discard the very short documents\n",
        "min_length = 25\n",
        "long_indices = doc_lengths >= min_length\n",
        "print('number of documents after discarding very short ones:', sum(long_indices))\n",
        "\n",
        "newsgroupsdata = [doc for doc, keep in zip(newsgroups.data, long_indices) if keep]\n",
        "newsgroupstarget = [doc for doc, keep in zip(newsgroups.target, long_indices) if keep]\n",
        "sequences = [doc for doc, keep in zip(sequences, long_indices) if keep]\n",
        "preprocessed_data = [doc for doc, keep in zip(preprocessed_data, long_indices) if keep]\n",
        "\n",
        "\n",
        "#Let us trim the very long docs (say longer than 250 clean-tokens) because we will need padding to make them all equal length\n",
        "max_length = 250\n",
        "trimmed_sequences = [seq[:max_length] for seq in sequences]\n",
        "\n",
        "class_to_indices = {cls: [] for cls in range(n_classes)}\n",
        "for idx, label in enumerate(newsgroupstarget):\n",
        "    class_to_indices[label].append(idx)\n",
        "\n",
        "X_train, X_test, y_train, y_test, untrimmed_X_train, untrimmed_X_test = train_test_split(trimmed_sequences, newsgroupstarget, sequences, train_size = 0.5)\n",
        "y_train_categorical = to_categorical(y_train, num_classes=20)\n",
        "y_test_categorical = to_categorical(y_test, num_classes=20)\n",
        "\n",
        "# X_train is a list of lists where each sublist is a sequence of integer tokens\n",
        "X_train_padded = pad_sequences(X_train, padding='post')\n",
        "X_test_padded = pad_sequences(X_test, padding='post')\n",
        "\n",
        "index_to_word = {index: word for word, index in tokenizer.word_index.items()}"
      ]
    },
    {
      "cell_type": "code",
      "execution_count": null,
      "id": "ea28a446-167c-427e-be20-f00da6013867",
      "metadata": {
        "id": "ea28a446-167c-427e-be20-f00da6013867",
        "outputId": "88d1b160-1625-4b8c-86a9-bfc598397da7"
      },
      "outputs": [
        {
          "name": "stdout",
          "output_type": "stream",
          "text": [
            "[[  85  266   32 ...    0    0    0]\n",
            " [   6 5787 1301 ...    0    0    0]\n",
            " [ 489 3752  446 ...    0    0    0]\n",
            " ...\n",
            " [1271   16    1 ...    0    0    0]\n",
            " [ 163  368 2083 ...    0    0    0]\n",
            " [   2    3 1549 ...    0    0    0]]\n"
          ]
        }
      ],
      "source": [
        "# notice the 0s at the end (short docs are padded with zeros, representing no token)\n",
        "# 0 is also known as padding token\n",
        "print(X_train_padded)\n",
        "\n",
        "# we could also pad with 0s at the beginning\n",
        "#X_train_padded = pad_sequences(X_train, padding='pre')\n",
        "\n",
        "# padding at the beginning (pre-padding) is often preferred, because the models can be sensitive\n",
        "# to the most recently seen input at the later stages of processing,\n",
        "# which is often crucial for tasks like sentiment analysis or language modeling."
      ]
    },
    {
      "cell_type": "code",
      "execution_count": null,
      "id": "300b3f17-4bd6-4866-80b5-dc2768717bd4",
      "metadata": {
        "id": "300b3f17-4bd6-4866-80b5-dc2768717bd4",
        "outputId": "e56a83da-e2d2-465d-8935-2df3f68368a4"
      },
      "outputs": [
        {
          "name": "stdout",
          "output_type": "stream",
          "text": [
            "Epoch 1/10\n",
            "47/47 [==============================] - 8s 162ms/step - loss: 2.8864 - accuracy: 0.1673\n",
            "Epoch 2/10\n",
            "47/47 [==============================] - 8s 161ms/step - loss: 2.3599 - accuracy: 0.4515\n",
            "Epoch 3/10\n",
            "47/47 [==============================] - 8s 162ms/step - loss: 1.7153 - accuracy: 0.6727\n",
            "Epoch 4/10\n",
            "47/47 [==============================] - 8s 164ms/step - loss: 1.2377 - accuracy: 0.8005\n",
            "Epoch 5/10\n",
            "47/47 [==============================] - 8s 165ms/step - loss: 0.9194 - accuracy: 0.8579\n",
            "Epoch 6/10\n",
            "47/47 [==============================] - 8s 160ms/step - loss: 0.7018 - accuracy: 0.8938\n",
            "Epoch 7/10\n",
            "47/47 [==============================] - 7s 158ms/step - loss: 0.5459 - accuracy: 0.9200\n",
            "Epoch 8/10\n",
            "47/47 [==============================] - 8s 160ms/step - loss: 0.4329 - accuracy: 0.9414\n",
            "Epoch 9/10\n",
            "47/47 [==============================] - 7s 160ms/step - loss: 0.3426 - accuracy: 0.9542\n",
            "Epoch 10/10\n",
            "47/47 [==============================] - 7s 155ms/step - loss: 0.2717 - accuracy: 0.9715\n"
          ]
        },
        {
          "data": {
            "text/plain": [
              "<keras.src.callbacks.History at 0x4829ebc10>"
            ]
          },
          "execution_count": 18,
          "metadata": {},
          "output_type": "execute_result"
        }
      ],
      "source": [
        "from keras.models import Sequential\n",
        "from keras.layers import Embedding, GlobalAveragePooling1D, GlobalMaxPooling1D, Dense\n",
        "from keras.optimizers.legacy import Adam\n",
        "from tensorflow.keras.models import Model\n",
        "\n",
        "batch_size = 128\n",
        "num_features = 50  # instead of 300 dimensional Word2Vec, learn 50 dimensional word embeddings of our own\n",
        "lr = 0.01\n",
        "activation = 'relu'\n",
        "n_epochs = 10\n",
        "\n",
        "def create_new_model(n_out):\n",
        "    new_model = Sequential([\n",
        "        Embedding(vocab_size, num_features, input_length=None),\n",
        "        GlobalAveragePooling1D(),\n",
        "        Dense(n_classes, activation='softmax')\n",
        "    ])\n",
        "    return new_model\n",
        "\n",
        "# Create the randomized model\n",
        "model = create_new_model(20)\n",
        "\n",
        "model.compile(optimizer=Adam(learning_rate=lr), loss='categorical_crossentropy', metrics=['accuracy'])\n",
        "\n",
        "# Fit the model\n",
        "model.fit(X_train_padded, y_train_categorical, epochs=n_epochs, batch_size = batch_size)"
      ]
    },
    {
      "cell_type": "code",
      "execution_count": null,
      "id": "2f7bfb8b-b3e2-447e-9567-f4ad97a7fd3f",
      "metadata": {
        "id": "2f7bfb8b-b3e2-447e-9567-f4ad97a7fd3f",
        "outputId": "328f73df-3c15-465c-d26c-0b71730efcac"
      },
      "outputs": [
        {
          "name": "stdout",
          "output_type": "stream",
          "text": [
            "186/186 [==============================] - 2s 9ms/step - loss: 0.8460 - accuracy: 0.7765\n",
            "0.8460397720336914 0.7764686346054077\n"
          ]
        }
      ],
      "source": [
        "# We utilized the training set to learn embeddings using the 20 available classes.\n",
        "# This approach might seem like \"cheating\" since, typically, embeddings are learned through a general task\n",
        "\n",
        "# For example Word2Vec learned its embeddings from another dataset, but it is still useful for 20 newsgroups.\n",
        "\n",
        "#Nevertheless, we could simply use the trained model to see how successful it is on the test set.\n",
        "loss, accuracy = model.evaluate(X_test_padded, y_test_categorical)\n",
        "print(loss, accuracy)"
      ]
    },
    {
      "cell_type": "code",
      "execution_count": null,
      "id": "14735c60-e73a-4de6-b1f0-a6c045cb7daa",
      "metadata": {
        "id": "14735c60-e73a-4de6-b1f0-a6c045cb7daa",
        "outputId": "dc936a32-5f73-4044-b4c5-f8b2742cbb79"
      },
      "outputs": [
        {
          "name": "stdout",
          "output_type": "stream",
          "text": [
            "Shape of unique_tokens_array: (7811, 1)\n"
          ]
        }
      ],
      "source": [
        "# Now we can also save our embedding as a dictionary, just like wv, that of Word2Vec.\n",
        "num_layers_top = 2\n",
        "feature_extractor_model = Model(inputs=model.input, outputs=model.layers[-num_layers_top-1].output)\n",
        "\n",
        "unique_tokens = set()  # Set of unique tokens\n",
        "for sequence in sequences:\n",
        "    unique_tokens.update(sequence)  # Add all tokens from each sequence\n",
        "\n",
        "unique_tokens_array = np.array(list(unique_tokens)).reshape(-1, 1)\n",
        "print(\"Shape of unique_tokens_array:\", unique_tokens_array.shape)\n",
        "\n",
        "trained_embeddings = feature_extractor_model.predict(unique_tokens_array, verbose=0)\n",
        "embeddings_dict = {token: embedding.flatten() for token, embedding in zip(unique_tokens, trained_embeddings)}"
      ]
    },
    {
      "cell_type": "code",
      "execution_count": null,
      "id": "39f43eb0-2fc6-44b9-9b58-b715e7f29ddc",
      "metadata": {
        "id": "39f43eb0-2fc6-44b9-9b58-b715e7f29ddc",
        "outputId": "5115d0ca-5483-427e-e035-d6a5c4b37b89"
      },
      "outputs": [
        {
          "data": {
            "text/plain": [
              "'connects'"
            ]
          },
          "execution_count": 21,
          "metadata": {},
          "output_type": "execute_result"
        }
      ],
      "source": [
        "tokenizer.index_word[7810]"
      ]
    },
    {
      "cell_type": "code",
      "execution_count": null,
      "id": "365d4516-2554-470a-99bc-a096033a1059",
      "metadata": {
        "id": "365d4516-2554-470a-99bc-a096033a1059",
        "outputId": "9c967fb2-e6b8-4b66-c4fe-c1dedcba887f"
      },
      "outputs": [
        {
          "name": "stdout",
          "output_type": "stream",
          "text": [
            "[-0.44752574  1.3956691   0.8825214   1.2929667   0.99094343  0.04747923\n",
            "  0.10502639  0.6074659   0.9819442   0.01558299 -0.10510104 -1.297634\n",
            " -0.25372455 -0.84939486 -0.21765006 -0.3747155   0.46300262 -0.6576389\n",
            "  0.87825817 -1.0076163   0.81278515  0.39916593 -1.502316    0.888802\n",
            " -1.2092725   0.5086421  -0.60077024  1.1997204   0.03143848 -0.07029895\n",
            "  0.22367598  1.2802098   1.190508    1.2984169   1.4879626  -0.27992663\n",
            " -1.4842571   0.7291012   1.0820291   1.4088069  -1.5072681  -0.8379125\n",
            " -1.4017293  -0.2685657  -0.3070296   0.752324   -0.31379655 -0.6908782\n",
            "  1.0215816  -0.9434857 ]\n"
          ]
        }
      ],
      "source": [
        "# here is our word embedding for it\n",
        "print(embeddings_dict[7810])"
      ]
    },
    {
      "cell_type": "code",
      "execution_count": null,
      "id": "7dd8e2f8-81c1-4b23-8fef-8768d8311d4a",
      "metadata": {
        "id": "7dd8e2f8-81c1-4b23-8fef-8768d8311d4a",
        "outputId": "8b7c3a6f-6012-44b3-875a-8ecfb99dd461"
      },
      "outputs": [
        {
          "name": "stdout",
          "output_type": "stream",
          "text": [
            "68\n",
            "16\n",
            "2459\n",
            "232\n"
          ]
        }
      ],
      "source": [
        "print(tokenizer.word_index['better'])\n",
        "print(tokenizer.word_index['good'])\n",
        "print(tokenizer.word_index['bigger'])\n",
        "print(tokenizer.word_index['big'])"
      ]
    },
    {
      "cell_type": "code",
      "execution_count": null,
      "id": "47a6eaee-43bc-471f-8404-fd9429573782",
      "metadata": {
        "id": "47a6eaee-43bc-471f-8404-fd9429573782",
        "outputId": "6c5f42f1-d367-476a-bf4b-c8c8b65f800d"
      },
      "outputs": [
        {
          "name": "stdout",
          "output_type": "stream",
          "text": [
            "6.563065034005152\n"
          ]
        }
      ],
      "source": [
        "# These equations (semantic arithmetic or word analogies) will not work as good for ours because\n",
        "# we used supervised learning on a small dataset (targeting a very specific set of 20 classes)\n",
        "new_word = embeddings_dict[68] - embeddings_dict[16] + embeddings_dict[232]\n",
        "print(np.sqrt(sum((new_word - embeddings_dict[2459])**2)))"
      ]
    },
    {
      "cell_type": "code",
      "execution_count": null,
      "id": "e5229d9c-e0cc-4a66-8003-fd4bf8b73b70",
      "metadata": {
        "id": "e5229d9c-e0cc-4a66-8003-fd4bf8b73b70",
        "outputId": "e74c0b4e-7bf1-4456-f216-dc9048ea5518"
      },
      "outputs": [
        {
          "name": "stdout",
          "output_type": "stream",
          "text": [
            "10.326661359621742\n"
          ]
        }
      ],
      "source": [
        "new_word = embeddings_dict[68] - embeddings_dict[16] + embeddings_dict[232]\n",
        "print(np.sqrt(sum((new_word - embeddings_dict[5000])**2)))"
      ]
    },
    {
      "cell_type": "code",
      "execution_count": null,
      "id": "26f3cea4-4d2d-4a0b-a487-b4ae40fb6617",
      "metadata": {
        "id": "26f3cea4-4d2d-4a0b-a487-b4ae40fb6617",
        "outputId": "065ef234-aca8-47d3-e7bf-25177ba70b4c"
      },
      "outputs": [
        {
          "data": {
            "text/plain": [
              "'banned'"
            ]
          },
          "execution_count": 26,
          "metadata": {},
          "output_type": "execute_result"
        }
      ],
      "source": [
        "tokenizer.index_word[5000]"
      ]
    },
    {
      "cell_type": "code",
      "execution_count": null,
      "id": "3af6a4fd-90b1-4753-a22a-cd348a02b456",
      "metadata": {
        "id": "3af6a4fd-90b1-4753-a22a-cd348a02b456",
        "outputId": "d0309ddd-605e-466a-d471-b7a93b3f5b77"
      },
      "outputs": [
        {
          "data": {
            "text/plain": [
              "144"
            ]
          },
          "execution_count": 27,
          "metadata": {},
          "output_type": "execute_result"
        }
      ],
      "source": [
        "tokenizer.word_index['computer']"
      ]
    },
    {
      "cell_type": "code",
      "execution_count": null,
      "id": "dc5eb896-fa81-4371-be9a-c2312d00bd98",
      "metadata": {
        "id": "dc5eb896-fa81-4371-be9a-c2312d00bd98",
        "outputId": "88b9680f-ad73-4c3d-be01-57cea502637b"
      },
      "outputs": [
        {
          "data": {
            "text/plain": [
              "201"
            ]
          },
          "execution_count": 28,
          "metadata": {},
          "output_type": "execute_result"
        }
      ],
      "source": [
        "tokenizer.word_index['disk']"
      ]
    },
    {
      "cell_type": "code",
      "execution_count": null,
      "id": "bf3a664a-b5bc-408d-b213-316f0a2b772a",
      "metadata": {
        "id": "bf3a664a-b5bc-408d-b213-316f0a2b772a",
        "outputId": "5589b464-7d60-4dc3-837c-3f985d469a1f"
      },
      "outputs": [
        {
          "name": "stdout",
          "output_type": "stream",
          "text": [
            "8.846334854296174\n"
          ]
        }
      ],
      "source": [
        "print(np.sqrt(sum((embeddings_dict[144] - embeddings_dict[201])**2)))"
      ]
    },
    {
      "cell_type": "code",
      "execution_count": null,
      "id": "6d6e8688-030c-4982-9b7a-c620485e2b16",
      "metadata": {
        "id": "6d6e8688-030c-4982-9b7a-c620485e2b16"
      },
      "outputs": [],
      "source": [
        "def document_vector(doc, embedding_dict):\n",
        "    # Retrieve the embedding for each integer key in the document\n",
        "    embeddings = [embedding_dict[key] for key in doc]\n",
        "    # Calculate the average of these embeddings\n",
        "    return np.mean(np.array(embeddings), axis=0)\n",
        "\n",
        "X_train_vectors = np.array([document_vector(doc, embeddings_dict) for doc in X_train])\n",
        "X_test_vectors = np.array([document_vector(doc, embeddings_dict) for doc in X_test])\n"
      ]
    },
    {
      "cell_type": "code",
      "execution_count": null,
      "id": "37f8ce40-f77d-4954-b19e-7d5b558b6d84",
      "metadata": {
        "id": "37f8ce40-f77d-4954-b19e-7d5b558b6d84",
        "outputId": "4076860d-870b-403f-ce79-6b8747a60408"
      },
      "outputs": [
        {
          "name": "stdout",
          "output_type": "stream",
          "text": [
            "Accuracy: 0.7826965157380912\n",
            "              precision    recall  f1-score   support\n",
            "\n",
            "           0       0.65      0.60      0.63       269\n",
            "           1       0.74      0.77      0.75       264\n",
            "           2       0.71      0.66      0.68       274\n",
            "           3       0.66      0.67      0.66       325\n",
            "           4       0.77      0.69      0.73       293\n",
            "           5       0.82      0.86      0.84       292\n",
            "           6       0.83      0.80      0.82       288\n",
            "           7       0.80      0.82      0.81       251\n",
            "           8       0.86      0.84      0.85       257\n",
            "           9       0.93      0.90      0.91       286\n",
            "          10       0.95      0.94      0.94       332\n",
            "          11       0.90      0.87      0.88       355\n",
            "          12       0.71      0.76      0.73       317\n",
            "          13       0.85      0.89      0.87       308\n",
            "          14       0.87      0.87      0.87       320\n",
            "          15       0.67      0.87      0.75       364\n",
            "          16       0.75      0.74      0.74       330\n",
            "          17       0.87      0.88      0.87       346\n",
            "          18       0.67      0.67      0.67       276\n",
            "          19       0.50      0.36      0.42       194\n",
            "\n",
            "    accuracy                           0.78      5941\n",
            "   macro avg       0.78      0.77      0.77      5941\n",
            "weighted avg       0.78      0.78      0.78      5941\n",
            "\n"
          ]
        }
      ],
      "source": [
        "from sklearn.linear_model import LogisticRegression\n",
        "from sklearn.model_selection import train_test_split\n",
        "from sklearn.metrics import classification_report, accuracy_score\n",
        "\n",
        "# Initialize and train the logistic regression model\n",
        "logreg = LogisticRegression(max_iter=1000)\n",
        "logreg.fit(X_train_vectors, y_train)\n",
        "\n",
        "# Predict and evaluate the model\n",
        "y_pred = logreg.predict(X_test_vectors)\n",
        "print(\"Accuracy:\", accuracy_score(y_test, y_pred))\n",
        "print(classification_report(y_test, y_pred))\n"
      ]
    }
  ],
  "metadata": {
    "kernelspec": {
      "display_name": "MyEnv",
      "language": "python",
      "name": "myenv"
    },
    "language_info": {
      "codemirror_mode": {
        "name": "ipython",
        "version": 3
      },
      "file_extension": ".py",
      "mimetype": "text/x-python",
      "name": "python",
      "nbconvert_exporter": "python",
      "pygments_lexer": "ipython3",
      "version": "3.9.18"
    },
    "colab": {
      "provenance": [],
      "include_colab_link": true
    }
  },
  "nbformat": 4,
  "nbformat_minor": 5
}