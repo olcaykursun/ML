{
  "cells": [
    {
      "cell_type": "markdown",
      "metadata": {
        "id": "view-in-github",
        "colab_type": "text"
      },
      "source": [
        "<a href=\"https://colab.research.google.com/github/olcaykursun/ML/blob/main/neuralnets/AutoEncoders_with_DataAugmentation.ipynb\" target=\"_parent\"><img src=\"https://colab.research.google.com/assets/colab-badge.svg\" alt=\"Open In Colab\"/></a>"
      ]
    },
    {
      "cell_type": "markdown",
      "id": "75358e42-3737-47f3-9581-8c4119542507",
      "metadata": {
        "id": "75358e42-3737-47f3-9581-8c4119542507"
      },
      "source": [
        "<b>AutoEncoders and Data Augmentation for Representation Learning in the Data Domain</b>  \n",
        "AUM Machine Learning, Dr. Olcay Kursun, okursun@aum.edu  \n",
        "Date: 04/11/2024 (Spring 2024)  \n",
        "\n",
        "Description: This script demonstrates autoencoders and data augmentation. Autoencoders are adept at learning efficient representations (or encodings) of the input data by compressing it into a lower-dimensional space and then reconstructing it. This process forces the AutoEncoder to capture the most salient features of the data, which are essential for various tasks like classification, detection, or even generation within the image domain. Data Augmentation further enriches this learning process by introducing variations in the training data, which helps the model to generalize better by learning domain-specific robust features that are invariant to such changes."
      ]
    },
    {
      "cell_type": "code",
      "execution_count": null,
      "id": "6746f419-75e0-4ba8-b379-48a52b612e00",
      "metadata": {
        "id": "6746f419-75e0-4ba8-b379-48a52b612e00",
        "outputId": "41368d42-da44-41e6-9c0c-3e46f36db58a"
      },
      "outputs": [
        {
          "data": {
            "image/png": "[encoded data removed]",
            "text/plain": [
              "<Figure size 1000x400 with 10 Axes>"
            ]
          },
          "metadata": {},
          "output_type": "display_data"
        }
      ],
      "source": [
        "import numpy as np\n",
        "from tensorflow.keras.datasets import mnist\n",
        "from tensorflow.keras.utils import to_categorical\n",
        "import matplotlib.pyplot as plt\n",
        "\n",
        "# Load the MNIST dataset\n",
        "(train_images, train_labels), (test_images, test_labels) = mnist.load_data()\n",
        "\n",
        "# Preprocess the data: Reshape and normalize\n",
        "train_images = train_images.reshape((-1, 28, 28, 1)).astype('float32') / 255\n",
        "test_images = test_images.reshape((-1, 28, 28, 1)).astype('float32') / 255\n",
        "\n",
        "# Convert labels to one-hot encoding\n",
        "train_labels = to_categorical(train_labels)\n",
        "test_labels = to_categorical(test_labels)\n",
        "\n",
        "# Use a smaller subset for faster training\n",
        "subset_indices = np.random.choice(train_images.shape[0], 500, replace=False)\n",
        "train_images_subset = train_images[subset_indices]\n",
        "train_labels_subset = train_labels[subset_indices]\n",
        "\n",
        "# Function to display a grid of images\n",
        "def display_images(images, labels, num_rows=2, num_cols=5):\n",
        "    plt.figure(figsize=(10, 4))\n",
        "    for i in range(num_rows * num_cols):\n",
        "        plt.subplot(num_rows, num_cols, i + 1)\n",
        "        plt.imshow(images[i], cmap='gray')\n",
        "        plt.title(f'Label: {labels[i]}')\n",
        "        plt.axis('off')\n",
        "    plt.tight_layout()\n",
        "    plt.show()\n",
        "\n",
        "# Display the first few images and their labels\n",
        "display_images(train_images, train_labels.argmax(axis=1))"
      ]
    },
    {
      "cell_type": "code",
      "execution_count": null,
      "id": "d0edc394-d980-46e0-95c1-66af89418eb4",
      "metadata": {
        "id": "d0edc394-d980-46e0-95c1-66af89418eb4"
      },
      "outputs": [],
      "source": [
        "from tensorflow.keras import layers\n",
        "from tensorflow.keras.models import Model\n",
        "\n",
        "def create_model(use_augmentation=False):\n",
        "    # Define the encoder\n",
        "    input_img = layers.Input(shape=(28, 28, 1))\n",
        "\n",
        "    if not use_augmentation:\n",
        "        # Not using the data augmentation layers\n",
        "        x = layers.Conv2D(32, (3, 3), activation='relu', padding='same')(input_img)\n",
        "    else:\n",
        "        # Using the data augmentation layers - by default applies only for fit/training and not for predict/inference\n",
        "        x = layers.RandomRotation(factor=0.05)(input_img)  # Randomly rotate images in the range (-5% * 2pi, 5% * 2pi)\n",
        "        x = layers.RandomZoom(height_factor=(-0.1, 0.1), width_factor=(-0.1, 0.1))(x) # Random zoom-in zoom-out\n",
        "        x = layers.Conv2D(32, (3, 3), activation='relu', padding='same')(x)\n",
        "\n",
        "    x = layers.MaxPooling2D((2, 2), padding='same')(x)\n",
        "    x = layers.Conv2D(32, (3, 3), activation='relu', padding='same')(x)\n",
        "    encoded = layers.MaxPooling2D((2, 2), padding='same')(x)\n",
        "\n",
        "    # Define the decoder\n",
        "    x = layers.Conv2D(32, (3, 3), activation='relu', padding='same')(encoded)\n",
        "    x = layers.UpSampling2D((2, 2))(x)\n",
        "    x = layers.Conv2D(32, (3, 3), activation='relu', padding='same')(x)\n",
        "    x = layers.UpSampling2D((2, 2))(x)\n",
        "    decoded = layers.Conv2D(1, (3, 3), activation='sigmoid', padding='same')(x)\n",
        "\n",
        "    # Autoencoder model\n",
        "    autoencoder = Model(input_img, decoded)\n",
        "    autoencoder.compile(optimizer='adam', loss='binary_crossentropy')\n",
        "\n",
        "    # Extract the encoder\n",
        "    encoder = Model(input_img, encoded)\n",
        "\n",
        "    return autoencoder, encoder"
      ]
    },
    {
      "cell_type": "code",
      "execution_count": null,
      "id": "0b482d35-bb2b-4a0f-acd8-5ad5fde0a319",
      "metadata": {
        "id": "0b482d35-bb2b-4a0f-acd8-5ad5fde0a319"
      },
      "outputs": [],
      "source": [
        "def create_classifier_using_encoded_features(encoder):\n",
        "    encoded_input = layers.Input(shape=encoder.output_shape[1:])  # Use encoder's output shape, excluding the batch size\n",
        "    x = layers.Flatten()(encoded_input)  # Flatten the encoded image\n",
        "\n",
        "    # Build the classifier model\n",
        "    x = layers.Dense(64, activation='relu')(x)\n",
        "    x = layers.Dense(32, activation='relu')(x)\n",
        "    classifier_output = layers.Dense(10, activation='softmax')(x)  # For MNIST classification\n",
        "\n",
        "    classifier_model = Model(encoded_input, classifier_output)\n",
        "    classifier_model.compile(optimizer='adam', loss='categorical_crossentropy', metrics=['accuracy'])\n",
        "\n",
        "    return classifier_model"
      ]
    },
    {
      "cell_type": "code",
      "execution_count": null,
      "id": "1eb663bd-173e-4d2d-b553-663ac012ffd5",
      "metadata": {
        "id": "1eb663bd-173e-4d2d-b553-663ac012ffd5"
      },
      "outputs": [],
      "source": [
        "def test_labeled_subset_with_encoded_features(encoder, classifier_model, test_images, test_labels):\n",
        "    # Transform the test set through the encoder\n",
        "    encoded_imgs_test = encoder.predict(test_images)\n",
        "\n",
        "    # Evaluate the model on the test set\n",
        "    return classifier_model.evaluate(encoded_imgs_test, test_labels)"
      ]
    },
    {
      "cell_type": "code",
      "execution_count": null,
      "id": "b2dc4bb2-ebbc-4aef-9d17-3a4600f301bd",
      "metadata": {
        "id": "b2dc4bb2-ebbc-4aef-9d17-3a4600f301bd",
        "outputId": "2712af3e-797b-48a8-c365-8e34a79fa8e9"
      },
      "outputs": [
        {
          "name": "stderr",
          "output_type": "stream",
          "text": [
            "2024-04-11 00:45:10.549112: I metal_plugin/src/device/metal_device.cc:1154] Metal device set to: Apple M1 Pro\n",
            "2024-04-11 00:45:10.549134: I metal_plugin/src/device/metal_device.cc:296] systemMemory: 16.00 GB\n",
            "2024-04-11 00:45:10.549139: I metal_plugin/src/device/metal_device.cc:313] maxCacheSize: 5.33 GB\n",
            "2024-04-11 00:45:10.549169: I tensorflow/core/common_runtime/pluggable_device/pluggable_device_factory.cc:306] Could not identify NUMA node of platform GPU ID 0, defaulting to 0. Your kernel may not have been built with NUMA support.\n",
            "2024-04-11 00:45:10.549187: I tensorflow/core/common_runtime/pluggable_device/pluggable_device_factory.cc:272] Created TensorFlow device (/job:localhost/replica:0/task:0/device:GPU:0 with 0 MB memory) -> physical PluggableDevice (device: 0, name: METAL, pci bus id: <undefined>)\n"
          ]
        },
        {
          "name": "stdout",
          "output_type": "stream",
          "text": [
            "Epoch 1/10\n"
          ]
        },
        {
          "name": "stderr",
          "output_type": "stream",
          "text": [
            "2024-04-11 00:45:10.960511: I tensorflow/core/grappler/optimizers/custom_graph_optimizer_registry.cc:117] Plugin optimizer for device_type GPU is enabled.\n"
          ]
        },
        {
          "name": "stdout",
          "output_type": "stream",
          "text": [
            "1875/1875 [==============================] - 22s 12ms/step - loss: 0.0847\n",
            "Epoch 2/10\n",
            "1875/1875 [==============================] - 22s 12ms/step - loss: 0.0688\n",
            "Epoch 3/10\n",
            "1875/1875 [==============================] - 21s 11ms/step - loss: 0.0669\n",
            "Epoch 4/10\n",
            "1875/1875 [==============================] - 20s 11ms/step - loss: 0.0659\n",
            "Epoch 5/10\n",
            "1875/1875 [==============================] - 20s 11ms/step - loss: 0.0653\n",
            "Epoch 6/10\n",
            "1875/1875 [==============================] - 21s 11ms/step - loss: 0.0649\n",
            "Epoch 7/10\n",
            "1875/1875 [==============================] - 22s 12ms/step - loss: 0.0646\n",
            "Epoch 8/10\n",
            "1875/1875 [==============================] - 21s 11ms/step - loss: 0.0643\n",
            "Epoch 9/10\n",
            "1875/1875 [==============================] - 21s 11ms/step - loss: 0.0641\n",
            "Epoch 10/10\n",
            "1875/1875 [==============================] - 21s 11ms/step - loss: 0.0639\n",
            "16/16 [==============================] - 0s 2ms/step\n",
            "Epoch 1/10\n",
            "16/16 [==============================] - 0s 11ms/step - loss: 2.2277 - accuracy: 0.2640\n",
            "Epoch 2/10\n",
            "16/16 [==============================] - 0s 8ms/step - loss: 1.6846 - accuracy: 0.4200\n",
            "Epoch 3/10\n",
            "16/16 [==============================] - 0s 8ms/step - loss: 1.4261 - accuracy: 0.4960\n",
            "Epoch 4/10\n",
            "16/16 [==============================] - 0s 8ms/step - loss: 1.2151 - accuracy: 0.6120\n",
            "Epoch 5/10\n",
            "16/16 [==============================] - 0s 8ms/step - loss: 1.0787 - accuracy: 0.6420\n",
            "Epoch 6/10\n",
            "16/16 [==============================] - 0s 8ms/step - loss: 0.8476 - accuracy: 0.7540\n",
            "Epoch 7/10\n",
            "16/16 [==============================] - 0s 8ms/step - loss: 0.7249 - accuracy: 0.7760\n",
            "Epoch 8/10\n",
            "16/16 [==============================] - 0s 8ms/step - loss: 0.6181 - accuracy: 0.8300\n",
            "Epoch 9/10\n",
            "16/16 [==============================] - 0s 8ms/step - loss: 0.6005 - accuracy: 0.8280\n",
            "Epoch 10/10\n",
            "16/16 [==============================] - 0s 8ms/step - loss: 0.5897 - accuracy: 0.8100\n",
            "313/313 [==============================] - 0s 1ms/step\n",
            "313/313 [==============================] - 2s 8ms/step - loss: 0.6875 - accuracy: 0.7764\n",
            "test loss without augmentation: 0.6874621510505676\n",
            "test accuracy without augmentation: 0.7764000296592712\n"
          ]
        }
      ],
      "source": [
        "# Create and train the autoencoder without augmentation\n",
        "autoencoder, encoder = create_model()\n",
        "autoencoder.fit(train_images, train_images, epochs=10)\n",
        "\n",
        "# Transform the labeled dataset\n",
        "encoded_imgs = encoder.predict(train_images_subset)\n",
        "\n",
        "# Create and train the classifier on the labeled dataset using the encoder\n",
        "classifier_model = create_classifier_using_encoded_features(encoder)\n",
        "classifier_model.fit(encoded_imgs, train_labels_subset, epochs=10)\n",
        "\n",
        "# Test\n",
        "test_loss, test_acc = test_labeled_subset_with_encoded_features(encoder, classifier_model, test_images, test_labels)\n",
        "print(f\"test loss without augmentation: {test_loss}\")\n",
        "print(f\"test accuracy without augmentation: {test_acc}\")"
      ]
    },
    {
      "cell_type": "code",
      "execution_count": null,
      "id": "77f4fe14-811b-4cae-bcad-4e535b121c90",
      "metadata": {
        "id": "77f4fe14-811b-4cae-bcad-4e535b121c90",
        "outputId": "a652085e-cc9b-4cf4-a66f-e181135c4102"
      },
      "outputs": [
        {
          "name": "stdout",
          "output_type": "stream",
          "text": [
            "313/313 [==============================] - 0s 985us/step\n",
            "313/313 [==============================] - 2s 7ms/step - loss: 0.4537 - accuracy: 0.8885\n",
            "test loss with augmentation: 0.45372137427330017\n",
            "test accuracy with augmentation: 0.8884999752044678\n"
          ]
        }
      ],
      "source": [
        "classifier_model.fit(encoded_imgs, train_labels_subset, epochs=100, verbose=0)\n",
        "test_loss, test_acc = test_labeled_subset_with_encoded_features(encoder, classifier_model, test_images, test_labels)\n",
        "print(f\"test loss with augmentation: {test_loss}\")\n",
        "print(f\"test accuracy with augmentation: {test_acc}\")"
      ]
    },
    {
      "cell_type": "code",
      "execution_count": null,
      "id": "b60ffd5a-d526-4149-928f-c5108b3cfb8b",
      "metadata": {
        "id": "b60ffd5a-d526-4149-928f-c5108b3cfb8b",
        "outputId": "b3d43cea-c0bc-4f5d-85ff-a1b11ecfedce"
      },
      "outputs": [
        {
          "name": "stdout",
          "output_type": "stream",
          "text": [
            "Epoch 1/10\n",
            "1875/1875 [==============================] - 27s 14ms/step - loss: 0.1531\n",
            "Epoch 2/10\n",
            "1875/1875 [==============================] - 26s 14ms/step - loss: 0.1374\n",
            "Epoch 3/10\n",
            "1875/1875 [==============================] - 26s 14ms/step - loss: 0.1332\n",
            "Epoch 4/10\n",
            "1875/1875 [==============================] - 26s 14ms/step - loss: 0.1307\n",
            "Epoch 5/10\n",
            "1875/1875 [==============================] - 26s 14ms/step - loss: 0.1288\n",
            "Epoch 6/10\n",
            "1875/1875 [==============================] - 26s 14ms/step - loss: 0.1269\n",
            "Epoch 7/10\n",
            "1875/1875 [==============================] - 26s 14ms/step - loss: 0.1253\n",
            "Epoch 8/10\n",
            "1875/1875 [==============================] - 27s 14ms/step - loss: 0.1235\n",
            "Epoch 9/10\n",
            "1875/1875 [==============================] - 29s 16ms/step - loss: 0.1217\n",
            "Epoch 10/10\n",
            "1875/1875 [==============================] - 29s 16ms/step - loss: 0.1202\n",
            "16/16 [==============================] - 0s 2ms/step\n",
            "Epoch 1/10\n",
            "16/16 [==============================] - 0s 10ms/step - loss: 2.2661 - accuracy: 0.1780\n",
            "Epoch 2/10\n",
            "16/16 [==============================] - 0s 9ms/step - loss: 1.7708 - accuracy: 0.3560\n",
            "Epoch 3/10\n",
            "16/16 [==============================] - 0s 9ms/step - loss: 1.3320 - accuracy: 0.6700\n",
            "Epoch 4/10\n",
            "16/16 [==============================] - 0s 8ms/step - loss: 1.0101 - accuracy: 0.7520\n",
            "Epoch 5/10\n",
            "16/16 [==============================] - 0s 9ms/step - loss: 0.7517 - accuracy: 0.8260\n",
            "Epoch 6/10\n",
            "16/16 [==============================] - 0s 9ms/step - loss: 0.5777 - accuracy: 0.8500\n",
            "Epoch 7/10\n",
            "16/16 [==============================] - 0s 8ms/step - loss: 0.4642 - accuracy: 0.9040\n",
            "Epoch 8/10\n",
            "16/16 [==============================] - 0s 9ms/step - loss: 0.3856 - accuracy: 0.9220\n",
            "Epoch 9/10\n",
            "16/16 [==============================] - 0s 9ms/step - loss: 0.3067 - accuracy: 0.9520\n",
            "Epoch 10/10\n",
            "16/16 [==============================] - 0s 9ms/step - loss: 0.2537 - accuracy: 0.9520\n",
            "313/313 [==============================] - 0s 1ms/step\n",
            "313/313 [==============================] - 3s 8ms/step - loss: 0.3983 - accuracy: 0.8869\n",
            "test loss with augmentation: 0.39829641580581665\n",
            "test accuracy with augmentation: 0.886900007724762\n"
          ]
        }
      ],
      "source": [
        "# Create and train the autoencoder with augmentation\n",
        "autoencoder_aug, encoder_aug = create_model(use_augmentation=True)\n",
        "autoencoder_aug.fit(train_images, train_images, epochs=10)\n",
        "\n",
        "# Transform the labeled dataset\n",
        "encoded_imgs_aug = encoder_aug.predict(train_images_subset)\n",
        "\n",
        "# Create and train the classifier on the labeled dataset using the encoder\n",
        "classifier_model_aug = create_classifier_using_encoded_features(encoder_aug)\n",
        "classifier_model_aug.fit(encoded_imgs_aug, train_labels_subset, epochs=10)\n",
        "\n",
        "# Test\n",
        "test_loss, test_acc = test_labeled_subset_with_encoded_features(encoder_aug, classifier_model_aug, test_images, test_labels)\n",
        "print(f\"test loss with augmentation: {test_loss}\")\n",
        "print(f\"test accuracy with augmentation: {test_acc}\")"
      ]
    },
    {
      "cell_type": "code",
      "execution_count": null,
      "id": "43ec461d-59ce-46a4-a533-7302dbf880f3",
      "metadata": {
        "id": "43ec461d-59ce-46a4-a533-7302dbf880f3",
        "outputId": "7912ef5e-5f75-4e1c-ee56-897f1b8c3c8d"
      },
      "outputs": [
        {
          "name": "stdout",
          "output_type": "stream",
          "text": [
            "313/313 [==============================] - 0s 983us/step\n",
            "313/313 [==============================] - 2s 7ms/step - loss: 0.2473 - accuracy: 0.9335\n",
            "test loss with augmentation: 0.24732030928134918\n",
            "test accuracy with augmentation: 0.9334999918937683\n"
          ]
        }
      ],
      "source": [
        "if 1: #train the autoencoder for some additional epochs\n",
        "    autoencoder_aug.fit(train_images, train_images, epochs=100)\n",
        "    encoded_imgs_aug = encoder_aug.predict(train_images_subset)\n",
        "\n",
        "#train the classifier for some additional epochs\n",
        "classifier_model_aug.fit(encoded_imgs_aug, train_labels_subset, epochs=10, verbose=0)\n",
        "test_loss, test_acc = test_labeled_subset_with_encoded_features(encoder_aug, classifier_model_aug, test_images, test_labels)\n",
        "print(f\"test loss with augmentation: {test_loss}\")\n",
        "print(f\"test accuracy with augmentation: {test_acc}\")"
      ]
    }
  ],
  "metadata": {
    "kernelspec": {
      "display_name": "Python (tf_metal)",
      "language": "python",
      "name": "tf_metal"
    },
    "language_info": {
      "codemirror_mode": {
        "name": "ipython",
        "version": 3
      },
      "file_extension": ".py",
      "mimetype": "text/x-python",
      "name": "python",
      "nbconvert_exporter": "python",
      "pygments_lexer": "ipython3",
      "version": "3.9.18"
    },
    "colab": {
      "provenance": [],
      "include_colab_link": true
    }
  },
  "nbformat": 4,
  "nbformat_minor": 5
}