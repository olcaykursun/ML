{
  "cells": [
    {
      "cell_type": "markdown",
      "metadata": {
        "id": "view-in-github",
        "colab_type": "text"
      },
      "source": [
        "<a href=\"https://colab.research.google.com/github/olcaykursun/ML/blob/main/neuralnets/Transfer_Learning_with_CNNs.ipynb\" target=\"_parent\"><img src=\"https://colab.research.google.com/assets/colab-badge.svg\" alt=\"Open In Colab\"/></a>"
      ]
    },
    {
      "cell_type": "markdown",
      "id": "15ffbf9e-dea0-4563-8e10-bbf39397c767",
      "metadata": {
        "editable": true,
        "tags": [],
        "id": "15ffbf9e-dea0-4563-8e10-bbf39397c767"
      },
      "source": [
        "<b>Transfer Learning Implementation and Usage with CNNs</b>  \n",
        "AUM Machine Learning, Dr. Olcay Kursun, okursun@aum.edu  \n",
        "Date: 04/02/2024 (Spring 2024)  \n",
        "\n",
        "Description: This script demonstrates the implementation of a neural network model using TensorFlow and Keras. It covers the construction, compilation, and training of the model, along with examples of transfer learning and feature extraction.\n"
      ]
    },
    {
      "cell_type": "code",
      "execution_count": null,
      "id": "8f6ffbb2-1d8f-4cd4-8e70-ad3b1db3a148",
      "metadata": {
        "id": "8f6ffbb2-1d8f-4cd4-8e70-ad3b1db3a148",
        "outputId": "be4e5956-8d71-4fd6-bff9-ce7fc8efb4cb"
      },
      "outputs": [
        {
          "data": {
            "text/plain": [
              "(60000, 28, 28)"
            ]
          },
          "execution_count": 1,
          "metadata": {},
          "output_type": "execute_result"
        }
      ],
      "source": [
        "import numpy as np\n",
        "from tensorflow.keras.datasets import fashion_mnist\n",
        "from tensorflow.keras.utils import to_categorical\n",
        "\n",
        "# Load the full dataset\n",
        "(full_x_train, full_y_train), (full_x_test, full_y_test) = fashion_mnist.load_data()\n",
        "\n",
        "# Normalize the pixel values\n",
        "full_x_train, full_x_test = full_x_train / 255.0, full_x_test / 255.0\n",
        "\n",
        "full_x_train.shape"
      ]
    },
    {
      "cell_type": "code",
      "execution_count": null,
      "id": "e59f6341-8e7c-4c62-a41b-0641b240bba3",
      "metadata": {
        "id": "e59f6341-8e7c-4c62-a41b-0641b240bba3",
        "outputId": "b345d5ee-b5b2-45f4-ba8f-e1115c205398"
      },
      "outputs": [
        {
          "data": {
            "text/plain": [
              "(60000, 28, 28, 1)"
            ]
          },
          "execution_count": 2,
          "metadata": {},
          "output_type": "execute_result"
        }
      ],
      "source": [
        "# Expand dimensions to include channel information\n",
        "full_x_train = np.expand_dims(full_x_train, -1)\n",
        "full_x_test = np.expand_dims(full_x_test, -1)\n",
        "\n",
        "full_x_train.shape"
      ]
    },
    {
      "cell_type": "code",
      "execution_count": null,
      "id": "84973edb-96b9-42b6-994b-5a16ff6215e9",
      "metadata": {
        "id": "84973edb-96b9-42b6-994b-5a16ff6215e9",
        "outputId": "d51a75d1-44ec-4cdf-e006-200b29d5a02b"
      },
      "outputs": [
        {
          "data": {
            "text/plain": [
              "(36000, 6)"
            ]
          },
          "execution_count": 3,
          "metadata": {},
          "output_type": "execute_result"
        }
      ],
      "source": [
        "# Let's say we keep the first n1 classes, build our features, and transfer that knowledge of how to extract features\n",
        "# to solve a different problem: A problem with few examples that belong to a totally new set of classes\n",
        "# for example if n1=8 then we remove classes 8 and 9 for this example and use classes 0-7 for learning good features\n",
        "n1 = 6        # We will use all the examples of these n1 classes: base task is to learn the base model\n",
        "n2 = 10 - n1  # We will use only 5 examples: target task is uses base to solve this new problem with a small dataset\n",
        "\n",
        "base_classes = range(n1)\n",
        "idx_train = np.isin(full_y_train, base_classes)\n",
        "idx_test = np.isin(full_y_test, base_classes)\n",
        "\n",
        "base_x_train, base_y_train = full_x_train[idx_train], full_y_train[idx_train]\n",
        "base_x_test, base_y_test = full_x_test[idx_test], full_y_test[idx_test]\n",
        "\n",
        "# Convert labels to one-hot encoding\n",
        "base_y_train = to_categorical(base_y_train, num_classes=n1)\n",
        "base_y_test = to_categorical(base_y_test, num_classes=n1)\n",
        "\n",
        "base_y_train.shape"
      ]
    },
    {
      "cell_type": "code",
      "execution_count": null,
      "id": "b66d863e-6a00-4ffb-9da9-91aea427d253",
      "metadata": {
        "id": "b66d863e-6a00-4ffb-9da9-91aea427d253",
        "outputId": "3f906b7b-09d2-487b-8700-fa717fd62bf7"
      },
      "outputs": [
        {
          "data": {
            "text/plain": [
              "(20, 4)"
            ]
          },
          "execution_count": 4,
          "metadata": {},
          "output_type": "execute_result"
        }
      ],
      "source": [
        "# We will test the quality of the features learned on the n2 classes with few examples\n",
        "num_samples_per_class = 5\n",
        "\n",
        "target_classes = range(n1, 10)\n",
        "idx_train = np.isin(full_y_train, target_classes)\n",
        "idx_test = np.isin(full_y_test, target_classes)\n",
        "\n",
        "target_x_train, target_y_train = full_x_train[idx_train], full_y_train[idx_train]\n",
        "\n",
        "all_selected_indices = []\n",
        "for class_label in target_classes:\n",
        "    # Indices of all instances of the current class\n",
        "    class_indices = np.where(target_y_train == class_label)[0]\n",
        "\n",
        "    # Randomly choose num_samples_per_class indices from this class\n",
        "    chosen_indices = np.random.choice(class_indices, num_samples_per_class, replace=False)\n",
        "\n",
        "    # Append these indices to the list\n",
        "    all_selected_indices.extend(chosen_indices)  # Use extend or +\n",
        "\n",
        "# Use the selected indices to build the small dataset for the target task\n",
        "target_x_train, target_y_train = target_x_train[all_selected_indices], target_y_train[all_selected_indices]\n",
        "\n",
        "target_x_test, target_y_test = full_x_test[idx_test], full_y_test[idx_test]\n",
        "\n",
        "# Convert labels to one-hot encoding\n",
        "target_y_train = to_categorical(target_y_train - n1, num_classes=n2)\n",
        "target_y_test = to_categorical(target_y_test - n1, num_classes=n2)\n",
        "# For binary (class 8 vs 9), we could also use:\n",
        "#target_y_train = 0+(target_y_train == 8)   #also works: (target_y_train == 8).astype(int)\n",
        "\n",
        "target_y_train.shape"
      ]
    },
    {
      "cell_type": "code",
      "execution_count": null,
      "id": "02f4851c-db39-4530-ace1-9ac691054929",
      "metadata": {
        "id": "02f4851c-db39-4530-ace1-9ac691054929",
        "outputId": "c3460c86-29ed-4909-b3bd-2486ed9948d8"
      },
      "outputs": [
        {
          "data": {
            "text/plain": [
              "array([ True, False, False, ..., False, False, False])"
            ]
          },
          "execution_count": 5,
          "metadata": {},
          "output_type": "execute_result"
        }
      ],
      "source": [
        "idx_train"
      ]
    },
    {
      "cell_type": "code",
      "execution_count": null,
      "id": "e8321c7b-aee1-4168-a17d-dd64480b69d0",
      "metadata": {
        "id": "e8321c7b-aee1-4168-a17d-dd64480b69d0",
        "outputId": "e1f5f45c-aa4c-4f91-85bb-ae7c89c169eb"
      },
      "outputs": [
        {
          "data": {
            "text/plain": [
              "(20, 28, 28, 1)"
            ]
          },
          "execution_count": 6,
          "metadata": {},
          "output_type": "execute_result"
        }
      ],
      "source": [
        "target_x_train.shape"
      ]
    },
    {
      "cell_type": "code",
      "execution_count": null,
      "id": "9c0a242c-4551-476c-8b02-ef2f3f7f3b16",
      "metadata": {
        "id": "9c0a242c-4551-476c-8b02-ef2f3f7f3b16",
        "outputId": "489e62e1-fa5f-48c0-a516-e2d006063410"
      },
      "outputs": [
        {
          "name": "stderr",
          "output_type": "stream",
          "text": [
            "2024-04-09 00:53:37.448962: I metal_plugin/src/device/metal_device.cc:1154] Metal device set to: Apple M1 Pro\n",
            "2024-04-09 00:53:37.448984: I metal_plugin/src/device/metal_device.cc:296] systemMemory: 16.00 GB\n",
            "2024-04-09 00:53:37.448990: I metal_plugin/src/device/metal_device.cc:313] maxCacheSize: 5.33 GB\n",
            "2024-04-09 00:53:37.449022: I tensorflow/core/common_runtime/pluggable_device/pluggable_device_factory.cc:306] Could not identify NUMA node of platform GPU ID 0, defaulting to 0. Your kernel may not have been built with NUMA support.\n",
            "2024-04-09 00:53:37.449037: I tensorflow/core/common_runtime/pluggable_device/pluggable_device_factory.cc:272] Created TensorFlow device (/job:localhost/replica:0/task:0/device:GPU:0 with 0 MB memory) -> physical PluggableDevice (device: 0, name: METAL, pci bus id: <undefined>)\n"
          ]
        }
      ],
      "source": [
        "from tensorflow.keras import layers, models\n",
        "\n",
        "input_shape = (28, 28, 1)\n",
        "\n",
        "model = models.Sequential([\n",
        "    layers.Conv2D(32, kernel_size=(3, 3), activation='relu', input_shape=input_shape),\n",
        "    layers.MaxPooling2D(pool_size=(2, 2)),\n",
        "    layers.Conv2D(64, (3, 3), activation='relu'),\n",
        "    layers.MaxPooling2D((2, 2)),\n",
        "    layers.Flatten(),\n",
        "    layers.Dense(64, activation='relu'),    #What we see on lines 11 and 12 is an MLP that uses the features conv-layers extracted\n",
        "    layers.Dense(n1, activation='softmax')\n",
        "])\n",
        "\n",
        "model.compile(optimizer='adam', loss='categorical_crossentropy', metrics=['accuracy'])"
      ]
    },
    {
      "cell_type": "code",
      "execution_count": null,
      "id": "3d814563-83b8-4608-a192-fe5ac37e983f",
      "metadata": {
        "id": "3d814563-83b8-4608-a192-fe5ac37e983f",
        "outputId": "6a72ae15-d798-40f3-d18d-c4e34813f311"
      },
      "outputs": [
        {
          "name": "stdout",
          "output_type": "stream",
          "text": [
            "Model: \"sequential\"\n",
            "_________________________________________________________________\n",
            " Layer (type)                Output Shape              Param #   \n",
            "=================================================================\n",
            " conv2d (Conv2D)             (None, 26, 26, 32)        320       \n",
            "                                                                 \n",
            " max_pooling2d (MaxPooling2  (None, 13, 13, 32)        0         \n",
            " D)                                                              \n",
            "                                                                 \n",
            " conv2d_1 (Conv2D)           (None, 11, 11, 64)        18496     \n",
            "                                                                 \n",
            " max_pooling2d_1 (MaxPoolin  (None, 5, 5, 64)          0         \n",
            " g2D)                                                            \n",
            "                                                                 \n",
            " flatten (Flatten)           (None, 1600)              0         \n",
            "                                                                 \n",
            " dense (Dense)               (None, 64)                102464    \n",
            "                                                                 \n",
            " dense_1 (Dense)             (None, 6)                 390       \n",
            "                                                                 \n",
            "=================================================================\n",
            "Total params: 121670 (475.27 KB)\n",
            "Trainable params: 121670 (475.27 KB)\n",
            "Non-trainable params: 0 (0.00 Byte)\n",
            "_________________________________________________________________\n"
          ]
        }
      ],
      "source": [
        "model.summary()"
      ]
    },
    {
      "cell_type": "code",
      "execution_count": null,
      "id": "a2840579-71c0-4e2c-8cc0-7645197602c6",
      "metadata": {
        "id": "a2840579-71c0-4e2c-8cc0-7645197602c6",
        "outputId": "959cf4b5-6260-4151-872b-10413e2a81b3"
      },
      "outputs": [
        {
          "name": "stdout",
          "output_type": "stream",
          "text": [
            "Epoch 1/5\n",
            "  1/900 [..............................] - ETA: 4:34 - loss: 1.7887 - accuracy: 0.1250"
          ]
        },
        {
          "name": "stderr",
          "output_type": "stream",
          "text": [
            "2024-04-09 00:53:37.825197: I tensorflow/core/grappler/optimizers/custom_graph_optimizer_registry.cc:117] Plugin optimizer for device_type GPU is enabled.\n"
          ]
        },
        {
          "name": "stdout",
          "output_type": "stream",
          "text": [
            "900/900 [==============================] - 9s 10ms/step - loss: 0.3276 - accuracy: 0.8817 - val_loss: 0.2516 - val_accuracy: 0.9096\n",
            "Epoch 2/5\n",
            "900/900 [==============================] - 9s 10ms/step - loss: 0.2146 - accuracy: 0.9245 - val_loss: 0.2196 - val_accuracy: 0.9229\n",
            "Epoch 3/5\n",
            "900/900 [==============================] - 9s 10ms/step - loss: 0.1933 - accuracy: 0.9323 - val_loss: 0.1931 - val_accuracy: 0.9311\n",
            "Epoch 4/5\n",
            "900/900 [==============================] - 9s 10ms/step - loss: 0.1725 - accuracy: 0.9402 - val_loss: 0.2034 - val_accuracy: 0.9254\n",
            "Epoch 5/5\n",
            "900/900 [==============================] - 9s 10ms/step - loss: 0.1605 - accuracy: 0.9447 - val_loss: 0.1829 - val_accuracy: 0.9390\n",
            "\n",
            "Not the focus of transfer learning, but a good accuracy here shows learned base features can be good:\n",
            "188/188 [==============================] - 1s 7ms/step - loss: 0.1829 - accuracy: 0.9383\n",
            "Base-task test loss: 0.1828967034816742\n",
            "Base-task test accuracy: 0.9383333325386047\n",
            "188/188 [==============================] - 0s 2ms/step\n",
            "Alternative way of computing accuracy: 0.9383333333333334\n"
          ]
        }
      ],
      "source": [
        "# Train the model\n",
        "model.fit(base_x_train, base_y_train, epochs=5, validation_split=0.2)\n",
        "\n",
        "# Evaluate the new model on the test set\n",
        "print('\\nNot the focus of transfer learning, but a good accuracy here shows learned base features can be good:')\n",
        "test_loss, test_acc = model.evaluate(base_x_test, base_y_test)\n",
        "print(f\"Base-task test loss: {test_loss}\")\n",
        "print(f\"Base-task test accuracy: {test_acc}\")\n",
        "\n",
        "# Alternative to \"evaluate\", we can use the model to predict the classes of the test set and then calculate the accuracy\n",
        "predictions = model.predict(base_x_test)\n",
        "# The predictions are in the form of probabilities for each class.\n",
        "predicted_classes = np.argmax(predictions, axis=1)\n",
        "true_classes = np.argmax(base_y_test, axis=1)\n",
        "# Calculate accuracy by comparing predicted and true classes\n",
        "accuracy = np.mean(predicted_classes == true_classes)\n",
        "print(f\"Alternative way of computing accuracy: {accuracy}\")"
      ]
    },
    {
      "cell_type": "code",
      "execution_count": null,
      "id": "acfd57d3-5097-4fa9-b771-a7c359544a19",
      "metadata": {
        "id": "acfd57d3-5097-4fa9-b771-a7c359544a19",
        "outputId": "cc1fa638-b551-4b1c-a899-20e3859f6a46"
      },
      "outputs": [
        {
          "name": "stdout",
          "output_type": "stream",
          "text": [
            "1/1 [==============================] - 0s 32ms/step\n",
            "125/125 [==============================] - 0s 1ms/step\n"
          ]
        }
      ],
      "source": [
        "# Extract features\n",
        "# We can feed them to Decision Tree (instead of the dense layers forming an MLP in the original setup)\n",
        "# We can feed them to a clustering algorithm as inputs for clustering never before seen examples and classes\n",
        "\n",
        "# remove the MLP from the top (the two dense layers)\n",
        "feature_extractor = models.Model(inputs=model.input, outputs=model.layers[-3].output)\n",
        "features_target_train = feature_extractor.predict(target_x_train) #get features for the training set of the target task\n",
        "features_target_test = feature_extractor.predict(target_x_test) #get features for the test set of the target task"
      ]
    },
    {
      "cell_type": "code",
      "execution_count": null,
      "id": "66c64557-409b-429f-848c-6fe16c4df1e1",
      "metadata": {
        "id": "66c64557-409b-429f-848c-6fe16c4df1e1",
        "outputId": "1f5fcb54-60b3-4f2e-b264-74abb9240eab"
      },
      "outputs": [
        {
          "name": "stdout",
          "output_type": "stream",
          "text": [
            "Target-task Decision Tree Accuracy (using features learned from the base): 0.756\n"
          ]
        }
      ],
      "source": [
        "from sklearn.tree import DecisionTreeClassifier\n",
        "\n",
        "# Train the decision tree using the features learned from the base task\n",
        "tree = DecisionTreeClassifier()\n",
        "tree.fit(features_target_train, np.argmax(target_y_train, axis=1))  # Fit to the max class index\n",
        "\n",
        "# Evaluate the decision tree\n",
        "accuracy = tree.score(features_target_test, np.argmax(target_y_test, axis=1))\n",
        "print(f\"Target-task Decision Tree Accuracy (using features learned from the base): {accuracy}\")"
      ]
    },
    {
      "cell_type": "code",
      "execution_count": null,
      "id": "a4e44e67-69da-4d35-9556-f9034a931479",
      "metadata": {
        "id": "a4e44e67-69da-4d35-9556-f9034a931479",
        "outputId": "e12b57a6-6602-4e03-c1b5-066fe93c2359"
      },
      "outputs": [
        {
          "name": "stdout",
          "output_type": "stream",
          "text": [
            "Target-task Decision Tree Accuracy using raw features: 0.78475\n"
          ]
        }
      ],
      "source": [
        "# Use the raw features for training/testing the decision tree\n",
        "\n",
        "num_input_channels = np.prod(input_shape)\n",
        "\n",
        "# Instantiate a new decision tree and train on the small dataset without knowledge-transfer (from scratch)\n",
        "tree = DecisionTreeClassifier()\n",
        "tree.fit(target_x_train.reshape(-1, num_input_channels), np.argmax(target_y_train, axis=1))  # Fit to the max class index\n",
        "\n",
        "# Evaluate the decision tree\n",
        "accuracy = tree.score(target_x_test.reshape(-1, num_input_channels), np.argmax(target_y_test, axis=1))\n",
        "print(f\"Target-task Decision Tree Accuracy using raw features: {accuracy}\")"
      ]
    },
    {
      "cell_type": "code",
      "execution_count": null,
      "id": "762b853c-49eb-4ea4-88f0-609c294f73a9",
      "metadata": {
        "id": "762b853c-49eb-4ea4-88f0-609c294f73a9",
        "outputId": "38db52e1-4ca6-46a8-d92e-93c6472945a6"
      },
      "outputs": [
        {
          "name": "stdout",
          "output_type": "stream",
          "text": [
            "125/125 [==============================] - 1s 6ms/step - loss: 0.3319 - accuracy: 0.8945\n",
            "Standalone MLP Test loss: 0.3319225013256073\n",
            "Standalone MLP Test accuracy: 0.8945000171661377\n"
          ]
        }
      ],
      "source": [
        "# Learned features can be used as input to a standalone MLP as well\n",
        "\n",
        "# New model using the extracted features for n2-class classification problem\n",
        "new_model = models.Sequential([\n",
        "   # layers.Dense(16, activation='relu', input_shape=(features_target_train.shape[1],)),\n",
        "    layers.Dense(n2, activation='softmax')  #For n2=1 can also be replaced by (1, 'sigmoid') and binary_crossentropy\n",
        "])\n",
        "\n",
        "# Train the new model on the target-task\n",
        "new_model.compile(optimizer='adam', loss='categorical_crossentropy', metrics=['accuracy'])\n",
        "new_model.fit(features_target_train, target_y_train, epochs=100, verbose = 0)\n",
        "\n",
        "# Evaluate the new model on the test set\n",
        "test_loss, test_acc = new_model.evaluate(features_target_test, target_y_test)\n",
        "\n",
        "print(f\"Standalone MLP Test loss: {test_loss}\")\n",
        "print(f\"Standalone MLP Test accuracy: {test_acc}\")"
      ]
    },
    {
      "cell_type": "code",
      "execution_count": null,
      "id": "14834a54-7381-4e4d-8b9c-35fc13ccf483",
      "metadata": {
        "id": "14834a54-7381-4e4d-8b9c-35fc13ccf483",
        "outputId": "212d32c6-d782-455b-fdd8-8b0aa56ae2bc"
      },
      "outputs": [
        {
          "name": "stdout",
          "output_type": "stream",
          "text": [
            "Model: \"sequential_1\"\n",
            "_________________________________________________________________\n",
            " Layer (type)                Output Shape              Param #   \n",
            "=================================================================\n",
            " dense_2 (Dense)             (None, 4)                 6404      \n",
            "                                                                 \n",
            "=================================================================\n",
            "Total params: 6404 (25.02 KB)\n",
            "Trainable params: 6404 (25.02 KB)\n",
            "Non-trainable params: 0 (0.00 Byte)\n",
            "_________________________________________________________________\n"
          ]
        }
      ],
      "source": [
        "new_model.summary()"
      ]
    },
    {
      "cell_type": "code",
      "execution_count": null,
      "id": "7fe5d9e6-cbbf-4cd6-9886-587915b2f3f5",
      "metadata": {
        "id": "7fe5d9e6-cbbf-4cd6-9886-587915b2f3f5",
        "outputId": "02403ebf-010f-4b9c-e48a-93532ff63cf3"
      },
      "outputs": [
        {
          "name": "stdout",
          "output_type": "stream",
          "text": [
            "True\n",
            "Epoch 1/5\n",
            "1/1 [==============================] - 0s 222ms/step - loss: 1.4221 - accuracy: 0.2000\n",
            "Epoch 2/5\n",
            "1/1 [==============================] - 0s 17ms/step - loss: 1.1002 - accuracy: 0.6500\n",
            "Epoch 3/5\n",
            "1/1 [==============================] - 0s 14ms/step - loss: 0.8343 - accuracy: 0.9000\n",
            "Epoch 4/5\n",
            "1/1 [==============================] - 0s 14ms/step - loss: 0.6234 - accuracy: 1.0000\n",
            "Epoch 5/5\n",
            "1/1 [==============================] - 0s 13ms/step - loss: 0.4636 - accuracy: 1.0000\n",
            "125/125 [==============================] - 1s 7ms/step - loss: 0.5966 - accuracy: 0.8903\n",
            "target_model test loss: 0.5966358780860901\n",
            "target_model test accuracy: 0.890250027179718\n"
          ]
        }
      ],
      "source": [
        "# Start fine-tuning\n",
        "\n",
        "# Create a new classifier-layer on top use unpacking of the layers of the model, shallow copied\n",
        "\n",
        "# This will perform shallow copy of the base layers\n",
        "# So, if there were complex connections in the base, then this should be used as it preserves the architecture\n",
        "# as opposed to the unpacking method below\n",
        "\n",
        "from tensorflow.keras import models, layers\n",
        "\n",
        "# In Keras, layers and models (including submodels created with the Model constructor) are all callable objects.\n",
        "# This means you can treat them like functions and pass input tensors to them to obtain output tensors.\n",
        "truncated_pretrained_model = models.Model(inputs=model.inputs, outputs=model.layers[-3].output)\n",
        "\n",
        "print(model.layers[0].trainable)\n",
        "\n",
        "# Freeze all layers in the truncated_pretrained_model\n",
        "for layer in truncated_pretrained_model.layers:\n",
        "    layer.trainable = False\n",
        "\n",
        "target_model = models.Sequential([\n",
        "    truncated_pretrained_model,         # Use the submodel/functional at first, again a form of shallow copy of the layers\n",
        "    layers.Dense(64, activation='relu'),\n",
        "    layers.Dense(n2, activation='softmax')   #Randomly initialized, so we need some warming-up\n",
        "])\n",
        "\n",
        "# Compile the model\n",
        "target_model.compile(optimizer='adam', loss='categorical_crossentropy', metrics=['accuracy'])\n",
        "\n",
        "target_model.fit(target_x_train, target_y_train, epochs=5)\n",
        "# Evaluate the target_model on the test set\n",
        "test_loss, test_acc = target_model.evaluate(target_x_test, target_y_test)\n",
        "\n",
        "print(f\"target_model test loss: {test_loss}\")\n",
        "print(f\"target_model test accuracy: {test_acc}\")"
      ]
    },
    {
      "cell_type": "code",
      "execution_count": null,
      "id": "a73d1aaf-3f97-45d8-953c-27458de9eb61",
      "metadata": {
        "id": "a73d1aaf-3f97-45d8-953c-27458de9eb61",
        "outputId": "f6e12dd8-6bfd-4834-b7ee-c1f28037a547"
      },
      "outputs": [
        {
          "name": "stdout",
          "output_type": "stream",
          "text": [
            "False\n"
          ]
        }
      ],
      "source": [
        "len(target_model.layers)\n",
        "print(model.layers[0].trainable)"
      ]
    },
    {
      "cell_type": "code",
      "execution_count": null,
      "id": "5d7f17bf-84f4-434f-ac2a-d65607087a42",
      "metadata": {
        "id": "5d7f17bf-84f4-434f-ac2a-d65607087a42",
        "outputId": "e728b01b-e77e-4e2d-ae2e-c1a8aabd0836"
      },
      "outputs": [
        {
          "name": "stdout",
          "output_type": "stream",
          "text": [
            "Epoch 1/50\n",
            "1/1 [==============================] - 0s 230ms/step - loss: 0.3467 - accuracy: 1.0000\n",
            "Epoch 2/50\n",
            "1/1 [==============================] - 0s 13ms/step - loss: 0.2385 - accuracy: 1.0000\n",
            "Epoch 3/50\n",
            "1/1 [==============================] - 0s 18ms/step - loss: 0.1489 - accuracy: 1.0000\n",
            "Epoch 4/50\n",
            "1/1 [==============================] - 0s 12ms/step - loss: 0.0893 - accuracy: 1.0000\n",
            "Epoch 5/50\n",
            "1/1 [==============================] - 0s 12ms/step - loss: 0.0524 - accuracy: 1.0000\n",
            "Epoch 6/50\n",
            "1/1 [==============================] - 0s 12ms/step - loss: 0.0305 - accuracy: 1.0000\n",
            "Epoch 7/50\n",
            "1/1 [==============================] - 0s 12ms/step - loss: 0.0179 - accuracy: 1.0000\n",
            "Epoch 8/50\n",
            "1/1 [==============================] - 0s 12ms/step - loss: 0.0107 - accuracy: 1.0000\n",
            "Epoch 9/50\n",
            "1/1 [==============================] - 0s 12ms/step - loss: 0.0065 - accuracy: 1.0000\n",
            "Epoch 10/50\n",
            "1/1 [==============================] - 0s 12ms/step - loss: 0.0041 - accuracy: 1.0000\n",
            "Epoch 11/50\n",
            "1/1 [==============================] - 0s 12ms/step - loss: 0.0026 - accuracy: 1.0000\n",
            "Epoch 12/50\n",
            "1/1 [==============================] - 0s 11ms/step - loss: 0.0018 - accuracy: 1.0000\n",
            "Epoch 13/50\n",
            "1/1 [==============================] - 0s 12ms/step - loss: 0.0012 - accuracy: 1.0000\n",
            "Epoch 14/50\n",
            "1/1 [==============================] - 0s 12ms/step - loss: 8.4586e-04 - accuracy: 1.0000\n",
            "Epoch 15/50\n",
            "1/1 [==============================] - 0s 12ms/step - loss: 6.1092e-04 - accuracy: 1.0000\n",
            "Epoch 16/50\n",
            "1/1 [==============================] - 0s 12ms/step - loss: 4.5207e-04 - accuracy: 1.0000\n",
            "Epoch 17/50\n",
            "1/1 [==============================] - 0s 11ms/step - loss: 3.4207e-04 - accuracy: 1.0000\n",
            "Epoch 18/50\n",
            "1/1 [==============================] - 0s 11ms/step - loss: 2.6444e-04 - accuracy: 1.0000\n",
            "Epoch 19/50\n",
            "1/1 [==============================] - 0s 12ms/step - loss: 2.0849e-04 - accuracy: 1.0000\n",
            "Epoch 20/50\n",
            "1/1 [==============================] - 0s 12ms/step - loss: 1.6730e-04 - accuracy: 1.0000\n",
            "Epoch 21/50\n",
            "1/1 [==============================] - 0s 12ms/step - loss: 1.3654e-04 - accuracy: 1.0000\n",
            "Epoch 22/50\n",
            "1/1 [==============================] - 0s 12ms/step - loss: 1.1311e-04 - accuracy: 1.0000\n",
            "Epoch 23/50\n",
            "1/1 [==============================] - 0s 12ms/step - loss: 9.5034e-05 - accuracy: 1.0000\n",
            "Epoch 24/50\n",
            "1/1 [==============================] - 0s 12ms/step - loss: 8.0917e-05 - accuracy: 1.0000\n",
            "Epoch 25/50\n",
            "1/1 [==============================] - 0s 12ms/step - loss: 6.9749e-05 - accuracy: 1.0000\n",
            "Epoch 26/50\n",
            "1/1 [==============================] - 0s 12ms/step - loss: 6.0816e-05 - accuracy: 1.0000\n",
            "Epoch 27/50\n",
            "1/1 [==============================] - 0s 12ms/step - loss: 5.3593e-05 - accuracy: 1.0000\n",
            "Epoch 28/50\n",
            "1/1 [==============================] - 0s 11ms/step - loss: 4.7699e-05 - accuracy: 1.0000\n",
            "Epoch 29/50\n",
            "1/1 [==============================] - 0s 12ms/step - loss: 4.2824e-05 - accuracy: 1.0000\n",
            "Epoch 30/50\n",
            "1/1 [==============================] - 0s 12ms/step - loss: 3.8759e-05 - accuracy: 1.0000\n",
            "Epoch 31/50\n",
            "1/1 [==============================] - 0s 12ms/step - loss: 3.5374e-05 - accuracy: 1.0000\n",
            "Epoch 32/50\n",
            "1/1 [==============================] - 0s 12ms/step - loss: 3.2501e-05 - accuracy: 1.0000\n",
            "Epoch 33/50\n",
            "1/1 [==============================] - 0s 12ms/step - loss: 3.0040e-05 - accuracy: 1.0000\n",
            "Epoch 34/50\n",
            "1/1 [==============================] - 0s 12ms/step - loss: 2.7983e-05 - accuracy: 1.0000\n",
            "Epoch 35/50\n",
            "1/1 [==============================] - 0s 11ms/step - loss: 2.6177e-05 - accuracy: 1.0000\n",
            "Epoch 36/50\n",
            "1/1 [==============================] - 0s 11ms/step - loss: 2.4646e-05 - accuracy: 1.0000\n",
            "Epoch 37/50\n",
            "1/1 [==============================] - 0s 11ms/step - loss: 2.3323e-05 - accuracy: 1.0000\n",
            "Epoch 38/50\n",
            "1/1 [==============================] - 0s 12ms/step - loss: 2.2119e-05 - accuracy: 1.0000\n",
            "Epoch 39/50\n",
            "1/1 [==============================] - 0s 12ms/step - loss: 2.1088e-05 - accuracy: 1.0000\n",
            "Epoch 40/50\n",
            "1/1 [==============================] - 0s 13ms/step - loss: 2.0200e-05 - accuracy: 1.0000\n",
            "Epoch 41/50\n",
            "1/1 [==============================] - 0s 13ms/step - loss: 1.9407e-05 - accuracy: 1.0000\n",
            "Epoch 42/50\n",
            "1/1 [==============================] - 0s 16ms/step - loss: 1.8686e-05 - accuracy: 1.0000\n",
            "Epoch 43/50\n",
            "1/1 [==============================] - 0s 13ms/step - loss: 1.8066e-05 - accuracy: 1.0000\n",
            "Epoch 44/50\n",
            "1/1 [==============================] - 0s 12ms/step - loss: 1.7482e-05 - accuracy: 1.0000\n",
            "Epoch 45/50\n",
            "1/1 [==============================] - 0s 13ms/step - loss: 1.6981e-05 - accuracy: 1.0000\n",
            "Epoch 46/50\n",
            "1/1 [==============================] - 0s 12ms/step - loss: 1.6534e-05 - accuracy: 1.0000\n",
            "Epoch 47/50\n",
            "1/1 [==============================] - 0s 12ms/step - loss: 1.6129e-05 - accuracy: 1.0000\n",
            "Epoch 48/50\n",
            "1/1 [==============================] - 0s 13ms/step - loss: 1.5747e-05 - accuracy: 1.0000\n",
            "Epoch 49/50\n",
            "1/1 [==============================] - 0s 12ms/step - loss: 1.5431e-05 - accuracy: 1.0000\n",
            "Epoch 50/50\n",
            "1/1 [==============================] - 0s 13ms/step - loss: 1.5127e-05 - accuracy: 1.0000\n",
            "125/125 [==============================] - 1s 7ms/step - loss: 0.5605 - accuracy: 0.8795\n",
            "Retrained target_model test loss: 0.560497522354126\n",
            "Retrained target_model test accuracy: 0.8794999718666077\n",
            "False\n",
            "Weights of the first layers are the same.\n"
          ]
        }
      ],
      "source": [
        "# Unfreeze all layers in the target_model, not recommended for small datasets\n",
        "# Due to the shallow copy above, the base model will also change\n",
        "\n",
        "# To re-enable training for the layers inside truncated_pretrained_model\n",
        "for layer in truncated_pretrained_model.layers:\n",
        "    layer.trainable = True\n",
        "\n",
        "# To ensure the outer layers are trainable (if they were set to non-trainable for some reason), iterate over them as well\n",
        "for layer in target_model.layers:\n",
        "    layer.trainable = True\n",
        "\n",
        "# Compile the model, because it will initialize the computation graph that contains learning rates, momentums etc.\n",
        "target_model.compile(optimizer='adam', loss='categorical_crossentropy', metrics=['accuracy'])\n",
        "\n",
        "target_model.fit(target_x_train, target_y_train, epochs=50)  #\"model\" will also be updated\n",
        "\n",
        "# Evaluate the target_model on the test set\n",
        "test_loss, test_acc = target_model.evaluate(target_x_test, target_y_test)\n",
        "\n",
        "print(f\"Retrained target_model test loss: {test_loss}\")\n",
        "print(f\"Retrained target_model test accuracy: {test_acc}\")\n",
        "\n",
        "print(target_model.layers[0]==model.layers[0])\n",
        "weights_model = model.layers[0].get_weights()\n",
        "weights_target_model = target_model.layers[0].get_weights()\n",
        "if np.array_equal(weights_model[0], weights_target_model[0]):\n",
        "    print(\"Weights of the first layers are the same.\")\n",
        "else:\n",
        "    print(\"Weights of the first layers are different.\")"
      ]
    },
    {
      "cell_type": "code",
      "execution_count": null,
      "id": "90bacec5-6382-40fd-9a6b-1c7929d3e2be",
      "metadata": {
        "id": "90bacec5-6382-40fd-9a6b-1c7929d3e2be",
        "outputId": "b46cc66b-a59a-448f-e5a3-19c6329d8460"
      },
      "outputs": [
        {
          "data": {
            "text/plain": [
              "TensorShape([64])"
            ]
          },
          "execution_count": 18,
          "metadata": {},
          "output_type": "execute_result"
        }
      ],
      "source": [
        "target_model.layers[1].weights[1].shape"
      ]
    },
    {
      "cell_type": "code",
      "execution_count": null,
      "id": "12487d75-3d57-454d-8101-049de4134532",
      "metadata": {
        "id": "12487d75-3d57-454d-8101-049de4134532",
        "outputId": "9b74fa3b-0386-4dd2-a508-8eb76106f753"
      },
      "outputs": [
        {
          "name": "stdout",
          "output_type": "stream",
          "text": [
            "Epoch 1/5\n",
            "1/1 [==============================] - 0s 190ms/step - loss: 1.4634 - accuracy: 0.2000\n",
            "Epoch 2/5\n",
            "1/1 [==============================] - 0s 13ms/step - loss: 1.0415 - accuracy: 0.5500\n",
            "Epoch 3/5\n",
            "1/1 [==============================] - 0s 11ms/step - loss: 0.7427 - accuracy: 0.8000\n",
            "Epoch 4/5\n",
            "1/1 [==============================] - 0s 11ms/step - loss: 0.4848 - accuracy: 0.8000\n",
            "Epoch 5/5\n",
            "1/1 [==============================] - 0s 10ms/step - loss: 0.3060 - accuracy: 0.9500\n",
            "125/125 [==============================] - 1s 7ms/step - loss: 0.4183 - accuracy: 0.8698\n",
            "target_model test loss: 0.4182673990726471\n",
            "target_model test accuracy: 0.8697500228881836\n"
          ]
        }
      ],
      "source": [
        "# Unpacking approach is not preferred\n",
        "\n",
        "target_model = models.Sequential([\n",
        "    *model.layers[:-2],\n",
        "    layers.Dense(64, activation='relu'),\n",
        "    layers.Dense(n2, activation='softmax')\n",
        "])\n",
        "\n",
        "# Freeze all layers coming from the base model\n",
        "for layer in target_model.layers[:-2]:\n",
        "    layer.trainable = False\n",
        "\n",
        "# Compile the model\n",
        "target_model.compile(optimizer='adam', loss='categorical_crossentropy', metrics=['accuracy'])\n",
        "\n",
        "target_model.fit(target_x_train, target_y_train, epochs=5)\n",
        "# Evaluate the target_model on the test set\n",
        "test_loss, test_acc = target_model.evaluate(target_x_test, target_y_test)\n",
        "\n",
        "print(f\"target_model test loss: {test_loss}\")\n",
        "print(f\"target_model test accuracy: {test_acc}\")"
      ]
    },
    {
      "cell_type": "code",
      "execution_count": null,
      "id": "9043602f-082b-4e5c-ab65-f5fede7f9015",
      "metadata": {
        "id": "9043602f-082b-4e5c-ab65-f5fede7f9015",
        "outputId": "47dd7c2b-7194-4443-812d-b998dad72dd1"
      },
      "outputs": [
        {
          "name": "stdout",
          "output_type": "stream",
          "text": [
            "(None, 28, 28, 1)\n",
            "(None, 26, 26, 32)\n",
            "(None, 13, 13, 32)\n",
            "(None, 11, 11, 64)\n",
            "(None, 5, 5, 64)\n",
            "(None, 1600)\n",
            "(None, 64)\n",
            "(None, 4)\n",
            "125/125 [==============================] - 1s 7ms/step - loss: 0.3548 - accuracy: 0.9025\n",
            "target_model test loss: 0.35482150316238403\n",
            "target_model test accuracy: 0.9024999737739563\n"
          ]
        }
      ],
      "source": [
        "# Copy options: saving/loading the model, cloning, and serialization/deserialization.\n",
        "\n",
        "from tensorflow.keras.models import clone_model, Model\n",
        "from tensorflow.keras.layers import Input, Dense\n",
        "\n",
        "cloned_model = clone_model(model)\n",
        "cloned_model.set_weights(model.get_weights())\n",
        "\n",
        "model_input = Input(shape=input_shape)\n",
        "x = model_input\n",
        "print(x.shape)\n",
        "for layer in cloned_model.layers[:-2]:\n",
        "    x = layer(x)\n",
        "    print(x.shape)\n",
        "x = Dense(64, activation='relu')(x)\n",
        "print(x.shape)\n",
        "new_output = Dense(n2, activation='softmax')(x)\n",
        "print(new_output.shape)\n",
        "target_model = Model(inputs=model_input, outputs=new_output)\n",
        "\n",
        "for layer in target_model.layers[:-2]:\n",
        "    layer.trainable = True\n",
        "\n",
        "target_model.compile(optimizer='adam', loss='categorical_crossentropy', metrics=['accuracy'])\n",
        "\n",
        "target_model.fit(target_x_train, target_y_train, epochs=5, verbose=0)\n",
        "test_loss, test_acc = target_model.evaluate(target_x_test, target_y_test)\n",
        "print(f\"target_model test loss: {test_loss}\")\n",
        "print(f\"target_model test accuracy: {test_acc}\")"
      ]
    },
    {
      "cell_type": "code",
      "execution_count": null,
      "id": "37237f75-126f-4ce2-be0c-1b8684eb1bd3",
      "metadata": {
        "id": "37237f75-126f-4ce2-be0c-1b8684eb1bd3",
        "outputId": "879595ee-2a4b-4519-d3a1-32013771cf18"
      },
      "outputs": [
        {
          "data": {
            "text/plain": [
              "array([0, 0, 0, 0, 0, 0, 0, 0, 0, 0, 0, 0, 0, 0, 0, 0, 0, 0, 0, 0])"
            ]
          },
          "execution_count": 21,
          "metadata": {},
          "output_type": "execute_result"
        }
      ],
      "source": [
        "np.argmax(target_model(np.random.rand(20,28,28,1)), axis=1)"
      ]
    },
    {
      "cell_type": "code",
      "execution_count": null,
      "id": "f6faa212-d71e-42b7-be24-edbb1a13da92",
      "metadata": {
        "id": "f6faa212-d71e-42b7-be24-edbb1a13da92",
        "outputId": "d963ebbc-c18f-46b8-c046-080a28dc877a"
      },
      "outputs": [
        {
          "name": "stdout",
          "output_type": "stream",
          "text": [
            "125/125 [==============================] - 1s 7ms/step - loss: 0.4635 - accuracy: 0.8907\n",
            "target_model test loss: 0.4635031223297119\n",
            "target_model test accuracy: 0.890749990940094\n"
          ]
        }
      ],
      "source": [
        "# In a way, cloning approaches work like this:\n",
        "# Manually replicate the architecture of the original model and copy the weights of corresponding layers.\n",
        "\n",
        "target_model = models.Sequential([\n",
        "    layers.Conv2D(32, kernel_size=(3, 3), activation='relu', input_shape=input_shape),\n",
        "    layers.MaxPooling2D(pool_size=(2, 2)),\n",
        "    layers.Conv2D(64, (3, 3), activation='relu'),\n",
        "    layers.MaxPooling2D((2, 2)),\n",
        "    layers.Flatten(),\n",
        "    layers.Dense(64, activation='relu'),\n",
        "    layers.Dense(n2, activation='softmax')\n",
        "])\n",
        "\n",
        "for i, layer in enumerate(model.layers[:-2]):\n",
        "    target_model.layers[i].set_weights(layer.get_weights())\n",
        "    target_model.layers[i].trainable = False\n",
        "\n",
        "target_model.compile(optimizer='adam', loss='categorical_crossentropy', metrics=['accuracy'])\n",
        "\n",
        "target_model.fit(target_x_train, target_y_train, epochs=5, verbose=0)\n",
        "test_loss, test_acc = target_model.evaluate(target_x_test, target_y_test)\n",
        "print(f\"target_model test loss: {test_loss}\")\n",
        "print(f\"target_model test accuracy: {test_acc}\")"
      ]
    },
    {
      "cell_type": "code",
      "execution_count": null,
      "id": "8bcf3a18-713a-4ade-b313-9178600be19a",
      "metadata": {
        "id": "8bcf3a18-713a-4ade-b313-9178600be19a",
        "outputId": "e10871d2-0c00-46e8-cc0e-1539eb6f1d55"
      },
      "outputs": [
        {
          "name": "stdout",
          "output_type": "stream",
          "text": [
            "Model: \"resnet50\"\n",
            "__________________________________________________________________________________________________\n",
            " Layer (type)                Output Shape                 Param #   Connected to                  \n",
            "==================================================================================================\n",
            " input_2 (InputLayer)        [(None, 224, 224, 3)]        0         []                            \n",
            "                                                                                                  \n",
            " conv1_pad (ZeroPadding2D)   (None, 230, 230, 3)          0         ['input_2[0][0]']             \n",
            "                                                                                                  \n",
            " conv1_conv (Conv2D)         (None, 112, 112, 64)         9472      ['conv1_pad[0][0]']           \n",
            "                                                                                                  \n",
            " conv1_bn (BatchNormalizati  (None, 112, 112, 64)         256       ['conv1_conv[0][0]']          \n",
            " on)                                                                                              \n",
            "                                                                                                  \n",
            " conv1_relu (Activation)     (None, 112, 112, 64)         0         ['conv1_bn[0][0]']            \n",
            "                                                                                                  \n",
            " pool1_pad (ZeroPadding2D)   (None, 114, 114, 64)         0         ['conv1_relu[0][0]']          \n",
            "                                                                                                  \n",
            " pool1_pool (MaxPooling2D)   (None, 56, 56, 64)           0         ['pool1_pad[0][0]']           \n",
            "                                                                                                  \n",
            " conv2_block1_1_conv (Conv2  (None, 56, 56, 64)           4160      ['pool1_pool[0][0]']          \n",
            " D)                                                                                               \n",
            "                                                                                                  \n",
            " conv2_block1_1_bn (BatchNo  (None, 56, 56, 64)           256       ['conv2_block1_1_conv[0][0]'] \n",
            " rmalization)                                                                                     \n",
            "                                                                                                  \n",
            " conv2_block1_1_relu (Activ  (None, 56, 56, 64)           0         ['conv2_block1_1_bn[0][0]']   \n",
            " ation)                                                                                           \n",
            "                                                                                                  \n",
            " conv2_block1_2_conv (Conv2  (None, 56, 56, 64)           36928     ['conv2_block1_1_relu[0][0]'] \n",
            " D)                                                                                               \n",
            "                                                                                                  \n",
            " conv2_block1_2_bn (BatchNo  (None, 56, 56, 64)           256       ['conv2_block1_2_conv[0][0]'] \n",
            " rmalization)                                                                                     \n",
            "                                                                                                  \n",
            " conv2_block1_2_relu (Activ  (None, 56, 56, 64)           0         ['conv2_block1_2_bn[0][0]']   \n",
            " ation)                                                                                           \n",
            "                                                                                                  \n",
            " conv2_block1_0_conv (Conv2  (None, 56, 56, 256)          16640     ['pool1_pool[0][0]']          \n",
            " D)                                                                                               \n",
            "                                                                                                  \n",
            " conv2_block1_3_conv (Conv2  (None, 56, 56, 256)          16640     ['conv2_block1_2_relu[0][0]'] \n",
            " D)                                                                                               \n",
            "                                                                                                  \n",
            " conv2_block1_0_bn (BatchNo  (None, 56, 56, 256)          1024      ['conv2_block1_0_conv[0][0]'] \n",
            " rmalization)                                                                                     \n",
            "                                                                                                  \n",
            " conv2_block1_3_bn (BatchNo  (None, 56, 56, 256)          1024      ['conv2_block1_3_conv[0][0]'] \n",
            " rmalization)                                                                                     \n",
            "                                                                                                  \n",
            " conv2_block1_add (Add)      (None, 56, 56, 256)          0         ['conv2_block1_0_bn[0][0]',   \n",
            "                                                                     'conv2_block1_3_bn[0][0]']   \n",
            "                                                                                                  \n",
            " conv2_block1_out (Activati  (None, 56, 56, 256)          0         ['conv2_block1_add[0][0]']    \n",
            " on)                                                                                              \n",
            "                                                                                                  \n",
            " conv2_block2_1_conv (Conv2  (None, 56, 56, 64)           16448     ['conv2_block1_out[0][0]']    \n",
            " D)                                                                                               \n",
            "                                                                                                  \n",
            " conv2_block2_1_bn (BatchNo  (None, 56, 56, 64)           256       ['conv2_block2_1_conv[0][0]'] \n",
            " rmalization)                                                                                     \n",
            "                                                                                                  \n",
            " conv2_block2_1_relu (Activ  (None, 56, 56, 64)           0         ['conv2_block2_1_bn[0][0]']   \n",
            " ation)                                                                                           \n",
            "                                                                                                  \n",
            " conv2_block2_2_conv (Conv2  (None, 56, 56, 64)           36928     ['conv2_block2_1_relu[0][0]'] \n",
            " D)                                                                                               \n",
            "                                                                                                  \n",
            " conv2_block2_2_bn (BatchNo  (None, 56, 56, 64)           256       ['conv2_block2_2_conv[0][0]'] \n",
            " rmalization)                                                                                     \n",
            "                                                                                                  \n",
            " conv2_block2_2_relu (Activ  (None, 56, 56, 64)           0         ['conv2_block2_2_bn[0][0]']   \n",
            " ation)                                                                                           \n",
            "                                                                                                  \n",
            " conv2_block2_3_conv (Conv2  (None, 56, 56, 256)          16640     ['conv2_block2_2_relu[0][0]'] \n",
            " D)                                                                                               \n",
            "                                                                                                  \n",
            " conv2_block2_3_bn (BatchNo  (None, 56, 56, 256)          1024      ['conv2_block2_3_conv[0][0]'] \n",
            " rmalization)                                                                                     \n",
            "                                                                                                  \n",
            " conv2_block2_add (Add)      (None, 56, 56, 256)          0         ['conv2_block1_out[0][0]',    \n",
            "                                                                     'conv2_block2_3_bn[0][0]']   \n",
            "                                                                                                  \n",
            " conv2_block2_out (Activati  (None, 56, 56, 256)          0         ['conv2_block2_add[0][0]']    \n",
            " on)                                                                                              \n",
            "                                                                                                  \n",
            " conv2_block3_1_conv (Conv2  (None, 56, 56, 64)           16448     ['conv2_block2_out[0][0]']    \n",
            " D)                                                                                               \n",
            "                                                                                                  \n",
            " conv2_block3_1_bn (BatchNo  (None, 56, 56, 64)           256       ['conv2_block3_1_conv[0][0]'] \n",
            " rmalization)                                                                                     \n",
            "                                                                                                  \n",
            " conv2_block3_1_relu (Activ  (None, 56, 56, 64)           0         ['conv2_block3_1_bn[0][0]']   \n",
            " ation)                                                                                           \n",
            "                                                                                                  \n",
            " conv2_block3_2_conv (Conv2  (None, 56, 56, 64)           36928     ['conv2_block3_1_relu[0][0]'] \n",
            " D)                                                                                               \n",
            "                                                                                                  \n",
            " conv2_block3_2_bn (BatchNo  (None, 56, 56, 64)           256       ['conv2_block3_2_conv[0][0]'] \n",
            " rmalization)                                                                                     \n",
            "                                                                                                  \n",
            " conv2_block3_2_relu (Activ  (None, 56, 56, 64)           0         ['conv2_block3_2_bn[0][0]']   \n",
            " ation)                                                                                           \n",
            "                                                                                                  \n",
            " conv2_block3_3_conv (Conv2  (None, 56, 56, 256)          16640     ['conv2_block3_2_relu[0][0]'] \n",
            " D)                                                                                               \n",
            "                                                                                                  \n",
            " conv2_block3_3_bn (BatchNo  (None, 56, 56, 256)          1024      ['conv2_block3_3_conv[0][0]'] \n",
            " rmalization)                                                                                     \n",
            "                                                                                                  \n",
            " conv2_block3_add (Add)      (None, 56, 56, 256)          0         ['conv2_block2_out[0][0]',    \n",
            "                                                                     'conv2_block3_3_bn[0][0]']   \n",
            "                                                                                                  \n",
            " conv2_block3_out (Activati  (None, 56, 56, 256)          0         ['conv2_block3_add[0][0]']    \n",
            " on)                                                                                              \n",
            "                                                                                                  \n",
            " conv3_block1_1_conv (Conv2  (None, 28, 28, 128)          32896     ['conv2_block3_out[0][0]']    \n",
            " D)                                                                                               \n",
            "                                                                                                  \n",
            " conv3_block1_1_bn (BatchNo  (None, 28, 28, 128)          512       ['conv3_block1_1_conv[0][0]'] \n",
            " rmalization)                                                                                     \n",
            "                                                                                                  \n",
            " conv3_block1_1_relu (Activ  (None, 28, 28, 128)          0         ['conv3_block1_1_bn[0][0]']   \n",
            " ation)                                                                                           \n",
            "                                                                                                  \n",
            " conv3_block1_2_conv (Conv2  (None, 28, 28, 128)          147584    ['conv3_block1_1_relu[0][0]'] \n",
            " D)                                                                                               \n",
            "                                                                                                  \n",
            " conv3_block1_2_bn (BatchNo  (None, 28, 28, 128)          512       ['conv3_block1_2_conv[0][0]'] \n",
            " rmalization)                                                                                     \n",
            "                                                                                                  \n",
            " conv3_block1_2_relu (Activ  (None, 28, 28, 128)          0         ['conv3_block1_2_bn[0][0]']   \n",
            " ation)                                                                                           \n",
            "                                                                                                  \n",
            " conv3_block1_0_conv (Conv2  (None, 28, 28, 512)          131584    ['conv2_block3_out[0][0]']    \n",
            " D)                                                                                               \n",
            "                                                                                                  \n",
            " conv3_block1_3_conv (Conv2  (None, 28, 28, 512)          66048     ['conv3_block1_2_relu[0][0]'] \n",
            " D)                                                                                               \n",
            "                                                                                                  \n",
            " conv3_block1_0_bn (BatchNo  (None, 28, 28, 512)          2048      ['conv3_block1_0_conv[0][0]'] \n",
            " rmalization)                                                                                     \n",
            "                                                                                                  \n",
            " conv3_block1_3_bn (BatchNo  (None, 28, 28, 512)          2048      ['conv3_block1_3_conv[0][0]'] \n",
            " rmalization)                                                                                     \n",
            "                                                                                                  \n",
            " conv3_block1_add (Add)      (None, 28, 28, 512)          0         ['conv3_block1_0_bn[0][0]',   \n",
            "                                                                     'conv3_block1_3_bn[0][0]']   \n",
            "                                                                                                  \n",
            " conv3_block1_out (Activati  (None, 28, 28, 512)          0         ['conv3_block1_add[0][0]']    \n",
            " on)                                                                                              \n",
            "                                                                                                  \n",
            " conv3_block2_1_conv (Conv2  (None, 28, 28, 128)          65664     ['conv3_block1_out[0][0]']    \n",
            " D)                                                                                               \n",
            "                                                                                                  \n",
            " conv3_block2_1_bn (BatchNo  (None, 28, 28, 128)          512       ['conv3_block2_1_conv[0][0]'] \n",
            " rmalization)                                                                                     \n",
            "                                                                                                  \n",
            " conv3_block2_1_relu (Activ  (None, 28, 28, 128)          0         ['conv3_block2_1_bn[0][0]']   \n",
            " ation)                                                                                           \n",
            "                                                                                                  \n",
            " conv3_block2_2_conv (Conv2  (None, 28, 28, 128)          147584    ['conv3_block2_1_relu[0][0]'] \n",
            " D)                                                                                               \n",
            "                                                                                                  \n",
            " conv3_block2_2_bn (BatchNo  (None, 28, 28, 128)          512       ['conv3_block2_2_conv[0][0]'] \n",
            " rmalization)                                                                                     \n",
            "                                                                                                  \n",
            " conv3_block2_2_relu (Activ  (None, 28, 28, 128)          0         ['conv3_block2_2_bn[0][0]']   \n",
            " ation)                                                                                           \n",
            "                                                                                                  \n",
            " conv3_block2_3_conv (Conv2  (None, 28, 28, 512)          66048     ['conv3_block2_2_relu[0][0]'] \n",
            " D)                                                                                               \n",
            "                                                                                                  \n",
            " conv3_block2_3_bn (BatchNo  (None, 28, 28, 512)          2048      ['conv3_block2_3_conv[0][0]'] \n",
            " rmalization)                                                                                     \n",
            "                                                                                                  \n",
            " conv3_block2_add (Add)      (None, 28, 28, 512)          0         ['conv3_block1_out[0][0]',    \n",
            "                                                                     'conv3_block2_3_bn[0][0]']   \n",
            "                                                                                                  \n",
            " conv3_block2_out (Activati  (None, 28, 28, 512)          0         ['conv3_block2_add[0][0]']    \n",
            " on)                                                                                              \n",
            "                                                                                                  \n",
            " conv3_block3_1_conv (Conv2  (None, 28, 28, 128)          65664     ['conv3_block2_out[0][0]']    \n",
            " D)                                                                                               \n",
            "                                                                                                  \n",
            " conv3_block3_1_bn (BatchNo  (None, 28, 28, 128)          512       ['conv3_block3_1_conv[0][0]'] \n",
            " rmalization)                                                                                     \n",
            "                                                                                                  \n",
            " conv3_block3_1_relu (Activ  (None, 28, 28, 128)          0         ['conv3_block3_1_bn[0][0]']   \n",
            " ation)                                                                                           \n",
            "                                                                                                  \n",
            " conv3_block3_2_conv (Conv2  (None, 28, 28, 128)          147584    ['conv3_block3_1_relu[0][0]'] \n",
            " D)                                                                                               \n",
            "                                                                                                  \n",
            " conv3_block3_2_bn (BatchNo  (None, 28, 28, 128)          512       ['conv3_block3_2_conv[0][0]'] \n",
            " rmalization)                                                                                     \n",
            "                                                                                                  \n",
            " conv3_block3_2_relu (Activ  (None, 28, 28, 128)          0         ['conv3_block3_2_bn[0][0]']   \n",
            " ation)                                                                                           \n",
            "                                                                                                  \n",
            " conv3_block3_3_conv (Conv2  (None, 28, 28, 512)          66048     ['conv3_block3_2_relu[0][0]'] \n",
            " D)                                                                                               \n",
            "                                                                                                  \n",
            " conv3_block3_3_bn (BatchNo  (None, 28, 28, 512)          2048      ['conv3_block3_3_conv[0][0]'] \n",
            " rmalization)                                                                                     \n",
            "                                                                                                  \n",
            " conv3_block3_add (Add)      (None, 28, 28, 512)          0         ['conv3_block2_out[0][0]',    \n",
            "                                                                     'conv3_block3_3_bn[0][0]']   \n",
            "                                                                                                  \n",
            " conv3_block3_out (Activati  (None, 28, 28, 512)          0         ['conv3_block3_add[0][0]']    \n",
            " on)                                                                                              \n",
            "                                                                                                  \n",
            " conv3_block4_1_conv (Conv2  (None, 28, 28, 128)          65664     ['conv3_block3_out[0][0]']    \n",
            " D)                                                                                               \n",
            "                                                                                                  \n",
            " conv3_block4_1_bn (BatchNo  (None, 28, 28, 128)          512       ['conv3_block4_1_conv[0][0]'] \n",
            " rmalization)                                                                                     \n",
            "                                                                                                  \n",
            " conv3_block4_1_relu (Activ  (None, 28, 28, 128)          0         ['conv3_block4_1_bn[0][0]']   \n",
            " ation)                                                                                           \n",
            "                                                                                                  \n",
            " conv3_block4_2_conv (Conv2  (None, 28, 28, 128)          147584    ['conv3_block4_1_relu[0][0]'] \n",
            " D)                                                                                               \n",
            "                                                                                                  \n",
            " conv3_block4_2_bn (BatchNo  (None, 28, 28, 128)          512       ['conv3_block4_2_conv[0][0]'] \n",
            " rmalization)                                                                                     \n",
            "                                                                                                  \n",
            " conv3_block4_2_relu (Activ  (None, 28, 28, 128)          0         ['conv3_block4_2_bn[0][0]']   \n",
            " ation)                                                                                           \n",
            "                                                                                                  \n",
            " conv3_block4_3_conv (Conv2  (None, 28, 28, 512)          66048     ['conv3_block4_2_relu[0][0]'] \n",
            " D)                                                                                               \n",
            "                                                                                                  \n",
            " conv3_block4_3_bn (BatchNo  (None, 28, 28, 512)          2048      ['conv3_block4_3_conv[0][0]'] \n",
            " rmalization)                                                                                     \n",
            "                                                                                                  \n",
            " conv3_block4_add (Add)      (None, 28, 28, 512)          0         ['conv3_block3_out[0][0]',    \n",
            "                                                                     'conv3_block4_3_bn[0][0]']   \n",
            "                                                                                                  \n",
            " conv3_block4_out (Activati  (None, 28, 28, 512)          0         ['conv3_block4_add[0][0]']    \n",
            " on)                                                                                              \n",
            "                                                                                                  \n",
            " conv4_block1_1_conv (Conv2  (None, 14, 14, 256)          131328    ['conv3_block4_out[0][0]']    \n",
            " D)                                                                                               \n",
            "                                                                                                  \n",
            " conv4_block1_1_bn (BatchNo  (None, 14, 14, 256)          1024      ['conv4_block1_1_conv[0][0]'] \n",
            " rmalization)                                                                                     \n",
            "                                                                                                  \n",
            " conv4_block1_1_relu (Activ  (None, 14, 14, 256)          0         ['conv4_block1_1_bn[0][0]']   \n",
            " ation)                                                                                           \n",
            "                                                                                                  \n",
            " conv4_block1_2_conv (Conv2  (None, 14, 14, 256)          590080    ['conv4_block1_1_relu[0][0]'] \n",
            " D)                                                                                               \n",
            "                                                                                                  \n",
            " conv4_block1_2_bn (BatchNo  (None, 14, 14, 256)          1024      ['conv4_block1_2_conv[0][0]'] \n",
            " rmalization)                                                                                     \n",
            "                                                                                                  \n",
            " conv4_block1_2_relu (Activ  (None, 14, 14, 256)          0         ['conv4_block1_2_bn[0][0]']   \n",
            " ation)                                                                                           \n",
            "                                                                                                  \n",
            " conv4_block1_0_conv (Conv2  (None, 14, 14, 1024)         525312    ['conv3_block4_out[0][0]']    \n",
            " D)                                                                                               \n",
            "                                                                                                  \n",
            " conv4_block1_3_conv (Conv2  (None, 14, 14, 1024)         263168    ['conv4_block1_2_relu[0][0]'] \n",
            " D)                                                                                               \n",
            "                                                                                                  \n",
            " conv4_block1_0_bn (BatchNo  (None, 14, 14, 1024)         4096      ['conv4_block1_0_conv[0][0]'] \n",
            " rmalization)                                                                                     \n",
            "                                                                                                  \n",
            " conv4_block1_3_bn (BatchNo  (None, 14, 14, 1024)         4096      ['conv4_block1_3_conv[0][0]'] \n",
            " rmalization)                                                                                     \n",
            "                                                                                                  \n",
            " conv4_block1_add (Add)      (None, 14, 14, 1024)         0         ['conv4_block1_0_bn[0][0]',   \n",
            "                                                                     'conv4_block1_3_bn[0][0]']   \n",
            "                                                                                                  \n",
            " conv4_block1_out (Activati  (None, 14, 14, 1024)         0         ['conv4_block1_add[0][0]']    \n",
            " on)                                                                                              \n",
            "                                                                                                  \n",
            " conv4_block2_1_conv (Conv2  (None, 14, 14, 256)          262400    ['conv4_block1_out[0][0]']    \n",
            " D)                                                                                               \n",
            "                                                                                                  \n",
            " conv4_block2_1_bn (BatchNo  (None, 14, 14, 256)          1024      ['conv4_block2_1_conv[0][0]'] \n",
            " rmalization)                                                                                     \n",
            "                                                                                                  \n",
            " conv4_block2_1_relu (Activ  (None, 14, 14, 256)          0         ['conv4_block2_1_bn[0][0]']   \n",
            " ation)                                                                                           \n",
            "                                                                                                  \n",
            " conv4_block2_2_conv (Conv2  (None, 14, 14, 256)          590080    ['conv4_block2_1_relu[0][0]'] \n",
            " D)                                                                                               \n",
            "                                                                                                  \n",
            " conv4_block2_2_bn (BatchNo  (None, 14, 14, 256)          1024      ['conv4_block2_2_conv[0][0]'] \n",
            " rmalization)                                                                                     \n",
            "                                                                                                  \n",
            " conv4_block2_2_relu (Activ  (None, 14, 14, 256)          0         ['conv4_block2_2_bn[0][0]']   \n",
            " ation)                                                                                           \n",
            "                                                                                                  \n",
            " conv4_block2_3_conv (Conv2  (None, 14, 14, 1024)         263168    ['conv4_block2_2_relu[0][0]'] \n",
            " D)                                                                                               \n",
            "                                                                                                  \n",
            " conv4_block2_3_bn (BatchNo  (None, 14, 14, 1024)         4096      ['conv4_block2_3_conv[0][0]'] \n",
            " rmalization)                                                                                     \n",
            "                                                                                                  \n",
            " conv4_block2_add (Add)      (None, 14, 14, 1024)         0         ['conv4_block1_out[0][0]',    \n",
            "                                                                     'conv4_block2_3_bn[0][0]']   \n",
            "                                                                                                  \n",
            " conv4_block2_out (Activati  (None, 14, 14, 1024)         0         ['conv4_block2_add[0][0]']    \n",
            " on)                                                                                              \n",
            "                                                                                                  \n",
            " conv4_block3_1_conv (Conv2  (None, 14, 14, 256)          262400    ['conv4_block2_out[0][0]']    \n",
            " D)                                                                                               \n",
            "                                                                                                  \n",
            " conv4_block3_1_bn (BatchNo  (None, 14, 14, 256)          1024      ['conv4_block3_1_conv[0][0]'] \n",
            " rmalization)                                                                                     \n",
            "                                                                                                  \n",
            " conv4_block3_1_relu (Activ  (None, 14, 14, 256)          0         ['conv4_block3_1_bn[0][0]']   \n",
            " ation)                                                                                           \n",
            "                                                                                                  \n",
            " conv4_block3_2_conv (Conv2  (None, 14, 14, 256)          590080    ['conv4_block3_1_relu[0][0]'] \n",
            " D)                                                                                               \n",
            "                                                                                                  \n",
            " conv4_block3_2_bn (BatchNo  (None, 14, 14, 256)          1024      ['conv4_block3_2_conv[0][0]'] \n",
            " rmalization)                                                                                     \n",
            "                                                                                                  \n",
            " conv4_block3_2_relu (Activ  (None, 14, 14, 256)          0         ['conv4_block3_2_bn[0][0]']   \n",
            " ation)                                                                                           \n",
            "                                                                                                  \n",
            " conv4_block3_3_conv (Conv2  (None, 14, 14, 1024)         263168    ['conv4_block3_2_relu[0][0]'] \n",
            " D)                                                                                               \n",
            "                                                                                                  \n",
            " conv4_block3_3_bn (BatchNo  (None, 14, 14, 1024)         4096      ['conv4_block3_3_conv[0][0]'] \n",
            " rmalization)                                                                                     \n",
            "                                                                                                  \n",
            " conv4_block3_add (Add)      (None, 14, 14, 1024)         0         ['conv4_block2_out[0][0]',    \n",
            "                                                                     'conv4_block3_3_bn[0][0]']   \n",
            "                                                                                                  \n",
            " conv4_block3_out (Activati  (None, 14, 14, 1024)         0         ['conv4_block3_add[0][0]']    \n",
            " on)                                                                                              \n",
            "                                                                                                  \n",
            " conv4_block4_1_conv (Conv2  (None, 14, 14, 256)          262400    ['conv4_block3_out[0][0]']    \n",
            " D)                                                                                               \n",
            "                                                                                                  \n",
            " conv4_block4_1_bn (BatchNo  (None, 14, 14, 256)          1024      ['conv4_block4_1_conv[0][0]'] \n",
            " rmalization)                                                                                     \n",
            "                                                                                                  \n",
            " conv4_block4_1_relu (Activ  (None, 14, 14, 256)          0         ['conv4_block4_1_bn[0][0]']   \n",
            " ation)                                                                                           \n",
            "                                                                                                  \n",
            " conv4_block4_2_conv (Conv2  (None, 14, 14, 256)          590080    ['conv4_block4_1_relu[0][0]'] \n",
            " D)                                                                                               \n",
            "                                                                                                  \n",
            " conv4_block4_2_bn (BatchNo  (None, 14, 14, 256)          1024      ['conv4_block4_2_conv[0][0]'] \n",
            " rmalization)                                                                                     \n",
            "                                                                                                  \n",
            " conv4_block4_2_relu (Activ  (None, 14, 14, 256)          0         ['conv4_block4_2_bn[0][0]']   \n",
            " ation)                                                                                           \n",
            "                                                                                                  \n",
            " conv4_block4_3_conv (Conv2  (None, 14, 14, 1024)         263168    ['conv4_block4_2_relu[0][0]'] \n",
            " D)                                                                                               \n",
            "                                                                                                  \n",
            " conv4_block4_3_bn (BatchNo  (None, 14, 14, 1024)         4096      ['conv4_block4_3_conv[0][0]'] \n",
            " rmalization)                                                                                     \n",
            "                                                                                                  \n",
            " conv4_block4_add (Add)      (None, 14, 14, 1024)         0         ['conv4_block3_out[0][0]',    \n",
            "                                                                     'conv4_block4_3_bn[0][0]']   \n",
            "                                                                                                  \n",
            " conv4_block4_out (Activati  (None, 14, 14, 1024)         0         ['conv4_block4_add[0][0]']    \n",
            " on)                                                                                              \n",
            "                                                                                                  \n",
            " conv4_block5_1_conv (Conv2  (None, 14, 14, 256)          262400    ['conv4_block4_out[0][0]']    \n",
            " D)                                                                                               \n",
            "                                                                                                  \n",
            " conv4_block5_1_bn (BatchNo  (None, 14, 14, 256)          1024      ['conv4_block5_1_conv[0][0]'] \n",
            " rmalization)                                                                                     \n",
            "                                                                                                  \n",
            " conv4_block5_1_relu (Activ  (None, 14, 14, 256)          0         ['conv4_block5_1_bn[0][0]']   \n",
            " ation)                                                                                           \n",
            "                                                                                                  \n",
            " conv4_block5_2_conv (Conv2  (None, 14, 14, 256)          590080    ['conv4_block5_1_relu[0][0]'] \n",
            " D)                                                                                               \n",
            "                                                                                                  \n",
            " conv4_block5_2_bn (BatchNo  (None, 14, 14, 256)          1024      ['conv4_block5_2_conv[0][0]'] \n",
            " rmalization)                                                                                     \n",
            "                                                                                                  \n",
            " conv4_block5_2_relu (Activ  (None, 14, 14, 256)          0         ['conv4_block5_2_bn[0][0]']   \n",
            " ation)                                                                                           \n",
            "                                                                                                  \n",
            " conv4_block5_3_conv (Conv2  (None, 14, 14, 1024)         263168    ['conv4_block5_2_relu[0][0]'] \n",
            " D)                                                                                               \n",
            "                                                                                                  \n",
            " conv4_block5_3_bn (BatchNo  (None, 14, 14, 1024)         4096      ['conv4_block5_3_conv[0][0]'] \n",
            " rmalization)                                                                                     \n",
            "                                                                                                  \n",
            " conv4_block5_add (Add)      (None, 14, 14, 1024)         0         ['conv4_block4_out[0][0]',    \n",
            "                                                                     'conv4_block5_3_bn[0][0]']   \n",
            "                                                                                                  \n",
            " conv4_block5_out (Activati  (None, 14, 14, 1024)         0         ['conv4_block5_add[0][0]']    \n",
            " on)                                                                                              \n",
            "                                                                                                  \n",
            " conv4_block6_1_conv (Conv2  (None, 14, 14, 256)          262400    ['conv4_block5_out[0][0]']    \n",
            " D)                                                                                               \n",
            "                                                                                                  \n",
            " conv4_block6_1_bn (BatchNo  (None, 14, 14, 256)          1024      ['conv4_block6_1_conv[0][0]'] \n",
            " rmalization)                                                                                     \n",
            "                                                                                                  \n",
            " conv4_block6_1_relu (Activ  (None, 14, 14, 256)          0         ['conv4_block6_1_bn[0][0]']   \n",
            " ation)                                                                                           \n",
            "                                                                                                  \n",
            " conv4_block6_2_conv (Conv2  (None, 14, 14, 256)          590080    ['conv4_block6_1_relu[0][0]'] \n",
            " D)                                                                                               \n",
            "                                                                                                  \n",
            " conv4_block6_2_bn (BatchNo  (None, 14, 14, 256)          1024      ['conv4_block6_2_conv[0][0]'] \n",
            " rmalization)                                                                                     \n",
            "                                                                                                  \n",
            " conv4_block6_2_relu (Activ  (None, 14, 14, 256)          0         ['conv4_block6_2_bn[0][0]']   \n",
            " ation)                                                                                           \n",
            "                                                                                                  \n",
            " conv4_block6_3_conv (Conv2  (None, 14, 14, 1024)         263168    ['conv4_block6_2_relu[0][0]'] \n",
            " D)                                                                                               \n",
            "                                                                                                  \n",
            " conv4_block6_3_bn (BatchNo  (None, 14, 14, 1024)         4096      ['conv4_block6_3_conv[0][0]'] \n",
            " rmalization)                                                                                     \n",
            "                                                                                                  \n",
            " conv4_block6_add (Add)      (None, 14, 14, 1024)         0         ['conv4_block5_out[0][0]',    \n",
            "                                                                     'conv4_block6_3_bn[0][0]']   \n",
            "                                                                                                  \n",
            " conv4_block6_out (Activati  (None, 14, 14, 1024)         0         ['conv4_block6_add[0][0]']    \n",
            " on)                                                                                              \n",
            "                                                                                                  \n",
            " conv5_block1_1_conv (Conv2  (None, 7, 7, 512)            524800    ['conv4_block6_out[0][0]']    \n",
            " D)                                                                                               \n",
            "                                                                                                  \n",
            " conv5_block1_1_bn (BatchNo  (None, 7, 7, 512)            2048      ['conv5_block1_1_conv[0][0]'] \n",
            " rmalization)                                                                                     \n",
            "                                                                                                  \n",
            " conv5_block1_1_relu (Activ  (None, 7, 7, 512)            0         ['conv5_block1_1_bn[0][0]']   \n",
            " ation)                                                                                           \n",
            "                                                                                                  \n",
            " conv5_block1_2_conv (Conv2  (None, 7, 7, 512)            2359808   ['conv5_block1_1_relu[0][0]'] \n",
            " D)                                                                                               \n",
            "                                                                                                  \n",
            " conv5_block1_2_bn (BatchNo  (None, 7, 7, 512)            2048      ['conv5_block1_2_conv[0][0]'] \n",
            " rmalization)                                                                                     \n",
            "                                                                                                  \n",
            " conv5_block1_2_relu (Activ  (None, 7, 7, 512)            0         ['conv5_block1_2_bn[0][0]']   \n",
            " ation)                                                                                           \n",
            "                                                                                                  \n",
            " conv5_block1_0_conv (Conv2  (None, 7, 7, 2048)           2099200   ['conv4_block6_out[0][0]']    \n",
            " D)                                                                                               \n",
            "                                                                                                  \n",
            " conv5_block1_3_conv (Conv2  (None, 7, 7, 2048)           1050624   ['conv5_block1_2_relu[0][0]'] \n",
            " D)                                                                                               \n",
            "                                                                                                  \n",
            " conv5_block1_0_bn (BatchNo  (None, 7, 7, 2048)           8192      ['conv5_block1_0_conv[0][0]'] \n",
            " rmalization)                                                                                     \n",
            "                                                                                                  \n",
            " conv5_block1_3_bn (BatchNo  (None, 7, 7, 2048)           8192      ['conv5_block1_3_conv[0][0]'] \n",
            " rmalization)                                                                                     \n",
            "                                                                                                  \n",
            " conv5_block1_add (Add)      (None, 7, 7, 2048)           0         ['conv5_block1_0_bn[0][0]',   \n",
            "                                                                     'conv5_block1_3_bn[0][0]']   \n",
            "                                                                                                  \n",
            " conv5_block1_out (Activati  (None, 7, 7, 2048)           0         ['conv5_block1_add[0][0]']    \n",
            " on)                                                                                              \n",
            "                                                                                                  \n",
            " conv5_block2_1_conv (Conv2  (None, 7, 7, 512)            1049088   ['conv5_block1_out[0][0]']    \n",
            " D)                                                                                               \n",
            "                                                                                                  \n",
            " conv5_block2_1_bn (BatchNo  (None, 7, 7, 512)            2048      ['conv5_block2_1_conv[0][0]'] \n",
            " rmalization)                                                                                     \n",
            "                                                                                                  \n",
            " conv5_block2_1_relu (Activ  (None, 7, 7, 512)            0         ['conv5_block2_1_bn[0][0]']   \n",
            " ation)                                                                                           \n",
            "                                                                                                  \n",
            " conv5_block2_2_conv (Conv2  (None, 7, 7, 512)            2359808   ['conv5_block2_1_relu[0][0]'] \n",
            " D)                                                                                               \n",
            "                                                                                                  \n",
            " conv5_block2_2_bn (BatchNo  (None, 7, 7, 512)            2048      ['conv5_block2_2_conv[0][0]'] \n",
            " rmalization)                                                                                     \n",
            "                                                                                                  \n",
            " conv5_block2_2_relu (Activ  (None, 7, 7, 512)            0         ['conv5_block2_2_bn[0][0]']   \n",
            " ation)                                                                                           \n",
            "                                                                                                  \n",
            " conv5_block2_3_conv (Conv2  (None, 7, 7, 2048)           1050624   ['conv5_block2_2_relu[0][0]'] \n",
            " D)                                                                                               \n",
            "                                                                                                  \n",
            " conv5_block2_3_bn (BatchNo  (None, 7, 7, 2048)           8192      ['conv5_block2_3_conv[0][0]'] \n",
            " rmalization)                                                                                     \n",
            "                                                                                                  \n",
            " conv5_block2_add (Add)      (None, 7, 7, 2048)           0         ['conv5_block1_out[0][0]',    \n",
            "                                                                     'conv5_block2_3_bn[0][0]']   \n",
            "                                                                                                  \n",
            " conv5_block2_out (Activati  (None, 7, 7, 2048)           0         ['conv5_block2_add[0][0]']    \n",
            " on)                                                                                              \n",
            "                                                                                                  \n",
            " conv5_block3_1_conv (Conv2  (None, 7, 7, 512)            1049088   ['conv5_block2_out[0][0]']    \n",
            " D)                                                                                               \n",
            "                                                                                                  \n",
            " conv5_block3_1_bn (BatchNo  (None, 7, 7, 512)            2048      ['conv5_block3_1_conv[0][0]'] \n",
            " rmalization)                                                                                     \n",
            "                                                                                                  \n",
            " conv5_block3_1_relu (Activ  (None, 7, 7, 512)            0         ['conv5_block3_1_bn[0][0]']   \n",
            " ation)                                                                                           \n",
            "                                                                                                  \n",
            " conv5_block3_2_conv (Conv2  (None, 7, 7, 512)            2359808   ['conv5_block3_1_relu[0][0]'] \n",
            " D)                                                                                               \n",
            "                                                                                                  \n",
            " conv5_block3_2_bn (BatchNo  (None, 7, 7, 512)            2048      ['conv5_block3_2_conv[0][0]'] \n",
            " rmalization)                                                                                     \n",
            "                                                                                                  \n",
            " conv5_block3_2_relu (Activ  (None, 7, 7, 512)            0         ['conv5_block3_2_bn[0][0]']   \n",
            " ation)                                                                                           \n",
            "                                                                                                  \n",
            " conv5_block3_3_conv (Conv2  (None, 7, 7, 2048)           1050624   ['conv5_block3_2_relu[0][0]'] \n",
            " D)                                                                                               \n",
            "                                                                                                  \n",
            " conv5_block3_3_bn (BatchNo  (None, 7, 7, 2048)           8192      ['conv5_block3_3_conv[0][0]'] \n",
            " rmalization)                                                                                     \n",
            "                                                                                                  \n",
            " conv5_block3_add (Add)      (None, 7, 7, 2048)           0         ['conv5_block2_out[0][0]',    \n",
            "                                                                     'conv5_block3_3_bn[0][0]']   \n",
            "                                                                                                  \n",
            " conv5_block3_out (Activati  (None, 7, 7, 2048)           0         ['conv5_block3_add[0][0]']    \n",
            " on)                                                                                              \n",
            "                                                                                                  \n",
            "==================================================================================================\n",
            "Total params: 23587712 (89.98 MB)\n",
            "Trainable params: 23534592 (89.78 MB)\n",
            "Non-trainable params: 53120 (207.50 KB)\n",
            "__________________________________________________________________________________________________\n"
          ]
        }
      ],
      "source": [
        "# Using the same simple approach outlined above, we will explore popular pre-trained CNN models for computer vision\n",
        "# - AlexNet: The 2012 milestone that reignited deep learning, building on CNN foundations laid by the Cognitron in 1979.\n",
        "# - VGG (VGG16, VGG19): Known for its simplicity, using very small convolution filters.\n",
        "# - ResNet (ResNet50, ResNet101, ResNet152): Introduced residual connections to enable training of very deep networks.\n",
        "# - Inception (InceptionV3, Inception-ResNet): Uses multiple kernel sizes at the same convolutional layer.\n",
        "# - MobileNet (MobileNetV1, MobileNetV2, MobileNetV3): Designed for mobile and embedded vision applications, focusing on efficiency.\n",
        "\n",
        "import tensorflow as tf\n",
        "\n",
        "# Load pre-trained ResNet50 model without the top (classification) layers\n",
        "resnet = tf.keras.applications.ResNet50(\n",
        "    include_top=False,  # Exclude the top (classification) layers\n",
        "    weights='imagenet',  # Load pre-trained ImageNet weights\n",
        "    input_shape=(224, 224, 3)  # Specify the input shape of the images\n",
        ")\n",
        "\n",
        "# Summary of the loaded ResNet50 model\n",
        "resnet.summary()"
      ]
    },
    {
      "cell_type": "code",
      "execution_count": null,
      "id": "bfbcea6f-c5be-4f71-be24-8d502bb351a7",
      "metadata": {
        "id": "bfbcea6f-c5be-4f71-be24-8d502bb351a7"
      },
      "outputs": [],
      "source": [
        "# Resize your datasets to 224x224 for ResNet\n",
        "from skimage.transform import resize\n",
        "def resize_dataset(images):\n",
        "    # Initialize the target array\n",
        "    target_shape = (images.shape[0], 224, 224, 3)\n",
        "    resized_images = np.zeros(target_shape)\n",
        "    for i in range(images.shape[0]):\n",
        "        # Resize each image\n",
        "        resized_image = resize(images[i], (224, 224), mode='constant', anti_aliasing=True)\n",
        "        # Convert grayscale to RGB by repeating the channels\n",
        "        resized_images[i] = np.repeat(resized_image, 3, axis=-1)\n",
        "    return resized_images\n",
        "\n",
        "target_x_train_resized = resize_dataset(target_x_train)\n",
        "target_x_test_resized = resize_dataset(target_x_test)"
      ]
    },
    {
      "cell_type": "code",
      "execution_count": null,
      "id": "0d1af0bd-6066-4be9-9b5a-b848a1aa6cdd",
      "metadata": {
        "id": "0d1af0bd-6066-4be9-9b5a-b848a1aa6cdd",
        "outputId": "2f2b32f1-65ef-40ff-ba59-5a9f4fa41129"
      },
      "outputs": [
        {
          "data": {
            "text/plain": [
              "(20, 28, 28, 1)"
            ]
          },
          "execution_count": 25,
          "metadata": {},
          "output_type": "execute_result"
        }
      ],
      "source": [
        "target_x_train.shape"
      ]
    },
    {
      "cell_type": "code",
      "execution_count": null,
      "id": "23a3cfc9-5cf6-44a8-a59b-fb823d148781",
      "metadata": {
        "id": "23a3cfc9-5cf6-44a8-a59b-fb823d148781",
        "outputId": "4b34918d-6c24-43f4-b507-77d46b5d5bbd"
      },
      "outputs": [
        {
          "data": {
            "text/plain": [
              "(20, 224, 224, 3)"
            ]
          },
          "execution_count": 26,
          "metadata": {},
          "output_type": "execute_result"
        }
      ],
      "source": [
        "target_x_train_resized.shape"
      ]
    },
    {
      "cell_type": "code",
      "execution_count": null,
      "id": "c73679a9-2ada-4c76-b39a-d16ee33efef0",
      "metadata": {
        "id": "c73679a9-2ada-4c76-b39a-d16ee33efef0"
      },
      "outputs": [],
      "source": [
        "# Normalize the resized training and testing datasets to match the preprocessing\n",
        "# used for ResNet50 during its training on ImageNet. This usually involves scaling\n",
        "# the pixel values to a range the network expects based on its pretraining dataset.\n",
        "\n",
        "from tensorflow.keras.applications.resnet50 import preprocess_input\n",
        "\n",
        "# Assuming target_x_train_resized is numpy array\n",
        "target_x_train_resized = preprocess_input(target_x_train_resized * 255) #As if coming from the image file, 0-255\n",
        "target_x_test_resized = preprocess_input(target_x_test_resized * 255)"
      ]
    },
    {
      "cell_type": "code",
      "execution_count": null,
      "id": "28568bf3-34a9-4a0e-8efd-caa6ea8db63f",
      "metadata": {
        "id": "28568bf3-34a9-4a0e-8efd-caa6ea8db63f",
        "outputId": "72f59b0f-a369-462a-c837-b0854bcc1e02"
      },
      "outputs": [
        {
          "name": "stdout",
          "output_type": "stream",
          "text": [
            "Epoch 1/10\n",
            "1/1 [==============================] - 1s 1s/step - loss: 1.5770 - accuracy: 0.4500\n",
            "Epoch 2/10\n",
            "1/1 [==============================] - 0s 92ms/step - loss: 1.1934 - accuracy: 0.5000\n",
            "Epoch 3/10\n",
            "1/1 [==============================] - 0s 80ms/step - loss: 0.9129 - accuracy: 0.6500\n",
            "Epoch 4/10\n",
            "1/1 [==============================] - 0s 80ms/step - loss: 0.6717 - accuracy: 0.7500\n",
            "Epoch 5/10\n",
            "1/1 [==============================] - 0s 79ms/step - loss: 0.4799 - accuracy: 0.9000\n",
            "Epoch 6/10\n",
            "1/1 [==============================] - 0s 80ms/step - loss: 0.3410 - accuracy: 0.9500\n",
            "Epoch 7/10\n",
            "1/1 [==============================] - 0s 79ms/step - loss: 0.2454 - accuracy: 1.0000\n",
            "Epoch 8/10\n",
            "1/1 [==============================] - 0s 79ms/step - loss: 0.1799 - accuracy: 1.0000\n",
            "Epoch 9/10\n",
            "1/1 [==============================] - 0s 79ms/step - loss: 0.1338 - accuracy: 1.0000\n",
            "Epoch 10/10\n",
            "1/1 [==============================] - 0s 80ms/step - loss: 0.1005 - accuracy: 1.0000\n",
            "125/125 [==============================] - 15s 117ms/step - loss: 0.3583 - accuracy: 0.9032\n",
            "target_model test loss: 0.3583078682422638\n",
            "target_model test accuracy: 0.903249979019165\n"
          ]
        }
      ],
      "source": [
        "from tensorflow.keras import models, layers\n",
        "\n",
        "target_model = models.Sequential([\n",
        "    resnet,\n",
        "    layers.GlobalAveragePooling2D(), #or alternatively adjust upper layers: layers.Flatten() or other Dense() layers\n",
        "    #layers.Flatten(),\n",
        "    #layers.Dense(16, activation='sigmoid'),\n",
        "    layers.Dense(n2, activation='softmax')\n",
        "])\n",
        "\n",
        "for layer in resnet.layers:\n",
        "    layer.trainable = False\n",
        "\n",
        "# We could adjust the learning rate\n",
        "optimizer = tf.keras.optimizers.legacy.Adam(learning_rate=1e-3)\n",
        "target_model.compile(optimizer=optimizer, loss='categorical_crossentropy', metrics=['accuracy'])\n",
        "\n",
        "target_model.fit(target_x_train_resized, target_y_train, epochs=10)\n",
        "# Evaluate the target_model on the test set\n",
        "test_loss, test_acc = target_model.evaluate(target_x_test_resized, target_y_test)\n",
        "\n",
        "print(f\"target_model test loss: {test_loss}\")\n",
        "print(f\"target_model test accuracy: {test_acc}\")"
      ]
    }
  ],
  "metadata": {
    "kernelspec": {
      "display_name": "Python (tf_metal)",
      "language": "python",
      "name": "tf_metal"
    },
    "language_info": {
      "codemirror_mode": {
        "name": "ipython",
        "version": 3
      },
      "file_extension": ".py",
      "mimetype": "text/x-python",
      "name": "python",
      "nbconvert_exporter": "python",
      "pygments_lexer": "ipython3",
      "version": "3.9.18"
    },
    "colab": {
      "provenance": [],
      "include_colab_link": true
    }
  },
  "nbformat": 4,
  "nbformat_minor": 5
}