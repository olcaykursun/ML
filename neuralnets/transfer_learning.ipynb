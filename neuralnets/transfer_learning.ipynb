{
  "cells": [
    {
      "cell_type": "markdown",
      "metadata": {
        "id": "view-in-github",
        "colab_type": "text"
      },
      "source": [
        "<a href=\"https://colab.research.google.com/github/olcaykursun/ML/blob/main/neuralnets/transfer_learning.ipynb\" target=\"_parent\"><img src=\"https://colab.research.google.com/assets/colab-badge.svg\" alt=\"Open In Colab\"/></a>"
      ]
    },
    {
      "cell_type": "code",
      "execution_count": null,
      "id": "84973edb-96b9-42b6-994b-5a16ff6215e9",
      "metadata": {
        "id": "84973edb-96b9-42b6-994b-5a16ff6215e9"
      },
      "outputs": [],
      "source": [
        "import numpy as np\n",
        "from tensorflow.keras.datasets import fashion_mnist\n",
        "from tensorflow.keras.utils import to_categorical\n",
        "\n",
        "# Load the dataset\n",
        "(x_train, y_train), (x_test, y_test) = fashion_mnist.load_data()\n",
        "\n",
        "# Normalize the pixel values\n",
        "x_train, x_test = x_train / 255.0, x_test / 255.0\n",
        "\n",
        "# Expand dimensions to include channel information\n",
        "x_train = np.expand_dims(x_train, -1)\n",
        "x_test = np.expand_dims(x_test, -1)\n",
        "\n",
        "# let's say we remove class 8 and 9 for this example\n",
        "classes_to_use = range(8)\n",
        "idx_train = np.isin(y_train, classes_to_use)\n",
        "idx_test = np.isin(y_test, classes_to_use)\n",
        "\n",
        "x_train, y_train = x_train[idx_train], y_train[idx_train]\n",
        "x_test, y_test = x_test[idx_test], y_test[idx_test]\n",
        "\n",
        "# Convert labels to one-hot encoding\n",
        "y_train = to_categorical(y_train, num_classes=8)\n",
        "y_test = to_categorical(y_test, num_classes=8)\n"
      ]
    },
    {
      "cell_type": "code",
      "execution_count": null,
      "id": "9c0a242c-4551-476c-8b02-ef2f3f7f3b16",
      "metadata": {
        "id": "9c0a242c-4551-476c-8b02-ef2f3f7f3b16",
        "outputId": "f9c250f4-3af9-4c72-e05b-294673c9b20f"
      },
      "outputs": [
        {
          "name": "stderr",
          "output_type": "stream",
          "text": [
            "2024-04-02 12:13:57.305668: I metal_plugin/src/device/metal_device.cc:1154] Metal device set to: Apple M1 Pro\n",
            "2024-04-02 12:13:57.305703: I metal_plugin/src/device/metal_device.cc:296] systemMemory: 16.00 GB\n",
            "2024-04-02 12:13:57.305713: I metal_plugin/src/device/metal_device.cc:313] maxCacheSize: 5.33 GB\n",
            "2024-04-02 12:13:57.305990: I tensorflow/core/common_runtime/pluggable_device/pluggable_device_factory.cc:306] Could not identify NUMA node of platform GPU ID 0, defaulting to 0. Your kernel may not have been built with NUMA support.\n",
            "2024-04-02 12:13:57.306241: I tensorflow/core/common_runtime/pluggable_device/pluggable_device_factory.cc:272] Created TensorFlow device (/job:localhost/replica:0/task:0/device:GPU:0 with 0 MB memory) -> physical PluggableDevice (device: 0, name: METAL, pci bus id: <undefined>)\n"
          ]
        },
        {
          "name": "stdout",
          "output_type": "stream",
          "text": [
            "Epoch 1/5\n"
          ]
        },
        {
          "name": "stderr",
          "output_type": "stream",
          "text": [
            "2024-04-02 12:13:58.498144: I tensorflow/core/grappler/optimizers/custom_graph_optimizer_registry.cc:117] Plugin optimizer for device_type GPU is enabled.\n"
          ]
        },
        {
          "name": "stdout",
          "output_type": "stream",
          "text": [
            "1200/1200 [==============================] - 16s 10ms/step - loss: 0.5200 - accuracy: 0.8020 - val_loss: 0.3856 - val_accuracy: 0.8615\n",
            "Epoch 2/5\n",
            "1200/1200 [==============================] - 12s 10ms/step - loss: 0.3704 - accuracy: 0.8626 - val_loss: 0.3602 - val_accuracy: 0.8672\n",
            "Epoch 3/5\n",
            "1200/1200 [==============================] - 12s 10ms/step - loss: 0.3343 - accuracy: 0.8759 - val_loss: 0.4326 - val_accuracy: 0.8454\n",
            "Epoch 4/5\n",
            "1200/1200 [==============================] - 12s 10ms/step - loss: 0.3178 - accuracy: 0.8860 - val_loss: 0.3548 - val_accuracy: 0.8724\n",
            "Epoch 5/5\n",
            "1200/1200 [==============================] - 12s 10ms/step - loss: 0.3125 - accuracy: 0.8899 - val_loss: 0.3456 - val_accuracy: 0.8811\n"
          ]
        },
        {
          "data": {
            "text/plain": [
              "<keras.src.callbacks.History at 0x31727af10>"
            ]
          },
          "execution_count": 2,
          "metadata": {},
          "output_type": "execute_result"
        }
      ],
      "source": [
        "from tensorflow.keras import layers, models\n",
        "\n",
        "model = models.Sequential([\n",
        "    layers.Conv2D(32, kernel_size=(3, 3), activation='relu', input_shape=(28, 28, 1)),\n",
        "    layers.MaxPooling2D(pool_size=(2, 2)),\n",
        "    layers.Conv2D(64, (3, 3), activation='relu'),\n",
        "    layers.MaxPooling2D((2, 2)),\n",
        "    layers.Flatten(),\n",
        "    layers.Dense(64, activation='relu'),\n",
        "    layers.Dense(8, activation='softmax')\n",
        "])\n",
        "\n",
        "model.compile(optimizer='adam', loss='categorical_crossentropy', metrics=['accuracy'])\n",
        "\n",
        "# Train the model\n",
        "model.fit(x_train, y_train, epochs=5, validation_split=0.2)\n"
      ]
    },
    {
      "cell_type": "code",
      "execution_count": null,
      "id": "acfd57d3-5097-4fa9-b771-a7c359544a19",
      "metadata": {
        "id": "acfd57d3-5097-4fa9-b771-a7c359544a19"
      },
      "outputs": [],
      "source": [
        "feature_extractor = models.Model(inputs=model.input, outputs=model.layers[-3].output)\n"
      ]
    },
    {
      "cell_type": "code",
      "execution_count": null,
      "id": "762b853c-49eb-4ea4-88f0-609c294f73a9",
      "metadata": {
        "id": "762b853c-49eb-4ea4-88f0-609c294f73a9",
        "outputId": "d160579a-4bec-4dd0-a68a-1da47da46e08"
      },
      "outputs": [
        {
          "name": "stdout",
          "output_type": "stream",
          "text": [
            "1500/1500 [==============================] - 2s 1ms/step\n",
            "250/250 [==============================] - 0s 981us/step\n",
            "Epoch 1/5\n",
            "1200/1200 [==============================] - 10s 9ms/step - loss: 0.3806 - accuracy: 0.8634 - val_loss: 0.3279 - val_accuracy: 0.8810\n",
            "Epoch 2/5\n",
            "1200/1200 [==============================] - 11s 9ms/step - loss: 0.2957 - accuracy: 0.8932 - val_loss: 0.3190 - val_accuracy: 0.8854\n",
            "Epoch 3/5\n",
            "1200/1200 [==============================] - 10s 9ms/step - loss: 0.2782 - accuracy: 0.8997 - val_loss: 0.3099 - val_accuracy: 0.8932\n",
            "Epoch 4/5\n",
            "1200/1200 [==============================] - 11s 9ms/step - loss: 0.2667 - accuracy: 0.9041 - val_loss: 0.3313 - val_accuracy: 0.8855\n",
            "Epoch 5/5\n",
            "1200/1200 [==============================] - 10s 9ms/step - loss: 0.2592 - accuracy: 0.9065 - val_loss: 0.3113 - val_accuracy: 0.8910\n"
          ]
        },
        {
          "data": {
            "text/plain": [
              "<keras.src.callbacks.History at 0x31f15ebe0>"
            ]
          },
          "execution_count": 4,
          "metadata": {},
          "output_type": "execute_result"
        }
      ],
      "source": [
        "# Extract features\n",
        "features_train = feature_extractor.predict(x_train)\n",
        "features_test = feature_extractor.predict(x_test)\n",
        "\n",
        "# New model\n",
        "new_model = models.Sequential([\n",
        "    layers.Dense(64, activation='relu', input_shape=(features_train.shape[1],)),\n",
        "    layers.Dense(8, activation='softmax')  # Assuming you still work with 8 classes\n",
        "])\n",
        "\n",
        "new_model.compile(optimizer='adam', loss='categorical_crossentropy', metrics=['accuracy'])\n",
        "\n",
        "# Train the new model\n",
        "new_model.fit(features_train, y_train, epochs=5, validation_split=0.2)\n",
        "\n"
      ]
    },
    {
      "cell_type": "code",
      "execution_count": null,
      "id": "e0d650d5-e769-4af8-a283-9bbf75099d37",
      "metadata": {
        "id": "e0d650d5-e769-4af8-a283-9bbf75099d37",
        "outputId": "34f9ea27-30da-40e7-d91a-d9def342f9ac"
      },
      "outputs": [
        {
          "name": "stdout",
          "output_type": "stream",
          "text": [
            "250/250 [==============================] - 2s 7ms/step - loss: 0.3316 - accuracy: 0.8869\n",
            "Test loss: 0.3315610885620117\n",
            "Test accuracy: 0.8868749737739563\n"
          ]
        }
      ],
      "source": [
        "# Evaluate the new model on the test set\n",
        "test_loss, test_acc = new_model.evaluate(features_test, y_test)\n",
        "\n",
        "print(f\"Test loss: {test_loss}\")\n",
        "print(f\"Test accuracy: {test_acc}\")\n"
      ]
    },
    {
      "cell_type": "code",
      "execution_count": null,
      "id": "90d66e0f-7fcd-4549-8a35-6234b2e39aff",
      "metadata": {
        "id": "90d66e0f-7fcd-4549-8a35-6234b2e39aff",
        "outputId": "58914e68-f5fa-4f70-fddd-5aba694a4f16"
      },
      "outputs": [
        {
          "name": "stdout",
          "output_type": "stream",
          "text": [
            "250/250 [==============================] - 0s 1ms/step\n",
            "Test accuracy: 0.886875\n"
          ]
        }
      ],
      "source": [
        "from tensorflow.keras.metrics import Accuracy\n",
        "\n",
        "# Use the model to predict the classes of the test set\n",
        "predictions = new_model.predict(features_test)\n",
        "\n",
        "# The predictions are in the form of probabilities for each class.\n",
        "predicted_classes = np.argmax(predictions, axis=1)\n",
        "true_classes = np.argmax(y_test, axis=1)\n",
        "\n",
        "# Calculate accuracy by comparing predicted and true classes\n",
        "accuracy = np.mean(predicted_classes == true_classes)\n",
        "\n",
        "print(f\"Test accuracy: {accuracy}\")"
      ]
    },
    {
      "cell_type": "code",
      "execution_count": null,
      "id": "3e7886fa-aabb-49ef-ab2f-9f7d5fe03801",
      "metadata": {
        "id": "3e7886fa-aabb-49ef-ab2f-9f7d5fe03801",
        "outputId": "50073543-25c6-48fa-944d-9ed36bc85d63"
      },
      "outputs": [
        {
          "name": "stdout",
          "output_type": "stream",
          "text": [
            "1500/1500 [==============================] - 2s 1ms/step\n",
            "250/250 [==============================] - 0s 970us/step\n",
            "Decision Tree Accuracy: 0.797125\n"
          ]
        }
      ],
      "source": [
        "from sklearn.tree import DecisionTreeClassifier\n",
        "\n",
        "# Decision tree\n",
        "tree = DecisionTreeClassifier()\n",
        "tree.fit(features_train, np.argmax(y_train, axis=1))  # Fit to the max class index or use the original labels\n",
        "\n",
        "# Evaluate the decision tree\n",
        "accuracy = tree.score(features_test, np.argmax(y_test, axis=1))\n",
        "print(f\"Decision Tree Accuracy: {accuracy}\")\n"
      ]
    }
  ],
  "metadata": {
    "kernelspec": {
      "display_name": "Python (tf_metal)",
      "language": "python",
      "name": "tf_metal"
    },
    "language_info": {
      "codemirror_mode": {
        "name": "ipython",
        "version": 3
      },
      "file_extension": ".py",
      "mimetype": "text/x-python",
      "name": "python",
      "nbconvert_exporter": "python",
      "pygments_lexer": "ipython3",
      "version": "3.9.18"
    },
    "colab": {
      "provenance": [],
      "include_colab_link": true
    }
  },
  "nbformat": 4,
  "nbformat_minor": 5
}