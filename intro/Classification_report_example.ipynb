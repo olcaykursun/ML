{
  "nbformat": 4,
  "nbformat_minor": 0,
  "metadata": {
    "colab": {
      "provenance": [],
      "include_colab_link": true
    },
    "kernelspec": {
      "display_name": "Python 3",
      "language": "python",
      "name": "python3"
    },
    "language_info": {
      "codemirror_mode": {
        "name": "ipython",
        "version": 3
      },
      "file_extension": ".py",
      "mimetype": "text/x-python",
      "name": "python",
      "nbconvert_exporter": "python",
      "pygments_lexer": "ipython3",
      "version": "3.6.6"
    }
  },
  "cells": [
    {
      "cell_type": "markdown",
      "metadata": {
        "id": "view-in-github",
        "colab_type": "text"
      },
      "source": [
        "<a href=\"https://colab.research.google.com/github/olcaykursun/ML/blob/main/Classification_report_ML_Spr2023.ipynb\" target=\"_parent\"><img src=\"https://colab.research.google.com/assets/colab-badge.svg\" alt=\"Open In Colab\"/></a>"
      ]
    },
    {
      "cell_type": "code",
      "metadata": {
        "id": "jyE76c0SVGZz",
        "colab": {
          "base_uri": "https://localhost:8080/"
        },
        "outputId": "3deb03d1-3c13-40cd-d82d-50bb3b683ca7"
      },
      "source": [
        "import numpy as np\n",
        "np.set_printoptions(precision=2)\n",
        "\n",
        "from sklearn import datasets\n",
        "from sklearn.metrics import confusion_matrix\n",
        "from sklearn.model_selection import train_test_split\n",
        "\n",
        "#from sklearn.neighbors import KNeighborsClassifier\n",
        "#from sklearn.linear_model import LogisticRegression\n",
        "from sklearn.tree import DecisionTreeClassifier\n",
        "\n",
        "iris = datasets.load_iris()\n",
        "X = iris.data\n",
        "y = iris.target    #150 examples in total, y=0 setosa, y=1 versicolor, y=2 virginica\n",
        "\n",
        "numclasses=len(iris.target_names)\n",
        "\n",
        "print(iris.target_names[y])  #numpy arrays are usually easier to use (like arrays)\n",
        "list_of_names = list(iris.target_names)\n",
        "#print(list_of_names[y])     #this does not work\n",
        "print(y)"
      ],
      "execution_count": 1,
      "outputs": [
        {
          "output_type": "stream",
          "name": "stdout",
          "text": [
            "['setosa' 'setosa' 'setosa' 'setosa' 'setosa' 'setosa' 'setosa' 'setosa'\n",
            " 'setosa' 'setosa' 'setosa' 'setosa' 'setosa' 'setosa' 'setosa' 'setosa'\n",
            " 'setosa' 'setosa' 'setosa' 'setosa' 'setosa' 'setosa' 'setosa' 'setosa'\n",
            " 'setosa' 'setosa' 'setosa' 'setosa' 'setosa' 'setosa' 'setosa' 'setosa'\n",
            " 'setosa' 'setosa' 'setosa' 'setosa' 'setosa' 'setosa' 'setosa' 'setosa'\n",
            " 'setosa' 'setosa' 'setosa' 'setosa' 'setosa' 'setosa' 'setosa' 'setosa'\n",
            " 'setosa' 'setosa' 'versicolor' 'versicolor' 'versicolor' 'versicolor'\n",
            " 'versicolor' 'versicolor' 'versicolor' 'versicolor' 'versicolor'\n",
            " 'versicolor' 'versicolor' 'versicolor' 'versicolor' 'versicolor'\n",
            " 'versicolor' 'versicolor' 'versicolor' 'versicolor' 'versicolor'\n",
            " 'versicolor' 'versicolor' 'versicolor' 'versicolor' 'versicolor'\n",
            " 'versicolor' 'versicolor' 'versicolor' 'versicolor' 'versicolor'\n",
            " 'versicolor' 'versicolor' 'versicolor' 'versicolor' 'versicolor'\n",
            " 'versicolor' 'versicolor' 'versicolor' 'versicolor' 'versicolor'\n",
            " 'versicolor' 'versicolor' 'versicolor' 'versicolor' 'versicolor'\n",
            " 'versicolor' 'versicolor' 'versicolor' 'versicolor' 'versicolor'\n",
            " 'versicolor' 'virginica' 'virginica' 'virginica' 'virginica' 'virginica'\n",
            " 'virginica' 'virginica' 'virginica' 'virginica' 'virginica' 'virginica'\n",
            " 'virginica' 'virginica' 'virginica' 'virginica' 'virginica' 'virginica'\n",
            " 'virginica' 'virginica' 'virginica' 'virginica' 'virginica' 'virginica'\n",
            " 'virginica' 'virginica' 'virginica' 'virginica' 'virginica' 'virginica'\n",
            " 'virginica' 'virginica' 'virginica' 'virginica' 'virginica' 'virginica'\n",
            " 'virginica' 'virginica' 'virginica' 'virginica' 'virginica' 'virginica'\n",
            " 'virginica' 'virginica' 'virginica' 'virginica' 'virginica' 'virginica'\n",
            " 'virginica' 'virginica' 'virginica']\n",
            "[0 0 0 0 0 0 0 0 0 0 0 0 0 0 0 0 0 0 0 0 0 0 0 0 0 0 0 0 0 0 0 0 0 0 0 0 0\n",
            " 0 0 0 0 0 0 0 0 0 0 0 0 0 1 1 1 1 1 1 1 1 1 1 1 1 1 1 1 1 1 1 1 1 1 1 1 1\n",
            " 1 1 1 1 1 1 1 1 1 1 1 1 1 1 1 1 1 1 1 1 1 1 1 1 1 1 2 2 2 2 2 2 2 2 2 2 2\n",
            " 2 2 2 2 2 2 2 2 2 2 2 2 2 2 2 2 2 2 2 2 2 2 2 2 2 2 2 2 2 2 2 2 2 2 2 2 2\n",
            " 2 2]\n"
          ]
        }
      ]
    },
    {
      "cell_type": "code",
      "metadata": {
        "id": "yW3hh-v27vY-",
        "colab": {
          "base_uri": "https://localhost:8080/"
        },
        "outputId": "53886ac2-508c-4f36-ccb7-82befc2e8452"
      },
      "source": [
        "X_train, X_test, y_train, y_test = train_test_split(X, y, train_size=.5, random_state=5, stratify=None)\n",
        "print('Number of setosas in the training set', np.sum(y_train==0))\n"
      ],
      "execution_count": 2,
      "outputs": [
        {
          "output_type": "stream",
          "name": "stdout",
          "text": [
            "Number of setosas in the training set 28\n"
          ]
        }
      ]
    },
    {
      "cell_type": "code",
      "metadata": {
        "id": "8Pus_IdcG4X2",
        "colab": {
          "base_uri": "https://localhost:8080/"
        },
        "outputId": "badabd21-b0a7-4c80-cb52-7e0f0fcaa870"
      },
      "source": [
        "print(iris.feature_names,', class-label')\n",
        "print(np.c_[X,iris.target_names[y]])\n",
        "\n",
        "mytest_flower = [6, 3, 4, 4]\n",
        "print('What is the predicted class label for', mytest_flower, '?')"
      ],
      "execution_count": 3,
      "outputs": [
        {
          "output_type": "stream",
          "name": "stdout",
          "text": [
            "['sepal length (cm)', 'sepal width (cm)', 'petal length (cm)', 'petal width (cm)'] , class-label\n",
            "[['5.1' '3.5' '1.4' '0.2' 'setosa']\n",
            " ['4.9' '3.0' '1.4' '0.2' 'setosa']\n",
            " ['4.7' '3.2' '1.3' '0.2' 'setosa']\n",
            " ['4.6' '3.1' '1.5' '0.2' 'setosa']\n",
            " ['5.0' '3.6' '1.4' '0.2' 'setosa']\n",
            " ['5.4' '3.9' '1.7' '0.4' 'setosa']\n",
            " ['4.6' '3.4' '1.4' '0.3' 'setosa']\n",
            " ['5.0' '3.4' '1.5' '0.2' 'setosa']\n",
            " ['4.4' '2.9' '1.4' '0.2' 'setosa']\n",
            " ['4.9' '3.1' '1.5' '0.1' 'setosa']\n",
            " ['5.4' '3.7' '1.5' '0.2' 'setosa']\n",
            " ['4.8' '3.4' '1.6' '0.2' 'setosa']\n",
            " ['4.8' '3.0' '1.4' '0.1' 'setosa']\n",
            " ['4.3' '3.0' '1.1' '0.1' 'setosa']\n",
            " ['5.8' '4.0' '1.2' '0.2' 'setosa']\n",
            " ['5.7' '4.4' '1.5' '0.4' 'setosa']\n",
            " ['5.4' '3.9' '1.3' '0.4' 'setosa']\n",
            " ['5.1' '3.5' '1.4' '0.3' 'setosa']\n",
            " ['5.7' '3.8' '1.7' '0.3' 'setosa']\n",
            " ['5.1' '3.8' '1.5' '0.3' 'setosa']\n",
            " ['5.4' '3.4' '1.7' '0.2' 'setosa']\n",
            " ['5.1' '3.7' '1.5' '0.4' 'setosa']\n",
            " ['4.6' '3.6' '1.0' '0.2' 'setosa']\n",
            " ['5.1' '3.3' '1.7' '0.5' 'setosa']\n",
            " ['4.8' '3.4' '1.9' '0.2' 'setosa']\n",
            " ['5.0' '3.0' '1.6' '0.2' 'setosa']\n",
            " ['5.0' '3.4' '1.6' '0.4' 'setosa']\n",
            " ['5.2' '3.5' '1.5' '0.2' 'setosa']\n",
            " ['5.2' '3.4' '1.4' '0.2' 'setosa']\n",
            " ['4.7' '3.2' '1.6' '0.2' 'setosa']\n",
            " ['4.8' '3.1' '1.6' '0.2' 'setosa']\n",
            " ['5.4' '3.4' '1.5' '0.4' 'setosa']\n",
            " ['5.2' '4.1' '1.5' '0.1' 'setosa']\n",
            " ['5.5' '4.2' '1.4' '0.2' 'setosa']\n",
            " ['4.9' '3.1' '1.5' '0.2' 'setosa']\n",
            " ['5.0' '3.2' '1.2' '0.2' 'setosa']\n",
            " ['5.5' '3.5' '1.3' '0.2' 'setosa']\n",
            " ['4.9' '3.6' '1.4' '0.1' 'setosa']\n",
            " ['4.4' '3.0' '1.3' '0.2' 'setosa']\n",
            " ['5.1' '3.4' '1.5' '0.2' 'setosa']\n",
            " ['5.0' '3.5' '1.3' '0.3' 'setosa']\n",
            " ['4.5' '2.3' '1.3' '0.3' 'setosa']\n",
            " ['4.4' '3.2' '1.3' '0.2' 'setosa']\n",
            " ['5.0' '3.5' '1.6' '0.6' 'setosa']\n",
            " ['5.1' '3.8' '1.9' '0.4' 'setosa']\n",
            " ['4.8' '3.0' '1.4' '0.3' 'setosa']\n",
            " ['5.1' '3.8' '1.6' '0.2' 'setosa']\n",
            " ['4.6' '3.2' '1.4' '0.2' 'setosa']\n",
            " ['5.3' '3.7' '1.5' '0.2' 'setosa']\n",
            " ['5.0' '3.3' '1.4' '0.2' 'setosa']\n",
            " ['7.0' '3.2' '4.7' '1.4' 'versicolor']\n",
            " ['6.4' '3.2' '4.5' '1.5' 'versicolor']\n",
            " ['6.9' '3.1' '4.9' '1.5' 'versicolor']\n",
            " ['5.5' '2.3' '4.0' '1.3' 'versicolor']\n",
            " ['6.5' '2.8' '4.6' '1.5' 'versicolor']\n",
            " ['5.7' '2.8' '4.5' '1.3' 'versicolor']\n",
            " ['6.3' '3.3' '4.7' '1.6' 'versicolor']\n",
            " ['4.9' '2.4' '3.3' '1.0' 'versicolor']\n",
            " ['6.6' '2.9' '4.6' '1.3' 'versicolor']\n",
            " ['5.2' '2.7' '3.9' '1.4' 'versicolor']\n",
            " ['5.0' '2.0' '3.5' '1.0' 'versicolor']\n",
            " ['5.9' '3.0' '4.2' '1.5' 'versicolor']\n",
            " ['6.0' '2.2' '4.0' '1.0' 'versicolor']\n",
            " ['6.1' '2.9' '4.7' '1.4' 'versicolor']\n",
            " ['5.6' '2.9' '3.6' '1.3' 'versicolor']\n",
            " ['6.7' '3.1' '4.4' '1.4' 'versicolor']\n",
            " ['5.6' '3.0' '4.5' '1.5' 'versicolor']\n",
            " ['5.8' '2.7' '4.1' '1.0' 'versicolor']\n",
            " ['6.2' '2.2' '4.5' '1.5' 'versicolor']\n",
            " ['5.6' '2.5' '3.9' '1.1' 'versicolor']\n",
            " ['5.9' '3.2' '4.8' '1.8' 'versicolor']\n",
            " ['6.1' '2.8' '4.0' '1.3' 'versicolor']\n",
            " ['6.3' '2.5' '4.9' '1.5' 'versicolor']\n",
            " ['6.1' '2.8' '4.7' '1.2' 'versicolor']\n",
            " ['6.4' '2.9' '4.3' '1.3' 'versicolor']\n",
            " ['6.6' '3.0' '4.4' '1.4' 'versicolor']\n",
            " ['6.8' '2.8' '4.8' '1.4' 'versicolor']\n",
            " ['6.7' '3.0' '5.0' '1.7' 'versicolor']\n",
            " ['6.0' '2.9' '4.5' '1.5' 'versicolor']\n",
            " ['5.7' '2.6' '3.5' '1.0' 'versicolor']\n",
            " ['5.5' '2.4' '3.8' '1.1' 'versicolor']\n",
            " ['5.5' '2.4' '3.7' '1.0' 'versicolor']\n",
            " ['5.8' '2.7' '3.9' '1.2' 'versicolor']\n",
            " ['6.0' '2.7' '5.1' '1.6' 'versicolor']\n",
            " ['5.4' '3.0' '4.5' '1.5' 'versicolor']\n",
            " ['6.0' '3.4' '4.5' '1.6' 'versicolor']\n",
            " ['6.7' '3.1' '4.7' '1.5' 'versicolor']\n",
            " ['6.3' '2.3' '4.4' '1.3' 'versicolor']\n",
            " ['5.6' '3.0' '4.1' '1.3' 'versicolor']\n",
            " ['5.5' '2.5' '4.0' '1.3' 'versicolor']\n",
            " ['5.5' '2.6' '4.4' '1.2' 'versicolor']\n",
            " ['6.1' '3.0' '4.6' '1.4' 'versicolor']\n",
            " ['5.8' '2.6' '4.0' '1.2' 'versicolor']\n",
            " ['5.0' '2.3' '3.3' '1.0' 'versicolor']\n",
            " ['5.6' '2.7' '4.2' '1.3' 'versicolor']\n",
            " ['5.7' '3.0' '4.2' '1.2' 'versicolor']\n",
            " ['5.7' '2.9' '4.2' '1.3' 'versicolor']\n",
            " ['6.2' '2.9' '4.3' '1.3' 'versicolor']\n",
            " ['5.1' '2.5' '3.0' '1.1' 'versicolor']\n",
            " ['5.7' '2.8' '4.1' '1.3' 'versicolor']\n",
            " ['6.3' '3.3' '6.0' '2.5' 'virginica']\n",
            " ['5.8' '2.7' '5.1' '1.9' 'virginica']\n",
            " ['7.1' '3.0' '5.9' '2.1' 'virginica']\n",
            " ['6.3' '2.9' '5.6' '1.8' 'virginica']\n",
            " ['6.5' '3.0' '5.8' '2.2' 'virginica']\n",
            " ['7.6' '3.0' '6.6' '2.1' 'virginica']\n",
            " ['4.9' '2.5' '4.5' '1.7' 'virginica']\n",
            " ['7.3' '2.9' '6.3' '1.8' 'virginica']\n",
            " ['6.7' '2.5' '5.8' '1.8' 'virginica']\n",
            " ['7.2' '3.6' '6.1' '2.5' 'virginica']\n",
            " ['6.5' '3.2' '5.1' '2.0' 'virginica']\n",
            " ['6.4' '2.7' '5.3' '1.9' 'virginica']\n",
            " ['6.8' '3.0' '5.5' '2.1' 'virginica']\n",
            " ['5.7' '2.5' '5.0' '2.0' 'virginica']\n",
            " ['5.8' '2.8' '5.1' '2.4' 'virginica']\n",
            " ['6.4' '3.2' '5.3' '2.3' 'virginica']\n",
            " ['6.5' '3.0' '5.5' '1.8' 'virginica']\n",
            " ['7.7' '3.8' '6.7' '2.2' 'virginica']\n",
            " ['7.7' '2.6' '6.9' '2.3' 'virginica']\n",
            " ['6.0' '2.2' '5.0' '1.5' 'virginica']\n",
            " ['6.9' '3.2' '5.7' '2.3' 'virginica']\n",
            " ['5.6' '2.8' '4.9' '2.0' 'virginica']\n",
            " ['7.7' '2.8' '6.7' '2.0' 'virginica']\n",
            " ['6.3' '2.7' '4.9' '1.8' 'virginica']\n",
            " ['6.7' '3.3' '5.7' '2.1' 'virginica']\n",
            " ['7.2' '3.2' '6.0' '1.8' 'virginica']\n",
            " ['6.2' '2.8' '4.8' '1.8' 'virginica']\n",
            " ['6.1' '3.0' '4.9' '1.8' 'virginica']\n",
            " ['6.4' '2.8' '5.6' '2.1' 'virginica']\n",
            " ['7.2' '3.0' '5.8' '1.6' 'virginica']\n",
            " ['7.4' '2.8' '6.1' '1.9' 'virginica']\n",
            " ['7.9' '3.8' '6.4' '2.0' 'virginica']\n",
            " ['6.4' '2.8' '5.6' '2.2' 'virginica']\n",
            " ['6.3' '2.8' '5.1' '1.5' 'virginica']\n",
            " ['6.1' '2.6' '5.6' '1.4' 'virginica']\n",
            " ['7.7' '3.0' '6.1' '2.3' 'virginica']\n",
            " ['6.3' '3.4' '5.6' '2.4' 'virginica']\n",
            " ['6.4' '3.1' '5.5' '1.8' 'virginica']\n",
            " ['6.0' '3.0' '4.8' '1.8' 'virginica']\n",
            " ['6.9' '3.1' '5.4' '2.1' 'virginica']\n",
            " ['6.7' '3.1' '5.6' '2.4' 'virginica']\n",
            " ['6.9' '3.1' '5.1' '2.3' 'virginica']\n",
            " ['5.8' '2.7' '5.1' '1.9' 'virginica']\n",
            " ['6.8' '3.2' '5.9' '2.3' 'virginica']\n",
            " ['6.7' '3.3' '5.7' '2.5' 'virginica']\n",
            " ['6.7' '3.0' '5.2' '2.3' 'virginica']\n",
            " ['6.3' '2.5' '5.0' '1.9' 'virginica']\n",
            " ['6.5' '3.0' '5.2' '2.0' 'virginica']\n",
            " ['6.2' '3.4' '5.4' '2.3' 'virginica']\n",
            " ['5.9' '3.0' '5.1' '1.8' 'virginica']]\n",
            "What is the predicted class label for [6, 3, 4, 4] ?\n"
          ]
        }
      ]
    },
    {
      "cell_type": "code",
      "metadata": {
        "id": "1Cjvjsu27whv",
        "colab": {
          "base_uri": "https://localhost:8080/"
        },
        "outputId": "349a2c2c-4fc2-4b0f-a833-0d554b3ef4d2"
      },
      "source": [
        "X_train, X_test, y_train, y_test = train_test_split\\\n",
        "                                   (X, y, train_size=.5, random_state=5, stratify=y)\n",
        "print('Number of setosas in the training set', np.sum(y_train==0))\n",
        "\n",
        "test_count = len(y_test)\n",
        "class_counts = np.array([sum(y_test==s) for s in range(numclasses)])\n",
        "print(class_counts)\n"
      ],
      "execution_count": 4,
      "outputs": [
        {
          "output_type": "stream",
          "name": "stdout",
          "text": [
            "Number of setosas in the training set 25\n",
            "[25 25 25]\n"
          ]
        }
      ]
    },
    {
      "cell_type": "code",
      "metadata": {
        "id": "16aY-cct69N9",
        "colab": {
          "base_uri": "https://localhost:8080/"
        },
        "outputId": "5b1a59e9-a944-413a-cc67-564c9b5a81c0"
      },
      "source": [
        "clf=DecisionTreeClassifier(random_state=0)\n",
        "\n",
        "clf.fit(X_train, y_train)\n",
        "print(clf.score(X_test, y_test))\n",
        "\n",
        "preds = clf.predict(X_test)\n",
        "print(preds)\n",
        "accuracy = np.mean(preds==y_test)\n",
        "print(accuracy)\n",
        "\n",
        "from sklearn.metrics import classification_report\n",
        "report = classification_report(y_test, preds)\n",
        "print(report)\n",
        "\n",
        "predicted_class = clf.predict([mytest_flower])\n",
        "predicted_class = predicted_class[0]   #we have a single test example here, pick that integer from the list\n",
        "print('Predicted class label for', mytest_flower, 'is', iris.target_names[predicted_class])"
      ],
      "execution_count": 5,
      "outputs": [
        {
          "output_type": "stream",
          "name": "stdout",
          "text": [
            "0.96\n",
            "[2 2 0 1 1 0 0 2 2 0 2 2 1 0 1 2 1 2 1 0 0 0 1 2 1 0 1 2 2 0 0 2 1 0 0 0 1\n",
            " 2 2 1 1 0 2 2 2 0 2 2 1 1 0 1 2 0 0 1 0 1 1 2 0 2 2 0 0 2 2 1 1 1 0 1 1 2\n",
            " 0]\n",
            "0.96\n",
            "              precision    recall  f1-score   support\n",
            "\n",
            "           0       1.00      1.00      1.00        25\n",
            "           1       0.96      0.92      0.94        25\n",
            "           2       0.92      0.96      0.94        25\n",
            "\n",
            "    accuracy                           0.96        75\n",
            "   macro avg       0.96      0.96      0.96        75\n",
            "weighted avg       0.96      0.96      0.96        75\n",
            "\n",
            "Predicted class label for [6, 3, 4, 4] is versicolor\n"
          ]
        }
      ]
    },
    {
      "cell_type": "code",
      "metadata": {
        "id": "J_yBn6w08eaY",
        "colab": {
          "base_uri": "https://localhost:8080/"
        },
        "outputId": "13f45efe-c607-4ba9-c0ad-7beee52a4829"
      },
      "source": [
        "cnf_matrix = confusion_matrix(y_test, preds)\n",
        "print('confusion matrix = ')\n",
        "print(cnf_matrix)\n",
        "\n",
        "# \"N_\" stands for \"number_of_examples_\"\n",
        "N_predicted_as_that_class = cnf_matrix.sum(axis=0)\n",
        "N_in_that_class = cnf_matrix.sum(axis=1)    #class_counts... row sums\n",
        "N_correctly_classified_in_that_class = np.diag(cnf_matrix)\n",
        "\n",
        "TP = N_correctly_classified_in_that_class\n",
        "FP = N_predicted_as_that_class - N_correctly_classified_in_that_class\n",
        "FN = N_in_that_class - N_correctly_classified_in_that_class\n",
        "TN = cnf_matrix.sum() - (FP + FN + TP)\n",
        "#TN = test_count - (FP + FN + TP)\n",
        "\n",
        "print('TP TN FP FN for each class:')\n",
        "print(np.stack((TP, TN, FP, FN),axis=1))\n",
        "\n",
        "\n",
        "#Alternatively\n",
        "myTP = np.zeros(numclasses)\n",
        "myFP = np.zeros(numclasses)\n",
        "myTN = np.zeros(numclasses)\n",
        "myFN = np.zeros(numclasses)\n",
        "for c in range(numclasses) :\n",
        "  myTP[c] = sum(np.logical_and(y_test==c, preds==c))\n",
        "  myFP[c] = sum(np.logical_and(y_test!=c, preds==c))\n",
        "  myTN[c] = sum(np.logical_and(y_test!=c, preds!=c))\n",
        "  myFN[c] = sum([x&y for (x,y) in zip(y_test==c, preds!=c)])  #built-in pythonic way without numpy\n",
        "print('TP TN FP FN for each class:')\n",
        "print(np.stack((myTP, myTN, myFP, myFN),axis=1))\n",
        "\n",
        "\n",
        "\n",
        "FPRate = FP / (test_count - class_counts)\n",
        "FNRate = FN / class_counts\n",
        "TPRate = TP / class_counts\n",
        "TNRate = TN / (test_count - class_counts)\n",
        "\n",
        "print('TPRate',TPRate)\n",
        "print('TNRate',TNRate)\n",
        "print('FPRate',FPRate)\n",
        "print('FNRate',FNRate)\n",
        "\n",
        "Precision = TP/(TP+FP)\n",
        "print('Precision', Precision)\n",
        "\n",
        "Recall = TP/(TP+FN)\n",
        "print('Recall', Recall)\n",
        "\n",
        "from scipy import stats\n",
        "print('F1 Score',stats.hmean([Precision, Recall]))  \n",
        "\n"
      ],
      "execution_count": 6,
      "outputs": [
        {
          "output_type": "stream",
          "name": "stdout",
          "text": [
            "confusion matrix = \n",
            "[[25  0  0]\n",
            " [ 0 23  2]\n",
            " [ 0  1 24]]\n",
            "TP TN FP FN for each class:\n",
            "[[25 50  0  0]\n",
            " [23 49  1  2]\n",
            " [24 48  2  1]]\n",
            "TP TN FP FN for each class:\n",
            "[[25. 50.  0.  0.]\n",
            " [23. 49.  1.  2.]\n",
            " [24. 48.  2.  1.]]\n",
            "TPRate [1.   0.92 0.96]\n",
            "TNRate [1.   0.98 0.96]\n",
            "FPRate [0.   0.02 0.04]\n",
            "FNRate [0.   0.08 0.04]\n",
            "Precision [1.   0.96 0.92]\n",
            "Recall [1.   0.92 0.96]\n",
            "F1 Score [1.   0.94 0.94]\n"
          ]
        }
      ]
    }
  ]
}