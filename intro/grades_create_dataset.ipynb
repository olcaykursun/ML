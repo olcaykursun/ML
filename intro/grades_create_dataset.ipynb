{
  "nbformat": 4,
  "nbformat_minor": 0,
  "metadata": {
    "colab": {
      "provenance": [],
      "mount_file_id": "1fVLphhO9Fr21i_5cRuInDlHYbb26S2xO",
      "authorship_tag": "ABX9TyPlPqF303lhV8AcvkWVReYk",
      "include_colab_link": true
    },
    "kernelspec": {
      "name": "python3",
      "display_name": "Python 3"
    },
    "language_info": {
      "name": "python"
    }
  },
  "cells": [
    {
      "cell_type": "markdown",
      "metadata": {
        "id": "view-in-github",
        "colab_type": "text"
      },
      "source": [
        "<a href=\"https://colab.research.google.com/github/olcaykursun/ML/blob/main/grades_create_dataset.ipynb\" target=\"_parent\"><img src=\"https://colab.research.google.com/assets/colab-badge.svg\" alt=\"Open In Colab\"/></a>"
      ]
    },
    {
      "cell_type": "code",
      "execution_count": null,
      "metadata": {
        "colab": {
          "base_uri": "https://localhost:8080/"
        },
        "id": "B9xxGhcHTGgf",
        "outputId": "a871a076-5906-4c13-9983-4127594a0ea1"
      },
      "outputs": [
        {
          "output_type": "stream",
          "name": "stdout",
          "text": [
            "/content/drive/My Drive/Colab Notebooks/ML\n",
            "/content/drive/MyDrive/Colab Notebooks/ML\n",
            "/content/drive/MyDrive/Colab Notebooks/ML\n",
            "       Exams  Assignments  Final_Grade\n",
            "0  77.440675    87.112661        88.26\n",
            "1  85.759468    70.800319        88.61\n",
            "2  80.138169    89.407761        88.33\n",
            "3  77.244159    98.487542        88.83\n",
            "4  71.182740    69.950126        78.82\n",
            "5  82.294706    83.046293        91.65\n",
            "6  71.879361    83.681677        83.50\n",
            "7  94.588650    82.890076        98.38\n",
            "8  98.183138    68.923265        96.79\n",
            "9  69.172076    98.109960        84.39\n"
          ]
        }
      ],
      "source": [
        "!pwd\n",
        "%cd /content/drive/MyDrive/Colab\\ Notebooks/ML/\n",
        "!pwd\n",
        "import numpy as np\n",
        "import pandas as pd\n",
        "\n",
        "# Set a random seed for reproducibility\n",
        "np.random.seed(0)\n",
        "\n",
        "# Number of students (data points)\n",
        "n = 100\n",
        "\n",
        "# Generate random exam scores between 60 and 100 for n students\n",
        "exams = np.random.uniform(50, 100, n)\n",
        "\n",
        "# Generate random assignment scores between 50 and 100 for n students\n",
        "assignments = np.random.uniform(60, 100, n)\n",
        "\n",
        "# Generate random class participation scores between 0 and 100 for n students (treated as noise)\n",
        "class_participation = np.random.normal(55, 10, n)\n",
        "\n",
        "# Assume some \"unknown\" weights the professor might have used for grading\n",
        "weight_exam = 0.7\n",
        "weight_assignment = 0.2\n",
        "weight_participation = 0.1\n",
        "\n",
        "# Generate the final grade based on the random scores and weights\n",
        "# Class participation acts as noise here\n",
        "final_grade = (weight_exam * exams +\n",
        "              weight_assignment * assignments +\n",
        "              weight_participation * class_participation +\n",
        "              10)\n",
        "\n",
        "# Round to keep it realistic\n",
        "final_grade = np.round(final_grade, 2)\n",
        "\n",
        "final_grade = np.minimum(100, final_grade)\n",
        "\n",
        "# Create a Pandas DataFrame\n",
        "# Note: We're not including 'Class_Participation' as it's considered as noise\n",
        "# Students compile a dataset by asking each other what they received in exams/assignments.\n",
        "df = pd.DataFrame({\n",
        "    'Exams': exams,\n",
        "    'Assignments': assignments,\n",
        "    'Final_Grade': final_grade\n",
        "})\n",
        "\n",
        "# Display first few rows of the DataFrame\n",
        "print(df.head(10))\n",
        "\n",
        "df.to_csv('grades_dataset1.csv', index=True)\n"
      ]
    },
    {
      "cell_type": "code",
      "source": [
        "np.max(final_grade)"
      ],
      "metadata": {
        "colab": {
          "base_uri": "https://localhost:8080/"
        },
        "id": "B8uq7j2JRZmK",
        "outputId": "afdcd8c7-099e-44b0-f89c-7febc6efa8a0"
      },
      "execution_count": null,
      "outputs": [
        {
          "output_type": "execute_result",
          "data": {
            "text/plain": [
              "100.0"
            ]
          },
          "metadata": {},
          "execution_count": 9
        }
      ]
    },
    {
      "cell_type": "code",
      "source": [],
      "metadata": {
        "id": "_uDcYGEHgNtb"
      },
      "execution_count": null,
      "outputs": []
    }
  ]
}