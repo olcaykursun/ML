{
  "nbformat": 4,
  "nbformat_minor": 0,
  "metadata": {
    "colab": {
      "provenance": [],
      "authorship_tag": "ABX9TyMmv25WWXH1vk9XEkHEKuxa",
      "include_colab_link": true
    },
    "kernelspec": {
      "name": "python3",
      "display_name": "Python 3"
    },
    "language_info": {
      "name": "python"
    }
  },
  "cells": [
    {
      "cell_type": "markdown",
      "metadata": {
        "id": "view-in-github",
        "colab_type": "text"
      },
      "source": [
        "<a href=\"https://colab.research.google.com/github/olcaykursun/ML/blob/main/Spring2024/knn_loo.ipynb\" target=\"_parent\"><img src=\"https://colab.research.google.com/assets/colab-badge.svg\" alt=\"Open In Colab\"/></a>"
      ]
    },
    {
      "cell_type": "code",
      "source": [
        "import numpy as np\n",
        "from sklearn import datasets\n",
        "\n",
        "# Load the Iris dataset\n",
        "iris = datasets.load_iris()\n",
        "iris_data = iris.data\n",
        "iris_target = iris.target"
      ],
      "metadata": {
        "id": "JOmTIaBv-SNv"
      },
      "execution_count": 1,
      "outputs": []
    },
    {
      "cell_type": "code",
      "source": [
        "# Function to calculate the distance between each row of two datasets\n",
        "def calculate_distances(train_data, test_data):\n",
        "    distances = np.zeros((test_data.shape[0], train_data.shape[0]))\n",
        "\n",
        "    for i, test_row in enumerate(test_data):\n",
        "        for j, train_row in enumerate(train_data):\n",
        "            # Euclidean distance\n",
        "#            distances[i, j] = np.linalg.norm(test_row - train_row)\n",
        "            distances[i, j] = np.sqrt(np.sum((test_row - train_row)**2))\n",
        "\n",
        "    return distances"
      ],
      "metadata": {
        "id": "ocVRzgCLWtfT"
      },
      "execution_count": 2,
      "outputs": []
    },
    {
      "cell_type": "code",
      "source": [
        "n_samples = len(iris.data)\n",
        "\n",
        "nearest_neighbors_indices = np.zeros(n_samples, dtype=int)\n",
        "\n",
        "for i in range(n_samples):\n",
        "    # Calculate distances from the i-th sample to all samples in the training set\n",
        "    distances = calculate_distances(iris_data, iris_data[i].reshape(1, -1)).flatten() #should return 1-by-150 distances\n",
        "    distances[i] = np.inf\n",
        "\n",
        "    nearest_neighbors_indices[i] = np.argmin(distances)\n",
        "\n",
        "nearest_neighbors_indices\n"
      ],
      "metadata": {
        "colab": {
          "base_uri": "https://localhost:8080/"
        },
        "id": "ilON9pj0WUcw",
        "outputId": "1eb08352-41a4-443a-adc8-9db5b15cdc75"
      },
      "execution_count": 3,
      "outputs": [
        {
          "output_type": "execute_result",
          "data": {
            "text/plain": [
              "array([ 17,  34,  47,  47,  37,  18,  47,  39,  38,  34,  48,  29,   1,\n",
              "        38,  33,  33,  10,   0,   5,  21,  31,  19,   6,  26,  11,  34,\n",
              "        23,  28,  27,  30,  29,  20,  33,  32,   9,  49,  10,   4,   8,\n",
              "         7,  17,   8,  38,  26,  46,   1,  19,   3,  10,   7,  52,  56,\n",
              "        50,  89,  58,  66,  51,  93,  75,  89,  93,  96,  92,  91,  82,\n",
              "        75,  84,  92,  87,  80, 138,  97, 133,  63,  97,  65,  58,  52,\n",
              "        91,  81,  81,  80,  92, 133,  66,  56,  52,  68,  95,  53,  94,\n",
              "        63,  82,  57,  99,  96,  95,  74,  57,  96, 136, 142, 125, 116,\n",
              "       132, 122,  84, 130, 128, 143, 147, 147, 139, 101, 121, 148, 137,\n",
              "       131, 122,  72, 143, 101, 105, 126, 120, 129, 123, 138, 132, 125,\n",
              "       107, 117, 128,  83, 103, 130, 148, 116, 127, 112, 144, 145, 101,\n",
              "       120, 140, 141, 123, 110, 136, 127])"
            ]
          },
          "metadata": {},
          "execution_count": 3
        }
      ]
    },
    {
      "cell_type": "code",
      "source": [
        "preds = iris_target[nearest_neighbors_indices]"
      ],
      "metadata": {
        "id": "KbJ8G3B0bS8g"
      },
      "execution_count": 4,
      "outputs": []
    },
    {
      "cell_type": "code",
      "source": [
        "preds == iris_target"
      ],
      "metadata": {
        "colab": {
          "base_uri": "https://localhost:8080/"
        },
        "id": "ioDm9TS2br4T",
        "outputId": "f0962057-0a59-41f2-d518-924babf40a18"
      },
      "execution_count": 5,
      "outputs": [
        {
          "output_type": "execute_result",
          "data": {
            "text/plain": [
              "array([ True,  True,  True,  True,  True,  True,  True,  True,  True,\n",
              "        True,  True,  True,  True,  True,  True,  True,  True,  True,\n",
              "        True,  True,  True,  True,  True,  True,  True,  True,  True,\n",
              "        True,  True,  True,  True,  True,  True,  True,  True,  True,\n",
              "        True,  True,  True,  True,  True,  True,  True,  True,  True,\n",
              "        True,  True,  True,  True,  True,  True,  True,  True,  True,\n",
              "        True,  True,  True,  True,  True,  True,  True,  True,  True,\n",
              "        True,  True,  True,  True,  True,  True,  True, False,  True,\n",
              "       False,  True,  True,  True,  True,  True,  True,  True,  True,\n",
              "        True,  True, False,  True,  True,  True,  True,  True,  True,\n",
              "        True,  True,  True,  True,  True,  True,  True,  True,  True,\n",
              "        True,  True,  True,  True,  True,  True,  True, False,  True,\n",
              "        True,  True,  True,  True,  True,  True,  True,  True,  True,\n",
              "        True,  True, False,  True,  True,  True,  True,  True,  True,\n",
              "        True,  True,  True,  True,  True,  True,  True, False,  True,\n",
              "        True,  True,  True,  True,  True,  True,  True,  True,  True,\n",
              "        True,  True,  True,  True,  True,  True])"
            ]
          },
          "metadata": {},
          "execution_count": 5
        }
      ]
    },
    {
      "cell_type": "code",
      "source": [
        "sum(preds == iris_target)"
      ],
      "metadata": {
        "colab": {
          "base_uri": "https://localhost:8080/"
        },
        "id": "BkoRx9ZJb7aC",
        "outputId": "7dd9c432-8a3f-4581-8171-723a8b712cc4"
      },
      "execution_count": 6,
      "outputs": [
        {
          "output_type": "execute_result",
          "data": {
            "text/plain": [
              "144"
            ]
          },
          "metadata": {},
          "execution_count": 6
        }
      ]
    },
    {
      "cell_type": "code",
      "source": [
        "(preds == iris_target).mean()"
      ],
      "metadata": {
        "colab": {
          "base_uri": "https://localhost:8080/"
        },
        "id": "quJIf6_RccPw",
        "outputId": "03c90b6d-9e62-45d8-82e5-bf94412a0652"
      },
      "execution_count": 7,
      "outputs": [
        {
          "output_type": "execute_result",
          "data": {
            "text/plain": [
              "0.96"
            ]
          },
          "metadata": {},
          "execution_count": 7
        }
      ]
    },
    {
      "cell_type": "code",
      "source": [],
      "metadata": {
        "id": "tZrUdB79ciFJ"
      },
      "execution_count": 7,
      "outputs": []
    }
  ]
}