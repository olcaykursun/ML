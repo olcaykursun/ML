{
  "nbformat": 4,
  "nbformat_minor": 0,
  "metadata": {
    "colab": {
      "provenance": [],
      "authorship_tag": "ABX9TyNPW87x7wVtUWpXIElxmPuk",
      "include_colab_link": true
    },
    "kernelspec": {
      "name": "python3",
      "display_name": "Python 3"
    },
    "language_info": {
      "name": "python"
    }
  },
  "cells": [
    {
      "cell_type": "markdown",
      "metadata": {
        "id": "view-in-github",
        "colab_type": "text"
      },
      "source": [
        "<a href=\"https://colab.research.google.com/github/olcaykursun/ML/blob/main/Spring2024/Weka_versus_my_knn.ipynb\" target=\"_parent\"><img src=\"https://colab.research.google.com/assets/colab-badge.svg\" alt=\"Open In Colab\"/></a>"
      ]
    },
    {
      "cell_type": "code",
      "source": [
        "import numpy as np\n",
        "from sklearn import datasets\n",
        "\n",
        "# Load the Iris dataset\n",
        "iris = datasets.load_iris()\n",
        "iris_data = iris.data\n",
        "iris_target = iris.target"
      ],
      "metadata": {
        "id": "JOmTIaBv-SNv"
      },
      "execution_count": 1,
      "outputs": []
    },
    {
      "cell_type": "code",
      "source": [
        "X_train = iris_data[::2,[0, 1, 3]]\n",
        "X_test = iris_data[1::2,[0,1,3]]\n"
      ],
      "metadata": {
        "id": "X4o1PFGb6Dc6"
      },
      "execution_count": 20,
      "outputs": []
    },
    {
      "cell_type": "code",
      "source": [
        "y_train = iris.target_names[iris_target[::2]]\n",
        "y_test = iris.target_names[iris_target[1::2]]\n"
      ],
      "metadata": {
        "id": "PasHb5s-95Lh"
      },
      "execution_count": 19,
      "outputs": []
    },
    {
      "cell_type": "code",
      "source": [
        "feature_names = iris.feature_names[:]\n",
        "print(feature_names)\n",
        "del feature_names[2]\n",
        "print(feature_names)\n"
      ],
      "metadata": {
        "colab": {
          "base_uri": "https://localhost:8080/"
        },
        "id": "BQC5okkjgU8l",
        "outputId": "850b4998-b394-4feb-81e3-8d3bfd0ca07c"
      },
      "execution_count": 60,
      "outputs": [
        {
          "output_type": "stream",
          "name": "stdout",
          "text": [
            "['sepal length (cm)', 'sepal width (cm)', 'petal length (cm)', 'petal width (cm)']\n",
            "['sepal length (cm)', 'sepal width (cm)', 'petal width (cm)']\n"
          ]
        }
      ]
    },
    {
      "cell_type": "code",
      "source": [
        "column_names = feature_names + ['Class-labels']\n",
        "Xy_train = np.hstack((X_train, y_train.reshape(-1,1)))\n",
        "train_matrix = np.vstack((column_names, Xy_train))"
      ],
      "metadata": {
        "id": "vVNOoS2wip0B"
      },
      "execution_count": 64,
      "outputs": []
    },
    {
      "cell_type": "code",
      "source": [
        "np.savetxt('training_set.csv', train_matrix, '%s', delimiter=',')"
      ],
      "metadata": {
        "id": "VVIHT5ULf3pO"
      },
      "execution_count": 67,
      "outputs": []
    },
    {
      "cell_type": "markdown",
      "source": [
        "The rest of this notebook needs to be edited as part of your Assignment 1\n",
        "You need to take care of test_matrix\n",
        "You need to find misclassifed rows of the test set and then check if Weka misclassifes the same rows\n"
      ],
      "metadata": {
        "id": "j0yLAoNAuSMN"
      }
    },
    {
      "cell_type": "code",
      "source": [
        "# Function to calculate the distance between each row of two datasets\n",
        "def calculate_distances(train_data, test_data):\n",
        "    distances = np.zeros((test_data.shape[0], train_data.shape[0]))\n",
        "\n",
        "    for i, test_row in enumerate(test_data):\n",
        "        for j, train_row in enumerate(train_data):\n",
        "            # Euclidean distance\n",
        "#            distances[i, j] = np.linalg.norm(test_row - train_row)\n",
        "            distances[i, j] = np.sqrt(np.sum((test_row - train_row)**2))\n",
        "\n",
        "    return distances"
      ],
      "metadata": {
        "id": "ocVRzgCLWtfT"
      },
      "execution_count": null,
      "outputs": []
    },
    {
      "cell_type": "code",
      "source": [
        "n_samples = len(iris.data)\n",
        "\n",
        "nearest_neighbors_indices = np.zeros(n_samples, dtype=int)\n",
        "\n",
        "for i in range(n_samples):\n",
        "    # Calculate distances from the i-th sample to all samples in the training set\n",
        "    distances = calculate_distances(iris_data, iris_data[i].reshape(1, -1)).flatten() #should return 1-by-150 distances\n",
        "    distances[i] = np.inf\n",
        "\n",
        "    nearest_neighbors_indices[i] = np.argmin(distances)\n",
        "\n",
        "nearest_neighbors_indices\n"
      ],
      "metadata": {
        "id": "ilON9pj0WUcw"
      },
      "execution_count": null,
      "outputs": []
    },
    {
      "cell_type": "code",
      "source": [
        "sum(preds == y_test)"
      ],
      "metadata": {
        "id": "BkoRx9ZJb7aC"
      },
      "execution_count": null,
      "outputs": []
    },
    {
      "cell_type": "code",
      "source": [
        "(preds == y_test).mean()"
      ],
      "metadata": {
        "id": "quJIf6_RccPw"
      },
      "execution_count": null,
      "outputs": []
    },
    {
      "cell_type": "code",
      "source": [
        "np.where(preds != y_test)"
      ],
      "metadata": {
        "id": "tZrUdB79ciFJ"
      },
      "execution_count": null,
      "outputs": []
    }
  ]
}