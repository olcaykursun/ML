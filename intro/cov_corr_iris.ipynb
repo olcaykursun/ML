{
  "nbformat": 4,
  "nbformat_minor": 0,
  "metadata": {
    "colab": {
      "provenance": [],
      "authorship_tag": "ABX9TyPzhVnC/IC08keHYJSKZ7Ib",
      "include_colab_link": true
    },
    "kernelspec": {
      "name": "python3",
      "display_name": "Python 3"
    },
    "language_info": {
      "name": "python"
    }
  },
  "cells": [
    {
      "cell_type": "markdown",
      "metadata": {
        "id": "view-in-github",
        "colab_type": "text"
      },
      "source": [
        "<a href=\"https://colab.research.google.com/github/olcaykursun/ML/blob/main/cov_corr_iris.ipynb\" target=\"_parent\"><img src=\"https://colab.research.google.com/assets/colab-badge.svg\" alt=\"Open In Colab\"/></a>"
      ]
    },
    {
      "cell_type": "code",
      "execution_count": 1,
      "metadata": {
        "colab": {
          "base_uri": "https://localhost:8080/"
        },
        "id": "9FGwcd53FPsP",
        "outputId": "fec35c7f-a349-4b52-fad6-a7853bbd8c02"
      },
      "outputs": [
        {
          "output_type": "stream",
          "name": "stdout",
          "text": [
            "Original Correlation Matrix:\n",
            " [[ 1.         -0.11756978  0.87175378  0.81794113]\n",
            " [-0.11756978  1.         -0.4284401  -0.36612593]\n",
            " [ 0.87175378 -0.4284401   1.          0.96286543]\n",
            " [ 0.81794113 -0.36612593  0.96286543  1.        ]]\n",
            "\n",
            "Computed Correlation Matrix from Covariance:\n",
            " [[ 1.         -0.11756978  0.87175378  0.81794113]\n",
            " [-0.11756978  1.         -0.4284401  -0.36612593]\n",
            " [ 0.87175378 -0.4284401   1.          0.96286543]\n",
            " [ 0.81794113 -0.36612593  0.96286543  1.        ]]\n",
            "\n",
            "Are the matrices close enough? True\n"
          ]
        }
      ],
      "source": [
        "import numpy as np\n",
        "from sklearn.datasets import load_iris\n",
        "\n",
        "# Load the iris dataset\n",
        "iris = load_iris()\n",
        "X = iris.data  # This is a (150, 4) array where each column is a feature\n",
        "\n",
        "# Calculate covariance matrix\n",
        "cov_matrix = np.cov(X, rowvar=False)\n",
        "\n",
        "# Calculate correlation matrix\n",
        "corr_matrix = np.corrcoef(X, rowvar=False)\n",
        "\n",
        "# Extract the diagonal of the covariance matrix\n",
        "diag_cov = np.diag(cov_matrix)\n",
        "\n",
        "# Compute the correlation using the relationship\n",
        "computed_corr_matrix = cov_matrix / np.sqrt(np.outer(diag_cov, diag_cov))\n",
        "\n",
        "print(\"Original Correlation Matrix:\\n\", corr_matrix)\n",
        "print(\"\\nComputed Correlation Matrix from Covariance:\\n\", computed_corr_matrix)\n",
        "\n",
        "# Check if the two matrices are close enough\n",
        "are_close = np.allclose(corr_matrix, computed_corr_matrix, atol=1e-8)\n",
        "\n",
        "print(\"\\nAre the matrices close enough?\", are_close)\n"
      ]
    },
    {
      "cell_type": "code",
      "source": [
        "print(cov_matrix)\n",
        "print(np.cov(X, rowvar=False))\n",
        "\n",
        "mycov = np.zeros((4,4))\n",
        "for i in range(4):\n",
        "  xi = X[:,i]\n",
        "  for j in range(4):\n",
        "    xj = X[:,j]\n",
        "    mycov[i,j] = np.dot(xi-xi.mean(),xj-xj.mean())\n",
        "print(mycov / 150)"
      ],
      "metadata": {
        "colab": {
          "base_uri": "https://localhost:8080/"
        },
        "id": "N1m1uv0Fl_aX",
        "outputId": "9c85207a-84a1-49e6-a368-6809c1e02181"
      },
      "execution_count": 10,
      "outputs": [
        {
          "output_type": "stream",
          "name": "stdout",
          "text": [
            "[[ 0.68569351 -0.042434    1.27431544  0.51627069]\n",
            " [-0.042434    0.18997942 -0.32965638 -0.12163937]\n",
            " [ 1.27431544 -0.32965638  3.11627785  1.2956094 ]\n",
            " [ 0.51627069 -0.12163937  1.2956094   0.58100626]]\n",
            "[[ 0.68569351 -0.042434    1.27431544  0.51627069]\n",
            " [-0.042434    0.18997942 -0.32965638 -0.12163937]\n",
            " [ 1.27431544 -0.32965638  3.11627785  1.2956094 ]\n",
            " [ 0.51627069 -0.12163937  1.2956094   0.58100626]]\n",
            "[[ 0.68112222 -0.04215111  1.26582     0.51282889]\n",
            " [-0.04215111  0.18871289 -0.32745867 -0.12082844]\n",
            " [ 1.26582    -0.32745867  3.09550267  1.286972  ]\n",
            " [ 0.51282889 -0.12082844  1.286972    0.57713289]]\n"
          ]
        }
      ]
    },
    {
      "cell_type": "code",
      "source": [
        "# Use the StandardScaler to scale the data\n",
        "from sklearn.preprocessing import StandardScaler\n",
        "scaler = StandardScaler()\n",
        "scaled_X = scaler.fit_transform(X)\n",
        "\n",
        "# Compute the covariance matrix using X^T X divided by (n-1), where n is the number of samples\n",
        "cov_matrix = (scaled_X.T @ scaled_X) / (scaled_X.shape[0] - 1)\n",
        "\n",
        "# The diagonal of the covariance matrix for z-score scaled data contains variances (which will be 1 for each feature)\n",
        "diag_cov = np.diagonal(cov_matrix)\n",
        "\n",
        "# Compute the correlation matrix using the relationship\n",
        "computed_corr_matrix = cov_matrix / np.sqrt(np.outer(diag_cov, diag_cov))\n",
        "\n",
        "print(computed_corr_matrix)\n"
      ],
      "metadata": {
        "colab": {
          "base_uri": "https://localhost:8080/"
        },
        "id": "KtIdqLj-JheE",
        "outputId": "dea00f37-5d89-4596-c05c-54806ed930f8"
      },
      "execution_count": 4,
      "outputs": [
        {
          "output_type": "stream",
          "name": "stdout",
          "text": [
            "[[ 1.         -0.11756978  0.87175378  0.81794113]\n",
            " [-0.11756978  1.         -0.4284401  -0.36612593]\n",
            " [ 0.87175378 -0.4284401   1.          0.96286543]\n",
            " [ 0.81794113 -0.36612593  0.96286543  1.        ]]\n"
          ]
        }
      ]
    }
  ]
}