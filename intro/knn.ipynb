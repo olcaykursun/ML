{
  "nbformat": 4,
  "nbformat_minor": 0,
  "metadata": {
    "colab": {
      "provenance": [],
      "authorship_tag": "ABX9TyPyL4OlbdxDkqWLOlVuMP2m",
      "include_colab_link": true
    },
    "kernelspec": {
      "name": "python3",
      "display_name": "Python 3"
    },
    "language_info": {
      "name": "python"
    }
  },
  "cells": [
    {
      "cell_type": "markdown",
      "metadata": {
        "id": "view-in-github",
        "colab_type": "text"
      },
      "source": [
        "<a href=\"https://colab.research.google.com/github/olcaykursun/ML/blob/main/Summer24/knn.ipynb\" target=\"_parent\"><img src=\"https://colab.research.google.com/assets/colab-badge.svg\" alt=\"Open In Colab\"/></a>"
      ]
    },
    {
      "cell_type": "code",
      "source": [
        "import numpy as np\n",
        "from sklearn import datasets\n",
        "\n",
        "# Load the Iris dataset\n",
        "iris = datasets.load_iris()\n",
        "iris_data = iris.data\n",
        "iris_target = iris.target\n",
        "\n",
        "n_samples = len(iris_data)\n",
        "\n",
        "#iris_data[0,0]=6\n",
        "#print(iris.data[0,0])"
      ],
      "metadata": {
        "id": "JOmTIaBv-SNv"
      },
      "execution_count": 32,
      "outputs": []
    },
    {
      "cell_type": "code",
      "source": [
        "abcd = (np.array([1,2]), np.array([3,4]), [5,6], 7)\n",
        "a=abcd[0]\n",
        "b=abcd[1]\n",
        "c=abcd[2]\n",
        "d=abcd[3]\n",
        "\n",
        "a+=1000\n",
        "b=np.array([33,44])\n",
        "c[-1]=66\n",
        "c.append(666)\n",
        "d=77\n",
        "\n",
        "print(a)\n",
        "print(b)\n",
        "print(c)\n",
        "print(d)\n",
        "print(abcd)\n"
      ],
      "metadata": {
        "colab": {
          "base_uri": "https://localhost:8080/"
        },
        "id": "exEGplJ4Y-d7",
        "outputId": "beee3a07-c681-4174-9631-3d1ab90c8739"
      },
      "execution_count": 35,
      "outputs": [
        {
          "output_type": "stream",
          "name": "stdout",
          "text": [
            "[1001 1002]\n",
            "[33 44]\n",
            "[5, 66, 666]\n",
            "77\n",
            "(array([1001, 1002]), array([3, 4]), [5, 66, 666], 7)\n"
          ]
        }
      ]
    },
    {
      "cell_type": "code",
      "source": [
        "# Function to calculate the distance between each row of the dataset\n",
        "def calculate_distances(dataset):\n",
        "    n_rows = dataset.shape[0]\n",
        "    euc_distances = np.zeros((n_rows, n_rows))\n",
        "    manh_distances = np.zeros((n_rows, n_rows))\n",
        "    for i, row_i in enumerate(dataset):\n",
        "        for j, row_j in enumerate(dataset):\n",
        "            # Euclidean distances\n",
        "            euc_distances[i, j] = np.sqrt(np.sum((row_i - row_j)**2)) #np.linalg.norm(row_i - row_j)\n",
        "\n",
        "            # Manhattan distances\n",
        "            manh_distances[i, j] = np.sum(np.abs(row_i - row_j))\n",
        "\n",
        "    return euc_distances, manh_distances\n",
        "\n",
        "euc_distances, manh_distances = calculate_distances(iris_data)\n"
      ],
      "metadata": {
        "id": "ocVRzgCLWtfT"
      },
      "execution_count": 37,
      "outputs": []
    },
    {
      "cell_type": "code",
      "source": [
        "#let's apply leave-one-out\n",
        "n_correct_classification = 0\n",
        "for i in range(n_samples):\n",
        "    # Calculate distances from the i-th sample to all samples in the training set\n",
        "    distances = manh_distances[i] #should return 1-by-150 distances\n",
        "    distances[i] = np.inf\n",
        "\n",
        "    nearest_index = np.argmin(distances)\n",
        "    if iris_target[i] == iris_target[nearest_index]:\n",
        "        n_correct_classification += 1\n",
        "\n",
        "acc = n_correct_classification / n_samples\n",
        "print(f'{acc=:.3f}')\n"
      ],
      "metadata": {
        "id": "tZrUdB79ciFJ",
        "colab": {
          "base_uri": "https://localhost:8080/"
        },
        "outputId": "7b062085-3345-4dc5-8db3-03db48fdca5a"
      },
      "execution_count": 38,
      "outputs": [
        {
          "output_type": "stream",
          "name": "stdout",
          "text": [
            "acc=0.953\n"
          ]
        }
      ]
    },
    {
      "cell_type": "code",
      "source": [
        "distances"
      ],
      "metadata": {
        "colab": {
          "base_uri": "https://localhost:8080/"
        },
        "id": "M3IecOgVoQZo",
        "outputId": "f7efb812-6708-48ac-876e-cc65a3fa3f10"
      },
      "execution_count": 41,
      "outputs": [
        {
          "output_type": "execute_result",
          "data": {
            "text/plain": [
              "array([6.6, 6.3, 6.8, 6.6, 6.8, 6.2, 6.9, 6.5, 6.9, 6.4, 6.4, 6.6, 6.5,\n",
              "       7.3, 6.6, 6.6, 6.6, 6.5, 5.9, 6.7, 5.9, 6.5, 7.6, 5.8, 6.3, 6. ,\n",
              "       6.2, 6.4, 6.4, 6.5, 6.3, 5.9, 7.1, 6.9, 6.3, 6.6, 6.3, 7. , 6.9,\n",
              "       6.4, 6.7, 7.4, 7.1, 6.1, 6.2, 6.3, 6.7, 6.8, 6.5, 6.5, 2.1, 1.6,\n",
              "       1.6, 2.7, 1.6, 1.5, 1.3, 4.2, 1.8, 2.6, 4.3, 1.2, 2.8, 1.1, 2.4,\n",
              "       2. , 1.2, 2.2, 2. , 2.7, 0.5, 2. , 1.4, 1.4, 1.9, 1.8, 1.8, 1. ,\n",
              "       1.1, 3. , 3. , 3.2, 2.2, 0.6, 1.4, 1.3, 1.6, 2.3, 1.8, 2.5, 2.1,\n",
              "       1.1, 2.2, 4.2, 2. , 1.7, 1.7, 1.7, 4.1, 1.9, 2.3, 0.5, 2.3, 1. ,\n",
              "       1.7, 3.5, 2.2, 2.7, 2. , 3.6, 1. , 1.1, 1.6, 1. , 0.9, 1.4, 1. ,\n",
              "       4.6, 4.5, 1.3, 2.3, 0.9, 3.8, 0.9, 2. , 2.4, 0.8, 0.4, 1.5, 2.2,\n",
              "       2.8, 4.3, 1.6, 0.9, 1.5, 3.3, 1.9, 1. , 0.4, 1.7, 2. , 1.6, 0.5,\n",
              "       2.4, 2.4, 1.4, 1.1, 0.9, 1.5, inf])"
            ]
          },
          "metadata": {},
          "execution_count": 41
        }
      ]
    },
    {
      "cell_type": "code",
      "source": [
        "nearest_neighbors_indices = np.zeros(n_samples, dtype=int)\n",
        "\n",
        "for i in range(n_samples):\n",
        "    # Calculate distances from the i-th sample to all samples in the training set\n",
        "    distances = euc_distances[i] #should return 1-by-150 distances\n",
        "    distances[i] = np.inf\n",
        "\n",
        "    nearest_neighbors_indices[i] = np.argmin(distances)\n",
        "\n",
        "nearest_neighbors_indices\n"
      ],
      "metadata": {
        "colab": {
          "base_uri": "https://localhost:8080/"
        },
        "id": "ilON9pj0WUcw",
        "outputId": "9058ef9e-c07e-43f4-b4d2-9c9eaf54c885"
      },
      "execution_count": 42,
      "outputs": [
        {
          "output_type": "execute_result",
          "data": {
            "text/plain": [
              "array([ 17,  34,  47,  47,  37,  18,  47,  39,  38,  34,  48,  29,   1,\n",
              "        38,  33,  33,  10,   0,   5,  21,  31,  19,   6,  26,  11,  34,\n",
              "        23,  28,  27,  30,  29,  20,  33,  32,   9,  49,  10,   4,   8,\n",
              "         7,  17,   8,  38,  26,  46,   1,  19,   3,  10,   7,  52,  56,\n",
              "        50,  89,  58,  66,  51,  93,  75,  89,  93,  96,  92,  91,  82,\n",
              "        75,  84,  92,  87,  80, 138,  97, 133,  63,  97,  65,  58,  52,\n",
              "        91,  81,  81,  80,  92, 133,  66,  56,  52,  68,  95,  53,  94,\n",
              "        63,  82,  57,  99,  96,  95,  74,  57,  96, 136, 142, 125, 116,\n",
              "       132, 122,  84, 130, 128, 143, 147, 147, 139, 101, 121, 148, 137,\n",
              "       131, 122,  72, 143, 101, 105, 126, 120, 129, 123, 138, 132, 125,\n",
              "       107, 117, 128,  83, 103, 130, 148, 116, 127, 112, 144, 145, 101,\n",
              "       120, 140, 141, 123, 110, 136, 127])"
            ]
          },
          "metadata": {},
          "execution_count": 42
        }
      ]
    },
    {
      "cell_type": "code",
      "source": [
        "preds = iris_target[nearest_neighbors_indices]\n",
        "preds"
      ],
      "metadata": {
        "id": "KbJ8G3B0bS8g",
        "colab": {
          "base_uri": "https://localhost:8080/"
        },
        "outputId": "3756fa54-e4bf-42ea-e37d-f62eba829c6e"
      },
      "execution_count": 43,
      "outputs": [
        {
          "output_type": "execute_result",
          "data": {
            "text/plain": [
              "array([0, 0, 0, 0, 0, 0, 0, 0, 0, 0, 0, 0, 0, 0, 0, 0, 0, 0, 0, 0, 0, 0,\n",
              "       0, 0, 0, 0, 0, 0, 0, 0, 0, 0, 0, 0, 0, 0, 0, 0, 0, 0, 0, 0, 0, 0,\n",
              "       0, 0, 0, 0, 0, 0, 1, 1, 1, 1, 1, 1, 1, 1, 1, 1, 1, 1, 1, 1, 1, 1,\n",
              "       1, 1, 1, 1, 2, 1, 2, 1, 1, 1, 1, 1, 1, 1, 1, 1, 1, 2, 1, 1, 1, 1,\n",
              "       1, 1, 1, 1, 1, 1, 1, 1, 1, 1, 1, 1, 2, 2, 2, 2, 2, 2, 1, 2, 2, 2,\n",
              "       2, 2, 2, 2, 2, 2, 2, 2, 2, 1, 2, 2, 2, 2, 2, 2, 2, 2, 2, 2, 2, 2,\n",
              "       2, 1, 2, 2, 2, 2, 2, 2, 2, 2, 2, 2, 2, 2, 2, 2, 2, 2])"
            ]
          },
          "metadata": {},
          "execution_count": 43
        }
      ]
    },
    {
      "cell_type": "code",
      "source": [
        "preds == iris_target"
      ],
      "metadata": {
        "colab": {
          "base_uri": "https://localhost:8080/"
        },
        "id": "ioDm9TS2br4T",
        "outputId": "cfe24d1f-29b7-439c-a88f-3bc0146b4c57"
      },
      "execution_count": 7,
      "outputs": [
        {
          "output_type": "execute_result",
          "data": {
            "text/plain": [
              "array([ True,  True,  True,  True,  True,  True,  True,  True,  True,\n",
              "        True,  True,  True,  True,  True,  True,  True,  True,  True,\n",
              "        True,  True,  True,  True,  True,  True,  True,  True,  True,\n",
              "        True,  True,  True,  True,  True,  True,  True,  True,  True,\n",
              "        True,  True,  True,  True,  True,  True,  True,  True,  True,\n",
              "        True,  True,  True,  True,  True,  True,  True,  True,  True,\n",
              "        True,  True,  True,  True,  True,  True,  True,  True,  True,\n",
              "        True,  True,  True,  True,  True,  True,  True, False,  True,\n",
              "       False,  True,  True,  True,  True,  True,  True,  True,  True,\n",
              "        True,  True, False,  True,  True,  True,  True,  True,  True,\n",
              "        True,  True,  True,  True,  True,  True,  True,  True,  True,\n",
              "        True,  True,  True,  True,  True,  True,  True, False,  True,\n",
              "        True,  True,  True,  True,  True,  True,  True,  True,  True,\n",
              "        True,  True, False,  True,  True,  True,  True,  True,  True,\n",
              "        True,  True,  True,  True,  True,  True,  True, False,  True,\n",
              "        True,  True,  True,  True,  True,  True,  True,  True,  True,\n",
              "        True,  True,  True,  True,  True,  True])"
            ]
          },
          "metadata": {},
          "execution_count": 7
        }
      ]
    },
    {
      "cell_type": "code",
      "source": [
        "sum(preds == iris_target)"
      ],
      "metadata": {
        "colab": {
          "base_uri": "https://localhost:8080/"
        },
        "id": "BkoRx9ZJb7aC",
        "outputId": "62012987-58ec-4409-a2df-52a998fdcccf"
      },
      "execution_count": 8,
      "outputs": [
        {
          "output_type": "execute_result",
          "data": {
            "text/plain": [
              "144"
            ]
          },
          "metadata": {},
          "execution_count": 8
        }
      ]
    },
    {
      "cell_type": "code",
      "source": [
        "acc = (preds == iris_target).mean()\n",
        "print(f'{acc=:.3f}')"
      ],
      "metadata": {
        "colab": {
          "base_uri": "https://localhost:8080/"
        },
        "id": "quJIf6_RccPw",
        "outputId": "7099c340-99f5-4bfc-f66e-953755155551"
      },
      "execution_count": 9,
      "outputs": [
        {
          "output_type": "stream",
          "name": "stdout",
          "text": [
            "acc=0.960\n"
          ]
        }
      ]
    },
    {
      "cell_type": "code",
      "source": [
        "from sklearn.neighbors import KNeighborsClassifier\n",
        "from sklearn.model_selection import LeaveOneOut\n",
        "\n",
        "# Initialize the KNN classifier with Manhattan distance and k=1\n",
        "knn = KNeighborsClassifier(n_neighbors=1, p=1)  # p=1 for Manhattan distance\n",
        "\n",
        "# Initialize Leave-One-Out Cross-Validation\n",
        "loo = LeaveOneOut()\n",
        "\n",
        "# Initialize variables to store results\n",
        "n_correct_classification = 0\n",
        "\n",
        "X = iris.data\n",
        "y = iris.target\n",
        "\n",
        "# Perform Leave-One-Out Cross-Validation\n",
        "for train_index, test_index in loo.split(X): #this gives us 150 pairs of train&test\n",
        "    #print(train_index)\n",
        "    X_train, X_test = X[train_index], X[test_index]\n",
        "    y_train, y_test = y[train_index], y[test_index]\n",
        "\n",
        "    # Fit KNN classifier on training data\n",
        "    knn.fit(X_train, y_train)\n",
        "\n",
        "    # Predict on test data\n",
        "    y_pred = knn.predict(X_test)\n",
        "\n",
        "    # Count correct predictions\n",
        "    if y_pred == y_test:\n",
        "        n_correct_classification += 1\n",
        "\n",
        "# Calculate accuracy\n",
        "accuracy = n_correct_classification / n_samples\n",
        "print(f'Accuracy with scikit-LOO and scikit-KNN: {accuracy:.3f}')\n"
      ],
      "metadata": {
        "colab": {
          "base_uri": "https://localhost:8080/"
        },
        "id": "lRimqmUUTtrT",
        "outputId": "76a28828-0aaf-4642-94eb-6aeb68868a8f"
      },
      "execution_count": 47,
      "outputs": [
        {
          "output_type": "stream",
          "name": "stdout",
          "text": [
            "Accuracy with scikit-LOO and scikit-KNN: 0.953\n"
          ]
        }
      ]
    },
    {
      "cell_type": "code",
      "source": [
        "test_index"
      ],
      "metadata": {
        "colab": {
          "base_uri": "https://localhost:8080/"
        },
        "id": "i6OH7yNQqdBV",
        "outputId": "25fabb37-8711-45c5-eceb-f8235fa53a92"
      },
      "execution_count": 45,
      "outputs": [
        {
          "output_type": "execute_result",
          "data": {
            "text/plain": [
              "array([149])"
            ]
          },
          "metadata": {},
          "execution_count": 45
        }
      ]
    },
    {
      "cell_type": "code",
      "source": [
        "from sklearn.model_selection import train_test_split\n",
        "from sklearn.neighbors import KNeighborsClassifier\n",
        "from sklearn.metrics import accuracy_score\n",
        "\n",
        "# Split the data into training and test sets\n",
        "X_train, X_test, y_train, y_test = train_test_split(X, y, test_size=120)\n",
        "\n",
        "knn1 = KNeighborsClassifier(n_neighbors=1, p=1)\n",
        "knn2 = KNeighborsClassifier(n_neighbors=1, p=2)\n",
        "\n",
        "# Fit the KNN classifier on the training data\n",
        "knn1.fit(X_train, y_train)\n",
        "knn2.fit(X_train, y_train)\n",
        "\n",
        "# Predict on the test data\n",
        "y_pred1 = knn1.predict(X_test)\n",
        "y_pred2 = knn2.predict(X_test)\n",
        "\n",
        "# Calculate accuracy\n",
        "accuracy = accuracy_score(y_test, y_pred1)\n",
        "print(f'MANH: Accuracy with train_test_split and scikit-KNN: {accuracy:.3f}')\n",
        "\n",
        "# Calculate accuracy\n",
        "accuracy = accuracy_score(y_test, y_pred2)\n",
        "print(f'EUC: Accuracy with train_test_split and scikit-KNN: {accuracy:.3f}')\n"
      ],
      "metadata": {
        "colab": {
          "base_uri": "https://localhost:8080/"
        },
        "id": "Eq90D3_KVJZj",
        "outputId": "9ef060b4-5ecc-4bcf-c94b-9750ba383171"
      },
      "execution_count": 64,
      "outputs": [
        {
          "output_type": "stream",
          "name": "stdout",
          "text": [
            "MANH: Accuracy with train_test_split and scikit-KNN: 0.942\n",
            "EUC: Accuracy with train_test_split and scikit-KNN: 0.942\n"
          ]
        }
      ]
    },
    {
      "cell_type": "code",
      "source": [
        "y_pred"
      ],
      "metadata": {
        "colab": {
          "base_uri": "https://localhost:8080/"
        },
        "id": "e5tGLPikr9QJ",
        "outputId": "d28a6789-8b44-49ca-b5e1-57edb18311db"
      },
      "execution_count": 50,
      "outputs": [
        {
          "output_type": "execute_result",
          "data": {
            "text/plain": [
              "array([1, 0, 2, 1, 1, 0, 1, 2, 1, 1, 2, 0, 0, 0, 0, 1, 2, 1, 1, 2, 0, 2,\n",
              "       0, 2, 2, 2, 2, 2, 0, 0, 0, 0, 1, 0, 0, 2, 1, 0, 0, 0, 2, 1, 1, 0,\n",
              "       0, 1, 1, 2, 1, 2, 1, 2, 1, 0, 2, 1, 0])"
            ]
          },
          "metadata": {},
          "execution_count": 50
        }
      ]
    },
    {
      "cell_type": "code",
      "source": [
        "from sklearn.metrics.pairwise import manhattan_distances\n",
        "\n",
        "# Calculate Manhattan distances between training and test samples\n",
        "distances = manhattan_distances(X_test, X_train)\n",
        "\n",
        "# Iterate through each test sample to find nearest neighbor\n",
        "n_correct_classification = 0\n",
        "for i in range(len(X_test)):\n",
        "    # Find the index of the nearest neighbor in the training set\n",
        "    nearest_index = np.argmin(distances[i])\n",
        "\n",
        "    my_pred = y_train[nearest_index]\n",
        "    # Compare the target values\n",
        "    if y_test[i] == my_pred:\n",
        "        n_correct_classification += 1\n",
        "\n",
        "# Calculate accuracy\n",
        "acc = n_correct_classification / len(X_test)\n",
        "print(f'Accuracy using nearest neighbor with Manhattan distance: {acc:.3f}')\n"
      ],
      "metadata": {
        "colab": {
          "base_uri": "https://localhost:8080/"
        },
        "id": "s0UKdQQ8WOdr",
        "outputId": "d7685166-5060-49d2-cbfb-3b4be8375425"
      },
      "execution_count": 65,
      "outputs": [
        {
          "output_type": "stream",
          "name": "stdout",
          "text": [
            "Accuracy using nearest neighbor with Manhattan distance: 0.942\n"
          ]
        }
      ]
    },
    {
      "cell_type": "code",
      "source": [
        "#Let's try LOO this time calling manhattan_distances for every iteration\n",
        "from sklearn.metrics.pairwise import euclidean_distances\n",
        "\n",
        "# Calculate Manhattan distances for each test sample to all training samples\n",
        "n_correct_classification = 0\n",
        "for i in range(n_samples):\n",
        "    test_sample = X[i, :]  # Get the i-th test sample\n",
        "    train_samples = np.delete(X, i, axis=0)  # Remove the i-th sample from training set\n",
        "    distances = euclidean_distances([test_sample], train_samples)  # Calculate distances\n",
        "\n",
        "    # Find the index of the nearest neighbor\n",
        "    nearest_index = np.argmin(distances)\n",
        "\n",
        "    # Compare the target values\n",
        "    if y[i] == y[nearest_index]:\n",
        "        n_correct_classification += 1\n",
        "\n",
        "# Calculate accuracy\n",
        "acc = n_correct_classification / n_samples\n",
        "print(f'Accuracy using nearest neighbor with Manhattan distance: {acc:.3f}')\n"
      ],
      "metadata": {
        "colab": {
          "base_uri": "https://localhost:8080/"
        },
        "id": "Ru-9VWWVW10H",
        "outputId": "c7d4a80f-eeb0-4d65-aadb-7cf0863c9c61"
      },
      "execution_count": 69,
      "outputs": [
        {
          "output_type": "stream",
          "name": "stdout",
          "text": [
            "Accuracy using nearest neighbor with Manhattan distance: 0.960\n"
          ]
        }
      ]
    }
  ]
}